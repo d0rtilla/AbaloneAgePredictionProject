{
  "cells": [
    {
      "cell_type": "markdown",
      "metadata": {
        "id": "view-in-github",
        "colab_type": "text"
      },
      "source": [
        "<a href=\"https://colab.research.google.com/github/d0rtilla/AbaloneAgePredictionProject/blob/main/Abalone_Age_Prediction.ipynb\" target=\"_parent\"><img src=\"https://colab.research.google.com/assets/colab-badge.svg\" alt=\"Open In Colab\"/></a>"
      ]
    },
    {
      "cell_type": "markdown",
      "metadata": {
        "id": "n1_Lb3X0O8Ij"
      },
      "source": [
        "# Abalone Age Predictor with Supervised Machine Learning\n",
        "\n",
        "## Contributors: Jacob Douthett, Sam Espe, Alan Jallah, Jae Neuharth"
      ]
    },
    {
      "cell_type": "markdown",
      "metadata": {
        "id": "LtHf_hi0IrjT"
      },
      "source": [
        "### Extract and Transform Data\n",
        "In this section we load the required libraries, install keras tuner on our colab environment, connect our colab to our google drive, and load / clean our dataset."
      ]
    },
    {
      "cell_type": "code",
      "execution_count": null,
      "metadata": {
        "id": "JLUYluKPGIoH"
      },
      "outputs": [],
      "source": [
        "# Import dependencies\n",
        "import pandas as pd\n",
        "import numpy as np\n",
        "from sklearn.preprocessing import StandardScaler\n",
        "from sklearn.model_selection import train_test_split\n",
        "from sklearn.linear_model import LinearRegression\n",
        "from sklearn.preprocessing import MinMaxScaler\n",
        "from sklearn.metrics import r2_score\n",
        "import tensorflow as tf"
      ]
    },
    {
      "cell_type": "code",
      "source": [
        "# Install keras tuner\n",
        "!pip install keras-tuner"
      ],
      "metadata": {
        "colab": {
          "base_uri": "https://localhost:8080/"
        },
        "id": "7_ClvpaHTKha",
        "outputId": "d86f4b45-3b5c-498d-d0b6-378a9504d1ec"
      },
      "execution_count": null,
      "outputs": [
        {
          "output_type": "stream",
          "name": "stdout",
          "text": [
            "Looking in indexes: https://pypi.org/simple, https://us-python.pkg.dev/colab-wheels/public/simple/\n",
            "Collecting keras-tuner\n",
            "  Downloading keras_tuner-1.1.3-py3-none-any.whl (135 kB)\n",
            "\u001b[K     |████████████████████████████████| 135 kB 6.7 MB/s \n",
            "\u001b[?25hRequirement already satisfied: numpy in /usr/local/lib/python3.8/dist-packages (from keras-tuner) (1.21.6)\n",
            "Requirement already satisfied: requests in /usr/local/lib/python3.8/dist-packages (from keras-tuner) (2.23.0)\n",
            "Requirement already satisfied: packaging in /usr/local/lib/python3.8/dist-packages (from keras-tuner) (21.3)\n",
            "Requirement already satisfied: ipython in /usr/local/lib/python3.8/dist-packages (from keras-tuner) (7.9.0)\n",
            "Requirement already satisfied: tensorboard in /usr/local/lib/python3.8/dist-packages (from keras-tuner) (2.9.1)\n",
            "Collecting kt-legacy\n",
            "  Downloading kt_legacy-1.0.4-py3-none-any.whl (9.6 kB)\n",
            "Requirement already satisfied: pickleshare in /usr/local/lib/python3.8/dist-packages (from ipython->keras-tuner) (0.7.5)\n",
            "Requirement already satisfied: traitlets>=4.2 in /usr/local/lib/python3.8/dist-packages (from ipython->keras-tuner) (5.1.1)\n",
            "Requirement already satisfied: backcall in /usr/local/lib/python3.8/dist-packages (from ipython->keras-tuner) (0.2.0)\n",
            "Collecting jedi>=0.10\n",
            "  Downloading jedi-0.18.2-py2.py3-none-any.whl (1.6 MB)\n",
            "\u001b[K     |████████████████████████████████| 1.6 MB 42.6 MB/s \n",
            "\u001b[?25hRequirement already satisfied: pygments in /usr/local/lib/python3.8/dist-packages (from ipython->keras-tuner) (2.6.1)\n",
            "Requirement already satisfied: decorator in /usr/local/lib/python3.8/dist-packages (from ipython->keras-tuner) (4.4.2)\n",
            "Requirement already satisfied: setuptools>=18.5 in /usr/local/lib/python3.8/dist-packages (from ipython->keras-tuner) (57.4.0)\n",
            "Requirement already satisfied: pexpect in /usr/local/lib/python3.8/dist-packages (from ipython->keras-tuner) (4.8.0)\n",
            "Requirement already satisfied: prompt-toolkit<2.1.0,>=2.0.0 in /usr/local/lib/python3.8/dist-packages (from ipython->keras-tuner) (2.0.10)\n",
            "Requirement already satisfied: parso<0.9.0,>=0.8.0 in /usr/local/lib/python3.8/dist-packages (from jedi>=0.10->ipython->keras-tuner) (0.8.3)\n",
            "Requirement already satisfied: six>=1.9.0 in /usr/local/lib/python3.8/dist-packages (from prompt-toolkit<2.1.0,>=2.0.0->ipython->keras-tuner) (1.15.0)\n",
            "Requirement already satisfied: wcwidth in /usr/local/lib/python3.8/dist-packages (from prompt-toolkit<2.1.0,>=2.0.0->ipython->keras-tuner) (0.2.5)\n",
            "Requirement already satisfied: pyparsing!=3.0.5,>=2.0.2 in /usr/local/lib/python3.8/dist-packages (from packaging->keras-tuner) (3.0.9)\n",
            "Requirement already satisfied: ptyprocess>=0.5 in /usr/local/lib/python3.8/dist-packages (from pexpect->ipython->keras-tuner) (0.7.0)\n",
            "Requirement already satisfied: urllib3!=1.25.0,!=1.25.1,<1.26,>=1.21.1 in /usr/local/lib/python3.8/dist-packages (from requests->keras-tuner) (1.24.3)\n",
            "Requirement already satisfied: certifi>=2017.4.17 in /usr/local/lib/python3.8/dist-packages (from requests->keras-tuner) (2022.9.24)\n",
            "Requirement already satisfied: chardet<4,>=3.0.2 in /usr/local/lib/python3.8/dist-packages (from requests->keras-tuner) (3.0.4)\n",
            "Requirement already satisfied: idna<3,>=2.5 in /usr/local/lib/python3.8/dist-packages (from requests->keras-tuner) (2.10)\n",
            "Requirement already satisfied: wheel>=0.26 in /usr/local/lib/python3.8/dist-packages (from tensorboard->keras-tuner) (0.38.4)\n",
            "Requirement already satisfied: tensorboard-plugin-wit>=1.6.0 in /usr/local/lib/python3.8/dist-packages (from tensorboard->keras-tuner) (1.8.1)\n",
            "Requirement already satisfied: tensorboard-data-server<0.7.0,>=0.6.0 in /usr/local/lib/python3.8/dist-packages (from tensorboard->keras-tuner) (0.6.1)\n",
            "Requirement already satisfied: protobuf<3.20,>=3.9.2 in /usr/local/lib/python3.8/dist-packages (from tensorboard->keras-tuner) (3.19.6)\n",
            "Requirement already satisfied: absl-py>=0.4 in /usr/local/lib/python3.8/dist-packages (from tensorboard->keras-tuner) (1.3.0)\n",
            "Requirement already satisfied: grpcio>=1.24.3 in /usr/local/lib/python3.8/dist-packages (from tensorboard->keras-tuner) (1.50.0)\n",
            "Requirement already satisfied: google-auth<3,>=1.6.3 in /usr/local/lib/python3.8/dist-packages (from tensorboard->keras-tuner) (2.14.1)\n",
            "Requirement already satisfied: werkzeug>=1.0.1 in /usr/local/lib/python3.8/dist-packages (from tensorboard->keras-tuner) (1.0.1)\n",
            "Requirement already satisfied: markdown>=2.6.8 in /usr/local/lib/python3.8/dist-packages (from tensorboard->keras-tuner) (3.4.1)\n",
            "Requirement already satisfied: google-auth-oauthlib<0.5,>=0.4.1 in /usr/local/lib/python3.8/dist-packages (from tensorboard->keras-tuner) (0.4.6)\n",
            "Requirement already satisfied: cachetools<6.0,>=2.0.0 in /usr/local/lib/python3.8/dist-packages (from google-auth<3,>=1.6.3->tensorboard->keras-tuner) (5.2.0)\n",
            "Requirement already satisfied: rsa<5,>=3.1.4 in /usr/local/lib/python3.8/dist-packages (from google-auth<3,>=1.6.3->tensorboard->keras-tuner) (4.9)\n",
            "Requirement already satisfied: pyasn1-modules>=0.2.1 in /usr/local/lib/python3.8/dist-packages (from google-auth<3,>=1.6.3->tensorboard->keras-tuner) (0.2.8)\n",
            "Requirement already satisfied: requests-oauthlib>=0.7.0 in /usr/local/lib/python3.8/dist-packages (from google-auth-oauthlib<0.5,>=0.4.1->tensorboard->keras-tuner) (1.3.1)\n",
            "Requirement already satisfied: importlib-metadata>=4.4 in /usr/local/lib/python3.8/dist-packages (from markdown>=2.6.8->tensorboard->keras-tuner) (4.13.0)\n",
            "Requirement already satisfied: zipp>=0.5 in /usr/local/lib/python3.8/dist-packages (from importlib-metadata>=4.4->markdown>=2.6.8->tensorboard->keras-tuner) (3.10.0)\n",
            "Requirement already satisfied: pyasn1<0.5.0,>=0.4.6 in /usr/local/lib/python3.8/dist-packages (from pyasn1-modules>=0.2.1->google-auth<3,>=1.6.3->tensorboard->keras-tuner) (0.4.8)\n",
            "Requirement already satisfied: oauthlib>=3.0.0 in /usr/local/lib/python3.8/dist-packages (from requests-oauthlib>=0.7.0->google-auth-oauthlib<0.5,>=0.4.1->tensorboard->keras-tuner) (3.2.2)\n",
            "Installing collected packages: jedi, kt-legacy, keras-tuner\n",
            "Successfully installed jedi-0.18.2 keras-tuner-1.1.3 kt-legacy-1.0.4\n"
          ]
        }
      ]
    },
    {
      "cell_type": "code",
      "execution_count": null,
      "metadata": {
        "colab": {
          "base_uri": "https://localhost:8080/"
        },
        "id": "rXOMc8WLPWN7",
        "outputId": "e69b4267-1c24-4869-cc69-c8e24956eb1f"
      },
      "outputs": [
        {
          "output_type": "stream",
          "name": "stdout",
          "text": [
            "Mounted at /content/gdrive\n"
          ]
        }
      ],
      "source": [
        "# Connect colab to drive\n",
        "from google.colab import drive\n",
        "drive.mount('/content/gdrive')"
      ]
    },
    {
      "cell_type": "code",
      "execution_count": null,
      "metadata": {
        "colab": {
          "base_uri": "https://localhost:8080/",
          "height": 424
        },
        "id": "urofG__2HA4Q",
        "outputId": "eee379e4-7c56-4ca9-b1b6-4ac2b6c70f1e"
      },
      "outputs": [
        {
          "output_type": "display_data",
          "data": {
            "text/plain": [
              "     Sex  Length  Diameter  Height  Whole weight  Shucked weight  \\\n",
              "0      M   0.455     0.365   0.095        0.5140          0.2245   \n",
              "1      M   0.350     0.265   0.090        0.2255          0.0995   \n",
              "2      F   0.530     0.420   0.135        0.6770          0.2565   \n",
              "3      M   0.440     0.365   0.125        0.5160          0.2155   \n",
              "4      I   0.330     0.255   0.080        0.2050          0.0895   \n",
              "...   ..     ...       ...     ...           ...             ...   \n",
              "4172   F   0.565     0.450   0.165        0.8870          0.3700   \n",
              "4173   M   0.590     0.440   0.135        0.9660          0.4390   \n",
              "4174   M   0.600     0.475   0.205        1.1760          0.5255   \n",
              "4175   F   0.625     0.485   0.150        1.0945          0.5310   \n",
              "4176   M   0.710     0.555   0.195        1.9485          0.9455   \n",
              "\n",
              "      Viscera weight  Shell weight  Rings  \n",
              "0             0.1010        0.1500     15  \n",
              "1             0.0485        0.0700      7  \n",
              "2             0.1415        0.2100      9  \n",
              "3             0.1140        0.1550     10  \n",
              "4             0.0395        0.0550      7  \n",
              "...              ...           ...    ...  \n",
              "4172          0.2390        0.2490     11  \n",
              "4173          0.2145        0.2605     10  \n",
              "4174          0.2875        0.3080      9  \n",
              "4175          0.2610        0.2960     10  \n",
              "4176          0.3765        0.4950     12  \n",
              "\n",
              "[4177 rows x 9 columns]"
            ],
            "text/html": [
              "\n",
              "  <div id=\"df-383dc48b-d828-41d1-b910-62073ecde907\">\n",
              "    <div class=\"colab-df-container\">\n",
              "      <div>\n",
              "<style scoped>\n",
              "    .dataframe tbody tr th:only-of-type {\n",
              "        vertical-align: middle;\n",
              "    }\n",
              "\n",
              "    .dataframe tbody tr th {\n",
              "        vertical-align: top;\n",
              "    }\n",
              "\n",
              "    .dataframe thead th {\n",
              "        text-align: right;\n",
              "    }\n",
              "</style>\n",
              "<table border=\"1\" class=\"dataframe\">\n",
              "  <thead>\n",
              "    <tr style=\"text-align: right;\">\n",
              "      <th></th>\n",
              "      <th>Sex</th>\n",
              "      <th>Length</th>\n",
              "      <th>Diameter</th>\n",
              "      <th>Height</th>\n",
              "      <th>Whole weight</th>\n",
              "      <th>Shucked weight</th>\n",
              "      <th>Viscera weight</th>\n",
              "      <th>Shell weight</th>\n",
              "      <th>Rings</th>\n",
              "    </tr>\n",
              "  </thead>\n",
              "  <tbody>\n",
              "    <tr>\n",
              "      <th>0</th>\n",
              "      <td>M</td>\n",
              "      <td>0.455</td>\n",
              "      <td>0.365</td>\n",
              "      <td>0.095</td>\n",
              "      <td>0.5140</td>\n",
              "      <td>0.2245</td>\n",
              "      <td>0.1010</td>\n",
              "      <td>0.1500</td>\n",
              "      <td>15</td>\n",
              "    </tr>\n",
              "    <tr>\n",
              "      <th>1</th>\n",
              "      <td>M</td>\n",
              "      <td>0.350</td>\n",
              "      <td>0.265</td>\n",
              "      <td>0.090</td>\n",
              "      <td>0.2255</td>\n",
              "      <td>0.0995</td>\n",
              "      <td>0.0485</td>\n",
              "      <td>0.0700</td>\n",
              "      <td>7</td>\n",
              "    </tr>\n",
              "    <tr>\n",
              "      <th>2</th>\n",
              "      <td>F</td>\n",
              "      <td>0.530</td>\n",
              "      <td>0.420</td>\n",
              "      <td>0.135</td>\n",
              "      <td>0.6770</td>\n",
              "      <td>0.2565</td>\n",
              "      <td>0.1415</td>\n",
              "      <td>0.2100</td>\n",
              "      <td>9</td>\n",
              "    </tr>\n",
              "    <tr>\n",
              "      <th>3</th>\n",
              "      <td>M</td>\n",
              "      <td>0.440</td>\n",
              "      <td>0.365</td>\n",
              "      <td>0.125</td>\n",
              "      <td>0.5160</td>\n",
              "      <td>0.2155</td>\n",
              "      <td>0.1140</td>\n",
              "      <td>0.1550</td>\n",
              "      <td>10</td>\n",
              "    </tr>\n",
              "    <tr>\n",
              "      <th>4</th>\n",
              "      <td>I</td>\n",
              "      <td>0.330</td>\n",
              "      <td>0.255</td>\n",
              "      <td>0.080</td>\n",
              "      <td>0.2050</td>\n",
              "      <td>0.0895</td>\n",
              "      <td>0.0395</td>\n",
              "      <td>0.0550</td>\n",
              "      <td>7</td>\n",
              "    </tr>\n",
              "    <tr>\n",
              "      <th>...</th>\n",
              "      <td>...</td>\n",
              "      <td>...</td>\n",
              "      <td>...</td>\n",
              "      <td>...</td>\n",
              "      <td>...</td>\n",
              "      <td>...</td>\n",
              "      <td>...</td>\n",
              "      <td>...</td>\n",
              "      <td>...</td>\n",
              "    </tr>\n",
              "    <tr>\n",
              "      <th>4172</th>\n",
              "      <td>F</td>\n",
              "      <td>0.565</td>\n",
              "      <td>0.450</td>\n",
              "      <td>0.165</td>\n",
              "      <td>0.8870</td>\n",
              "      <td>0.3700</td>\n",
              "      <td>0.2390</td>\n",
              "      <td>0.2490</td>\n",
              "      <td>11</td>\n",
              "    </tr>\n",
              "    <tr>\n",
              "      <th>4173</th>\n",
              "      <td>M</td>\n",
              "      <td>0.590</td>\n",
              "      <td>0.440</td>\n",
              "      <td>0.135</td>\n",
              "      <td>0.9660</td>\n",
              "      <td>0.4390</td>\n",
              "      <td>0.2145</td>\n",
              "      <td>0.2605</td>\n",
              "      <td>10</td>\n",
              "    </tr>\n",
              "    <tr>\n",
              "      <th>4174</th>\n",
              "      <td>M</td>\n",
              "      <td>0.600</td>\n",
              "      <td>0.475</td>\n",
              "      <td>0.205</td>\n",
              "      <td>1.1760</td>\n",
              "      <td>0.5255</td>\n",
              "      <td>0.2875</td>\n",
              "      <td>0.3080</td>\n",
              "      <td>9</td>\n",
              "    </tr>\n",
              "    <tr>\n",
              "      <th>4175</th>\n",
              "      <td>F</td>\n",
              "      <td>0.625</td>\n",
              "      <td>0.485</td>\n",
              "      <td>0.150</td>\n",
              "      <td>1.0945</td>\n",
              "      <td>0.5310</td>\n",
              "      <td>0.2610</td>\n",
              "      <td>0.2960</td>\n",
              "      <td>10</td>\n",
              "    </tr>\n",
              "    <tr>\n",
              "      <th>4176</th>\n",
              "      <td>M</td>\n",
              "      <td>0.710</td>\n",
              "      <td>0.555</td>\n",
              "      <td>0.195</td>\n",
              "      <td>1.9485</td>\n",
              "      <td>0.9455</td>\n",
              "      <td>0.3765</td>\n",
              "      <td>0.4950</td>\n",
              "      <td>12</td>\n",
              "    </tr>\n",
              "  </tbody>\n",
              "</table>\n",
              "<p>4177 rows × 9 columns</p>\n",
              "</div>\n",
              "      <button class=\"colab-df-convert\" onclick=\"convertToInteractive('df-383dc48b-d828-41d1-b910-62073ecde907')\"\n",
              "              title=\"Convert this dataframe to an interactive table.\"\n",
              "              style=\"display:none;\">\n",
              "        \n",
              "  <svg xmlns=\"http://www.w3.org/2000/svg\" height=\"24px\"viewBox=\"0 0 24 24\"\n",
              "       width=\"24px\">\n",
              "    <path d=\"M0 0h24v24H0V0z\" fill=\"none\"/>\n",
              "    <path d=\"M18.56 5.44l.94 2.06.94-2.06 2.06-.94-2.06-.94-.94-2.06-.94 2.06-2.06.94zm-11 1L8.5 8.5l.94-2.06 2.06-.94-2.06-.94L8.5 2.5l-.94 2.06-2.06.94zm10 10l.94 2.06.94-2.06 2.06-.94-2.06-.94-.94-2.06-.94 2.06-2.06.94z\"/><path d=\"M17.41 7.96l-1.37-1.37c-.4-.4-.92-.59-1.43-.59-.52 0-1.04.2-1.43.59L10.3 9.45l-7.72 7.72c-.78.78-.78 2.05 0 2.83L4 21.41c.39.39.9.59 1.41.59.51 0 1.02-.2 1.41-.59l7.78-7.78 2.81-2.81c.8-.78.8-2.07 0-2.86zM5.41 20L4 18.59l7.72-7.72 1.47 1.35L5.41 20z\"/>\n",
              "  </svg>\n",
              "      </button>\n",
              "      \n",
              "  <style>\n",
              "    .colab-df-container {\n",
              "      display:flex;\n",
              "      flex-wrap:wrap;\n",
              "      gap: 12px;\n",
              "    }\n",
              "\n",
              "    .colab-df-convert {\n",
              "      background-color: #E8F0FE;\n",
              "      border: none;\n",
              "      border-radius: 50%;\n",
              "      cursor: pointer;\n",
              "      display: none;\n",
              "      fill: #1967D2;\n",
              "      height: 32px;\n",
              "      padding: 0 0 0 0;\n",
              "      width: 32px;\n",
              "    }\n",
              "\n",
              "    .colab-df-convert:hover {\n",
              "      background-color: #E2EBFA;\n",
              "      box-shadow: 0px 1px 2px rgba(60, 64, 67, 0.3), 0px 1px 3px 1px rgba(60, 64, 67, 0.15);\n",
              "      fill: #174EA6;\n",
              "    }\n",
              "\n",
              "    [theme=dark] .colab-df-convert {\n",
              "      background-color: #3B4455;\n",
              "      fill: #D2E3FC;\n",
              "    }\n",
              "\n",
              "    [theme=dark] .colab-df-convert:hover {\n",
              "      background-color: #434B5C;\n",
              "      box-shadow: 0px 1px 3px 1px rgba(0, 0, 0, 0.15);\n",
              "      filter: drop-shadow(0px 1px 2px rgba(0, 0, 0, 0.3));\n",
              "      fill: #FFFFFF;\n",
              "    }\n",
              "  </style>\n",
              "\n",
              "      <script>\n",
              "        const buttonEl =\n",
              "          document.querySelector('#df-383dc48b-d828-41d1-b910-62073ecde907 button.colab-df-convert');\n",
              "        buttonEl.style.display =\n",
              "          google.colab.kernel.accessAllowed ? 'block' : 'none';\n",
              "\n",
              "        async function convertToInteractive(key) {\n",
              "          const element = document.querySelector('#df-383dc48b-d828-41d1-b910-62073ecde907');\n",
              "          const dataTable =\n",
              "            await google.colab.kernel.invokeFunction('convertToInteractive',\n",
              "                                                     [key], {});\n",
              "          if (!dataTable) return;\n",
              "\n",
              "          const docLinkHtml = 'Like what you see? Visit the ' +\n",
              "            '<a target=\"_blank\" href=https://colab.research.google.com/notebooks/data_table.ipynb>data table notebook</a>'\n",
              "            + ' to learn more about interactive tables.';\n",
              "          element.innerHTML = '';\n",
              "          dataTable['output_type'] = 'display_data';\n",
              "          await google.colab.output.renderOutput(dataTable, element);\n",
              "          const docLink = document.createElement('div');\n",
              "          docLink.innerHTML = docLinkHtml;\n",
              "          element.appendChild(docLink);\n",
              "        }\n",
              "      </script>\n",
              "    </div>\n",
              "  </div>\n",
              "  "
            ]
          },
          "metadata": {}
        }
      ],
      "source": [
        "# Read in data\n",
        "file_path = \"https://abalone-machine-learning-data.s3.us-east-2.amazonaws.com/abalone.csv\"\n",
        "df = pd.read_csv(file_path)\n",
        "display(df)"
      ]
    },
    {
      "cell_type": "code",
      "execution_count": null,
      "metadata": {
        "colab": {
          "base_uri": "https://localhost:8080/"
        },
        "id": "hxz-hskSMEpB",
        "outputId": "57f4e3b2-59bf-46ad-eeae-4c04c654761f"
      },
      "outputs": [
        {
          "output_type": "stream",
          "name": "stdout",
          "text": [
            "Duplicate entries: 0\n"
          ]
        }
      ],
      "source": [
        "# Find duplicate entries\n",
        "print(f\"Duplicate entries: {df.duplicated().sum()}\")"
      ]
    },
    {
      "cell_type": "code",
      "execution_count": null,
      "metadata": {
        "colab": {
          "base_uri": "https://localhost:8080/"
        },
        "id": "_UfFpezeMY2w",
        "outputId": "72f2f2b6-8d7b-40b6-dec1-330fdb354267"
      },
      "outputs": [
        {
          "output_type": "execute_result",
          "data": {
            "text/plain": [
              "Sex               0\n",
              "Length            0\n",
              "Diameter          0\n",
              "Height            0\n",
              "Whole weight      0\n",
              "Shucked weight    0\n",
              "Viscera weight    0\n",
              "Shell weight      0\n",
              "Rings             0\n",
              "dtype: int64"
            ]
          },
          "metadata": {},
          "execution_count": 6
        }
      ],
      "source": [
        "# Check for missing values\n",
        "df.isnull().sum(axis = 0)\n"
      ]
    },
    {
      "cell_type": "code",
      "execution_count": null,
      "metadata": {
        "colab": {
          "base_uri": "https://localhost:8080/",
          "height": 424
        },
        "id": "Yb_VlF9AIbqn",
        "outputId": "24392b3b-8563-4085-f9f1-a80baca481ad"
      },
      "outputs": [
        {
          "output_type": "display_data",
          "data": {
            "text/plain": [
              "      Length  Diameter  Height  Whole weight  Shucked weight  Viscera weight  \\\n",
              "0      0.455     0.365   0.095        0.5140          0.2245          0.1010   \n",
              "1      0.350     0.265   0.090        0.2255          0.0995          0.0485   \n",
              "2      0.530     0.420   0.135        0.6770          0.2565          0.1415   \n",
              "3      0.440     0.365   0.125        0.5160          0.2155          0.1140   \n",
              "4      0.330     0.255   0.080        0.2050          0.0895          0.0395   \n",
              "...      ...       ...     ...           ...             ...             ...   \n",
              "4172   0.565     0.450   0.165        0.8870          0.3700          0.2390   \n",
              "4173   0.590     0.440   0.135        0.9660          0.4390          0.2145   \n",
              "4174   0.600     0.475   0.205        1.1760          0.5255          0.2875   \n",
              "4175   0.625     0.485   0.150        1.0945          0.5310          0.2610   \n",
              "4176   0.710     0.555   0.195        1.9485          0.9455          0.3765   \n",
              "\n",
              "      Shell weight  Rings  Sex_F  Sex_I  Sex_M  \n",
              "0           0.1500     15      0      0      1  \n",
              "1           0.0700      7      0      0      1  \n",
              "2           0.2100      9      1      0      0  \n",
              "3           0.1550     10      0      0      1  \n",
              "4           0.0550      7      0      1      0  \n",
              "...            ...    ...    ...    ...    ...  \n",
              "4172        0.2490     11      1      0      0  \n",
              "4173        0.2605     10      0      0      1  \n",
              "4174        0.3080      9      0      0      1  \n",
              "4175        0.2960     10      1      0      0  \n",
              "4176        0.4950     12      0      0      1  \n",
              "\n",
              "[4177 rows x 11 columns]"
            ],
            "text/html": [
              "\n",
              "  <div id=\"df-d10cc1fd-bfc9-4b9e-bd65-6977fcde080c\">\n",
              "    <div class=\"colab-df-container\">\n",
              "      <div>\n",
              "<style scoped>\n",
              "    .dataframe tbody tr th:only-of-type {\n",
              "        vertical-align: middle;\n",
              "    }\n",
              "\n",
              "    .dataframe tbody tr th {\n",
              "        vertical-align: top;\n",
              "    }\n",
              "\n",
              "    .dataframe thead th {\n",
              "        text-align: right;\n",
              "    }\n",
              "</style>\n",
              "<table border=\"1\" class=\"dataframe\">\n",
              "  <thead>\n",
              "    <tr style=\"text-align: right;\">\n",
              "      <th></th>\n",
              "      <th>Length</th>\n",
              "      <th>Diameter</th>\n",
              "      <th>Height</th>\n",
              "      <th>Whole weight</th>\n",
              "      <th>Shucked weight</th>\n",
              "      <th>Viscera weight</th>\n",
              "      <th>Shell weight</th>\n",
              "      <th>Rings</th>\n",
              "      <th>Sex_F</th>\n",
              "      <th>Sex_I</th>\n",
              "      <th>Sex_M</th>\n",
              "    </tr>\n",
              "  </thead>\n",
              "  <tbody>\n",
              "    <tr>\n",
              "      <th>0</th>\n",
              "      <td>0.455</td>\n",
              "      <td>0.365</td>\n",
              "      <td>0.095</td>\n",
              "      <td>0.5140</td>\n",
              "      <td>0.2245</td>\n",
              "      <td>0.1010</td>\n",
              "      <td>0.1500</td>\n",
              "      <td>15</td>\n",
              "      <td>0</td>\n",
              "      <td>0</td>\n",
              "      <td>1</td>\n",
              "    </tr>\n",
              "    <tr>\n",
              "      <th>1</th>\n",
              "      <td>0.350</td>\n",
              "      <td>0.265</td>\n",
              "      <td>0.090</td>\n",
              "      <td>0.2255</td>\n",
              "      <td>0.0995</td>\n",
              "      <td>0.0485</td>\n",
              "      <td>0.0700</td>\n",
              "      <td>7</td>\n",
              "      <td>0</td>\n",
              "      <td>0</td>\n",
              "      <td>1</td>\n",
              "    </tr>\n",
              "    <tr>\n",
              "      <th>2</th>\n",
              "      <td>0.530</td>\n",
              "      <td>0.420</td>\n",
              "      <td>0.135</td>\n",
              "      <td>0.6770</td>\n",
              "      <td>0.2565</td>\n",
              "      <td>0.1415</td>\n",
              "      <td>0.2100</td>\n",
              "      <td>9</td>\n",
              "      <td>1</td>\n",
              "      <td>0</td>\n",
              "      <td>0</td>\n",
              "    </tr>\n",
              "    <tr>\n",
              "      <th>3</th>\n",
              "      <td>0.440</td>\n",
              "      <td>0.365</td>\n",
              "      <td>0.125</td>\n",
              "      <td>0.5160</td>\n",
              "      <td>0.2155</td>\n",
              "      <td>0.1140</td>\n",
              "      <td>0.1550</td>\n",
              "      <td>10</td>\n",
              "      <td>0</td>\n",
              "      <td>0</td>\n",
              "      <td>1</td>\n",
              "    </tr>\n",
              "    <tr>\n",
              "      <th>4</th>\n",
              "      <td>0.330</td>\n",
              "      <td>0.255</td>\n",
              "      <td>0.080</td>\n",
              "      <td>0.2050</td>\n",
              "      <td>0.0895</td>\n",
              "      <td>0.0395</td>\n",
              "      <td>0.0550</td>\n",
              "      <td>7</td>\n",
              "      <td>0</td>\n",
              "      <td>1</td>\n",
              "      <td>0</td>\n",
              "    </tr>\n",
              "    <tr>\n",
              "      <th>...</th>\n",
              "      <td>...</td>\n",
              "      <td>...</td>\n",
              "      <td>...</td>\n",
              "      <td>...</td>\n",
              "      <td>...</td>\n",
              "      <td>...</td>\n",
              "      <td>...</td>\n",
              "      <td>...</td>\n",
              "      <td>...</td>\n",
              "      <td>...</td>\n",
              "      <td>...</td>\n",
              "    </tr>\n",
              "    <tr>\n",
              "      <th>4172</th>\n",
              "      <td>0.565</td>\n",
              "      <td>0.450</td>\n",
              "      <td>0.165</td>\n",
              "      <td>0.8870</td>\n",
              "      <td>0.3700</td>\n",
              "      <td>0.2390</td>\n",
              "      <td>0.2490</td>\n",
              "      <td>11</td>\n",
              "      <td>1</td>\n",
              "      <td>0</td>\n",
              "      <td>0</td>\n",
              "    </tr>\n",
              "    <tr>\n",
              "      <th>4173</th>\n",
              "      <td>0.590</td>\n",
              "      <td>0.440</td>\n",
              "      <td>0.135</td>\n",
              "      <td>0.9660</td>\n",
              "      <td>0.4390</td>\n",
              "      <td>0.2145</td>\n",
              "      <td>0.2605</td>\n",
              "      <td>10</td>\n",
              "      <td>0</td>\n",
              "      <td>0</td>\n",
              "      <td>1</td>\n",
              "    </tr>\n",
              "    <tr>\n",
              "      <th>4174</th>\n",
              "      <td>0.600</td>\n",
              "      <td>0.475</td>\n",
              "      <td>0.205</td>\n",
              "      <td>1.1760</td>\n",
              "      <td>0.5255</td>\n",
              "      <td>0.2875</td>\n",
              "      <td>0.3080</td>\n",
              "      <td>9</td>\n",
              "      <td>0</td>\n",
              "      <td>0</td>\n",
              "      <td>1</td>\n",
              "    </tr>\n",
              "    <tr>\n",
              "      <th>4175</th>\n",
              "      <td>0.625</td>\n",
              "      <td>0.485</td>\n",
              "      <td>0.150</td>\n",
              "      <td>1.0945</td>\n",
              "      <td>0.5310</td>\n",
              "      <td>0.2610</td>\n",
              "      <td>0.2960</td>\n",
              "      <td>10</td>\n",
              "      <td>1</td>\n",
              "      <td>0</td>\n",
              "      <td>0</td>\n",
              "    </tr>\n",
              "    <tr>\n",
              "      <th>4176</th>\n",
              "      <td>0.710</td>\n",
              "      <td>0.555</td>\n",
              "      <td>0.195</td>\n",
              "      <td>1.9485</td>\n",
              "      <td>0.9455</td>\n",
              "      <td>0.3765</td>\n",
              "      <td>0.4950</td>\n",
              "      <td>12</td>\n",
              "      <td>0</td>\n",
              "      <td>0</td>\n",
              "      <td>1</td>\n",
              "    </tr>\n",
              "  </tbody>\n",
              "</table>\n",
              "<p>4177 rows × 11 columns</p>\n",
              "</div>\n",
              "      <button class=\"colab-df-convert\" onclick=\"convertToInteractive('df-d10cc1fd-bfc9-4b9e-bd65-6977fcde080c')\"\n",
              "              title=\"Convert this dataframe to an interactive table.\"\n",
              "              style=\"display:none;\">\n",
              "        \n",
              "  <svg xmlns=\"http://www.w3.org/2000/svg\" height=\"24px\"viewBox=\"0 0 24 24\"\n",
              "       width=\"24px\">\n",
              "    <path d=\"M0 0h24v24H0V0z\" fill=\"none\"/>\n",
              "    <path d=\"M18.56 5.44l.94 2.06.94-2.06 2.06-.94-2.06-.94-.94-2.06-.94 2.06-2.06.94zm-11 1L8.5 8.5l.94-2.06 2.06-.94-2.06-.94L8.5 2.5l-.94 2.06-2.06.94zm10 10l.94 2.06.94-2.06 2.06-.94-2.06-.94-.94-2.06-.94 2.06-2.06.94z\"/><path d=\"M17.41 7.96l-1.37-1.37c-.4-.4-.92-.59-1.43-.59-.52 0-1.04.2-1.43.59L10.3 9.45l-7.72 7.72c-.78.78-.78 2.05 0 2.83L4 21.41c.39.39.9.59 1.41.59.51 0 1.02-.2 1.41-.59l7.78-7.78 2.81-2.81c.8-.78.8-2.07 0-2.86zM5.41 20L4 18.59l7.72-7.72 1.47 1.35L5.41 20z\"/>\n",
              "  </svg>\n",
              "      </button>\n",
              "      \n",
              "  <style>\n",
              "    .colab-df-container {\n",
              "      display:flex;\n",
              "      flex-wrap:wrap;\n",
              "      gap: 12px;\n",
              "    }\n",
              "\n",
              "    .colab-df-convert {\n",
              "      background-color: #E8F0FE;\n",
              "      border: none;\n",
              "      border-radius: 50%;\n",
              "      cursor: pointer;\n",
              "      display: none;\n",
              "      fill: #1967D2;\n",
              "      height: 32px;\n",
              "      padding: 0 0 0 0;\n",
              "      width: 32px;\n",
              "    }\n",
              "\n",
              "    .colab-df-convert:hover {\n",
              "      background-color: #E2EBFA;\n",
              "      box-shadow: 0px 1px 2px rgba(60, 64, 67, 0.3), 0px 1px 3px 1px rgba(60, 64, 67, 0.15);\n",
              "      fill: #174EA6;\n",
              "    }\n",
              "\n",
              "    [theme=dark] .colab-df-convert {\n",
              "      background-color: #3B4455;\n",
              "      fill: #D2E3FC;\n",
              "    }\n",
              "\n",
              "    [theme=dark] .colab-df-convert:hover {\n",
              "      background-color: #434B5C;\n",
              "      box-shadow: 0px 1px 3px 1px rgba(0, 0, 0, 0.15);\n",
              "      filter: drop-shadow(0px 1px 2px rgba(0, 0, 0, 0.3));\n",
              "      fill: #FFFFFF;\n",
              "    }\n",
              "  </style>\n",
              "\n",
              "      <script>\n",
              "        const buttonEl =\n",
              "          document.querySelector('#df-d10cc1fd-bfc9-4b9e-bd65-6977fcde080c button.colab-df-convert');\n",
              "        buttonEl.style.display =\n",
              "          google.colab.kernel.accessAllowed ? 'block' : 'none';\n",
              "\n",
              "        async function convertToInteractive(key) {\n",
              "          const element = document.querySelector('#df-d10cc1fd-bfc9-4b9e-bd65-6977fcde080c');\n",
              "          const dataTable =\n",
              "            await google.colab.kernel.invokeFunction('convertToInteractive',\n",
              "                                                     [key], {});\n",
              "          if (!dataTable) return;\n",
              "\n",
              "          const docLinkHtml = 'Like what you see? Visit the ' +\n",
              "            '<a target=\"_blank\" href=https://colab.research.google.com/notebooks/data_table.ipynb>data table notebook</a>'\n",
              "            + ' to learn more about interactive tables.';\n",
              "          element.innerHTML = '';\n",
              "          dataTable['output_type'] = 'display_data';\n",
              "          await google.colab.output.renderOutput(dataTable, element);\n",
              "          const docLink = document.createElement('div');\n",
              "          docLink.innerHTML = docLinkHtml;\n",
              "          element.appendChild(docLink);\n",
              "        }\n",
              "      </script>\n",
              "    </div>\n",
              "  </div>\n",
              "  "
            ]
          },
          "metadata": {}
        }
      ],
      "source": [
        "# Get dummies on sex column\n",
        "df = pd.get_dummies(df)\n",
        "display(df)"
      ]
    },
    {
      "cell_type": "code",
      "execution_count": null,
      "metadata": {
        "colab": {
          "base_uri": "https://localhost:8080/",
          "height": 424
        },
        "id": "no0Qv2j7UcGs",
        "outputId": "ac038ce6-46de-4303-f1f9-706760c39752"
      },
      "outputs": [
        {
          "output_type": "execute_result",
          "data": {
            "text/plain": [
              "      Length  Diameter  Height  Whole_weight  Shucked_weight  Viscera_weight  \\\n",
              "0      0.455     0.365   0.095        0.5140          0.2245          0.1010   \n",
              "1      0.350     0.265   0.090        0.2255          0.0995          0.0485   \n",
              "2      0.530     0.420   0.135        0.6770          0.2565          0.1415   \n",
              "3      0.440     0.365   0.125        0.5160          0.2155          0.1140   \n",
              "4      0.330     0.255   0.080        0.2050          0.0895          0.0395   \n",
              "...      ...       ...     ...           ...             ...             ...   \n",
              "4172   0.565     0.450   0.165        0.8870          0.3700          0.2390   \n",
              "4173   0.590     0.440   0.135        0.9660          0.4390          0.2145   \n",
              "4174   0.600     0.475   0.205        1.1760          0.5255          0.2875   \n",
              "4175   0.625     0.485   0.150        1.0945          0.5310          0.2610   \n",
              "4176   0.710     0.555   0.195        1.9485          0.9455          0.3765   \n",
              "\n",
              "      Shell_weight  Rings  Sex_F  Sex_I  Sex_M  \n",
              "0           0.1500     15      0      0      1  \n",
              "1           0.0700      7      0      0      1  \n",
              "2           0.2100      9      1      0      0  \n",
              "3           0.1550     10      0      0      1  \n",
              "4           0.0550      7      0      1      0  \n",
              "...            ...    ...    ...    ...    ...  \n",
              "4172        0.2490     11      1      0      0  \n",
              "4173        0.2605     10      0      0      1  \n",
              "4174        0.3080      9      0      0      1  \n",
              "4175        0.2960     10      1      0      0  \n",
              "4176        0.4950     12      0      0      1  \n",
              "\n",
              "[4177 rows x 11 columns]"
            ],
            "text/html": [
              "\n",
              "  <div id=\"df-5b07cad2-da83-463b-bd20-8ff9e32cb707\">\n",
              "    <div class=\"colab-df-container\">\n",
              "      <div>\n",
              "<style scoped>\n",
              "    .dataframe tbody tr th:only-of-type {\n",
              "        vertical-align: middle;\n",
              "    }\n",
              "\n",
              "    .dataframe tbody tr th {\n",
              "        vertical-align: top;\n",
              "    }\n",
              "\n",
              "    .dataframe thead th {\n",
              "        text-align: right;\n",
              "    }\n",
              "</style>\n",
              "<table border=\"1\" class=\"dataframe\">\n",
              "  <thead>\n",
              "    <tr style=\"text-align: right;\">\n",
              "      <th></th>\n",
              "      <th>Length</th>\n",
              "      <th>Diameter</th>\n",
              "      <th>Height</th>\n",
              "      <th>Whole_weight</th>\n",
              "      <th>Shucked_weight</th>\n",
              "      <th>Viscera_weight</th>\n",
              "      <th>Shell_weight</th>\n",
              "      <th>Rings</th>\n",
              "      <th>Sex_F</th>\n",
              "      <th>Sex_I</th>\n",
              "      <th>Sex_M</th>\n",
              "    </tr>\n",
              "  </thead>\n",
              "  <tbody>\n",
              "    <tr>\n",
              "      <th>0</th>\n",
              "      <td>0.455</td>\n",
              "      <td>0.365</td>\n",
              "      <td>0.095</td>\n",
              "      <td>0.5140</td>\n",
              "      <td>0.2245</td>\n",
              "      <td>0.1010</td>\n",
              "      <td>0.1500</td>\n",
              "      <td>15</td>\n",
              "      <td>0</td>\n",
              "      <td>0</td>\n",
              "      <td>1</td>\n",
              "    </tr>\n",
              "    <tr>\n",
              "      <th>1</th>\n",
              "      <td>0.350</td>\n",
              "      <td>0.265</td>\n",
              "      <td>0.090</td>\n",
              "      <td>0.2255</td>\n",
              "      <td>0.0995</td>\n",
              "      <td>0.0485</td>\n",
              "      <td>0.0700</td>\n",
              "      <td>7</td>\n",
              "      <td>0</td>\n",
              "      <td>0</td>\n",
              "      <td>1</td>\n",
              "    </tr>\n",
              "    <tr>\n",
              "      <th>2</th>\n",
              "      <td>0.530</td>\n",
              "      <td>0.420</td>\n",
              "      <td>0.135</td>\n",
              "      <td>0.6770</td>\n",
              "      <td>0.2565</td>\n",
              "      <td>0.1415</td>\n",
              "      <td>0.2100</td>\n",
              "      <td>9</td>\n",
              "      <td>1</td>\n",
              "      <td>0</td>\n",
              "      <td>0</td>\n",
              "    </tr>\n",
              "    <tr>\n",
              "      <th>3</th>\n",
              "      <td>0.440</td>\n",
              "      <td>0.365</td>\n",
              "      <td>0.125</td>\n",
              "      <td>0.5160</td>\n",
              "      <td>0.2155</td>\n",
              "      <td>0.1140</td>\n",
              "      <td>0.1550</td>\n",
              "      <td>10</td>\n",
              "      <td>0</td>\n",
              "      <td>0</td>\n",
              "      <td>1</td>\n",
              "    </tr>\n",
              "    <tr>\n",
              "      <th>4</th>\n",
              "      <td>0.330</td>\n",
              "      <td>0.255</td>\n",
              "      <td>0.080</td>\n",
              "      <td>0.2050</td>\n",
              "      <td>0.0895</td>\n",
              "      <td>0.0395</td>\n",
              "      <td>0.0550</td>\n",
              "      <td>7</td>\n",
              "      <td>0</td>\n",
              "      <td>1</td>\n",
              "      <td>0</td>\n",
              "    </tr>\n",
              "    <tr>\n",
              "      <th>...</th>\n",
              "      <td>...</td>\n",
              "      <td>...</td>\n",
              "      <td>...</td>\n",
              "      <td>...</td>\n",
              "      <td>...</td>\n",
              "      <td>...</td>\n",
              "      <td>...</td>\n",
              "      <td>...</td>\n",
              "      <td>...</td>\n",
              "      <td>...</td>\n",
              "      <td>...</td>\n",
              "    </tr>\n",
              "    <tr>\n",
              "      <th>4172</th>\n",
              "      <td>0.565</td>\n",
              "      <td>0.450</td>\n",
              "      <td>0.165</td>\n",
              "      <td>0.8870</td>\n",
              "      <td>0.3700</td>\n",
              "      <td>0.2390</td>\n",
              "      <td>0.2490</td>\n",
              "      <td>11</td>\n",
              "      <td>1</td>\n",
              "      <td>0</td>\n",
              "      <td>0</td>\n",
              "    </tr>\n",
              "    <tr>\n",
              "      <th>4173</th>\n",
              "      <td>0.590</td>\n",
              "      <td>0.440</td>\n",
              "      <td>0.135</td>\n",
              "      <td>0.9660</td>\n",
              "      <td>0.4390</td>\n",
              "      <td>0.2145</td>\n",
              "      <td>0.2605</td>\n",
              "      <td>10</td>\n",
              "      <td>0</td>\n",
              "      <td>0</td>\n",
              "      <td>1</td>\n",
              "    </tr>\n",
              "    <tr>\n",
              "      <th>4174</th>\n",
              "      <td>0.600</td>\n",
              "      <td>0.475</td>\n",
              "      <td>0.205</td>\n",
              "      <td>1.1760</td>\n",
              "      <td>0.5255</td>\n",
              "      <td>0.2875</td>\n",
              "      <td>0.3080</td>\n",
              "      <td>9</td>\n",
              "      <td>0</td>\n",
              "      <td>0</td>\n",
              "      <td>1</td>\n",
              "    </tr>\n",
              "    <tr>\n",
              "      <th>4175</th>\n",
              "      <td>0.625</td>\n",
              "      <td>0.485</td>\n",
              "      <td>0.150</td>\n",
              "      <td>1.0945</td>\n",
              "      <td>0.5310</td>\n",
              "      <td>0.2610</td>\n",
              "      <td>0.2960</td>\n",
              "      <td>10</td>\n",
              "      <td>1</td>\n",
              "      <td>0</td>\n",
              "      <td>0</td>\n",
              "    </tr>\n",
              "    <tr>\n",
              "      <th>4176</th>\n",
              "      <td>0.710</td>\n",
              "      <td>0.555</td>\n",
              "      <td>0.195</td>\n",
              "      <td>1.9485</td>\n",
              "      <td>0.9455</td>\n",
              "      <td>0.3765</td>\n",
              "      <td>0.4950</td>\n",
              "      <td>12</td>\n",
              "      <td>0</td>\n",
              "      <td>0</td>\n",
              "      <td>1</td>\n",
              "    </tr>\n",
              "  </tbody>\n",
              "</table>\n",
              "<p>4177 rows × 11 columns</p>\n",
              "</div>\n",
              "      <button class=\"colab-df-convert\" onclick=\"convertToInteractive('df-5b07cad2-da83-463b-bd20-8ff9e32cb707')\"\n",
              "              title=\"Convert this dataframe to an interactive table.\"\n",
              "              style=\"display:none;\">\n",
              "        \n",
              "  <svg xmlns=\"http://www.w3.org/2000/svg\" height=\"24px\"viewBox=\"0 0 24 24\"\n",
              "       width=\"24px\">\n",
              "    <path d=\"M0 0h24v24H0V0z\" fill=\"none\"/>\n",
              "    <path d=\"M18.56 5.44l.94 2.06.94-2.06 2.06-.94-2.06-.94-.94-2.06-.94 2.06-2.06.94zm-11 1L8.5 8.5l.94-2.06 2.06-.94-2.06-.94L8.5 2.5l-.94 2.06-2.06.94zm10 10l.94 2.06.94-2.06 2.06-.94-2.06-.94-.94-2.06-.94 2.06-2.06.94z\"/><path d=\"M17.41 7.96l-1.37-1.37c-.4-.4-.92-.59-1.43-.59-.52 0-1.04.2-1.43.59L10.3 9.45l-7.72 7.72c-.78.78-.78 2.05 0 2.83L4 21.41c.39.39.9.59 1.41.59.51 0 1.02-.2 1.41-.59l7.78-7.78 2.81-2.81c.8-.78.8-2.07 0-2.86zM5.41 20L4 18.59l7.72-7.72 1.47 1.35L5.41 20z\"/>\n",
              "  </svg>\n",
              "      </button>\n",
              "      \n",
              "  <style>\n",
              "    .colab-df-container {\n",
              "      display:flex;\n",
              "      flex-wrap:wrap;\n",
              "      gap: 12px;\n",
              "    }\n",
              "\n",
              "    .colab-df-convert {\n",
              "      background-color: #E8F0FE;\n",
              "      border: none;\n",
              "      border-radius: 50%;\n",
              "      cursor: pointer;\n",
              "      display: none;\n",
              "      fill: #1967D2;\n",
              "      height: 32px;\n",
              "      padding: 0 0 0 0;\n",
              "      width: 32px;\n",
              "    }\n",
              "\n",
              "    .colab-df-convert:hover {\n",
              "      background-color: #E2EBFA;\n",
              "      box-shadow: 0px 1px 2px rgba(60, 64, 67, 0.3), 0px 1px 3px 1px rgba(60, 64, 67, 0.15);\n",
              "      fill: #174EA6;\n",
              "    }\n",
              "\n",
              "    [theme=dark] .colab-df-convert {\n",
              "      background-color: #3B4455;\n",
              "      fill: #D2E3FC;\n",
              "    }\n",
              "\n",
              "    [theme=dark] .colab-df-convert:hover {\n",
              "      background-color: #434B5C;\n",
              "      box-shadow: 0px 1px 3px 1px rgba(0, 0, 0, 0.15);\n",
              "      filter: drop-shadow(0px 1px 2px rgba(0, 0, 0, 0.3));\n",
              "      fill: #FFFFFF;\n",
              "    }\n",
              "  </style>\n",
              "\n",
              "      <script>\n",
              "        const buttonEl =\n",
              "          document.querySelector('#df-5b07cad2-da83-463b-bd20-8ff9e32cb707 button.colab-df-convert');\n",
              "        buttonEl.style.display =\n",
              "          google.colab.kernel.accessAllowed ? 'block' : 'none';\n",
              "\n",
              "        async function convertToInteractive(key) {\n",
              "          const element = document.querySelector('#df-5b07cad2-da83-463b-bd20-8ff9e32cb707');\n",
              "          const dataTable =\n",
              "            await google.colab.kernel.invokeFunction('convertToInteractive',\n",
              "                                                     [key], {});\n",
              "          if (!dataTable) return;\n",
              "\n",
              "          const docLinkHtml = 'Like what you see? Visit the ' +\n",
              "            '<a target=\"_blank\" href=https://colab.research.google.com/notebooks/data_table.ipynb>data table notebook</a>'\n",
              "            + ' to learn more about interactive tables.';\n",
              "          element.innerHTML = '';\n",
              "          dataTable['output_type'] = 'display_data';\n",
              "          await google.colab.output.renderOutput(dataTable, element);\n",
              "          const docLink = document.createElement('div');\n",
              "          docLink.innerHTML = docLinkHtml;\n",
              "          element.appendChild(docLink);\n",
              "        }\n",
              "      </script>\n",
              "    </div>\n",
              "  </div>\n",
              "  "
            ]
          },
          "metadata": {},
          "execution_count": 8
        }
      ],
      "source": [
        "# Rename columns\n",
        "\n",
        "df = df.rename(columns = {\"Whole weight\": \"Whole_weight\", \"Shucked weight\": \"Shucked_weight\", \"Viscera weight\": \"Viscera_weight\", \"Shell weight\": \"Shell_weight\"})\n",
        "df"
      ]
    },
    {
      "cell_type": "markdown",
      "metadata": {
        "id": "SP0cgMHqU-s1"
      },
      "source": [
        "### Visualizing Parameters\n",
        "In this section, we use matplotlib to visualize and compare each datapoint's various parameters against its number of rings"
      ]
    },
    {
      "cell_type": "code",
      "execution_count": null,
      "metadata": {
        "colab": {
          "base_uri": "https://localhost:8080/"
        },
        "id": "N7bJkw3aTkbr",
        "outputId": "2f0c1fd8-e25c-4226-b878-094c6cab3452"
      },
      "outputs": [
        {
          "output_type": "display_data",
          "data": {
            "text/plain": [
              "<Figure size 432x288 with 1 Axes>"
            ],
            "image/png": "[encoded data removed]"
          },
          "metadata": {
            "needs_background": "light"
          }
        }
      ],
      "source": [
        "# Import matplotlib as plt and begin visualizing parameters of dataset against number of rings.\n",
        "import matplotlib.pyplot as plt\n",
        "\n",
        "\n",
        "x = df[\"Rings\"]\n",
        "length = df[\"Length\"]\n",
        "\n",
        "# X = Rings | Y = Length\n",
        "plt.scatter(x, length)\n",
        "plt.show()"
      ]
    },
    {
      "cell_type": "code",
      "execution_count": null,
      "metadata": {
        "id": "sGjU4k7aTwr-"
      },
      "outputs": [],
      "source": [
        "diameter = df[\"Diameter\"]\n",
        "\n",
        "# X = Rings | Y = Diameter\n",
        "plt.scatter(x, diameter)\n",
        "plt.show()"
      ]
    },
    {
      "cell_type": "code",
      "execution_count": null,
      "metadata": {
        "id": "w5CbsAojUD51"
      },
      "outputs": [],
      "source": [
        "height = df[\"Height\"]\n",
        "\n",
        "# X = Rings | Y = Height\n",
        "plt.scatter(x, height)\n",
        "plt.show()"
      ]
    },
    {
      "cell_type": "code",
      "execution_count": null,
      "metadata": {
        "id": "J949ji3hVe84"
      },
      "outputs": [],
      "source": [
        "df.loc[df[\"Height\"] > 0.4]"
      ]
    },
    {
      "cell_type": "code",
      "source": [
        "df.loc[df[\"Height\"] == 0]"
      ],
      "metadata": {
        "id": "pdbvn1ZrAnQp"
      },
      "execution_count": null,
      "outputs": []
    },
    {
      "cell_type": "code",
      "execution_count": null,
      "metadata": {
        "id": "QqPJwgGpUNz8"
      },
      "outputs": [],
      "source": [
        "whole = df[\"Whole_weight\"]\n",
        "\n",
        "# X = Rings | Y = Whole Weight\n",
        "plt.scatter(x, whole)\n",
        "plt.show()"
      ]
    },
    {
      "cell_type": "code",
      "execution_count": null,
      "metadata": {
        "id": "KdhItx-oU3gD"
      },
      "outputs": [],
      "source": [
        "shucked = df[\"Shucked_weight\"]\n",
        "\n",
        "# X = Rings | Y = Shucked Weight\n",
        "plt.scatter(x, shucked)\n",
        "plt.show()"
      ]
    },
    {
      "cell_type": "code",
      "execution_count": null,
      "metadata": {
        "id": "stnotdyrVKL1"
      },
      "outputs": [],
      "source": [
        "viscera = df[\"Viscera_weight\"]\n",
        "\n",
        "# X = Rings | Y = Viscera Weight\n",
        "plt.scatter(x, viscera)\n",
        "plt.show()"
      ]
    },
    {
      "cell_type": "code",
      "execution_count": null,
      "metadata": {
        "id": "MhJizI0uVT9w"
      },
      "outputs": [],
      "source": [
        "shell = df[\"Shell_weight\"]\n",
        "\n",
        "# X = Rings | Y = Shell Weight\n",
        "plt.scatter(x, shell)\n",
        "plt.show()"
      ]
    },
    {
      "cell_type": "code",
      "execution_count": null,
      "metadata": {
        "id": "F1XT_f8GW9pT"
      },
      "outputs": [],
      "source": [
        "# Create new dataframe without outliers\n",
        "\n",
        "df_no_outliers = df.drop(index = [1417, 2051, 1257, 3996])"
      ]
    },
    {
      "cell_type": "code",
      "execution_count": null,
      "metadata": {
        "id": "UpNidTz3XQxh"
      },
      "outputs": [],
      "source": [
        "x_no = df_no_outliers[\"Rings\"]\n",
        "height_no = df_no_outliers[\"Height\"]\n",
        "\n",
        "plt.scatter(x_no, height_no)\n",
        "plt.show()"
      ]
    },
    {
      "cell_type": "markdown",
      "source": [
        "### Multiple Linear Regressions"
      ],
      "metadata": {
        "id": "YxS0eSEqULil"
      }
    },
    {
      "cell_type": "markdown",
      "metadata": {
        "id": "_nWGmK17InHQ"
      },
      "source": [
        "#### Multiple Linear Regression Model"
      ]
    },
    {
      "cell_type": "code",
      "execution_count": null,
      "metadata": {
        "id": "VM4f9WNAIrBT"
      },
      "outputs": [],
      "source": [
        "# Create model\n",
        "\n",
        "multLinReg = LinearRegression()"
      ]
    },
    {
      "cell_type": "code",
      "execution_count": null,
      "metadata": {
        "id": "RerCJWl3I2dO"
      },
      "outputs": [],
      "source": [
        "# Split data into training and testing sets\n",
        "\n",
        "X = df.drop(columns = \"Rings\")\n",
        "y = df[\"Rings\"]"
      ]
    },
    {
      "cell_type": "code",
      "execution_count": null,
      "metadata": {
        "id": "zrOZIo1bRTkz"
      },
      "outputs": [],
      "source": [
        "# Split data into training and testing sets\n",
        "X_train, X_test, y_train, y_test = train_test_split(X, y, random_state = 3)"
      ]
    },
    {
      "cell_type": "code",
      "execution_count": null,
      "metadata": {
        "id": "Uww4PEncI5wH"
      },
      "outputs": [],
      "source": [
        "# Scale data with standard scaler\n",
        "\n",
        "scaler = StandardScaler()"
      ]
    },
    {
      "cell_type": "code",
      "execution_count": null,
      "metadata": {
        "id": "i-Y7Lib2RXK6"
      },
      "outputs": [],
      "source": [
        "# Fit scaler to training data\n",
        "scaler.fit(X_train) \n"
      ]
    },
    {
      "cell_type": "code",
      "execution_count": null,
      "metadata": {
        "id": "MGNnhfTXRae0"
      },
      "outputs": [],
      "source": [
        "# Scale X train and test data \n",
        "X_train_scaled = scaler.transform(X_train)\n",
        "X_test_scaled = scaler.transform(X_test)"
      ]
    },
    {
      "cell_type": "code",
      "execution_count": null,
      "metadata": {
        "id": "6Q4-OpIDI6vX"
      },
      "outputs": [],
      "source": [
        "# Train model\n",
        "\n",
        "multLinReg.fit(X_train_scaled, y_train)"
      ]
    },
    {
      "cell_type": "code",
      "execution_count": null,
      "metadata": {
        "id": "Tq6bTWywI-BS"
      },
      "outputs": [],
      "source": [
        "# Test model\n",
        "\n",
        "multLinReg.predict(X_test_scaled)"
      ]
    },
    {
      "cell_type": "code",
      "source": [
        "# Evaluate model on training set\n",
        "multLinReg.score(X_train_scaled, y_train)"
      ],
      "metadata": {
        "id": "APLvYy0e2-pA"
      },
      "execution_count": null,
      "outputs": []
    },
    {
      "cell_type": "code",
      "execution_count": null,
      "metadata": {
        "id": "kpj0wkiXI-4z"
      },
      "outputs": [],
      "source": [
        "# Evaluate model on test set\n",
        "\n",
        "multLinReg.score(X_test_scaled, y_test)"
      ]
    },
    {
      "cell_type": "code",
      "execution_count": null,
      "metadata": {
        "colab": {
          "base_uri": "https://localhost:8080/"
        },
        "id": "ToOJpj8jWkUB",
        "outputId": "e63c9ae9-3ae6-4289-d6d9-6b7ad8286598"
      },
      "outputs": [
        {
          "output_type": "execute_result",
          "data": {
            "text/plain": [
              "array([-0.23240941,  1.2841631 ,  0.41559035,  3.92823551, -4.15323543,\n",
              "       -1.03471661,  1.43566168,  0.10059333, -0.26916476,  0.16627512])"
            ]
          },
          "metadata": {},
          "execution_count": 199
        }
      ],
      "source": [
        "# calculate regression coefficient\n",
        "multLinReg.coef_"
      ]
    },
    {
      "cell_type": "code",
      "source": [
        "# calculate y-intercept \n",
        "multLinReg.intercept_"
      ],
      "metadata": {
        "colab": {
          "base_uri": "https://localhost:8080/"
        },
        "id": "zbPwEd6Ltw3w",
        "outputId": "1ec80ba9-5718-4a5c-f0f8-90d1f1b1941d"
      },
      "execution_count": null,
      "outputs": [
        {
          "output_type": "execute_result",
          "data": {
            "text/plain": [
              "9.94220945083014"
            ]
          },
          "metadata": {},
          "execution_count": 200
        }
      ]
    },
    {
      "cell_type": "markdown",
      "source": [
        "#### Multiple Linear Regression without 2 height outliers"
      ],
      "metadata": {
        "id": "4a0r7qwTxX6Y"
      }
    },
    {
      "cell_type": "code",
      "execution_count": null,
      "metadata": {
        "id": "AQijxPO7XjMB"
      },
      "outputs": [],
      "source": [
        "# Create model\n",
        "multLinReg2 = LinearRegression()"
      ]
    },
    {
      "cell_type": "code",
      "execution_count": null,
      "metadata": {
        "id": "LesvJ3v_Xo0n"
      },
      "outputs": [],
      "source": [
        "# Split data into training and testing sets\n",
        "X_no = df_no_outliers.drop(columns = \"Rings\")\n",
        "y_no = df_no_outliers[\"Rings\"]"
      ]
    },
    {
      "cell_type": "code",
      "execution_count": null,
      "metadata": {
        "id": "LTn6dBS5X4FK"
      },
      "outputs": [],
      "source": [
        "# Split data into training and testing sets\n",
        "X_no_train, X_no_test, y_no_train, y_no_test = train_test_split(X_no, y_no, random_state = 3)"
      ]
    },
    {
      "cell_type": "code",
      "execution_count": null,
      "metadata": {
        "id": "7WOctRFAX_2C"
      },
      "outputs": [],
      "source": [
        "# Scaling data with standard scaler\n",
        "scaler_no = StandardScaler()"
      ]
    },
    {
      "cell_type": "code",
      "execution_count": null,
      "metadata": {
        "colab": {
          "base_uri": "https://localhost:8080/"
        },
        "id": "oaD38Kr5YE4B",
        "outputId": "dff888d4-88c7-47d8-a164-6560b555a4f7"
      },
      "outputs": [
        {
          "output_type": "execute_result",
          "data": {
            "text/plain": [
              "StandardScaler()"
            ]
          },
          "metadata": {},
          "execution_count": 205
        }
      ],
      "source": [
        "# Fit scaler to training data\n",
        "scaler_no.fit(X_no_train)"
      ]
    },
    {
      "cell_type": "code",
      "execution_count": null,
      "metadata": {
        "id": "RkxgVwmIYHiT"
      },
      "outputs": [],
      "source": [
        "# Scale training and testing data\n",
        "X_no_train_scaled = scaler_no.transform(X_no_train)\n",
        "X_no_test_scaled = scaler_no.transform(X_no_test)"
      ]
    },
    {
      "cell_type": "code",
      "execution_count": null,
      "metadata": {
        "colab": {
          "base_uri": "https://localhost:8080/"
        },
        "id": "BIZF0DTMYSYM",
        "outputId": "8c034e20-74a5-4864-d9db-6a400608d8d8"
      },
      "outputs": [
        {
          "output_type": "execute_result",
          "data": {
            "text/plain": [
              "LinearRegression()"
            ]
          },
          "metadata": {},
          "execution_count": 207
        }
      ],
      "source": [
        "# train model\n",
        "multLinReg2.fit(X_no_train_scaled, y_no_train)"
      ]
    },
    {
      "cell_type": "code",
      "execution_count": null,
      "metadata": {
        "colab": {
          "base_uri": "https://localhost:8080/"
        },
        "id": "LpMrmLAtYaRw",
        "outputId": "434b551b-0644-4b63-e082-fcaf3149db5e"
      },
      "outputs": [
        {
          "output_type": "execute_result",
          "data": {
            "text/plain": [
              "array([ 8.4027033 ,  9.68212737, 10.61402308, ...,  7.05080196,\n",
              "        8.13314824,  9.30942069])"
            ]
          },
          "metadata": {},
          "execution_count": 208
        }
      ],
      "source": [
        "# test model\n",
        "multLinReg2.predict(X_no_test_scaled)"
      ]
    },
    {
      "cell_type": "code",
      "source": [
        "# Evaluate model on training set\n",
        "multLinReg2.score(X_no_train_scaled, y_no_train)"
      ],
      "metadata": {
        "colab": {
          "base_uri": "https://localhost:8080/"
        },
        "id": "7Pxt9LUd22SF",
        "outputId": "1d5730e9-4b63-4346-8836-db3461711c41"
      },
      "execution_count": null,
      "outputs": [
        {
          "output_type": "execute_result",
          "data": {
            "text/plain": [
              "0.5506328743094396"
            ]
          },
          "metadata": {},
          "execution_count": 209
        }
      ]
    },
    {
      "cell_type": "code",
      "execution_count": null,
      "metadata": {
        "colab": {
          "base_uri": "https://localhost:8080/"
        },
        "id": "0bnOAkbSYiEs",
        "outputId": "49218abc-abe9-40c3-881e-62d376c328f9"
      },
      "outputs": [
        {
          "output_type": "execute_result",
          "data": {
            "text/plain": [
              "0.5198595463446136"
            ]
          },
          "metadata": {},
          "execution_count": 210
        }
      ],
      "source": [
        "# Evaluate model on test set\n",
        "multLinReg2.score(X_no_test_scaled, y_no_test)"
      ]
    },
    {
      "cell_type": "code",
      "execution_count": null,
      "metadata": {
        "colab": {
          "base_uri": "https://localhost:8080/"
        },
        "id": "WZ9URstsYnFz",
        "outputId": "905a8752-73f6-4a68-bbb6-5601cb5904e9"
      },
      "outputs": [
        {
          "output_type": "execute_result",
          "data": {
            "text/plain": [
              "array([-0.33064728,  1.08890433,  0.94007483,  4.31004307, -4.40268111,\n",
              "       -1.11526947,  1.12162209,  0.11174892, -0.25098426,  0.13527283])"
            ]
          },
          "metadata": {},
          "execution_count": 211
        }
      ],
      "source": [
        "# Calculate regression coefficient\n",
        "multLinReg2.coef_"
      ]
    },
    {
      "cell_type": "code",
      "source": [
        "# Calculate Y-intercept\n",
        "multLinReg2.intercept_"
      ],
      "metadata": {
        "colab": {
          "base_uri": "https://localhost:8080/"
        },
        "id": "5MsBTae2tsa4",
        "outputId": "c6560733-4708-4c4a-b0df-0232baa3498e"
      },
      "execution_count": null,
      "outputs": [
        {
          "output_type": "execute_result",
          "data": {
            "text/plain": [
              "9.930648769574944"
            ]
          },
          "metadata": {},
          "execution_count": 212
        }
      ]
    },
    {
      "cell_type": "markdown",
      "source": [
        "#### Multiple Linear Regression with MinMax Scaler"
      ],
      "metadata": {
        "id": "UTCCjCxZeRpJ"
      }
    },
    {
      "cell_type": "code",
      "source": [
        "# Create model\n",
        "multLinReg3 = LinearRegression()"
      ],
      "metadata": {
        "id": "cHIjkZnleQ1G"
      },
      "execution_count": null,
      "outputs": []
    },
    {
      "cell_type": "code",
      "source": [
        "# Split data into training and testing sets\n",
        "X_minmax = df_no_outliers.drop(columns = \"Rings\")\n",
        "y_minmax = df_no_outliers[\"Rings\"]"
      ],
      "metadata": {
        "id": "t7czBdOPeQ4Z"
      },
      "execution_count": null,
      "outputs": []
    },
    {
      "cell_type": "code",
      "source": [
        "# Split data into training and test sets\n",
        "X_minmax_train, X_minmax_test, y_minmax_train, y_minmax_test = train_test_split(X_minmax, y_minmax, random_state = 3)"
      ],
      "metadata": {
        "id": "zShTiffEecFV"
      },
      "execution_count": null,
      "outputs": []
    },
    {
      "cell_type": "code",
      "source": [
        "# Scale data with MinMax Scaler\n",
        "scaler_minmax = MinMaxScaler()"
      ],
      "metadata": {
        "id": "-C1Y71EdfTEM"
      },
      "execution_count": null,
      "outputs": []
    },
    {
      "cell_type": "code",
      "source": [
        "# fit data to scaler\n",
        "scaler_minmax.fit(X_minmax_train)"
      ],
      "metadata": {
        "colab": {
          "base_uri": "https://localhost:8080/"
        },
        "id": "1MQeQzGOfcRy",
        "outputId": "0bc4c71a-deba-4a97-ed3a-40ee782a4309"
      },
      "execution_count": null,
      "outputs": [
        {
          "output_type": "execute_result",
          "data": {
            "text/plain": [
              "MinMaxScaler()"
            ]
          },
          "metadata": {},
          "execution_count": 217
        }
      ]
    },
    {
      "cell_type": "code",
      "source": [
        "# scale data \n",
        "X_minmax_train_scaled = scaler_minmax.transform(X_minmax_train)\n",
        "X_minmax_test_scaled = scaler_minmax.transform(X_minmax_test)"
      ],
      "metadata": {
        "id": "lrOLQ281ffyy"
      },
      "execution_count": null,
      "outputs": []
    },
    {
      "cell_type": "code",
      "source": [
        "# train model\n",
        "multLinReg3.fit(X_minmax_train_scaled, y_minmax_train)"
      ],
      "metadata": {
        "colab": {
          "base_uri": "https://localhost:8080/"
        },
        "id": "6Y9t25GKgYZd",
        "outputId": "72f9aff8-fc8d-4dc9-c98b-e5b90a463760"
      },
      "execution_count": null,
      "outputs": [
        {
          "output_type": "execute_result",
          "data": {
            "text/plain": [
              "LinearRegression()"
            ]
          },
          "metadata": {},
          "execution_count": 219
        }
      ]
    },
    {
      "cell_type": "code",
      "source": [
        "# test model\n",
        "multLinReg3.predict(X_minmax_test_scaled)"
      ],
      "metadata": {
        "colab": {
          "base_uri": "https://localhost:8080/"
        },
        "id": "HRLjh3igg0et",
        "outputId": "0dc265c2-cd98-4242-c7b3-109cb6752f9f"
      },
      "execution_count": null,
      "outputs": [
        {
          "output_type": "execute_result",
          "data": {
            "text/plain": [
              "array([ 8.421875,  9.703125, 10.640625, ...,  7.03125 ,  8.171875,\n",
              "        9.3125  ])"
            ]
          },
          "metadata": {},
          "execution_count": 220
        }
      ]
    },
    {
      "cell_type": "code",
      "source": [
        "# Evaluate training set\n",
        "multLinReg3.score(X_minmax_train_scaled, y_minmax_train)"
      ],
      "metadata": {
        "colab": {
          "base_uri": "https://localhost:8080/"
        },
        "id": "oWFzrWPo2q9V",
        "outputId": "f54087d9-cb0a-4fce-db61-4a01a8d9725f"
      },
      "execution_count": null,
      "outputs": [
        {
          "output_type": "execute_result",
          "data": {
            "text/plain": [
              "0.5506211574152733"
            ]
          },
          "metadata": {},
          "execution_count": 221
        }
      ]
    },
    {
      "cell_type": "code",
      "source": [
        "# Evaluate testing set\n",
        "multLinReg3.score(X_minmax_test_scaled, y_minmax_test)"
      ],
      "metadata": {
        "colab": {
          "base_uri": "https://localhost:8080/"
        },
        "id": "n7XKwBRMg9T_",
        "outputId": "b0abcd40-efe1-4936-8a55-f8a357310a66"
      },
      "execution_count": null,
      "outputs": [
        {
          "output_type": "execute_result",
          "data": {
            "text/plain": [
              "0.5195227159847559"
            ]
          },
          "metadata": {},
          "execution_count": 222
        }
      ]
    },
    {
      "cell_type": "code",
      "source": [
        "# Calculate Regression Coefficient\n",
        "multLinReg3.coef_"
      ],
      "metadata": {
        "colab": {
          "base_uri": "https://localhost:8080/"
        },
        "id": "BWCVRtXihJaY",
        "outputId": "521314e4-302f-4d5b-c2f4-e3d338c3ffb0"
      },
      "execution_count": null,
      "outputs": [
        {
          "output_type": "execute_result",
          "data": {
            "text/plain": [
              "array([-1.87980859e+00,  6.23075325e+00,  5.73665514e+00,  2.44544177e+01,\n",
              "       -2.69960962e+01, -7.82880705e+00,  8.02040522e+00,  8.69214236e+13,\n",
              "        8.69214236e+13,  8.69214236e+13])"
            ]
          },
          "metadata": {},
          "execution_count": 223
        }
      ]
    },
    {
      "cell_type": "code",
      "source": [
        "# Calculate Y-intercept\n",
        "multLinReg3.intercept_"
      ],
      "metadata": {
        "colab": {
          "base_uri": "https://localhost:8080/"
        },
        "id": "U3hNdFlphTgn",
        "outputId": "c3c538e7-cba8-45a3-878d-71c9cb59d845"
      },
      "execution_count": null,
      "outputs": [
        {
          "output_type": "execute_result",
          "data": {
            "text/plain": [
              "-86921423639368.84"
            ]
          },
          "metadata": {},
          "execution_count": 224
        }
      ]
    },
    {
      "cell_type": "markdown",
      "source": [
        "A multiple linear regression doesn't seem to be working."
      ],
      "metadata": {
        "id": "GGDCJDbDpSCQ"
      }
    },
    {
      "cell_type": "markdown",
      "source": [
        "### K Nearest Neighbors Regressor"
      ],
      "metadata": {
        "id": "pOxLOlFHxnJQ"
      }
    },
    {
      "cell_type": "code",
      "source": [
        "# Import K Nearest Neighbors Regressor\n",
        "from sklearn.neighbors import KNeighborsRegressor"
      ],
      "metadata": {
        "id": "_926oIGvpVKL"
      },
      "execution_count": null,
      "outputs": []
    },
    {
      "cell_type": "code",
      "source": [
        "# Create model\n",
        "knn = KNeighborsRegressor()"
      ],
      "metadata": {
        "id": "67gTeFiZuWyt"
      },
      "execution_count": null,
      "outputs": []
    },
    {
      "cell_type": "code",
      "source": [
        "# Split data into training and testing sets\n",
        "X_knn = df_no_outliers.drop(columns = \"Rings\")\n",
        "y_knn = df_no_outliers[\"Rings\"]"
      ],
      "metadata": {
        "id": "YWYqm2Qww8BF"
      },
      "execution_count": null,
      "outputs": []
    },
    {
      "cell_type": "code",
      "source": [
        "# Split data into training and testing sets\n",
        "X_knn_train, X_knn_test, y_knn_train, y_knn_test = train_test_split(X_knn, y_knn, random_state = 3)"
      ],
      "metadata": {
        "id": "lJ1zK6XyxAF6"
      },
      "execution_count": null,
      "outputs": []
    },
    {
      "cell_type": "code",
      "source": [
        "# Scale data with standard scaler\n",
        "scaler = StandardScaler()"
      ],
      "metadata": {
        "id": "kYoZcHHuxJYN"
      },
      "execution_count": null,
      "outputs": []
    },
    {
      "cell_type": "code",
      "source": [
        "# Fit data to scaler\n",
        "scaler.fit(X_knn_train)"
      ],
      "metadata": {
        "colab": {
          "base_uri": "https://localhost:8080/"
        },
        "id": "USDdgzpoxztz",
        "outputId": "a6507cb3-02e5-425f-9644-b7701c50bf11"
      },
      "execution_count": null,
      "outputs": [
        {
          "output_type": "execute_result",
          "data": {
            "text/plain": [
              "StandardScaler()"
            ]
          },
          "metadata": {},
          "execution_count": 230
        }
      ]
    },
    {
      "cell_type": "code",
      "source": [
        "# Scale data\n",
        "X_knn_train_scaled = scaler.transform(X_knn_train)\n",
        "X_knn_test_scaled = scaler.transform(X_knn_test)"
      ],
      "metadata": {
        "id": "C4FZkvKrx1bQ"
      },
      "execution_count": null,
      "outputs": []
    },
    {
      "cell_type": "code",
      "source": [
        "# Borrowed and adapted from 19.2 Activity 6\n",
        "train_scores = []\n",
        "test_scores = []\n",
        "for k in range(1, 20, 2):\n",
        "    knn = KNeighborsRegressor(n_neighbors=k)\n",
        "    knn.fit(X_train_scaled, y_train)\n",
        "    train_score = knn.score(X_train_scaled, y_train)\n",
        "    test_score = knn.score(X_test_scaled, y_test)\n",
        "    train_scores.append(train_score)\n",
        "    test_scores.append(test_score)\n",
        "    print(f\"k: {k}, Train/Test Score: {train_score:.3f}/{test_score:.3f}\")\n",
        "    \n",
        "plt.plot(range(1, 20, 2), train_scores, marker='o')\n",
        "plt.plot(range(1, 20, 2), test_scores, marker=\"x\")\n",
        "plt.xlabel(\"k neighbors\")\n",
        "plt.ylabel(\"Testing accuracy score\")\n",
        "plt.show()"
      ],
      "metadata": {
        "colab": {
          "base_uri": "https://localhost:8080/"
        },
        "id": "5xcUz2ygx6i6",
        "outputId": "6a5d9cc4-4808-4d86-c149-2798c11508c4"
      },
      "execution_count": null,
      "outputs": [
        {
          "output_type": "stream",
          "name": "stdout",
          "text": [
            "k: 1, Train/Test Score: 1.000/0.130\n",
            "k: 3, Train/Test Score: 0.713/0.435\n",
            "k: 5, Train/Test Score: 0.659/0.473\n",
            "k: 7, Train/Test Score: 0.632/0.506\n",
            "k: 9, Train/Test Score: 0.617/0.510\n",
            "k: 11, Train/Test Score: 0.603/0.516\n",
            "k: 13, Train/Test Score: 0.597/0.514\n",
            "k: 15, Train/Test Score: 0.588/0.511\n",
            "k: 17, Train/Test Score: 0.580/0.511\n",
            "k: 19, Train/Test Score: 0.574/0.510\n"
          ]
        },
        {
          "output_type": "display_data",
          "data": {
            "text/plain": [
              "<Figure size 432x288 with 1 Axes>"
            ],
            "image/png": "[encoded data removed]"
          },
          "metadata": {
            "needs_background": "light"
          }
        }
      ]
    },
    {
      "cell_type": "code",
      "source": [
        "# Try with k = 7\n",
        "\n",
        "knn7 = KNeighborsRegressor(n_neighbors=7)"
      ],
      "metadata": {
        "id": "QULusjamyN6W"
      },
      "execution_count": null,
      "outputs": []
    },
    {
      "cell_type": "code",
      "source": [
        "# train model\n",
        "knn7.fit(X_knn_train_scaled, y_knn_train)"
      ],
      "metadata": {
        "colab": {
          "base_uri": "https://localhost:8080/"
        },
        "id": "G5pOjDJ7yoTf",
        "outputId": "23a0f048-408c-4459-9b76-2bf7220035b3"
      },
      "execution_count": null,
      "outputs": [
        {
          "output_type": "execute_result",
          "data": {
            "text/plain": [
              "KNeighborsRegressor(n_neighbors=7)"
            ]
          },
          "metadata": {},
          "execution_count": 234
        }
      ]
    },
    {
      "cell_type": "code",
      "source": [
        "# evaluate model on training set\n",
        "knn7.score(X_knn_train_scaled, y_knn_train)"
      ],
      "metadata": {
        "colab": {
          "base_uri": "https://localhost:8080/"
        },
        "id": "gWVmA2Sx2YJf",
        "outputId": "6c0fcb72-c29a-4ac4-817e-40cbaa9717cb"
      },
      "execution_count": null,
      "outputs": [
        {
          "output_type": "execute_result",
          "data": {
            "text/plain": [
              "0.6327925600619995"
            ]
          },
          "metadata": {},
          "execution_count": 235
        }
      ]
    },
    {
      "cell_type": "code",
      "source": [
        "# evaluate model on test set\n",
        "knn7.score(X_knn_test_scaled, y_knn_test)"
      ],
      "metadata": {
        "colab": {
          "base_uri": "https://localhost:8080/"
        },
        "id": "lBD40G17ytOK",
        "outputId": "6e9a00cd-4a31-416c-8b4b-b807c609b483"
      },
      "execution_count": null,
      "outputs": [
        {
          "output_type": "execute_result",
          "data": {
            "text/plain": [
              "0.5175826155218659"
            ]
          },
          "metadata": {},
          "execution_count": 236
        }
      ]
    },
    {
      "cell_type": "code",
      "source": [
        "# Try with k = 5\n",
        "\n",
        "knn5 = KNeighborsRegressor(n_neighbors=5)"
      ],
      "metadata": {
        "id": "GgDbdrzty3Ml"
      },
      "execution_count": null,
      "outputs": []
    },
    {
      "cell_type": "code",
      "source": [
        "# train model\n",
        "knn5.fit(X_knn_train_scaled, y_knn_train)"
      ],
      "metadata": {
        "colab": {
          "base_uri": "https://localhost:8080/"
        },
        "id": "-NIYVdPGzBIc",
        "outputId": "1dd8c7b9-1e11-462b-9a57-a1856ff24f01"
      },
      "execution_count": null,
      "outputs": [
        {
          "output_type": "execute_result",
          "data": {
            "text/plain": [
              "KNeighborsRegressor()"
            ]
          },
          "metadata": {},
          "execution_count": 238
        }
      ]
    },
    {
      "cell_type": "code",
      "source": [
        "# evaluate model on training set \n",
        "knn5.score(X_knn_train_scaled, y_knn_train)"
      ],
      "metadata": {
        "colab": {
          "base_uri": "https://localhost:8080/"
        },
        "id": "7sBrcXd82TRv",
        "outputId": "7fef0b3e-51da-44d5-98e3-c10ce9a0f86d"
      },
      "execution_count": null,
      "outputs": [
        {
          "output_type": "execute_result",
          "data": {
            "text/plain": [
              "0.6568778400215458"
            ]
          },
          "metadata": {},
          "execution_count": 239
        }
      ]
    },
    {
      "cell_type": "code",
      "source": [
        "# evaluate model on testing set \n",
        "knn5.score(X_knn_test_scaled, y_knn_test)"
      ],
      "metadata": {
        "colab": {
          "base_uri": "https://localhost:8080/"
        },
        "id": "58a6Q2BuzEuj",
        "outputId": "1c88202c-fcd6-419c-f007-2f15a8657c9f"
      },
      "execution_count": null,
      "outputs": [
        {
          "output_type": "execute_result",
          "data": {
            "text/plain": [
              "0.5144217172021863"
            ]
          },
          "metadata": {},
          "execution_count": 240
        }
      ]
    },
    {
      "cell_type": "code",
      "source": [
        "# Try with k = 9\n",
        "\n",
        "knn9 = KNeighborsRegressor(n_neighbors=9)"
      ],
      "metadata": {
        "id": "PCherQWnzKr9"
      },
      "execution_count": null,
      "outputs": []
    },
    {
      "cell_type": "code",
      "source": [
        "# train model \n",
        "knn9.fit(X_knn_train_scaled, y_knn_train)"
      ],
      "metadata": {
        "colab": {
          "base_uri": "https://localhost:8080/"
        },
        "id": "w2pOXIvozQey",
        "outputId": "84911c9f-1a2a-48e3-8a14-01cd77c191aa"
      },
      "execution_count": null,
      "outputs": [
        {
          "output_type": "execute_result",
          "data": {
            "text/plain": [
              "KNeighborsRegressor(n_neighbors=9)"
            ]
          },
          "metadata": {},
          "execution_count": 242
        }
      ]
    },
    {
      "cell_type": "code",
      "source": [
        "# evaluate model on training set\n",
        "knn9.score(X_knn_train_scaled, y_knn_train)"
      ],
      "metadata": {
        "colab": {
          "base_uri": "https://localhost:8080/"
        },
        "id": "fsMSnBEp2MnW",
        "outputId": "129418c0-8a34-429b-c911-d24efa64b5a4"
      },
      "execution_count": null,
      "outputs": [
        {
          "output_type": "execute_result",
          "data": {
            "text/plain": [
              "0.6119803742606059"
            ]
          },
          "metadata": {},
          "execution_count": 243
        }
      ]
    },
    {
      "cell_type": "code",
      "source": [
        "# evaluate model on test set\n",
        "knn9.score(X_knn_test_scaled, y_knn_test)"
      ],
      "metadata": {
        "colab": {
          "base_uri": "https://localhost:8080/"
        },
        "id": "mj5qqVKmzUfO",
        "outputId": "06436854-183c-4f5b-b010-88a0b4e36413"
      },
      "execution_count": null,
      "outputs": [
        {
          "output_type": "execute_result",
          "data": {
            "text/plain": [
              "0.5184358874584232"
            ]
          },
          "metadata": {},
          "execution_count": 244
        }
      ]
    },
    {
      "cell_type": "markdown",
      "source": [
        "K Nearest Neighbors Regressor worked about as well as the Multiple Linear Regression (that is to say, not well). It also seems to be overfitting the data (training score is higher than the testing score by a bunch). Time to try something else. I'm going to try a Support Vector Regression."
      ],
      "metadata": {
        "id": "DApNcatRzaoJ"
      }
    },
    {
      "cell_type": "markdown",
      "source": [
        "### Support Vector Regression"
      ],
      "metadata": {
        "id": "X1pVc235xuEG"
      }
    },
    {
      "cell_type": "code",
      "source": [
        "# import support vector regression\n",
        "from sklearn.svm import SVR"
      ],
      "metadata": {
        "id": "U_JPtnY6zXoV"
      },
      "execution_count": null,
      "outputs": []
    },
    {
      "cell_type": "code",
      "source": [
        "# Split data into training and testing set\n",
        "X_svr = df_no_outliers.drop(columns = \"Rings\")\n",
        "y_svr = df_no_outliers[\"Rings\"]"
      ],
      "metadata": {
        "id": "oX9NPFox0Yb4"
      },
      "execution_count": null,
      "outputs": []
    },
    {
      "cell_type": "code",
      "source": [
        "# Split data into training and testing set\n",
        "X_svr_train, X_svr_test, y_svr_train, y_svr_test = train_test_split(X_svr, y_svr, random_state = 3)"
      ],
      "metadata": {
        "id": "CE6qUM2g07px"
      },
      "execution_count": null,
      "outputs": []
    },
    {
      "cell_type": "code",
      "source": [
        "# Scale with standard scaler\n",
        "scaler = StandardScaler()"
      ],
      "metadata": {
        "id": "CrPBQZE81Gcv"
      },
      "execution_count": null,
      "outputs": []
    },
    {
      "cell_type": "code",
      "source": [
        "# Fit data to scaler\n",
        "scaler.fit(X_svr_train)"
      ],
      "metadata": {
        "colab": {
          "base_uri": "https://localhost:8080/"
        },
        "id": "N_ZzoVKh1Lmf",
        "outputId": "66b3c252-edb3-4368-a570-3cc35f2bb46c"
      },
      "execution_count": null,
      "outputs": [
        {
          "output_type": "execute_result",
          "data": {
            "text/plain": [
              "StandardScaler()"
            ]
          },
          "metadata": {},
          "execution_count": 249
        }
      ]
    },
    {
      "cell_type": "code",
      "source": [
        "# scale data \n",
        "X_svr_train_scaled = scaler.transform(X_svr_train)\n",
        "X_svr_test_scaled = scaler.transform(X_svr_test)"
      ],
      "metadata": {
        "id": "KJb5xXmU1VO2"
      },
      "execution_count": null,
      "outputs": []
    },
    {
      "cell_type": "code",
      "source": [
        "svr = SVR()"
      ],
      "metadata": {
        "id": "Fs-upEVk1eH7"
      },
      "execution_count": null,
      "outputs": []
    },
    {
      "cell_type": "code",
      "source": [
        "# Train model\n",
        "svr.fit(X_svr_train_scaled, y_svr_train)"
      ],
      "metadata": {
        "colab": {
          "base_uri": "https://localhost:8080/"
        },
        "id": "3SKz7zIW1hIo",
        "outputId": "a8636b47-4240-4a15-d478-21a0d92b56e8"
      },
      "execution_count": null,
      "outputs": [
        {
          "output_type": "execute_result",
          "data": {
            "text/plain": [
              "SVR()"
            ]
          },
          "metadata": {},
          "execution_count": 252
        }
      ]
    },
    {
      "cell_type": "code",
      "source": [
        "# Evaluate model on training set\n",
        "svr.score(X_svr_train_scaled, y_svr_train)"
      ],
      "metadata": {
        "colab": {
          "base_uri": "https://localhost:8080/"
        },
        "id": "7P8Iv-9C2HeQ",
        "outputId": "8f7212d3-521b-41bf-eb1d-9b645fbd8629"
      },
      "execution_count": null,
      "outputs": [
        {
          "output_type": "execute_result",
          "data": {
            "text/plain": [
              "0.5467901792826577"
            ]
          },
          "metadata": {},
          "execution_count": 253
        }
      ]
    },
    {
      "cell_type": "code",
      "source": [
        "# Evaluate model on testing set\n",
        "svr.score(X_svr_test_scaled, y_svr_test)"
      ],
      "metadata": {
        "colab": {
          "base_uri": "https://localhost:8080/"
        },
        "id": "euIaWqXb1ltl",
        "outputId": "a35e2dfa-fb06-419d-be43-338b11a38fd4"
      },
      "execution_count": null,
      "outputs": [
        {
          "output_type": "execute_result",
          "data": {
            "text/plain": [
              "0.5443014471089089"
            ]
          },
          "metadata": {},
          "execution_count": 254
        }
      ]
    },
    {
      "cell_type": "markdown",
      "source": [
        "SVR did slightly better than the others, but still not very good. Let's try something completely different: a Random Forest"
      ],
      "metadata": {
        "id": "JzjS3-KZ1wJl"
      }
    },
    {
      "cell_type": "markdown",
      "source": [
        "### Random Forest Regressor"
      ],
      "metadata": {
        "id": "pHBKr1bLxzNE"
      }
    },
    {
      "cell_type": "code",
      "source": [
        "# import Random Forest Regressor\n",
        "from sklearn.ensemble import RandomForestRegressor"
      ],
      "metadata": {
        "id": "Kvyv3Mbb1t70"
      },
      "execution_count": null,
      "outputs": []
    },
    {
      "cell_type": "code",
      "source": [
        "forest = RandomForestRegressor()"
      ],
      "metadata": {
        "id": "0cMnFNYC3SMn"
      },
      "execution_count": null,
      "outputs": []
    },
    {
      "cell_type": "code",
      "source": [
        "# split data into training and testing sets\n",
        "X_forest = df_no_outliers.drop(columns = \"Rings\")\n",
        "y_forest = df_no_outliers[\"Rings\"]"
      ],
      "metadata": {
        "id": "fKlqYvbQ4UB0"
      },
      "execution_count": null,
      "outputs": []
    },
    {
      "cell_type": "code",
      "source": [
        "# split data into training and testing sets\n",
        "X_forest_train, X_forest_test, y_forest_train, y_forest_test = train_test_split(X_forest, y_forest, random_state = 3)"
      ],
      "metadata": {
        "id": "HFqyul4t4399"
      },
      "execution_count": null,
      "outputs": []
    },
    {
      "cell_type": "code",
      "source": [
        "# scale data with standard scaler\n",
        "scaler = StandardScaler()"
      ],
      "metadata": {
        "id": "M8H8zkvl5AV3"
      },
      "execution_count": null,
      "outputs": []
    },
    {
      "cell_type": "code",
      "source": [
        "# fit data to scaler\n",
        "scaler.fit(X_forest_train)"
      ],
      "metadata": {
        "colab": {
          "base_uri": "https://localhost:8080/"
        },
        "id": "tDxEWctN5GIQ",
        "outputId": "ea452fe2-f6a9-411f-8a50-3a2879e81f95"
      },
      "execution_count": null,
      "outputs": [
        {
          "output_type": "execute_result",
          "data": {
            "text/plain": [
              "StandardScaler()"
            ]
          },
          "metadata": {},
          "execution_count": 260
        }
      ]
    },
    {
      "cell_type": "code",
      "source": [
        "# scale data\n",
        "X_forest_train_scaled = scaler.transform(X_forest_train)\n",
        "X_forest_test_scaled = scaler.transform(X_forest_test)"
      ],
      "metadata": {
        "id": "qgmL_Inm5IIp"
      },
      "execution_count": null,
      "outputs": []
    },
    {
      "cell_type": "code",
      "source": [
        "# setting up random forest\n",
        "forest = RandomForestRegressor(n_estimators= 1000, random_state = 3, max_depth = 7, max_features = 5)"
      ],
      "metadata": {
        "id": "GJOw34CS5NSK"
      },
      "execution_count": null,
      "outputs": []
    },
    {
      "cell_type": "code",
      "source": [
        "# train model\n",
        "forest.fit(X_forest_train_scaled, y_forest_train)"
      ],
      "metadata": {
        "colab": {
          "base_uri": "https://localhost:8080/"
        },
        "id": "tDms-WtV6PnF",
        "outputId": "5adddb09-2de5-47e8-d2c4-e56c26b20051"
      },
      "execution_count": null,
      "outputs": [
        {
          "output_type": "execute_result",
          "data": {
            "text/plain": [
              "RandomForestRegressor(max_depth=7, max_features=5, n_estimators=1000,\n",
              "                      random_state=3)"
            ]
          },
          "metadata": {},
          "execution_count": 263
        }
      ]
    },
    {
      "cell_type": "code",
      "source": [
        "# evaluate model on training data\n",
        "forest.score(X_forest_train_scaled, y_forest_train)"
      ],
      "metadata": {
        "colab": {
          "base_uri": "https://localhost:8080/"
        },
        "id": "8ft4pYxP6TiJ",
        "outputId": "d75a55fd-a12c-4379-d9a5-67d19228dc7e"
      },
      "execution_count": null,
      "outputs": [
        {
          "output_type": "execute_result",
          "data": {
            "text/plain": [
              "0.6849268856324697"
            ]
          },
          "metadata": {},
          "execution_count": 264
        }
      ]
    },
    {
      "cell_type": "code",
      "source": [
        "# evaluate model on testing data\n",
        "forest.score(X_forest_test_scaled, y_forest_test)"
      ],
      "metadata": {
        "colab": {
          "base_uri": "https://localhost:8080/"
        },
        "id": "__VTD-5d6eK-",
        "outputId": "bc870557-ebcd-4371-c9fb-434e8ffb1d01"
      },
      "execution_count": null,
      "outputs": [
        {
          "output_type": "execute_result",
          "data": {
            "text/plain": [
              "0.5532751890702399"
            ]
          },
          "metadata": {},
          "execution_count": 265
        }
      ]
    },
    {
      "cell_type": "markdown",
      "source": [
        "### Neural Network\n",
        "In this section, we use neural neural networks to see if we can get better results from our data."
      ],
      "metadata": {
        "id": "Fw-Js0GJ-dCP"
      }
    },
    {
      "cell_type": "markdown",
      "source": [
        "#### Set up for Neural Network"
      ],
      "metadata": {
        "id": "AbaRuQfcXdhn"
      }
    },
    {
      "cell_type": "code",
      "source": [
        "# Split data into training and testing sets\n",
        "X_nn = df_no_outliers.drop(columns = \"Rings\")\n",
        "y_nn = df_no_outliers[\"Rings\"]"
      ],
      "metadata": {
        "id": "Af0nKkUk-f7m"
      },
      "execution_count": null,
      "outputs": []
    },
    {
      "cell_type": "code",
      "source": [
        "# Split data into training and testing sets\n",
        "X_nn_train, X_nn_test, y_nn_train, y_nn_test = train_test_split(X_nn, y_nn, random_state = 3)"
      ],
      "metadata": {
        "id": "-pnWj1iN_Rmu"
      },
      "execution_count": null,
      "outputs": []
    },
    {
      "cell_type": "code",
      "source": [
        "# Find data-points with only one entry and remove them\n",
        "df_no_outliers.groupby(\"Rings\").count()[\"Length\"]"
      ],
      "metadata": {
        "colab": {
          "base_uri": "https://localhost:8080/"
        },
        "id": "UMMjDBHyuAvW",
        "outputId": "01c69ad1-b384-4d81-dab7-e04ac66c6c63"
      },
      "execution_count": null,
      "outputs": [
        {
          "output_type": "execute_result",
          "data": {
            "text/plain": [
              "Rings\n",
              "1       1\n",
              "2       1\n",
              "3      15\n",
              "4      57\n",
              "5     115\n",
              "6     258\n",
              "7     391\n",
              "8     566\n",
              "9     689\n",
              "10    633\n",
              "11    487\n",
              "12    267\n",
              "13    203\n",
              "14    126\n",
              "15    103\n",
              "16     67\n",
              "17     58\n",
              "18     42\n",
              "19     32\n",
              "20     26\n",
              "21     14\n",
              "22      6\n",
              "23      9\n",
              "24      2\n",
              "25      1\n",
              "26      1\n",
              "27      2\n",
              "29      1\n",
              "Name: Length, dtype: int64"
            ]
          },
          "metadata": {},
          "execution_count": 332
        }
      ]
    },
    {
      "cell_type": "code",
      "source": [
        "# Find data-points with only one entry and remove them\n",
        "df_rings = df_no_outliers[~df_no_outliers['Rings'].isin([1, 2, 25, 26, 29])]"
      ],
      "metadata": {
        "id": "Ej5Hn4gWuYcj"
      },
      "execution_count": null,
      "outputs": []
    },
    {
      "cell_type": "code",
      "source": [
        "# Take a look at newly created dataframe\n",
        "df_rings"
      ],
      "metadata": {
        "colab": {
          "base_uri": "https://localhost:8080/",
          "height": 424
        },
        "id": "kb0LrqBlv4G8",
        "outputId": "15d0f0d5-faae-4a54-9df0-312b07360a30"
      },
      "execution_count": null,
      "outputs": [
        {
          "output_type": "execute_result",
          "data": {
            "text/plain": [
              "      Length  Diameter  Height  Whole_weight  Shucked_weight  Viscera_weight  \\\n",
              "0      0.455     0.365   0.095        0.5140          0.2245          0.1010   \n",
              "1      0.350     0.265   0.090        0.2255          0.0995          0.0485   \n",
              "2      0.530     0.420   0.135        0.6770          0.2565          0.1415   \n",
              "3      0.440     0.365   0.125        0.5160          0.2155          0.1140   \n",
              "4      0.330     0.255   0.080        0.2050          0.0895          0.0395   \n",
              "...      ...       ...     ...           ...             ...             ...   \n",
              "4172   0.565     0.450   0.165        0.8870          0.3700          0.2390   \n",
              "4173   0.590     0.440   0.135        0.9660          0.4390          0.2145   \n",
              "4174   0.600     0.475   0.205        1.1760          0.5255          0.2875   \n",
              "4175   0.625     0.485   0.150        1.0945          0.5310          0.2610   \n",
              "4176   0.710     0.555   0.195        1.9485          0.9455          0.3765   \n",
              "\n",
              "      Shell_weight  Rings  Sex_F  Sex_I  Sex_M  \n",
              "0           0.1500     15      0      0      1  \n",
              "1           0.0700      7      0      0      1  \n",
              "2           0.2100      9      1      0      0  \n",
              "3           0.1550     10      0      0      1  \n",
              "4           0.0550      7      0      1      0  \n",
              "...            ...    ...    ...    ...    ...  \n",
              "4172        0.2490     11      1      0      0  \n",
              "4173        0.2605     10      0      0      1  \n",
              "4174        0.3080      9      0      0      1  \n",
              "4175        0.2960     10      1      0      0  \n",
              "4176        0.4950     12      0      0      1  \n",
              "\n",
              "[4168 rows x 11 columns]"
            ],
            "text/html": [
              "\n",
              "  <div id=\"df-ca679825-5120-42de-a8c9-d6d0d7be7e8d\">\n",
              "    <div class=\"colab-df-container\">\n",
              "      <div>\n",
              "<style scoped>\n",
              "    .dataframe tbody tr th:only-of-type {\n",
              "        vertical-align: middle;\n",
              "    }\n",
              "\n",
              "    .dataframe tbody tr th {\n",
              "        vertical-align: top;\n",
              "    }\n",
              "\n",
              "    .dataframe thead th {\n",
              "        text-align: right;\n",
              "    }\n",
              "</style>\n",
              "<table border=\"1\" class=\"dataframe\">\n",
              "  <thead>\n",
              "    <tr style=\"text-align: right;\">\n",
              "      <th></th>\n",
              "      <th>Length</th>\n",
              "      <th>Diameter</th>\n",
              "      <th>Height</th>\n",
              "      <th>Whole_weight</th>\n",
              "      <th>Shucked_weight</th>\n",
              "      <th>Viscera_weight</th>\n",
              "      <th>Shell_weight</th>\n",
              "      <th>Rings</th>\n",
              "      <th>Sex_F</th>\n",
              "      <th>Sex_I</th>\n",
              "      <th>Sex_M</th>\n",
              "    </tr>\n",
              "  </thead>\n",
              "  <tbody>\n",
              "    <tr>\n",
              "      <th>0</th>\n",
              "      <td>0.455</td>\n",
              "      <td>0.365</td>\n",
              "      <td>0.095</td>\n",
              "      <td>0.5140</td>\n",
              "      <td>0.2245</td>\n",
              "      <td>0.1010</td>\n",
              "      <td>0.1500</td>\n",
              "      <td>15</td>\n",
              "      <td>0</td>\n",
              "      <td>0</td>\n",
              "      <td>1</td>\n",
              "    </tr>\n",
              "    <tr>\n",
              "      <th>1</th>\n",
              "      <td>0.350</td>\n",
              "      <td>0.265</td>\n",
              "      <td>0.090</td>\n",
              "      <td>0.2255</td>\n",
              "      <td>0.0995</td>\n",
              "      <td>0.0485</td>\n",
              "      <td>0.0700</td>\n",
              "      <td>7</td>\n",
              "      <td>0</td>\n",
              "      <td>0</td>\n",
              "      <td>1</td>\n",
              "    </tr>\n",
              "    <tr>\n",
              "      <th>2</th>\n",
              "      <td>0.530</td>\n",
              "      <td>0.420</td>\n",
              "      <td>0.135</td>\n",
              "      <td>0.6770</td>\n",
              "      <td>0.2565</td>\n",
              "      <td>0.1415</td>\n",
              "      <td>0.2100</td>\n",
              "      <td>9</td>\n",
              "      <td>1</td>\n",
              "      <td>0</td>\n",
              "      <td>0</td>\n",
              "    </tr>\n",
              "    <tr>\n",
              "      <th>3</th>\n",
              "      <td>0.440</td>\n",
              "      <td>0.365</td>\n",
              "      <td>0.125</td>\n",
              "      <td>0.5160</td>\n",
              "      <td>0.2155</td>\n",
              "      <td>0.1140</td>\n",
              "      <td>0.1550</td>\n",
              "      <td>10</td>\n",
              "      <td>0</td>\n",
              "      <td>0</td>\n",
              "      <td>1</td>\n",
              "    </tr>\n",
              "    <tr>\n",
              "      <th>4</th>\n",
              "      <td>0.330</td>\n",
              "      <td>0.255</td>\n",
              "      <td>0.080</td>\n",
              "      <td>0.2050</td>\n",
              "      <td>0.0895</td>\n",
              "      <td>0.0395</td>\n",
              "      <td>0.0550</td>\n",
              "      <td>7</td>\n",
              "      <td>0</td>\n",
              "      <td>1</td>\n",
              "      <td>0</td>\n",
              "    </tr>\n",
              "    <tr>\n",
              "      <th>...</th>\n",
              "      <td>...</td>\n",
              "      <td>...</td>\n",
              "      <td>...</td>\n",
              "      <td>...</td>\n",
              "      <td>...</td>\n",
              "      <td>...</td>\n",
              "      <td>...</td>\n",
              "      <td>...</td>\n",
              "      <td>...</td>\n",
              "      <td>...</td>\n",
              "      <td>...</td>\n",
              "    </tr>\n",
              "    <tr>\n",
              "      <th>4172</th>\n",
              "      <td>0.565</td>\n",
              "      <td>0.450</td>\n",
              "      <td>0.165</td>\n",
              "      <td>0.8870</td>\n",
              "      <td>0.3700</td>\n",
              "      <td>0.2390</td>\n",
              "      <td>0.2490</td>\n",
              "      <td>11</td>\n",
              "      <td>1</td>\n",
              "      <td>0</td>\n",
              "      <td>0</td>\n",
              "    </tr>\n",
              "    <tr>\n",
              "      <th>4173</th>\n",
              "      <td>0.590</td>\n",
              "      <td>0.440</td>\n",
              "      <td>0.135</td>\n",
              "      <td>0.9660</td>\n",
              "      <td>0.4390</td>\n",
              "      <td>0.2145</td>\n",
              "      <td>0.2605</td>\n",
              "      <td>10</td>\n",
              "      <td>0</td>\n",
              "      <td>0</td>\n",
              "      <td>1</td>\n",
              "    </tr>\n",
              "    <tr>\n",
              "      <th>4174</th>\n",
              "      <td>0.600</td>\n",
              "      <td>0.475</td>\n",
              "      <td>0.205</td>\n",
              "      <td>1.1760</td>\n",
              "      <td>0.5255</td>\n",
              "      <td>0.2875</td>\n",
              "      <td>0.3080</td>\n",
              "      <td>9</td>\n",
              "      <td>0</td>\n",
              "      <td>0</td>\n",
              "      <td>1</td>\n",
              "    </tr>\n",
              "    <tr>\n",
              "      <th>4175</th>\n",
              "      <td>0.625</td>\n",
              "      <td>0.485</td>\n",
              "      <td>0.150</td>\n",
              "      <td>1.0945</td>\n",
              "      <td>0.5310</td>\n",
              "      <td>0.2610</td>\n",
              "      <td>0.2960</td>\n",
              "      <td>10</td>\n",
              "      <td>1</td>\n",
              "      <td>0</td>\n",
              "      <td>0</td>\n",
              "    </tr>\n",
              "    <tr>\n",
              "      <th>4176</th>\n",
              "      <td>0.710</td>\n",
              "      <td>0.555</td>\n",
              "      <td>0.195</td>\n",
              "      <td>1.9485</td>\n",
              "      <td>0.9455</td>\n",
              "      <td>0.3765</td>\n",
              "      <td>0.4950</td>\n",
              "      <td>12</td>\n",
              "      <td>0</td>\n",
              "      <td>0</td>\n",
              "      <td>1</td>\n",
              "    </tr>\n",
              "  </tbody>\n",
              "</table>\n",
              "<p>4168 rows × 11 columns</p>\n",
              "</div>\n",
              "      <button class=\"colab-df-convert\" onclick=\"convertToInteractive('df-ca679825-5120-42de-a8c9-d6d0d7be7e8d')\"\n",
              "              title=\"Convert this dataframe to an interactive table.\"\n",
              "              style=\"display:none;\">\n",
              "        \n",
              "  <svg xmlns=\"http://www.w3.org/2000/svg\" height=\"24px\"viewBox=\"0 0 24 24\"\n",
              "       width=\"24px\">\n",
              "    <path d=\"M0 0h24v24H0V0z\" fill=\"none\"/>\n",
              "    <path d=\"M18.56 5.44l.94 2.06.94-2.06 2.06-.94-2.06-.94-.94-2.06-.94 2.06-2.06.94zm-11 1L8.5 8.5l.94-2.06 2.06-.94-2.06-.94L8.5 2.5l-.94 2.06-2.06.94zm10 10l.94 2.06.94-2.06 2.06-.94-2.06-.94-.94-2.06-.94 2.06-2.06.94z\"/><path d=\"M17.41 7.96l-1.37-1.37c-.4-.4-.92-.59-1.43-.59-.52 0-1.04.2-1.43.59L10.3 9.45l-7.72 7.72c-.78.78-.78 2.05 0 2.83L4 21.41c.39.39.9.59 1.41.59.51 0 1.02-.2 1.41-.59l7.78-7.78 2.81-2.81c.8-.78.8-2.07 0-2.86zM5.41 20L4 18.59l7.72-7.72 1.47 1.35L5.41 20z\"/>\n",
              "  </svg>\n",
              "      </button>\n",
              "      \n",
              "  <style>\n",
              "    .colab-df-container {\n",
              "      display:flex;\n",
              "      flex-wrap:wrap;\n",
              "      gap: 12px;\n",
              "    }\n",
              "\n",
              "    .colab-df-convert {\n",
              "      background-color: #E8F0FE;\n",
              "      border: none;\n",
              "      border-radius: 50%;\n",
              "      cursor: pointer;\n",
              "      display: none;\n",
              "      fill: #1967D2;\n",
              "      height: 32px;\n",
              "      padding: 0 0 0 0;\n",
              "      width: 32px;\n",
              "    }\n",
              "\n",
              "    .colab-df-convert:hover {\n",
              "      background-color: #E2EBFA;\n",
              "      box-shadow: 0px 1px 2px rgba(60, 64, 67, 0.3), 0px 1px 3px 1px rgba(60, 64, 67, 0.15);\n",
              "      fill: #174EA6;\n",
              "    }\n",
              "\n",
              "    [theme=dark] .colab-df-convert {\n",
              "      background-color: #3B4455;\n",
              "      fill: #D2E3FC;\n",
              "    }\n",
              "\n",
              "    [theme=dark] .colab-df-convert:hover {\n",
              "      background-color: #434B5C;\n",
              "      box-shadow: 0px 1px 3px 1px rgba(0, 0, 0, 0.15);\n",
              "      filter: drop-shadow(0px 1px 2px rgba(0, 0, 0, 0.3));\n",
              "      fill: #FFFFFF;\n",
              "    }\n",
              "  </style>\n",
              "\n",
              "      <script>\n",
              "        const buttonEl =\n",
              "          document.querySelector('#df-ca679825-5120-42de-a8c9-d6d0d7be7e8d button.colab-df-convert');\n",
              "        buttonEl.style.display =\n",
              "          google.colab.kernel.accessAllowed ? 'block' : 'none';\n",
              "\n",
              "        async function convertToInteractive(key) {\n",
              "          const element = document.querySelector('#df-ca679825-5120-42de-a8c9-d6d0d7be7e8d');\n",
              "          const dataTable =\n",
              "            await google.colab.kernel.invokeFunction('convertToInteractive',\n",
              "                                                     [key], {});\n",
              "          if (!dataTable) return;\n",
              "\n",
              "          const docLinkHtml = 'Like what you see? Visit the ' +\n",
              "            '<a target=\"_blank\" href=https://colab.research.google.com/notebooks/data_table.ipynb>data table notebook</a>'\n",
              "            + ' to learn more about interactive tables.';\n",
              "          element.innerHTML = '';\n",
              "          dataTable['output_type'] = 'display_data';\n",
              "          await google.colab.output.renderOutput(dataTable, element);\n",
              "          const docLink = document.createElement('div');\n",
              "          docLink.innerHTML = docLinkHtml;\n",
              "          element.appendChild(docLink);\n",
              "        }\n",
              "      </script>\n",
              "    </div>\n",
              "  </div>\n",
              "  "
            ]
          },
          "metadata": {},
          "execution_count": 341
        }
      ]
    },
    {
      "cell_type": "code",
      "source": [
        "df_rings.groupby(\"Rings\").count()"
      ],
      "metadata": {
        "colab": {
          "base_uri": "https://localhost:8080/",
          "height": 802
        },
        "id": "eD96pCwEvnUO",
        "outputId": "5795828c-f36d-4edf-c202-4caf90a0d240"
      },
      "execution_count": null,
      "outputs": [
        {
          "output_type": "execute_result",
          "data": {
            "text/plain": [
              "       Length  Diameter  Height  Whole_weight  Shucked_weight  Viscera_weight  \\\n",
              "Rings                                                                           \n",
              "3          15        15      15            15              15              15   \n",
              "4          57        57      57            57              57              57   \n",
              "5         115       115     115           115             115             115   \n",
              "6         258       258     258           258             258             258   \n",
              "7         391       391     391           391             391             391   \n",
              "8         566       566     566           566             566             566   \n",
              "9         689       689     689           689             689             689   \n",
              "10        633       633     633           633             633             633   \n",
              "11        487       487     487           487             487             487   \n",
              "12        267       267     267           267             267             267   \n",
              "13        203       203     203           203             203             203   \n",
              "14        126       126     126           126             126             126   \n",
              "15        103       103     103           103             103             103   \n",
              "16         67        67      67            67              67              67   \n",
              "17         58        58      58            58              58              58   \n",
              "18         42        42      42            42              42              42   \n",
              "19         32        32      32            32              32              32   \n",
              "20         26        26      26            26              26              26   \n",
              "21         14        14      14            14              14              14   \n",
              "22          6         6       6             6               6               6   \n",
              "23          9         9       9             9               9               9   \n",
              "24          2         2       2             2               2               2   \n",
              "27          2         2       2             2               2               2   \n",
              "\n",
              "       Shell_weight  Sex_F  Sex_I  Sex_M  \n",
              "Rings                                     \n",
              "3                15     15     15     15  \n",
              "4                57     57     57     57  \n",
              "5               115    115    115    115  \n",
              "6               258    258    258    258  \n",
              "7               391    391    391    391  \n",
              "8               566    566    566    566  \n",
              "9               689    689    689    689  \n",
              "10              633    633    633    633  \n",
              "11              487    487    487    487  \n",
              "12              267    267    267    267  \n",
              "13              203    203    203    203  \n",
              "14              126    126    126    126  \n",
              "15              103    103    103    103  \n",
              "16               67     67     67     67  \n",
              "17               58     58     58     58  \n",
              "18               42     42     42     42  \n",
              "19               32     32     32     32  \n",
              "20               26     26     26     26  \n",
              "21               14     14     14     14  \n",
              "22                6      6      6      6  \n",
              "23                9      9      9      9  \n",
              "24                2      2      2      2  \n",
              "27                2      2      2      2  "
            ],
            "text/html": [
              "\n",
              "  <div id=\"df-c863a1f4-cb39-4136-8e88-123dde5d52ad\">\n",
              "    <div class=\"colab-df-container\">\n",
              "      <div>\n",
              "<style scoped>\n",
              "    .dataframe tbody tr th:only-of-type {\n",
              "        vertical-align: middle;\n",
              "    }\n",
              "\n",
              "    .dataframe tbody tr th {\n",
              "        vertical-align: top;\n",
              "    }\n",
              "\n",
              "    .dataframe thead th {\n",
              "        text-align: right;\n",
              "    }\n",
              "</style>\n",
              "<table border=\"1\" class=\"dataframe\">\n",
              "  <thead>\n",
              "    <tr style=\"text-align: right;\">\n",
              "      <th></th>\n",
              "      <th>Length</th>\n",
              "      <th>Diameter</th>\n",
              "      <th>Height</th>\n",
              "      <th>Whole_weight</th>\n",
              "      <th>Shucked_weight</th>\n",
              "      <th>Viscera_weight</th>\n",
              "      <th>Shell_weight</th>\n",
              "      <th>Sex_F</th>\n",
              "      <th>Sex_I</th>\n",
              "      <th>Sex_M</th>\n",
              "    </tr>\n",
              "    <tr>\n",
              "      <th>Rings</th>\n",
              "      <th></th>\n",
              "      <th></th>\n",
              "      <th></th>\n",
              "      <th></th>\n",
              "      <th></th>\n",
              "      <th></th>\n",
              "      <th></th>\n",
              "      <th></th>\n",
              "      <th></th>\n",
              "      <th></th>\n",
              "    </tr>\n",
              "  </thead>\n",
              "  <tbody>\n",
              "    <tr>\n",
              "      <th>3</th>\n",
              "      <td>15</td>\n",
              "      <td>15</td>\n",
              "      <td>15</td>\n",
              "      <td>15</td>\n",
              "      <td>15</td>\n",
              "      <td>15</td>\n",
              "      <td>15</td>\n",
              "      <td>15</td>\n",
              "      <td>15</td>\n",
              "      <td>15</td>\n",
              "    </tr>\n",
              "    <tr>\n",
              "      <th>4</th>\n",
              "      <td>57</td>\n",
              "      <td>57</td>\n",
              "      <td>57</td>\n",
              "      <td>57</td>\n",
              "      <td>57</td>\n",
              "      <td>57</td>\n",
              "      <td>57</td>\n",
              "      <td>57</td>\n",
              "      <td>57</td>\n",
              "      <td>57</td>\n",
              "    </tr>\n",
              "    <tr>\n",
              "      <th>5</th>\n",
              "      <td>115</td>\n",
              "      <td>115</td>\n",
              "      <td>115</td>\n",
              "      <td>115</td>\n",
              "      <td>115</td>\n",
              "      <td>115</td>\n",
              "      <td>115</td>\n",
              "      <td>115</td>\n",
              "      <td>115</td>\n",
              "      <td>115</td>\n",
              "    </tr>\n",
              "    <tr>\n",
              "      <th>6</th>\n",
              "      <td>258</td>\n",
              "      <td>258</td>\n",
              "      <td>258</td>\n",
              "      <td>258</td>\n",
              "      <td>258</td>\n",
              "      <td>258</td>\n",
              "      <td>258</td>\n",
              "      <td>258</td>\n",
              "      <td>258</td>\n",
              "      <td>258</td>\n",
              "    </tr>\n",
              "    <tr>\n",
              "      <th>7</th>\n",
              "      <td>391</td>\n",
              "      <td>391</td>\n",
              "      <td>391</td>\n",
              "      <td>391</td>\n",
              "      <td>391</td>\n",
              "      <td>391</td>\n",
              "      <td>391</td>\n",
              "      <td>391</td>\n",
              "      <td>391</td>\n",
              "      <td>391</td>\n",
              "    </tr>\n",
              "    <tr>\n",
              "      <th>8</th>\n",
              "      <td>566</td>\n",
              "      <td>566</td>\n",
              "      <td>566</td>\n",
              "      <td>566</td>\n",
              "      <td>566</td>\n",
              "      <td>566</td>\n",
              "      <td>566</td>\n",
              "      <td>566</td>\n",
              "      <td>566</td>\n",
              "      <td>566</td>\n",
              "    </tr>\n",
              "    <tr>\n",
              "      <th>9</th>\n",
              "      <td>689</td>\n",
              "      <td>689</td>\n",
              "      <td>689</td>\n",
              "      <td>689</td>\n",
              "      <td>689</td>\n",
              "      <td>689</td>\n",
              "      <td>689</td>\n",
              "      <td>689</td>\n",
              "      <td>689</td>\n",
              "      <td>689</td>\n",
              "    </tr>\n",
              "    <tr>\n",
              "      <th>10</th>\n",
              "      <td>633</td>\n",
              "      <td>633</td>\n",
              "      <td>633</td>\n",
              "      <td>633</td>\n",
              "      <td>633</td>\n",
              "      <td>633</td>\n",
              "      <td>633</td>\n",
              "      <td>633</td>\n",
              "      <td>633</td>\n",
              "      <td>633</td>\n",
              "    </tr>\n",
              "    <tr>\n",
              "      <th>11</th>\n",
              "      <td>487</td>\n",
              "      <td>487</td>\n",
              "      <td>487</td>\n",
              "      <td>487</td>\n",
              "      <td>487</td>\n",
              "      <td>487</td>\n",
              "      <td>487</td>\n",
              "      <td>487</td>\n",
              "      <td>487</td>\n",
              "      <td>487</td>\n",
              "    </tr>\n",
              "    <tr>\n",
              "      <th>12</th>\n",
              "      <td>267</td>\n",
              "      <td>267</td>\n",
              "      <td>267</td>\n",
              "      <td>267</td>\n",
              "      <td>267</td>\n",
              "      <td>267</td>\n",
              "      <td>267</td>\n",
              "      <td>267</td>\n",
              "      <td>267</td>\n",
              "      <td>267</td>\n",
              "    </tr>\n",
              "    <tr>\n",
              "      <th>13</th>\n",
              "      <td>203</td>\n",
              "      <td>203</td>\n",
              "      <td>203</td>\n",
              "      <td>203</td>\n",
              "      <td>203</td>\n",
              "      <td>203</td>\n",
              "      <td>203</td>\n",
              "      <td>203</td>\n",
              "      <td>203</td>\n",
              "      <td>203</td>\n",
              "    </tr>\n",
              "    <tr>\n",
              "      <th>14</th>\n",
              "      <td>126</td>\n",
              "      <td>126</td>\n",
              "      <td>126</td>\n",
              "      <td>126</td>\n",
              "      <td>126</td>\n",
              "      <td>126</td>\n",
              "      <td>126</td>\n",
              "      <td>126</td>\n",
              "      <td>126</td>\n",
              "      <td>126</td>\n",
              "    </tr>\n",
              "    <tr>\n",
              "      <th>15</th>\n",
              "      <td>103</td>\n",
              "      <td>103</td>\n",
              "      <td>103</td>\n",
              "      <td>103</td>\n",
              "      <td>103</td>\n",
              "      <td>103</td>\n",
              "      <td>103</td>\n",
              "      <td>103</td>\n",
              "      <td>103</td>\n",
              "      <td>103</td>\n",
              "    </tr>\n",
              "    <tr>\n",
              "      <th>16</th>\n",
              "      <td>67</td>\n",
              "      <td>67</td>\n",
              "      <td>67</td>\n",
              "      <td>67</td>\n",
              "      <td>67</td>\n",
              "      <td>67</td>\n",
              "      <td>67</td>\n",
              "      <td>67</td>\n",
              "      <td>67</td>\n",
              "      <td>67</td>\n",
              "    </tr>\n",
              "    <tr>\n",
              "      <th>17</th>\n",
              "      <td>58</td>\n",
              "      <td>58</td>\n",
              "      <td>58</td>\n",
              "      <td>58</td>\n",
              "      <td>58</td>\n",
              "      <td>58</td>\n",
              "      <td>58</td>\n",
              "      <td>58</td>\n",
              "      <td>58</td>\n",
              "      <td>58</td>\n",
              "    </tr>\n",
              "    <tr>\n",
              "      <th>18</th>\n",
              "      <td>42</td>\n",
              "      <td>42</td>\n",
              "      <td>42</td>\n",
              "      <td>42</td>\n",
              "      <td>42</td>\n",
              "      <td>42</td>\n",
              "      <td>42</td>\n",
              "      <td>42</td>\n",
              "      <td>42</td>\n",
              "      <td>42</td>\n",
              "    </tr>\n",
              "    <tr>\n",
              "      <th>19</th>\n",
              "      <td>32</td>\n",
              "      <td>32</td>\n",
              "      <td>32</td>\n",
              "      <td>32</td>\n",
              "      <td>32</td>\n",
              "      <td>32</td>\n",
              "      <td>32</td>\n",
              "      <td>32</td>\n",
              "      <td>32</td>\n",
              "      <td>32</td>\n",
              "    </tr>\n",
              "    <tr>\n",
              "      <th>20</th>\n",
              "      <td>26</td>\n",
              "      <td>26</td>\n",
              "      <td>26</td>\n",
              "      <td>26</td>\n",
              "      <td>26</td>\n",
              "      <td>26</td>\n",
              "      <td>26</td>\n",
              "      <td>26</td>\n",
              "      <td>26</td>\n",
              "      <td>26</td>\n",
              "    </tr>\n",
              "    <tr>\n",
              "      <th>21</th>\n",
              "      <td>14</td>\n",
              "      <td>14</td>\n",
              "      <td>14</td>\n",
              "      <td>14</td>\n",
              "      <td>14</td>\n",
              "      <td>14</td>\n",
              "      <td>14</td>\n",
              "      <td>14</td>\n",
              "      <td>14</td>\n",
              "      <td>14</td>\n",
              "    </tr>\n",
              "    <tr>\n",
              "      <th>22</th>\n",
              "      <td>6</td>\n",
              "      <td>6</td>\n",
              "      <td>6</td>\n",
              "      <td>6</td>\n",
              "      <td>6</td>\n",
              "      <td>6</td>\n",
              "      <td>6</td>\n",
              "      <td>6</td>\n",
              "      <td>6</td>\n",
              "      <td>6</td>\n",
              "    </tr>\n",
              "    <tr>\n",
              "      <th>23</th>\n",
              "      <td>9</td>\n",
              "      <td>9</td>\n",
              "      <td>9</td>\n",
              "      <td>9</td>\n",
              "      <td>9</td>\n",
              "      <td>9</td>\n",
              "      <td>9</td>\n",
              "      <td>9</td>\n",
              "      <td>9</td>\n",
              "      <td>9</td>\n",
              "    </tr>\n",
              "    <tr>\n",
              "      <th>24</th>\n",
              "      <td>2</td>\n",
              "      <td>2</td>\n",
              "      <td>2</td>\n",
              "      <td>2</td>\n",
              "      <td>2</td>\n",
              "      <td>2</td>\n",
              "      <td>2</td>\n",
              "      <td>2</td>\n",
              "      <td>2</td>\n",
              "      <td>2</td>\n",
              "    </tr>\n",
              "    <tr>\n",
              "      <th>27</th>\n",
              "      <td>2</td>\n",
              "      <td>2</td>\n",
              "      <td>2</td>\n",
              "      <td>2</td>\n",
              "      <td>2</td>\n",
              "      <td>2</td>\n",
              "      <td>2</td>\n",
              "      <td>2</td>\n",
              "      <td>2</td>\n",
              "      <td>2</td>\n",
              "    </tr>\n",
              "  </tbody>\n",
              "</table>\n",
              "</div>\n",
              "      <button class=\"colab-df-convert\" onclick=\"convertToInteractive('df-c863a1f4-cb39-4136-8e88-123dde5d52ad')\"\n",
              "              title=\"Convert this dataframe to an interactive table.\"\n",
              "              style=\"display:none;\">\n",
              "        \n",
              "  <svg xmlns=\"http://www.w3.org/2000/svg\" height=\"24px\"viewBox=\"0 0 24 24\"\n",
              "       width=\"24px\">\n",
              "    <path d=\"M0 0h24v24H0V0z\" fill=\"none\"/>\n",
              "    <path d=\"M18.56 5.44l.94 2.06.94-2.06 2.06-.94-2.06-.94-.94-2.06-.94 2.06-2.06.94zm-11 1L8.5 8.5l.94-2.06 2.06-.94-2.06-.94L8.5 2.5l-.94 2.06-2.06.94zm10 10l.94 2.06.94-2.06 2.06-.94-2.06-.94-.94-2.06-.94 2.06-2.06.94z\"/><path d=\"M17.41 7.96l-1.37-1.37c-.4-.4-.92-.59-1.43-.59-.52 0-1.04.2-1.43.59L10.3 9.45l-7.72 7.72c-.78.78-.78 2.05 0 2.83L4 21.41c.39.39.9.59 1.41.59.51 0 1.02-.2 1.41-.59l7.78-7.78 2.81-2.81c.8-.78.8-2.07 0-2.86zM5.41 20L4 18.59l7.72-7.72 1.47 1.35L5.41 20z\"/>\n",
              "  </svg>\n",
              "      </button>\n",
              "      \n",
              "  <style>\n",
              "    .colab-df-container {\n",
              "      display:flex;\n",
              "      flex-wrap:wrap;\n",
              "      gap: 12px;\n",
              "    }\n",
              "\n",
              "    .colab-df-convert {\n",
              "      background-color: #E8F0FE;\n",
              "      border: none;\n",
              "      border-radius: 50%;\n",
              "      cursor: pointer;\n",
              "      display: none;\n",
              "      fill: #1967D2;\n",
              "      height: 32px;\n",
              "      padding: 0 0 0 0;\n",
              "      width: 32px;\n",
              "    }\n",
              "\n",
              "    .colab-df-convert:hover {\n",
              "      background-color: #E2EBFA;\n",
              "      box-shadow: 0px 1px 2px rgba(60, 64, 67, 0.3), 0px 1px 3px 1px rgba(60, 64, 67, 0.15);\n",
              "      fill: #174EA6;\n",
              "    }\n",
              "\n",
              "    [theme=dark] .colab-df-convert {\n",
              "      background-color: #3B4455;\n",
              "      fill: #D2E3FC;\n",
              "    }\n",
              "\n",
              "    [theme=dark] .colab-df-convert:hover {\n",
              "      background-color: #434B5C;\n",
              "      box-shadow: 0px 1px 3px 1px rgba(0, 0, 0, 0.15);\n",
              "      filter: drop-shadow(0px 1px 2px rgba(0, 0, 0, 0.3));\n",
              "      fill: #FFFFFF;\n",
              "    }\n",
              "  </style>\n",
              "\n",
              "      <script>\n",
              "        const buttonEl =\n",
              "          document.querySelector('#df-c863a1f4-cb39-4136-8e88-123dde5d52ad button.colab-df-convert');\n",
              "        buttonEl.style.display =\n",
              "          google.colab.kernel.accessAllowed ? 'block' : 'none';\n",
              "\n",
              "        async function convertToInteractive(key) {\n",
              "          const element = document.querySelector('#df-c863a1f4-cb39-4136-8e88-123dde5d52ad');\n",
              "          const dataTable =\n",
              "            await google.colab.kernel.invokeFunction('convertToInteractive',\n",
              "                                                     [key], {});\n",
              "          if (!dataTable) return;\n",
              "\n",
              "          const docLinkHtml = 'Like what you see? Visit the ' +\n",
              "            '<a target=\"_blank\" href=https://colab.research.google.com/notebooks/data_table.ipynb>data table notebook</a>'\n",
              "            + ' to learn more about interactive tables.';\n",
              "          element.innerHTML = '';\n",
              "          dataTable['output_type'] = 'display_data';\n",
              "          await google.colab.output.renderOutput(dataTable, element);\n",
              "          const docLink = document.createElement('div');\n",
              "          docLink.innerHTML = docLinkHtml;\n",
              "          element.appendChild(docLink);\n",
              "        }\n",
              "      </script>\n",
              "    </div>\n",
              "  </div>\n",
              "  "
            ]
          },
          "metadata": {},
          "execution_count": 342
        }
      ]
    },
    {
      "cell_type": "code",
      "source": [
        "# Split data into training and testing sets\n",
        "X_nn_new = df_rings.drop(columns = \"Rings\")\n",
        "y_nn_new = df_rings[\"Rings\"]"
      ],
      "metadata": {
        "id": "Mo-x2XTPuvvc"
      },
      "execution_count": null,
      "outputs": []
    },
    {
      "cell_type": "code",
      "source": [
        "# split data into training and testing sets\n",
        "X_nn_train, X_nn_test, y_nn_train, y_nn_test = train_test_split(X_nn_new, y_nn_new, random_state = 3, stratify = y_nn_new)"
      ],
      "metadata": {
        "id": "7RxfkDrYvBSt"
      },
      "execution_count": null,
      "outputs": []
    },
    {
      "cell_type": "code",
      "source": [
        "# scale data with MinMax Scaler\n",
        "scaler = MinMaxScaler()"
      ],
      "metadata": {
        "id": "Ltry2phO_RkK"
      },
      "execution_count": null,
      "outputs": []
    },
    {
      "cell_type": "code",
      "source": [
        "# Fit data to scaler\n",
        "scaler.fit(X_nn_train)"
      ],
      "metadata": {
        "colab": {
          "base_uri": "https://localhost:8080/"
        },
        "id": "f6_hpcwa_Q0k",
        "outputId": "483a4baa-5d1d-49e7-b0f4-757e50d8d759"
      },
      "execution_count": null,
      "outputs": [
        {
          "output_type": "execute_result",
          "data": {
            "text/plain": [
              "MinMaxScaler()"
            ]
          },
          "metadata": {},
          "execution_count": 346
        }
      ]
    },
    {
      "cell_type": "code",
      "source": [
        "# scale data\n",
        "X_nn_train_scaled = scaler.transform(X_nn_train)\n",
        "X_nn_test_scaled = scaler.transform(X_nn_test)"
      ],
      "metadata": {
        "id": "3kFcHJCT_qR4"
      },
      "execution_count": null,
      "outputs": []
    },
    {
      "cell_type": "markdown",
      "source": [
        "#### Original Neural Network"
      ],
      "metadata": {
        "id": "kxzj9dl0QZb3"
      }
    },
    {
      "cell_type": "code",
      "source": [
        "# build neural network model. 50 epochs, 30 units. Linear activation on output layer. Using MSE because we are performing a regression. \n",
        "nn_model = tf.keras.models.Sequential()\n",
        "\n",
        "nn_model.add(tf.keras.layers.Dense(units = 30, activation = \"relu\", input_dim = 10))\n",
        "nn_model.add(tf.keras.layers.Dense(units = 1, activation = \"linear\"))\n",
        "\n",
        "nn_model.compile(loss = \"mean_squared_error\", optimizer = \"adam\")\n",
        "\n",
        "fit_model = nn_model.fit(X_nn_train_scaled, y_nn_train, epochs = 50)"
      ],
      "metadata": {
        "colab": {
          "base_uri": "https://localhost:8080/"
        },
        "id": "1u21jiaVQFq1",
        "outputId": "e7d816bf-5328-4203-c1fc-cce8cfea80de"
      },
      "execution_count": null,
      "outputs": [
        {
          "output_type": "stream",
          "name": "stdout",
          "text": [
            "Epoch 1/20\n",
            "98/98 [==============================] - 2s 7ms/step - loss: 94.5495\n",
            "Epoch 2/20\n",
            "98/98 [==============================] - 1s 8ms/step - loss: 49.3431\n",
            "Epoch 3/20\n",
            "98/98 [==============================] - 0s 2ms/step - loss: 14.1595\n",
            "Epoch 4/20\n",
            "98/98 [==============================] - 0s 3ms/step - loss: 7.4846\n",
            "Epoch 5/20\n",
            "98/98 [==============================] - 0s 3ms/step - loss: 7.1992\n",
            "Epoch 6/20\n",
            "98/98 [==============================] - 0s 3ms/step - loss: 7.1388\n",
            "Epoch 7/20\n",
            "98/98 [==============================] - 0s 2ms/step - loss: 7.0801\n",
            "Epoch 8/20\n",
            "98/98 [==============================] - 0s 2ms/step - loss: 7.0176\n",
            "Epoch 9/20\n",
            "98/98 [==============================] - 0s 2ms/step - loss: 6.9626\n",
            "Epoch 10/20\n",
            "98/98 [==============================] - 0s 3ms/step - loss: 6.9057\n",
            "Epoch 11/20\n",
            "98/98 [==============================] - 0s 2ms/step - loss: 6.8542\n",
            "Epoch 12/20\n",
            "98/98 [==============================] - 0s 2ms/step - loss: 6.7948\n",
            "Epoch 13/20\n",
            "98/98 [==============================] - 0s 2ms/step - loss: 6.7456\n",
            "Epoch 14/20\n",
            "98/98 [==============================] - 0s 2ms/step - loss: 6.6880\n",
            "Epoch 15/20\n",
            "98/98 [==============================] - 0s 2ms/step - loss: 6.6338\n",
            "Epoch 16/20\n",
            "98/98 [==============================] - 0s 2ms/step - loss: 6.5920\n",
            "Epoch 17/20\n",
            "98/98 [==============================] - 0s 3ms/step - loss: 6.5341\n",
            "Epoch 18/20\n",
            "98/98 [==============================] - 0s 2ms/step - loss: 6.4910\n",
            "Epoch 19/20\n",
            "98/98 [==============================] - 0s 3ms/step - loss: 6.4420\n",
            "Epoch 20/20\n",
            "98/98 [==============================] - 0s 2ms/step - loss: 6.3930\n"
          ]
        }
      ]
    },
    {
      "cell_type": "code",
      "source": [
        "# test model \n",
        "y_test_predicted = nn_model.predict(X_nn_test_scaled)"
      ],
      "metadata": {
        "colab": {
          "base_uri": "https://localhost:8080/"
        },
        "id": "p6219iFyQxy8",
        "outputId": "1000d693-99b1-4cfb-8f62-3588bee28b46"
      },
      "execution_count": null,
      "outputs": [
        {
          "output_type": "stream",
          "name": "stdout",
          "text": [
            "33/33 [==============================] - 0s 2ms/step\n"
          ]
        }
      ]
    },
    {
      "cell_type": "code",
      "source": [
        "# Calculate coefficient of determination\n",
        "r2_score(y_nn_test, y_test_predicted)"
      ],
      "metadata": {
        "colab": {
          "base_uri": "https://localhost:8080/"
        },
        "id": "SasoF9PCQyHC",
        "outputId": "e0e0fbe4-f267-4408-d09f-5343ee2e0a06"
      },
      "execution_count": null,
      "outputs": [
        {
          "output_type": "execute_result",
          "data": {
            "text/plain": [
              "0.41218778875249795"
            ]
          },
          "metadata": {},
          "execution_count": 419
        }
      ]
    },
    {
      "cell_type": "markdown",
      "source": [
        "#### NN2\n",
        "\n",
        "Added a hidden layer"
      ],
      "metadata": {
        "id": "iAqNkXRdQuba"
      }
    },
    {
      "cell_type": "code",
      "source": [
        "# Build second neural network model. Another hidden layer, same amount of units and epochs as NN NO.1\n",
        "nn_model2 = tf.keras.models.Sequential()\n",
        "nn_model2.add(tf.keras.layers.Dense(units= 30, activation = 'relu', input_dim = 10))\n",
        "nn_model2.add(tf.keras.layers.Dense(units = 30, activation = 'relu'))\n",
        "nn_model2.add(tf.keras.layers.Dense(units = 1 , activation = 'linear'))\n",
        "\n",
        "nn_model2.compile(loss = 'mean_squared_error', optimizer = 'adam')\n",
        "\n",
        "fit_model2 = nn_model2.fit(X_nn_train_scaled, y_nn_train, epochs=50)\n",
        "\n",
        "#model_loss, model_accuracy = nn_model.evaluate(X_nn_train_scaled, y_nn_train, verbose=2)\n",
        "#print(f\"Loss: {model_loss}, Accuracy: {model_accuracy}\")"
      ],
      "metadata": {
        "id": "VAFKYgHI-siQ",
        "colab": {
          "base_uri": "https://localhost:8080/"
        },
        "outputId": "dcdcd444-66ff-4103-bd83-a7adad2f7128"
      },
      "execution_count": null,
      "outputs": [
        {
          "output_type": "stream",
          "name": "stdout",
          "text": [
            "Epoch 1/50\n",
            "98/98 [==============================] - 2s 4ms/step - loss: 54.3725\n",
            "Epoch 2/50\n",
            "98/98 [==============================] - 0s 3ms/step - loss: 6.9679\n",
            "Epoch 3/50\n",
            "98/98 [==============================] - 0s 3ms/step - loss: 6.7349\n",
            "Epoch 4/50\n",
            "98/98 [==============================] - 0s 3ms/step - loss: 6.6139\n",
            "Epoch 5/50\n",
            "98/98 [==============================] - 0s 3ms/step - loss: 6.4837\n",
            "Epoch 6/50\n",
            "98/98 [==============================] - 0s 3ms/step - loss: 6.3730\n",
            "Epoch 7/50\n",
            "98/98 [==============================] - 0s 2ms/step - loss: 6.2733\n",
            "Epoch 8/50\n",
            "98/98 [==============================] - 0s 2ms/step - loss: 6.1559\n",
            "Epoch 9/50\n",
            "98/98 [==============================] - 0s 2ms/step - loss: 6.1067\n",
            "Epoch 10/50\n",
            "98/98 [==============================] - 0s 3ms/step - loss: 5.9744\n",
            "Epoch 11/50\n",
            "98/98 [==============================] - 0s 3ms/step - loss: 5.8807\n",
            "Epoch 12/50\n",
            "98/98 [==============================] - 0s 3ms/step - loss: 5.7489\n",
            "Epoch 13/50\n",
            "98/98 [==============================] - 0s 3ms/step - loss: 5.6546\n",
            "Epoch 14/50\n",
            "98/98 [==============================] - 0s 2ms/step - loss: 5.5339\n",
            "Epoch 15/50\n",
            "98/98 [==============================] - 0s 2ms/step - loss: 5.4584\n",
            "Epoch 16/50\n",
            "98/98 [==============================] - 0s 3ms/step - loss: 5.3602\n",
            "Epoch 17/50\n",
            "98/98 [==============================] - 0s 2ms/step - loss: 5.2766\n",
            "Epoch 18/50\n",
            "98/98 [==============================] - 0s 3ms/step - loss: 5.1887\n",
            "Epoch 19/50\n",
            "98/98 [==============================] - 0s 3ms/step - loss: 5.1121\n",
            "Epoch 20/50\n",
            "98/98 [==============================] - 0s 3ms/step - loss: 5.0590\n",
            "Epoch 21/50\n",
            "98/98 [==============================] - 0s 3ms/step - loss: 5.0463\n",
            "Epoch 22/50\n",
            "98/98 [==============================] - 0s 2ms/step - loss: 4.9873\n",
            "Epoch 23/50\n",
            "98/98 [==============================] - 0s 3ms/step - loss: 4.9225\n",
            "Epoch 24/50\n",
            "98/98 [==============================] - 0s 2ms/step - loss: 4.9594\n",
            "Epoch 25/50\n",
            "98/98 [==============================] - 0s 2ms/step - loss: 4.8597\n",
            "Epoch 26/50\n",
            "98/98 [==============================] - 0s 2ms/step - loss: 4.8217\n",
            "Epoch 27/50\n",
            "98/98 [==============================] - 0s 2ms/step - loss: 4.8356\n",
            "Epoch 28/50\n",
            "98/98 [==============================] - 0s 2ms/step - loss: 4.7718\n",
            "Epoch 29/50\n",
            "98/98 [==============================] - 0s 2ms/step - loss: 4.7997\n",
            "Epoch 30/50\n",
            "98/98 [==============================] - 0s 2ms/step - loss: 4.7554\n",
            "Epoch 31/50\n",
            "98/98 [==============================] - 0s 2ms/step - loss: 4.7646\n",
            "Epoch 32/50\n",
            "98/98 [==============================] - 0s 2ms/step - loss: 4.7287\n",
            "Epoch 33/50\n",
            "98/98 [==============================] - 0s 2ms/step - loss: 4.7423\n",
            "Epoch 34/50\n",
            "98/98 [==============================] - 0s 3ms/step - loss: 4.7495\n",
            "Epoch 35/50\n",
            "98/98 [==============================] - 0s 3ms/step - loss: 4.7053\n",
            "Epoch 36/50\n",
            "98/98 [==============================] - 0s 3ms/step - loss: 4.7185\n",
            "Epoch 37/50\n",
            "98/98 [==============================] - 0s 3ms/step - loss: 4.7124\n",
            "Epoch 38/50\n",
            "98/98 [==============================] - 0s 3ms/step - loss: 4.7036\n",
            "Epoch 39/50\n",
            "98/98 [==============================] - 0s 3ms/step - loss: 4.6998\n",
            "Epoch 40/50\n",
            "98/98 [==============================] - 0s 3ms/step - loss: 4.7130\n",
            "Epoch 41/50\n",
            "98/98 [==============================] - 0s 4ms/step - loss: 4.7045\n",
            "Epoch 42/50\n",
            "98/98 [==============================] - 0s 3ms/step - loss: 4.6812\n",
            "Epoch 43/50\n",
            "98/98 [==============================] - 0s 3ms/step - loss: 4.6521\n",
            "Epoch 44/50\n",
            "98/98 [==============================] - 0s 3ms/step - loss: 4.6636\n",
            "Epoch 45/50\n",
            "98/98 [==============================] - 0s 3ms/step - loss: 4.6513\n",
            "Epoch 46/50\n",
            "98/98 [==============================] - 0s 3ms/step - loss: 4.6724\n",
            "Epoch 47/50\n",
            "98/98 [==============================] - 0s 3ms/step - loss: 4.6439\n",
            "Epoch 48/50\n",
            "98/98 [==============================] - 0s 2ms/step - loss: 4.6768\n",
            "Epoch 49/50\n",
            "98/98 [==============================] - 0s 2ms/step - loss: 4.6441\n",
            "Epoch 50/50\n",
            "98/98 [==============================] - 0s 2ms/step - loss: 4.6383\n"
          ]
        }
      ]
    },
    {
      "cell_type": "code",
      "source": [
        "# test model\n",
        "y_test_predicted2 = nn_model2.predict(X_nn_test_scaled)"
      ],
      "metadata": {
        "colab": {
          "base_uri": "https://localhost:8080/"
        },
        "id": "-5D33Dg6NSV2",
        "outputId": "a72bbb68-684f-465f-e086-b2c512a3974d"
      },
      "execution_count": null,
      "outputs": [
        {
          "output_type": "stream",
          "name": "stdout",
          "text": [
            "33/33 [==============================] - 0s 2ms/step\n"
          ]
        }
      ]
    },
    {
      "cell_type": "code",
      "source": [
        "# Calculate coefficient of determination\n",
        "r2_score(y_nn_test, y_test_predicted2)"
      ],
      "metadata": {
        "id": "O76jTs3G_MPa",
        "colab": {
          "base_uri": "https://localhost:8080/"
        },
        "outputId": "a567dea4-2596-47f7-9bcc-11114de782b7"
      },
      "execution_count": null,
      "outputs": [
        {
          "output_type": "execute_result",
          "data": {
            "text/plain": [
              "0.5772931671854573"
            ]
          },
          "metadata": {},
          "execution_count": 354
        }
      ]
    },
    {
      "cell_type": "markdown",
      "source": [
        "#### NN3\n",
        "\n",
        "Drop the sex columns"
      ],
      "metadata": {
        "id": "9h8WeYPDRttd"
      }
    },
    {
      "cell_type": "code",
      "source": [
        "# dropping sex columns to see if there is any change\n",
        "df_no_sex = df.drop(columns = [\"Sex_F\", \"Sex_I\", \"Sex_M\"])\n",
        "df_no_sex"
      ],
      "metadata": {
        "id": "dr3yaaPERa9m",
        "colab": {
          "base_uri": "https://localhost:8080/"
        },
        "outputId": "d84dbe12-84d3-488e-feec-ba6f04dcd198"
      },
      "execution_count": null,
      "outputs": [
        {
          "output_type": "execute_result",
          "data": {
            "text/plain": [
              "      Length  Diameter  Height  Whole_weight  Shucked_weight  Viscera_weight  \\\n",
              "0      0.455     0.365   0.095        0.5140          0.2245          0.1010   \n",
              "1      0.350     0.265   0.090        0.2255          0.0995          0.0485   \n",
              "2      0.530     0.420   0.135        0.6770          0.2565          0.1415   \n",
              "3      0.440     0.365   0.125        0.5160          0.2155          0.1140   \n",
              "4      0.330     0.255   0.080        0.2050          0.0895          0.0395   \n",
              "...      ...       ...     ...           ...             ...             ...   \n",
              "4172   0.565     0.450   0.165        0.8870          0.3700          0.2390   \n",
              "4173   0.590     0.440   0.135        0.9660          0.4390          0.2145   \n",
              "4174   0.600     0.475   0.205        1.1760          0.5255          0.2875   \n",
              "4175   0.625     0.485   0.150        1.0945          0.5310          0.2610   \n",
              "4176   0.710     0.555   0.195        1.9485          0.9455          0.3765   \n",
              "\n",
              "      Shell_weight  Rings  \n",
              "0           0.1500     15  \n",
              "1           0.0700      7  \n",
              "2           0.2100      9  \n",
              "3           0.1550     10  \n",
              "4           0.0550      7  \n",
              "...            ...    ...  \n",
              "4172        0.2490     11  \n",
              "4173        0.2605     10  \n",
              "4174        0.3080      9  \n",
              "4175        0.2960     10  \n",
              "4176        0.4950     12  \n",
              "\n",
              "[4177 rows x 8 columns]"
            ],
            "text/html": [
              "\n",
              "  <div id=\"df-fdb11b9d-246c-488e-8a34-88f2378d1c22\">\n",
              "    <div class=\"colab-df-container\">\n",
              "      <div>\n",
              "<style scoped>\n",
              "    .dataframe tbody tr th:only-of-type {\n",
              "        vertical-align: middle;\n",
              "    }\n",
              "\n",
              "    .dataframe tbody tr th {\n",
              "        vertical-align: top;\n",
              "    }\n",
              "\n",
              "    .dataframe thead th {\n",
              "        text-align: right;\n",
              "    }\n",
              "</style>\n",
              "<table border=\"1\" class=\"dataframe\">\n",
              "  <thead>\n",
              "    <tr style=\"text-align: right;\">\n",
              "      <th></th>\n",
              "      <th>Length</th>\n",
              "      <th>Diameter</th>\n",
              "      <th>Height</th>\n",
              "      <th>Whole_weight</th>\n",
              "      <th>Shucked_weight</th>\n",
              "      <th>Viscera_weight</th>\n",
              "      <th>Shell_weight</th>\n",
              "      <th>Rings</th>\n",
              "    </tr>\n",
              "  </thead>\n",
              "  <tbody>\n",
              "    <tr>\n",
              "      <th>0</th>\n",
              "      <td>0.455</td>\n",
              "      <td>0.365</td>\n",
              "      <td>0.095</td>\n",
              "      <td>0.5140</td>\n",
              "      <td>0.2245</td>\n",
              "      <td>0.1010</td>\n",
              "      <td>0.1500</td>\n",
              "      <td>15</td>\n",
              "    </tr>\n",
              "    <tr>\n",
              "      <th>1</th>\n",
              "      <td>0.350</td>\n",
              "      <td>0.265</td>\n",
              "      <td>0.090</td>\n",
              "      <td>0.2255</td>\n",
              "      <td>0.0995</td>\n",
              "      <td>0.0485</td>\n",
              "      <td>0.0700</td>\n",
              "      <td>7</td>\n",
              "    </tr>\n",
              "    <tr>\n",
              "      <th>2</th>\n",
              "      <td>0.530</td>\n",
              "      <td>0.420</td>\n",
              "      <td>0.135</td>\n",
              "      <td>0.6770</td>\n",
              "      <td>0.2565</td>\n",
              "      <td>0.1415</td>\n",
              "      <td>0.2100</td>\n",
              "      <td>9</td>\n",
              "    </tr>\n",
              "    <tr>\n",
              "      <th>3</th>\n",
              "      <td>0.440</td>\n",
              "      <td>0.365</td>\n",
              "      <td>0.125</td>\n",
              "      <td>0.5160</td>\n",
              "      <td>0.2155</td>\n",
              "      <td>0.1140</td>\n",
              "      <td>0.1550</td>\n",
              "      <td>10</td>\n",
              "    </tr>\n",
              "    <tr>\n",
              "      <th>4</th>\n",
              "      <td>0.330</td>\n",
              "      <td>0.255</td>\n",
              "      <td>0.080</td>\n",
              "      <td>0.2050</td>\n",
              "      <td>0.0895</td>\n",
              "      <td>0.0395</td>\n",
              "      <td>0.0550</td>\n",
              "      <td>7</td>\n",
              "    </tr>\n",
              "    <tr>\n",
              "      <th>...</th>\n",
              "      <td>...</td>\n",
              "      <td>...</td>\n",
              "      <td>...</td>\n",
              "      <td>...</td>\n",
              "      <td>...</td>\n",
              "      <td>...</td>\n",
              "      <td>...</td>\n",
              "      <td>...</td>\n",
              "    </tr>\n",
              "    <tr>\n",
              "      <th>4172</th>\n",
              "      <td>0.565</td>\n",
              "      <td>0.450</td>\n",
              "      <td>0.165</td>\n",
              "      <td>0.8870</td>\n",
              "      <td>0.3700</td>\n",
              "      <td>0.2390</td>\n",
              "      <td>0.2490</td>\n",
              "      <td>11</td>\n",
              "    </tr>\n",
              "    <tr>\n",
              "      <th>4173</th>\n",
              "      <td>0.590</td>\n",
              "      <td>0.440</td>\n",
              "      <td>0.135</td>\n",
              "      <td>0.9660</td>\n",
              "      <td>0.4390</td>\n",
              "      <td>0.2145</td>\n",
              "      <td>0.2605</td>\n",
              "      <td>10</td>\n",
              "    </tr>\n",
              "    <tr>\n",
              "      <th>4174</th>\n",
              "      <td>0.600</td>\n",
              "      <td>0.475</td>\n",
              "      <td>0.205</td>\n",
              "      <td>1.1760</td>\n",
              "      <td>0.5255</td>\n",
              "      <td>0.2875</td>\n",
              "      <td>0.3080</td>\n",
              "      <td>9</td>\n",
              "    </tr>\n",
              "    <tr>\n",
              "      <th>4175</th>\n",
              "      <td>0.625</td>\n",
              "      <td>0.485</td>\n",
              "      <td>0.150</td>\n",
              "      <td>1.0945</td>\n",
              "      <td>0.5310</td>\n",
              "      <td>0.2610</td>\n",
              "      <td>0.2960</td>\n",
              "      <td>10</td>\n",
              "    </tr>\n",
              "    <tr>\n",
              "      <th>4176</th>\n",
              "      <td>0.710</td>\n",
              "      <td>0.555</td>\n",
              "      <td>0.195</td>\n",
              "      <td>1.9485</td>\n",
              "      <td>0.9455</td>\n",
              "      <td>0.3765</td>\n",
              "      <td>0.4950</td>\n",
              "      <td>12</td>\n",
              "    </tr>\n",
              "  </tbody>\n",
              "</table>\n",
              "<p>4177 rows × 8 columns</p>\n",
              "</div>\n",
              "      <button class=\"colab-df-convert\" onclick=\"convertToInteractive('df-fdb11b9d-246c-488e-8a34-88f2378d1c22')\"\n",
              "              title=\"Convert this dataframe to an interactive table.\"\n",
              "              style=\"display:none;\">\n",
              "        \n",
              "  <svg xmlns=\"http://www.w3.org/2000/svg\" height=\"24px\"viewBox=\"0 0 24 24\"\n",
              "       width=\"24px\">\n",
              "    <path d=\"M0 0h24v24H0V0z\" fill=\"none\"/>\n",
              "    <path d=\"M18.56 5.44l.94 2.06.94-2.06 2.06-.94-2.06-.94-.94-2.06-.94 2.06-2.06.94zm-11 1L8.5 8.5l.94-2.06 2.06-.94-2.06-.94L8.5 2.5l-.94 2.06-2.06.94zm10 10l.94 2.06.94-2.06 2.06-.94-2.06-.94-.94-2.06-.94 2.06-2.06.94z\"/><path d=\"M17.41 7.96l-1.37-1.37c-.4-.4-.92-.59-1.43-.59-.52 0-1.04.2-1.43.59L10.3 9.45l-7.72 7.72c-.78.78-.78 2.05 0 2.83L4 21.41c.39.39.9.59 1.41.59.51 0 1.02-.2 1.41-.59l7.78-7.78 2.81-2.81c.8-.78.8-2.07 0-2.86zM5.41 20L4 18.59l7.72-7.72 1.47 1.35L5.41 20z\"/>\n",
              "  </svg>\n",
              "      </button>\n",
              "      \n",
              "  <style>\n",
              "    .colab-df-container {\n",
              "      display:flex;\n",
              "      flex-wrap:wrap;\n",
              "      gap: 12px;\n",
              "    }\n",
              "\n",
              "    .colab-df-convert {\n",
              "      background-color: #E8F0FE;\n",
              "      border: none;\n",
              "      border-radius: 50%;\n",
              "      cursor: pointer;\n",
              "      display: none;\n",
              "      fill: #1967D2;\n",
              "      height: 32px;\n",
              "      padding: 0 0 0 0;\n",
              "      width: 32px;\n",
              "    }\n",
              "\n",
              "    .colab-df-convert:hover {\n",
              "      background-color: #E2EBFA;\n",
              "      box-shadow: 0px 1px 2px rgba(60, 64, 67, 0.3), 0px 1px 3px 1px rgba(60, 64, 67, 0.15);\n",
              "      fill: #174EA6;\n",
              "    }\n",
              "\n",
              "    [theme=dark] .colab-df-convert {\n",
              "      background-color: #3B4455;\n",
              "      fill: #D2E3FC;\n",
              "    }\n",
              "\n",
              "    [theme=dark] .colab-df-convert:hover {\n",
              "      background-color: #434B5C;\n",
              "      box-shadow: 0px 1px 3px 1px rgba(0, 0, 0, 0.15);\n",
              "      filter: drop-shadow(0px 1px 2px rgba(0, 0, 0, 0.3));\n",
              "      fill: #FFFFFF;\n",
              "    }\n",
              "  </style>\n",
              "\n",
              "      <script>\n",
              "        const buttonEl =\n",
              "          document.querySelector('#df-fdb11b9d-246c-488e-8a34-88f2378d1c22 button.colab-df-convert');\n",
              "        buttonEl.style.display =\n",
              "          google.colab.kernel.accessAllowed ? 'block' : 'none';\n",
              "\n",
              "        async function convertToInteractive(key) {\n",
              "          const element = document.querySelector('#df-fdb11b9d-246c-488e-8a34-88f2378d1c22');\n",
              "          const dataTable =\n",
              "            await google.colab.kernel.invokeFunction('convertToInteractive',\n",
              "                                                     [key], {});\n",
              "          if (!dataTable) return;\n",
              "\n",
              "          const docLinkHtml = 'Like what you see? Visit the ' +\n",
              "            '<a target=\"_blank\" href=https://colab.research.google.com/notebooks/data_table.ipynb>data table notebook</a>'\n",
              "            + ' to learn more about interactive tables.';\n",
              "          element.innerHTML = '';\n",
              "          dataTable['output_type'] = 'display_data';\n",
              "          await google.colab.output.renderOutput(dataTable, element);\n",
              "          const docLink = document.createElement('div');\n",
              "          docLink.innerHTML = docLinkHtml;\n",
              "          element.appendChild(docLink);\n",
              "        }\n",
              "      </script>\n",
              "    </div>\n",
              "  </div>\n",
              "  "
            ]
          },
          "metadata": {},
          "execution_count": 355
        }
      ]
    },
    {
      "cell_type": "code",
      "source": [
        "# split data into training and testing sets\n",
        "X_no_sex = df_no_sex.drop(columns = \"Rings\")\n",
        "y_no_sex = df_no_sex[\"Rings\"]"
      ],
      "metadata": {
        "id": "70JVQUv_UBOs"
      },
      "execution_count": null,
      "outputs": []
    },
    {
      "cell_type": "code",
      "source": [
        "# split data into training and testing sets\n",
        "X_nn3_train, X_nn3_test, y_nn3_train, y_nn3_test = train_test_split(X_no_sex, y_no_sex, random_state = 3)"
      ],
      "metadata": {
        "id": "b3f5FyKpUBML"
      },
      "execution_count": null,
      "outputs": []
    },
    {
      "cell_type": "code",
      "source": [
        "# scale data with MinMax Scaler\n",
        "no_sex_scaler = MinMaxScaler()"
      ],
      "metadata": {
        "id": "9fNreI7VUBJu"
      },
      "execution_count": null,
      "outputs": []
    },
    {
      "cell_type": "code",
      "source": [
        "# fit data to scaler\n",
        "no_sex_scaler.fit(X_nn3_train)"
      ],
      "metadata": {
        "id": "sIocaZPyU-9d",
        "colab": {
          "base_uri": "https://localhost:8080/"
        },
        "outputId": "8992d91b-1ac9-4172-c6ef-ddbd16fac73c"
      },
      "execution_count": null,
      "outputs": [
        {
          "output_type": "execute_result",
          "data": {
            "text/plain": [
              "MinMaxScaler()"
            ]
          },
          "metadata": {},
          "execution_count": 359
        }
      ]
    },
    {
      "cell_type": "code",
      "source": [
        "# scale data\n",
        "X_nn3_train_scaled = no_sex_scaler.transform(X_nn3_train)\n",
        "X_nn3_test_scaled = no_sex_scaler.transform(X_nn3_test)"
      ],
      "metadata": {
        "id": "EDIcq3JMU_bC"
      },
      "execution_count": null,
      "outputs": []
    },
    {
      "cell_type": "code",
      "source": [
        "# make sure scaled data exists\n",
        "X_nn3_train_scaled"
      ],
      "metadata": {
        "id": "DwSEC4sYU_nV",
        "colab": {
          "base_uri": "https://localhost:8080/"
        },
        "outputId": "d3dccfe1-9b83-4017-e931-479ff153acfb"
      },
      "execution_count": null,
      "outputs": [
        {
          "output_type": "execute_result",
          "data": {
            "text/plain": [
              "array([[0.53900709, 0.55357143, 0.11946903, ..., 0.22321098, 0.16688654,\n",
              "        0.16566866],\n",
              "       [0.62411348, 0.5625    , 0.13274336, ..., 0.30367075, 0.27902375,\n",
              "        0.23652695],\n",
              "       [0.73049645, 0.70535714, 0.14159292, ..., 0.46607341, 0.29221636,\n",
              "        0.29840319],\n",
              "       ...,\n",
              "       [0.70212766, 0.74107143, 0.15929204, ..., 0.53837597, 0.34564644,\n",
              "        0.42714571],\n",
              "       [0.53900709, 0.52678571, 0.12389381, ..., 0.1449759 , 0.16490765,\n",
              "        0.17165669],\n",
              "       [0.73049645, 0.71428571, 0.1460177 , ..., 0.36114201, 0.34234828,\n",
              "        0.32884232]])"
            ]
          },
          "metadata": {},
          "execution_count": 361
        }
      ]
    },
    {
      "cell_type": "code",
      "source": [
        "# build NN Model NO.3\n",
        "nn_model3 = tf.keras.models.Sequential()\n",
        "nn_model3.add(tf.keras.layers.Dense(units= 30, activation = 'relu', input_dim = 7))\n",
        "nn_model3.add(tf.keras.layers.Dense(units = 30, activation = 'relu'))\n",
        "nn_model3.add(tf.keras.layers.Dense(units = 1 , activation = 'linear'))\n",
        "\n",
        "nn_model3.compile(loss = 'mean_squared_error', optimizer = 'adam')\n",
        "\n",
        "fit_model3 = nn_model3.fit(X_nn3_train_scaled, y_nn3_train, epochs=50)"
      ],
      "metadata": {
        "id": "cl7SQHhAVXuf",
        "colab": {
          "base_uri": "https://localhost:8080/"
        },
        "outputId": "1b8cfc4f-ef6a-412f-89fa-18da9cb1d48a"
      },
      "execution_count": null,
      "outputs": [
        {
          "output_type": "stream",
          "name": "stdout",
          "text": [
            "Epoch 1/50\n",
            "98/98 [==============================] - 1s 3ms/step - loss: 74.2518\n",
            "Epoch 2/50\n",
            "98/98 [==============================] - 0s 2ms/step - loss: 12.0283\n",
            "Epoch 3/50\n",
            "98/98 [==============================] - 0s 2ms/step - loss: 7.7504\n",
            "Epoch 4/50\n",
            "98/98 [==============================] - 0s 2ms/step - loss: 7.3737\n",
            "Epoch 5/50\n",
            "98/98 [==============================] - 0s 3ms/step - loss: 7.0921\n",
            "Epoch 6/50\n",
            "98/98 [==============================] - 0s 2ms/step - loss: 6.9207\n",
            "Epoch 7/50\n",
            "98/98 [==============================] - 0s 2ms/step - loss: 6.7701\n",
            "Epoch 8/50\n",
            "98/98 [==============================] - 0s 2ms/step - loss: 6.6488\n",
            "Epoch 9/50\n",
            "98/98 [==============================] - 0s 2ms/step - loss: 6.5356\n",
            "Epoch 10/50\n",
            "98/98 [==============================] - 0s 2ms/step - loss: 6.4446\n",
            "Epoch 11/50\n",
            "98/98 [==============================] - 0s 3ms/step - loss: 6.3347\n",
            "Epoch 12/50\n",
            "98/98 [==============================] - 0s 3ms/step - loss: 6.2656\n",
            "Epoch 13/50\n",
            "98/98 [==============================] - 0s 3ms/step - loss: 6.1604\n",
            "Epoch 14/50\n",
            "98/98 [==============================] - 0s 4ms/step - loss: 6.0637\n",
            "Epoch 15/50\n",
            "98/98 [==============================] - 0s 2ms/step - loss: 5.9673\n",
            "Epoch 16/50\n",
            "98/98 [==============================] - 0s 2ms/step - loss: 5.8211\n",
            "Epoch 17/50\n",
            "98/98 [==============================] - 0s 2ms/step - loss: 5.7005\n",
            "Epoch 18/50\n",
            "98/98 [==============================] - 0s 3ms/step - loss: 5.5554\n",
            "Epoch 19/50\n",
            "98/98 [==============================] - 0s 3ms/step - loss: 5.4306\n",
            "Epoch 20/50\n",
            "98/98 [==============================] - 0s 4ms/step - loss: 5.3554\n",
            "Epoch 21/50\n",
            "98/98 [==============================] - 0s 3ms/step - loss: 5.3788\n",
            "Epoch 22/50\n",
            "98/98 [==============================] - 0s 3ms/step - loss: 5.2185\n",
            "Epoch 23/50\n",
            "98/98 [==============================] - 0s 3ms/step - loss: 5.1547\n",
            "Epoch 24/50\n",
            "98/98 [==============================] - 0s 3ms/step - loss: 5.1029\n",
            "Epoch 25/50\n",
            "98/98 [==============================] - 0s 3ms/step - loss: 5.1129\n",
            "Epoch 26/50\n",
            "98/98 [==============================] - 0s 4ms/step - loss: 5.1017\n",
            "Epoch 27/50\n",
            "98/98 [==============================] - 0s 3ms/step - loss: 5.0372\n",
            "Epoch 28/50\n",
            "98/98 [==============================] - 0s 4ms/step - loss: 5.0274\n",
            "Epoch 29/50\n",
            "98/98 [==============================] - 0s 3ms/step - loss: 4.9779\n",
            "Epoch 30/50\n",
            "98/98 [==============================] - 0s 3ms/step - loss: 4.9955\n",
            "Epoch 31/50\n",
            "98/98 [==============================] - 0s 3ms/step - loss: 4.9876\n",
            "Epoch 32/50\n",
            "98/98 [==============================] - 0s 2ms/step - loss: 4.9467\n",
            "Epoch 33/50\n",
            "98/98 [==============================] - 0s 2ms/step - loss: 4.9471\n",
            "Epoch 34/50\n",
            "98/98 [==============================] - 0s 2ms/step - loss: 4.9344\n",
            "Epoch 35/50\n",
            "98/98 [==============================] - 0s 2ms/step - loss: 4.9258\n",
            "Epoch 36/50\n",
            "98/98 [==============================] - 0s 2ms/step - loss: 4.9547\n",
            "Epoch 37/50\n",
            "98/98 [==============================] - 0s 2ms/step - loss: 4.8728\n",
            "Epoch 38/50\n",
            "98/98 [==============================] - 0s 2ms/step - loss: 4.8979\n",
            "Epoch 39/50\n",
            "98/98 [==============================] - 0s 2ms/step - loss: 4.8773\n",
            "Epoch 40/50\n",
            "98/98 [==============================] - 0s 3ms/step - loss: 4.8593\n",
            "Epoch 41/50\n",
            "98/98 [==============================] - 0s 3ms/step - loss: 4.8415\n",
            "Epoch 42/50\n",
            "98/98 [==============================] - 0s 2ms/step - loss: 4.8646\n",
            "Epoch 43/50\n",
            "98/98 [==============================] - 0s 2ms/step - loss: 4.8329\n",
            "Epoch 44/50\n",
            "98/98 [==============================] - 0s 3ms/step - loss: 4.8196\n",
            "Epoch 45/50\n",
            "98/98 [==============================] - 0s 3ms/step - loss: 4.8147\n",
            "Epoch 46/50\n",
            "98/98 [==============================] - 0s 3ms/step - loss: 4.7965\n",
            "Epoch 47/50\n",
            "98/98 [==============================] - 0s 2ms/step - loss: 4.8034\n",
            "Epoch 48/50\n",
            "98/98 [==============================] - 0s 2ms/step - loss: 4.8337\n",
            "Epoch 49/50\n",
            "98/98 [==============================] - 0s 2ms/step - loss: 4.7843\n",
            "Epoch 50/50\n",
            "98/98 [==============================] - 0s 2ms/step - loss: 4.7738\n"
          ]
        }
      ]
    },
    {
      "cell_type": "code",
      "source": [
        "# test NN Model No.3\n",
        "y_test_predicted3 = nn_model3.predict(X_nn3_test_scaled)\n"
      ],
      "metadata": {
        "id": "wSBXC72wWVaf",
        "colab": {
          "base_uri": "https://localhost:8080/"
        },
        "outputId": "591f171d-6d48-4028-cbaa-c88867de680f"
      },
      "execution_count": null,
      "outputs": [
        {
          "output_type": "stream",
          "name": "stdout",
          "text": [
            "33/33 [==============================] - 0s 2ms/step\n"
          ]
        }
      ]
    },
    {
      "cell_type": "code",
      "source": [
        "# Calculate coefficient of determination\n",
        "r2_score(y_nn3_test, y_test_predicted3)"
      ],
      "metadata": {
        "id": "IjxB6wUpWWdu",
        "colab": {
          "base_uri": "https://localhost:8080/"
        },
        "outputId": "e747cad9-3282-4f01-8de6-ed56b6d920a8"
      },
      "execution_count": null,
      "outputs": [
        {
          "output_type": "execute_result",
          "data": {
            "text/plain": [
              "0.521016321263474"
            ]
          },
          "metadata": {},
          "execution_count": 364
        }
      ]
    },
    {
      "cell_type": "markdown",
      "source": [
        "#### NN4\n",
        "\n",
        "More epochs?"
      ],
      "metadata": {
        "id": "fJN1qCkBTZPS"
      }
    },
    {
      "cell_type": "code",
      "source": [
        "# Build NN Model No.4 - 100 epochs instead of 50\n",
        "nn_model4 = tf.keras.models.Sequential()\n",
        "nn_model4.add(tf.keras.layers.Dense(units= 30, activation = 'relu', input_dim = 10))\n",
        "nn_model4.add(tf.keras.layers.Dense(units = 30, activation = 'relu'))\n",
        "nn_model4.add(tf.keras.layers.Dense(units = 1 , activation = 'linear'))\n",
        "\n",
        "nn_model4.compile(loss = 'mean_squared_error', optimizer = 'adam')\n",
        "\n",
        "fit_model4 = nn_model4.fit(X_nn_train_scaled, y_nn_train, epochs=100)"
      ],
      "metadata": {
        "id": "-zPxKdTzTbnW",
        "colab": {
          "base_uri": "https://localhost:8080/"
        },
        "outputId": "358ef9fa-3c3e-499f-e44c-ee76a0897650"
      },
      "execution_count": null,
      "outputs": [
        {
          "output_type": "stream",
          "name": "stdout",
          "text": [
            "Epoch 1/100\n",
            "98/98 [==============================] - 1s 3ms/step - loss: 62.1356\n",
            "Epoch 2/100\n",
            "98/98 [==============================] - 0s 3ms/step - loss: 7.0839\n",
            "Epoch 3/100\n",
            "98/98 [==============================] - 0s 3ms/step - loss: 6.8783\n",
            "Epoch 4/100\n",
            "98/98 [==============================] - 0s 2ms/step - loss: 6.7272\n",
            "Epoch 5/100\n",
            "98/98 [==============================] - 0s 3ms/step - loss: 6.5960\n",
            "Epoch 6/100\n",
            "98/98 [==============================] - 0s 4ms/step - loss: 6.4761\n",
            "Epoch 7/100\n",
            "98/98 [==============================] - 0s 3ms/step - loss: 6.3888\n",
            "Epoch 8/100\n",
            "98/98 [==============================] - 0s 3ms/step - loss: 6.2796\n",
            "Epoch 9/100\n",
            "98/98 [==============================] - 0s 3ms/step - loss: 6.1725\n",
            "Epoch 10/100\n",
            "98/98 [==============================] - 0s 3ms/step - loss: 6.0836\n",
            "Epoch 11/100\n",
            "98/98 [==============================] - 0s 2ms/step - loss: 5.9951\n",
            "Epoch 12/100\n",
            "98/98 [==============================] - 0s 3ms/step - loss: 5.8802\n",
            "Epoch 13/100\n",
            "98/98 [==============================] - 0s 3ms/step - loss: 5.7847\n",
            "Epoch 14/100\n",
            "98/98 [==============================] - 0s 3ms/step - loss: 5.6895\n",
            "Epoch 15/100\n",
            "98/98 [==============================] - 0s 2ms/step - loss: 5.5931\n",
            "Epoch 16/100\n",
            "98/98 [==============================] - 0s 5ms/step - loss: 5.4522\n",
            "Epoch 17/100\n",
            "98/98 [==============================] - 0s 4ms/step - loss: 5.3510\n",
            "Epoch 18/100\n",
            "98/98 [==============================] - 0s 4ms/step - loss: 5.2806\n",
            "Epoch 19/100\n",
            "98/98 [==============================] - 0s 4ms/step - loss: 5.1758\n",
            "Epoch 20/100\n",
            "98/98 [==============================] - 0s 4ms/step - loss: 5.1332\n",
            "Epoch 21/100\n",
            "98/98 [==============================] - 1s 5ms/step - loss: 5.0369\n",
            "Epoch 22/100\n",
            "98/98 [==============================] - 1s 5ms/step - loss: 5.0298\n",
            "Epoch 23/100\n",
            "98/98 [==============================] - 1s 6ms/step - loss: 4.9860\n",
            "Epoch 24/100\n",
            "98/98 [==============================] - 1s 6ms/step - loss: 4.9475\n",
            "Epoch 25/100\n",
            "98/98 [==============================] - 0s 4ms/step - loss: 4.8967\n",
            "Epoch 26/100\n",
            "98/98 [==============================] - 0s 5ms/step - loss: 4.8845\n",
            "Epoch 27/100\n",
            "98/98 [==============================] - 1s 6ms/step - loss: 4.8339\n",
            "Epoch 28/100\n",
            "98/98 [==============================] - 1s 6ms/step - loss: 4.8439\n",
            "Epoch 29/100\n",
            "98/98 [==============================] - 1s 6ms/step - loss: 4.8289\n",
            "Epoch 30/100\n",
            "98/98 [==============================] - 0s 4ms/step - loss: 4.8059\n",
            "Epoch 31/100\n",
            "98/98 [==============================] - 0s 4ms/step - loss: 4.8001\n",
            "Epoch 32/100\n",
            "98/98 [==============================] - 0s 3ms/step - loss: 4.7533\n",
            "Epoch 33/100\n",
            "98/98 [==============================] - 0s 5ms/step - loss: 4.7695\n",
            "Epoch 34/100\n",
            "98/98 [==============================] - 0s 5ms/step - loss: 4.7751\n",
            "Epoch 35/100\n",
            "98/98 [==============================] - 0s 4ms/step - loss: 4.7348\n",
            "Epoch 36/100\n",
            "98/98 [==============================] - 0s 3ms/step - loss: 4.8157\n",
            "Epoch 37/100\n",
            "98/98 [==============================] - 0s 4ms/step - loss: 4.7645\n",
            "Epoch 38/100\n",
            "98/98 [==============================] - 0s 3ms/step - loss: 4.7109\n",
            "Epoch 39/100\n",
            "98/98 [==============================] - 0s 3ms/step - loss: 4.7141\n",
            "Epoch 40/100\n",
            "98/98 [==============================] - 0s 3ms/step - loss: 4.7095\n",
            "Epoch 41/100\n",
            "98/98 [==============================] - 0s 2ms/step - loss: 4.6637\n",
            "Epoch 42/100\n",
            "98/98 [==============================] - 0s 2ms/step - loss: 4.6715\n",
            "Epoch 43/100\n",
            "98/98 [==============================] - 0s 2ms/step - loss: 4.6695\n",
            "Epoch 44/100\n",
            "98/98 [==============================] - 0s 2ms/step - loss: 4.6976\n",
            "Epoch 45/100\n",
            "98/98 [==============================] - 0s 4ms/step - loss: 4.6934\n",
            "Epoch 46/100\n",
            "98/98 [==============================] - 0s 3ms/step - loss: 4.6338\n",
            "Epoch 47/100\n",
            "98/98 [==============================] - 0s 3ms/step - loss: 4.6634\n",
            "Epoch 48/100\n",
            "98/98 [==============================] - 0s 2ms/step - loss: 4.6182\n",
            "Epoch 49/100\n",
            "98/98 [==============================] - 0s 2ms/step - loss: 4.6442\n",
            "Epoch 50/100\n",
            "98/98 [==============================] - 0s 2ms/step - loss: 4.6724\n",
            "Epoch 51/100\n",
            "98/98 [==============================] - 0s 2ms/step - loss: 4.6321\n",
            "Epoch 52/100\n",
            "98/98 [==============================] - 0s 3ms/step - loss: 4.6213\n",
            "Epoch 53/100\n",
            "98/98 [==============================] - 0s 3ms/step - loss: 4.5910\n",
            "Epoch 54/100\n",
            "98/98 [==============================] - 0s 3ms/step - loss: 4.6025\n",
            "Epoch 55/100\n",
            "98/98 [==============================] - 0s 3ms/step - loss: 4.6300\n",
            "Epoch 56/100\n",
            "98/98 [==============================] - 0s 2ms/step - loss: 4.5874\n",
            "Epoch 57/100\n",
            "98/98 [==============================] - 0s 2ms/step - loss: 4.5882\n",
            "Epoch 58/100\n",
            "98/98 [==============================] - 0s 2ms/step - loss: 4.5808\n",
            "Epoch 59/100\n",
            "98/98 [==============================] - 0s 3ms/step - loss: 4.5726\n",
            "Epoch 60/100\n",
            "98/98 [==============================] - 0s 2ms/step - loss: 4.5865\n",
            "Epoch 61/100\n",
            "98/98 [==============================] - 0s 2ms/step - loss: 4.5524\n",
            "Epoch 62/100\n",
            "98/98 [==============================] - 0s 2ms/step - loss: 4.5861\n",
            "Epoch 63/100\n",
            "98/98 [==============================] - 0s 3ms/step - loss: 4.5488\n",
            "Epoch 64/100\n",
            "98/98 [==============================] - 0s 3ms/step - loss: 4.5268\n",
            "Epoch 65/100\n",
            "98/98 [==============================] - 0s 3ms/step - loss: 4.5594\n",
            "Epoch 66/100\n",
            "98/98 [==============================] - 0s 3ms/step - loss: 4.5192\n",
            "Epoch 67/100\n",
            "98/98 [==============================] - 0s 2ms/step - loss: 4.5354\n",
            "Epoch 68/100\n",
            "98/98 [==============================] - 0s 2ms/step - loss: 4.5050\n",
            "Epoch 69/100\n",
            "98/98 [==============================] - 0s 2ms/step - loss: 4.5398\n",
            "Epoch 70/100\n",
            "98/98 [==============================] - 0s 2ms/step - loss: 4.4988\n",
            "Epoch 71/100\n",
            "98/98 [==============================] - 0s 2ms/step - loss: 4.5200\n",
            "Epoch 72/100\n",
            "98/98 [==============================] - 0s 2ms/step - loss: 4.5126\n",
            "Epoch 73/100\n",
            "98/98 [==============================] - 0s 2ms/step - loss: 4.5021\n",
            "Epoch 74/100\n",
            "98/98 [==============================] - 0s 2ms/step - loss: 4.5434\n",
            "Epoch 75/100\n",
            "98/98 [==============================] - 0s 3ms/step - loss: 4.5145\n",
            "Epoch 76/100\n",
            "98/98 [==============================] - 0s 3ms/step - loss: 4.4908\n",
            "Epoch 77/100\n",
            "98/98 [==============================] - 0s 3ms/step - loss: 4.4676\n",
            "Epoch 78/100\n",
            "98/98 [==============================] - 0s 3ms/step - loss: 4.4758\n",
            "Epoch 79/100\n",
            "98/98 [==============================] - 0s 2ms/step - loss: 4.5105\n",
            "Epoch 80/100\n",
            "98/98 [==============================] - 0s 2ms/step - loss: 4.5196\n",
            "Epoch 81/100\n",
            "98/98 [==============================] - 0s 2ms/step - loss: 4.4851\n",
            "Epoch 82/100\n",
            "98/98 [==============================] - 0s 2ms/step - loss: 4.4765\n",
            "Epoch 83/100\n",
            "98/98 [==============================] - 0s 3ms/step - loss: 4.4742\n",
            "Epoch 84/100\n",
            "98/98 [==============================] - 0s 3ms/step - loss: 4.4627\n",
            "Epoch 85/100\n",
            "98/98 [==============================] - 0s 3ms/step - loss: 4.5085\n",
            "Epoch 86/100\n",
            "98/98 [==============================] - 0s 3ms/step - loss: 4.4331\n",
            "Epoch 87/100\n",
            "98/98 [==============================] - 0s 3ms/step - loss: 4.4539\n",
            "Epoch 88/100\n",
            "98/98 [==============================] - 0s 3ms/step - loss: 4.4395\n",
            "Epoch 89/100\n",
            "98/98 [==============================] - 0s 3ms/step - loss: 4.4192\n",
            "Epoch 90/100\n",
            "98/98 [==============================] - 0s 2ms/step - loss: 4.5400\n",
            "Epoch 91/100\n",
            "98/98 [==============================] - 0s 2ms/step - loss: 4.4481\n",
            "Epoch 92/100\n",
            "98/98 [==============================] - 0s 2ms/step - loss: 4.4127\n",
            "Epoch 93/100\n",
            "98/98 [==============================] - 0s 2ms/step - loss: 4.4396\n",
            "Epoch 94/100\n",
            "98/98 [==============================] - 0s 3ms/step - loss: 4.4628\n",
            "Epoch 95/100\n",
            "98/98 [==============================] - 0s 3ms/step - loss: 4.3888\n",
            "Epoch 96/100\n",
            "98/98 [==============================] - 0s 3ms/step - loss: 4.4010\n",
            "Epoch 97/100\n",
            "98/98 [==============================] - 0s 3ms/step - loss: 4.4128\n",
            "Epoch 98/100\n",
            "98/98 [==============================] - 0s 3ms/step - loss: 4.4136\n",
            "Epoch 99/100\n",
            "98/98 [==============================] - 0s 3ms/step - loss: 4.4241\n",
            "Epoch 100/100\n",
            "98/98 [==============================] - 0s 3ms/step - loss: 4.4572\n"
          ]
        }
      ]
    },
    {
      "cell_type": "code",
      "source": [
        "# test model\n",
        "y_test_predicted4 = nn_model4.predict(X_nn_test_scaled)"
      ],
      "metadata": {
        "colab": {
          "base_uri": "https://localhost:8080/"
        },
        "id": "qzVaQJbWYGkC",
        "outputId": "43ed15a5-3da4-4cb4-e098-ebd8116be49a"
      },
      "execution_count": null,
      "outputs": [
        {
          "output_type": "stream",
          "name": "stdout",
          "text": [
            "33/33 [==============================] - 0s 2ms/step\n"
          ]
        }
      ]
    },
    {
      "cell_type": "code",
      "source": [
        "# Calculate coefficient of determination\n",
        "r2_score(y_nn_test, y_test_predicted4)"
      ],
      "metadata": {
        "colab": {
          "base_uri": "https://localhost:8080/"
        },
        "id": "RHt641tcYZCL",
        "outputId": "13e414b2-f318-43b7-905c-b0e5c617b970"
      },
      "execution_count": null,
      "outputs": [
        {
          "output_type": "execute_result",
          "data": {
            "text/plain": [
              "0.5584318539019635"
            ]
          },
          "metadata": {},
          "execution_count": 367
        }
      ]
    },
    {
      "cell_type": "markdown",
      "source": [
        "#### NN5\n",
        "Added another hidden layer"
      ],
      "metadata": {
        "id": "S4kDyt8mZCL0"
      }
    },
    {
      "cell_type": "code",
      "source": [
        "# Build NN Model No.5 - one more hidden layer, back to 50 epochs.\n",
        "nn_model5 = tf.keras.models.Sequential()\n",
        "nn_model5.add(tf.keras.layers.Dense(units= 30, activation = 'relu', input_dim = 10))\n",
        "nn_model5.add(tf.keras.layers.Dense(units = 30, activation = 'relu'))\n",
        "nn_model5.add(tf.keras.layers.Dense(units = 30, activation = 'relu'))\n",
        "nn_model5.add(tf.keras.layers.Dense(units = 1 , activation = 'linear'))\n",
        "\n",
        "nn_model5.compile(loss = 'mean_squared_error', optimizer = 'adam')\n",
        "\n",
        "fit_model5 = nn_model5.fit(X_nn_train_scaled, y_nn_train, epochs=50)"
      ],
      "metadata": {
        "colab": {
          "base_uri": "https://localhost:8080/"
        },
        "id": "g5dL1zhZaGZn",
        "outputId": "23d82ad0-3d82-4fac-e542-5cc2ae570021"
      },
      "execution_count": null,
      "outputs": [
        {
          "output_type": "stream",
          "name": "stdout",
          "text": [
            "Epoch 1/50\n",
            "98/98 [==============================] - 1s 4ms/step - loss: 63.2492\n",
            "Epoch 2/50\n",
            "98/98 [==============================] - 0s 4ms/step - loss: 7.1966\n",
            "Epoch 3/50\n",
            "98/98 [==============================] - 0s 4ms/step - loss: 6.7142\n",
            "Epoch 4/50\n",
            "98/98 [==============================] - 0s 4ms/step - loss: 6.5537\n",
            "Epoch 5/50\n",
            "98/98 [==============================] - 0s 3ms/step - loss: 6.4424\n",
            "Epoch 6/50\n",
            "98/98 [==============================] - 0s 4ms/step - loss: 6.2696\n",
            "Epoch 7/50\n",
            "98/98 [==============================] - 0s 3ms/step - loss: 6.1025\n",
            "Epoch 8/50\n",
            "98/98 [==============================] - 0s 4ms/step - loss: 5.9704\n",
            "Epoch 9/50\n",
            "98/98 [==============================] - 0s 4ms/step - loss: 5.8303\n",
            "Epoch 10/50\n",
            "98/98 [==============================] - 0s 3ms/step - loss: 5.6845\n",
            "Epoch 11/50\n",
            "98/98 [==============================] - 0s 4ms/step - loss: 5.5721\n",
            "Epoch 12/50\n",
            "98/98 [==============================] - 0s 2ms/step - loss: 5.3628\n",
            "Epoch 13/50\n",
            "98/98 [==============================] - 0s 2ms/step - loss: 5.2285\n",
            "Epoch 14/50\n",
            "98/98 [==============================] - 0s 2ms/step - loss: 5.1076\n",
            "Epoch 15/50\n",
            "98/98 [==============================] - 0s 2ms/step - loss: 5.0368\n",
            "Epoch 16/50\n",
            "98/98 [==============================] - 0s 3ms/step - loss: 4.9388\n",
            "Epoch 17/50\n",
            "98/98 [==============================] - 0s 2ms/step - loss: 4.8389\n",
            "Epoch 18/50\n",
            "98/98 [==============================] - 0s 3ms/step - loss: 4.8481\n",
            "Epoch 19/50\n",
            "98/98 [==============================] - 0s 2ms/step - loss: 4.8200\n",
            "Epoch 20/50\n",
            "98/98 [==============================] - 0s 2ms/step - loss: 4.7192\n",
            "Epoch 21/50\n",
            "98/98 [==============================] - 0s 2ms/step - loss: 4.7900\n",
            "Epoch 22/50\n",
            "98/98 [==============================] - 0s 3ms/step - loss: 4.6812\n",
            "Epoch 23/50\n",
            "98/98 [==============================] - 0s 2ms/step - loss: 4.7059\n",
            "Epoch 24/50\n",
            "98/98 [==============================] - 0s 2ms/step - loss: 4.6696\n",
            "Epoch 25/50\n",
            "98/98 [==============================] - 0s 3ms/step - loss: 4.5997\n",
            "Epoch 26/50\n",
            "98/98 [==============================] - 0s 2ms/step - loss: 4.6327\n",
            "Epoch 27/50\n",
            "98/98 [==============================] - 0s 2ms/step - loss: 4.5910\n",
            "Epoch 28/50\n",
            "98/98 [==============================] - 0s 3ms/step - loss: 4.6204\n",
            "Epoch 29/50\n",
            "98/98 [==============================] - 0s 4ms/step - loss: 4.6338\n",
            "Epoch 30/50\n",
            "98/98 [==============================] - 0s 4ms/step - loss: 4.5772\n",
            "Epoch 31/50\n",
            "98/98 [==============================] - 0s 3ms/step - loss: 4.5845\n",
            "Epoch 32/50\n",
            "98/98 [==============================] - 0s 2ms/step - loss: 4.5622\n",
            "Epoch 33/50\n",
            "98/98 [==============================] - 0s 3ms/step - loss: 4.5402\n",
            "Epoch 34/50\n",
            "98/98 [==============================] - 0s 2ms/step - loss: 4.5401\n",
            "Epoch 35/50\n",
            "98/98 [==============================] - 0s 3ms/step - loss: 4.5704\n",
            "Epoch 36/50\n",
            "98/98 [==============================] - 0s 3ms/step - loss: 4.5286\n",
            "Epoch 37/50\n",
            "98/98 [==============================] - 0s 4ms/step - loss: 4.4955\n",
            "Epoch 38/50\n",
            "98/98 [==============================] - 0s 4ms/step - loss: 4.5747\n",
            "Epoch 39/50\n",
            "98/98 [==============================] - 0s 3ms/step - loss: 4.4708\n",
            "Epoch 40/50\n",
            "98/98 [==============================] - 0s 4ms/step - loss: 4.5021\n",
            "Epoch 41/50\n",
            "98/98 [==============================] - 0s 4ms/step - loss: 4.5223\n",
            "Epoch 42/50\n",
            "98/98 [==============================] - 0s 3ms/step - loss: 4.4960\n",
            "Epoch 43/50\n",
            "98/98 [==============================] - 0s 4ms/step - loss: 4.5251\n",
            "Epoch 44/50\n",
            "98/98 [==============================] - 0s 4ms/step - loss: 4.4478\n",
            "Epoch 45/50\n",
            "98/98 [==============================] - 0s 4ms/step - loss: 4.4810\n",
            "Epoch 46/50\n",
            "98/98 [==============================] - 0s 3ms/step - loss: 4.5790\n",
            "Epoch 47/50\n",
            "98/98 [==============================] - 0s 3ms/step - loss: 4.5017\n",
            "Epoch 48/50\n",
            "98/98 [==============================] - 0s 3ms/step - loss: 4.4602\n",
            "Epoch 49/50\n",
            "98/98 [==============================] - 0s 4ms/step - loss: 4.4558\n",
            "Epoch 50/50\n",
            "98/98 [==============================] - 0s 4ms/step - loss: 4.4928\n"
          ]
        }
      ]
    },
    {
      "cell_type": "code",
      "source": [
        "# test model\n",
        "\n",
        "y_test_predicted5 = nn_model5.predict(X_nn_test_scaled)"
      ],
      "metadata": {
        "id": "n5C0SWPyY5Ay",
        "colab": {
          "base_uri": "https://localhost:8080/"
        },
        "outputId": "d526ec19-c8d2-4cb8-fcab-c7e8b2fc5587"
      },
      "execution_count": null,
      "outputs": [
        {
          "output_type": "stream",
          "name": "stdout",
          "text": [
            "33/33 [==============================] - 0s 2ms/step\n"
          ]
        }
      ]
    },
    {
      "cell_type": "code",
      "source": [
        "# Calculate coefficient of determination\n",
        "r2_score(y_nn_test, y_test_predicted5)"
      ],
      "metadata": {
        "colab": {
          "base_uri": "https://localhost:8080/"
        },
        "id": "fvtkAu4_aZQy",
        "outputId": "fb5787de-28c6-4d9b-f1ae-957a0361932c"
      },
      "execution_count": null,
      "outputs": [
        {
          "output_type": "execute_result",
          "data": {
            "text/plain": [
              "0.59189548829113"
            ]
          },
          "metadata": {},
          "execution_count": 370
        }
      ]
    },
    {
      "cell_type": "markdown",
      "source": [
        "#### NN6 \n",
        "3 hidden layers with more epochs"
      ],
      "metadata": {
        "id": "TYVUZhKJBwix"
      }
    },
    {
      "cell_type": "code",
      "source": [
        "# Build NN Model No.6 - 3 hidden layers with 75 epochs\n",
        "nn_model6 = tf.keras.models.Sequential()\n",
        "nn_model6.add(tf.keras.layers.Dense(units= 30, activation = 'relu', input_dim = 10))\n",
        "nn_model6.add(tf.keras.layers.Dense(units = 30, activation = 'relu'))\n",
        "nn_model6.add(tf.keras.layers.Dense(units = 30, activation = 'relu'))\n",
        "nn_model6.add(tf.keras.layers.Dense(units = 1 , activation = 'linear'))\n",
        "\n",
        "nn_model6.compile(loss = 'mean_squared_error', optimizer = 'adam')\n",
        "\n",
        "fit_model6 = nn_model6.fit(X_nn_train_scaled, y_nn_train, epochs=75)"
      ],
      "metadata": {
        "colab": {
          "base_uri": "https://localhost:8080/"
        },
        "id": "SHJrhmYresU4",
        "outputId": "8844ffc2-d848-4a36-ea93-cbd65f7b2451"
      },
      "execution_count": null,
      "outputs": [
        {
          "output_type": "stream",
          "name": "stdout",
          "text": [
            "Epoch 1/75\n",
            "98/98 [==============================] - 1s 3ms/step - loss: 55.9359\n",
            "Epoch 2/75\n",
            "98/98 [==============================] - 0s 3ms/step - loss: 6.9487\n",
            "Epoch 3/75\n",
            "98/98 [==============================] - 0s 4ms/step - loss: 6.6591\n",
            "Epoch 4/75\n",
            "98/98 [==============================] - 0s 4ms/step - loss: 6.4743\n",
            "Epoch 5/75\n",
            "98/98 [==============================] - 0s 3ms/step - loss: 6.2675\n",
            "Epoch 6/75\n",
            "98/98 [==============================] - 0s 3ms/step - loss: 6.0502\n",
            "Epoch 7/75\n",
            "98/98 [==============================] - 0s 3ms/step - loss: 5.8627\n",
            "Epoch 8/75\n",
            "98/98 [==============================] - 0s 3ms/step - loss: 5.7146\n",
            "Epoch 9/75\n",
            "98/98 [==============================] - 0s 4ms/step - loss: 5.6049\n",
            "Epoch 10/75\n",
            "98/98 [==============================] - 0s 4ms/step - loss: 5.4101\n",
            "Epoch 11/75\n",
            "98/98 [==============================] - 0s 4ms/step - loss: 5.2701\n",
            "Epoch 12/75\n",
            "98/98 [==============================] - 0s 4ms/step - loss: 5.2404\n",
            "Epoch 13/75\n",
            "98/98 [==============================] - 0s 3ms/step - loss: 5.1243\n",
            "Epoch 14/75\n",
            "98/98 [==============================] - 0s 3ms/step - loss: 5.0914\n",
            "Epoch 15/75\n",
            "98/98 [==============================] - 0s 3ms/step - loss: 4.9790\n",
            "Epoch 16/75\n",
            "98/98 [==============================] - 0s 2ms/step - loss: 4.9387\n",
            "Epoch 17/75\n",
            "98/98 [==============================] - 0s 2ms/step - loss: 4.9251\n",
            "Epoch 18/75\n",
            "98/98 [==============================] - 0s 3ms/step - loss: 4.8816\n",
            "Epoch 19/75\n",
            "98/98 [==============================] - 0s 4ms/step - loss: 4.7978\n",
            "Epoch 20/75\n",
            "98/98 [==============================] - 0s 3ms/step - loss: 4.8570\n",
            "Epoch 21/75\n",
            "98/98 [==============================] - 0s 3ms/step - loss: 4.7849\n",
            "Epoch 22/75\n",
            "98/98 [==============================] - 0s 4ms/step - loss: 4.8108\n",
            "Epoch 23/75\n",
            "98/98 [==============================] - 0s 3ms/step - loss: 4.8490\n",
            "Epoch 24/75\n",
            "98/98 [==============================] - 0s 3ms/step - loss: 4.7187\n",
            "Epoch 25/75\n",
            "98/98 [==============================] - 0s 3ms/step - loss: 4.7133\n",
            "Epoch 26/75\n",
            "98/98 [==============================] - 0s 2ms/step - loss: 4.6716\n",
            "Epoch 27/75\n",
            "98/98 [==============================] - 0s 2ms/step - loss: 4.7084\n",
            "Epoch 28/75\n",
            "98/98 [==============================] - 0s 2ms/step - loss: 4.7206\n",
            "Epoch 29/75\n",
            "98/98 [==============================] - 0s 2ms/step - loss: 4.6850\n",
            "Epoch 30/75\n",
            "98/98 [==============================] - 0s 2ms/step - loss: 4.6517\n",
            "Epoch 31/75\n",
            "98/98 [==============================] - 0s 2ms/step - loss: 4.6252\n",
            "Epoch 32/75\n",
            "98/98 [==============================] - 0s 2ms/step - loss: 4.6852\n",
            "Epoch 33/75\n",
            "98/98 [==============================] - 0s 3ms/step - loss: 4.6278\n",
            "Epoch 34/75\n",
            "98/98 [==============================] - 0s 2ms/step - loss: 4.6127\n",
            "Epoch 35/75\n",
            "98/98 [==============================] - 0s 2ms/step - loss: 4.6214\n",
            "Epoch 36/75\n",
            "98/98 [==============================] - 0s 2ms/step - loss: 4.5300\n",
            "Epoch 37/75\n",
            "98/98 [==============================] - 0s 3ms/step - loss: 4.5616\n",
            "Epoch 38/75\n",
            "98/98 [==============================] - 0s 3ms/step - loss: 4.5701\n",
            "Epoch 39/75\n",
            "98/98 [==============================] - 0s 3ms/step - loss: 4.5978\n",
            "Epoch 40/75\n",
            "98/98 [==============================] - 0s 3ms/step - loss: 4.5563\n",
            "Epoch 41/75\n",
            "98/98 [==============================] - 0s 3ms/step - loss: 4.5937\n",
            "Epoch 42/75\n",
            "98/98 [==============================] - 0s 3ms/step - loss: 4.5180\n",
            "Epoch 43/75\n",
            "98/98 [==============================] - 0s 3ms/step - loss: 4.5010\n",
            "Epoch 44/75\n",
            "98/98 [==============================] - 0s 2ms/step - loss: 4.5238\n",
            "Epoch 45/75\n",
            "98/98 [==============================] - 0s 2ms/step - loss: 4.5168\n",
            "Epoch 46/75\n",
            "98/98 [==============================] - 0s 2ms/step - loss: 4.4902\n",
            "Epoch 47/75\n",
            "98/98 [==============================] - 0s 3ms/step - loss: 4.4503\n",
            "Epoch 48/75\n",
            "98/98 [==============================] - 0s 3ms/step - loss: 4.4829\n",
            "Epoch 49/75\n",
            "98/98 [==============================] - 0s 2ms/step - loss: 4.4874\n",
            "Epoch 50/75\n",
            "98/98 [==============================] - 0s 2ms/step - loss: 4.4885\n",
            "Epoch 51/75\n",
            "98/98 [==============================] - 0s 2ms/step - loss: 4.5001\n",
            "Epoch 52/75\n",
            "98/98 [==============================] - 0s 2ms/step - loss: 4.4935\n",
            "Epoch 53/75\n",
            "98/98 [==============================] - 0s 2ms/step - loss: 4.4548\n",
            "Epoch 54/75\n",
            "98/98 [==============================] - 0s 2ms/step - loss: 4.4807\n",
            "Epoch 55/75\n",
            "98/98 [==============================] - 0s 2ms/step - loss: 4.4443\n",
            "Epoch 56/75\n",
            "98/98 [==============================] - 0s 2ms/step - loss: 4.4845\n",
            "Epoch 57/75\n",
            "98/98 [==============================] - 0s 2ms/step - loss: 4.4723\n",
            "Epoch 58/75\n",
            "98/98 [==============================] - 0s 2ms/step - loss: 4.4889\n",
            "Epoch 59/75\n",
            "98/98 [==============================] - 0s 2ms/step - loss: 4.4276\n",
            "Epoch 60/75\n",
            "98/98 [==============================] - 0s 3ms/step - loss: 4.5045\n",
            "Epoch 61/75\n",
            "98/98 [==============================] - 0s 3ms/step - loss: 4.4187\n",
            "Epoch 62/75\n",
            "98/98 [==============================] - 0s 3ms/step - loss: 4.4387\n",
            "Epoch 63/75\n",
            "98/98 [==============================] - 0s 3ms/step - loss: 4.4081\n",
            "Epoch 64/75\n",
            "98/98 [==============================] - 0s 3ms/step - loss: 4.3994\n",
            "Epoch 65/75\n",
            "98/98 [==============================] - 0s 3ms/step - loss: 4.4066\n",
            "Epoch 66/75\n",
            "98/98 [==============================] - 0s 3ms/step - loss: 4.4766\n",
            "Epoch 67/75\n",
            "98/98 [==============================] - 0s 3ms/step - loss: 4.4215\n",
            "Epoch 68/75\n",
            "98/98 [==============================] - 0s 3ms/step - loss: 4.4452\n",
            "Epoch 69/75\n",
            "98/98 [==============================] - 0s 3ms/step - loss: 4.4043\n",
            "Epoch 70/75\n",
            "98/98 [==============================] - 0s 2ms/step - loss: 4.4413\n",
            "Epoch 71/75\n",
            "98/98 [==============================] - 0s 2ms/step - loss: 4.3926\n",
            "Epoch 72/75\n",
            "98/98 [==============================] - 0s 2ms/step - loss: 4.3809\n",
            "Epoch 73/75\n",
            "98/98 [==============================] - 0s 2ms/step - loss: 4.3782\n",
            "Epoch 74/75\n",
            "98/98 [==============================] - 0s 3ms/step - loss: 4.3539\n",
            "Epoch 75/75\n",
            "98/98 [==============================] - 0s 3ms/step - loss: 4.3929\n"
          ]
        }
      ]
    },
    {
      "cell_type": "code",
      "source": [
        "# test model\n",
        "y_test_predicted6 = nn_model6.predict(X_nn_test_scaled)"
      ],
      "metadata": {
        "colab": {
          "base_uri": "https://localhost:8080/"
        },
        "id": "xpBEx4FZeuI7",
        "outputId": "53f04435-affe-4da0-f5f7-ef596f5bdc72"
      },
      "execution_count": null,
      "outputs": [
        {
          "output_type": "stream",
          "name": "stdout",
          "text": [
            "33/33 [==============================] - 0s 2ms/step\n"
          ]
        }
      ]
    },
    {
      "cell_type": "code",
      "source": [
        "# Calculate coefficient of determination\n",
        "r2_score(y_nn_test, y_test_predicted6)"
      ],
      "metadata": {
        "colab": {
          "base_uri": "https://localhost:8080/"
        },
        "id": "sOcAoTfqez1d",
        "outputId": "9447007c-e92c-4720-8571-d5a0ee099eca"
      },
      "execution_count": null,
      "outputs": [
        {
          "output_type": "execute_result",
          "data": {
            "text/plain": [
              "0.5903702030951719"
            ]
          },
          "metadata": {},
          "execution_count": 373
        }
      ]
    },
    {
      "cell_type": "markdown",
      "source": [
        "#### NN7\n",
        "In this section, we explore using keras tuner to try to refine our neural network models to get better results"
      ],
      "metadata": {
        "id": "TKfjFclQCF3L"
      }
    },
    {
      "cell_type": "code",
      "source": [
        "# Install kerastuner\n",
        "!pip install keras-tuner"
      ],
      "metadata": {
        "colab": {
          "base_uri": "https://localhost:8080/"
        },
        "id": "PKseGq69CJho",
        "outputId": "78d8b03c-c1de-46cf-c730-051506e701d2"
      },
      "execution_count": null,
      "outputs": [
        {
          "output_type": "stream",
          "name": "stdout",
          "text": [
            "Looking in indexes: https://pypi.org/simple, https://us-python.pkg.dev/colab-wheels/public/simple/\n",
            "Requirement already satisfied: keras-tuner in /usr/local/lib/python3.8/dist-packages (1.1.3)\n",
            "Requirement already satisfied: numpy in /usr/local/lib/python3.8/dist-packages (from keras-tuner) (1.21.6)\n",
            "Requirement already satisfied: kt-legacy in /usr/local/lib/python3.8/dist-packages (from keras-tuner) (1.0.4)\n",
            "Requirement already satisfied: requests in /usr/local/lib/python3.8/dist-packages (from keras-tuner) (2.23.0)\n",
            "Requirement already satisfied: tensorboard in /usr/local/lib/python3.8/dist-packages (from keras-tuner) (2.9.1)\n",
            "Requirement already satisfied: packaging in /usr/local/lib/python3.8/dist-packages (from keras-tuner) (21.3)\n",
            "Requirement already satisfied: ipython in /usr/local/lib/python3.8/dist-packages (from keras-tuner) (7.9.0)\n",
            "Requirement already satisfied: jedi>=0.10 in /usr/local/lib/python3.8/dist-packages (from ipython->keras-tuner) (0.18.2)\n",
            "Requirement already satisfied: backcall in /usr/local/lib/python3.8/dist-packages (from ipython->keras-tuner) (0.2.0)\n",
            "Requirement already satisfied: pickleshare in /usr/local/lib/python3.8/dist-packages (from ipython->keras-tuner) (0.7.5)\n",
            "Requirement already satisfied: traitlets>=4.2 in /usr/local/lib/python3.8/dist-packages (from ipython->keras-tuner) (5.1.1)\n",
            "Requirement already satisfied: prompt-toolkit<2.1.0,>=2.0.0 in /usr/local/lib/python3.8/dist-packages (from ipython->keras-tuner) (2.0.10)\n",
            "Requirement already satisfied: decorator in /usr/local/lib/python3.8/dist-packages (from ipython->keras-tuner) (4.4.2)\n",
            "Requirement already satisfied: setuptools>=18.5 in /usr/local/lib/python3.8/dist-packages (from ipython->keras-tuner) (57.4.0)\n",
            "Requirement already satisfied: pexpect in /usr/local/lib/python3.8/dist-packages (from ipython->keras-tuner) (4.8.0)\n",
            "Requirement already satisfied: pygments in /usr/local/lib/python3.8/dist-packages (from ipython->keras-tuner) (2.6.1)\n",
            "Requirement already satisfied: parso<0.9.0,>=0.8.0 in /usr/local/lib/python3.8/dist-packages (from jedi>=0.10->ipython->keras-tuner) (0.8.3)\n",
            "Requirement already satisfied: six>=1.9.0 in /usr/local/lib/python3.8/dist-packages (from prompt-toolkit<2.1.0,>=2.0.0->ipython->keras-tuner) (1.15.0)\n",
            "Requirement already satisfied: wcwidth in /usr/local/lib/python3.8/dist-packages (from prompt-toolkit<2.1.0,>=2.0.0->ipython->keras-tuner) (0.2.5)\n",
            "Requirement already satisfied: pyparsing!=3.0.5,>=2.0.2 in /usr/local/lib/python3.8/dist-packages (from packaging->keras-tuner) (3.0.9)\n",
            "Requirement already satisfied: ptyprocess>=0.5 in /usr/local/lib/python3.8/dist-packages (from pexpect->ipython->keras-tuner) (0.7.0)\n",
            "Requirement already satisfied: certifi>=2017.4.17 in /usr/local/lib/python3.8/dist-packages (from requests->keras-tuner) (2022.9.24)\n",
            "Requirement already satisfied: chardet<4,>=3.0.2 in /usr/local/lib/python3.8/dist-packages (from requests->keras-tuner) (3.0.4)\n",
            "Requirement already satisfied: urllib3!=1.25.0,!=1.25.1,<1.26,>=1.21.1 in /usr/local/lib/python3.8/dist-packages (from requests->keras-tuner) (1.24.3)\n",
            "Requirement already satisfied: idna<3,>=2.5 in /usr/local/lib/python3.8/dist-packages (from requests->keras-tuner) (2.10)\n",
            "Requirement already satisfied: protobuf<3.20,>=3.9.2 in /usr/local/lib/python3.8/dist-packages (from tensorboard->keras-tuner) (3.19.6)\n",
            "Requirement already satisfied: grpcio>=1.24.3 in /usr/local/lib/python3.8/dist-packages (from tensorboard->keras-tuner) (1.50.0)\n",
            "Requirement already satisfied: tensorboard-plugin-wit>=1.6.0 in /usr/local/lib/python3.8/dist-packages (from tensorboard->keras-tuner) (1.8.1)\n",
            "Requirement already satisfied: google-auth<3,>=1.6.3 in /usr/local/lib/python3.8/dist-packages (from tensorboard->keras-tuner) (2.14.1)\n",
            "Requirement already satisfied: werkzeug>=1.0.1 in /usr/local/lib/python3.8/dist-packages (from tensorboard->keras-tuner) (1.0.1)\n",
            "Requirement already satisfied: wheel>=0.26 in /usr/local/lib/python3.8/dist-packages (from tensorboard->keras-tuner) (0.38.4)\n",
            "Requirement already satisfied: markdown>=2.6.8 in /usr/local/lib/python3.8/dist-packages (from tensorboard->keras-tuner) (3.4.1)\n",
            "Requirement already satisfied: google-auth-oauthlib<0.5,>=0.4.1 in /usr/local/lib/python3.8/dist-packages (from tensorboard->keras-tuner) (0.4.6)\n",
            "Requirement already satisfied: tensorboard-data-server<0.7.0,>=0.6.0 in /usr/local/lib/python3.8/dist-packages (from tensorboard->keras-tuner) (0.6.1)\n",
            "Requirement already satisfied: absl-py>=0.4 in /usr/local/lib/python3.8/dist-packages (from tensorboard->keras-tuner) (1.3.0)\n",
            "Requirement already satisfied: rsa<5,>=3.1.4 in /usr/local/lib/python3.8/dist-packages (from google-auth<3,>=1.6.3->tensorboard->keras-tuner) (4.9)\n",
            "Requirement already satisfied: cachetools<6.0,>=2.0.0 in /usr/local/lib/python3.8/dist-packages (from google-auth<3,>=1.6.3->tensorboard->keras-tuner) (5.2.0)\n",
            "Requirement already satisfied: pyasn1-modules>=0.2.1 in /usr/local/lib/python3.8/dist-packages (from google-auth<3,>=1.6.3->tensorboard->keras-tuner) (0.2.8)\n",
            "Requirement already satisfied: requests-oauthlib>=0.7.0 in /usr/local/lib/python3.8/dist-packages (from google-auth-oauthlib<0.5,>=0.4.1->tensorboard->keras-tuner) (1.3.1)\n",
            "Requirement already satisfied: importlib-metadata>=4.4 in /usr/local/lib/python3.8/dist-packages (from markdown>=2.6.8->tensorboard->keras-tuner) (4.13.0)\n",
            "Requirement already satisfied: zipp>=0.5 in /usr/local/lib/python3.8/dist-packages (from importlib-metadata>=4.4->markdown>=2.6.8->tensorboard->keras-tuner) (3.10.0)\n",
            "Requirement already satisfied: pyasn1<0.5.0,>=0.4.6 in /usr/local/lib/python3.8/dist-packages (from pyasn1-modules>=0.2.1->google-auth<3,>=1.6.3->tensorboard->keras-tuner) (0.4.8)\n",
            "Requirement already satisfied: oauthlib>=3.0.0 in /usr/local/lib/python3.8/dist-packages (from requests-oauthlib>=0.7.0->google-auth-oauthlib<0.5,>=0.4.1->tensorboard->keras-tuner) (3.2.2)\n"
          ]
        }
      ]
    },
    {
      "cell_type": "code",
      "source": [
        "# make create_model function\n",
        "\n",
        "def create_model(hp):\n",
        "  nn_model7 = tf.keras.models.Sequential()\n",
        "\n",
        "  activation = hp.Choice('activation', ['relu', 'tanh'])\n",
        "\n",
        "  nn_model7.add(tf.keras.layers.Dense(units=hp.Int('first_units',\n",
        "                                                  min_value = 1,\n",
        "                                                  max_value = 30,\n",
        "                                                  step=1), activation=activation, input_dim=10))\n",
        "  \n",
        "  nn_model7.add(tf.keras.layers.Dense(units = 1, activation = \"linear\"))\n",
        "  nn_model7.compile(loss='mean_absolute_error', optimizer='adam', metrics = ['mean_absolute_error'])\n",
        "  return nn_model7"
      ],
      "metadata": {
        "id": "6tEES3PbDTfA"
      },
      "execution_count": null,
      "outputs": []
    },
    {
      "cell_type": "code",
      "source": [
        "# import keras tuner\n",
        "import keras_tuner as kt\n",
        "\n",
        "# setting up hyperband tuner\n",
        "tuner = kt.Hyperband(\n",
        "    create_model,\n",
        "    objective=kt.Objective(\"val_mean_absolute_error\", direction =\"min\"),\n",
        "    max_epochs=20,\n",
        "    hyperband_iterations=2)\n"
      ],
      "metadata": {
        "id": "mXkXluISDkac",
        "colab": {
          "base_uri": "https://localhost:8080/",
          "height": 235
        },
        "outputId": "8616802d-4993-447c-8d30-099287a2bf43"
      },
      "execution_count": null,
      "outputs": [
        {
          "output_type": "error",
          "ename": "NameError",
          "evalue": "ignored",
          "traceback": [
            "\u001b[0;31m---------------------------------------------------------------------------\u001b[0m",
            "\u001b[0;31mNameError\u001b[0m                                 Traceback (most recent call last)",
            "\u001b[0;32m<ipython-input-426-faab5d84c5a9>\u001b[0m in \u001b[0;36m<module>\u001b[0;34m\u001b[0m\n\u001b[1;32m      4\u001b[0m tuner = kt.Hyperband(\n\u001b[1;32m      5\u001b[0m     \u001b[0mcreate_model\u001b[0m\u001b[0;34m,\u001b[0m\u001b[0;34m\u001b[0m\u001b[0;34m\u001b[0m\u001b[0m\n\u001b[0;32m----> 6\u001b[0;31m     \u001b[0mbatch_size\u001b[0m\u001b[0;34m=\u001b[0m\u001b[0mhp\u001b[0m\u001b[0;34m.\u001b[0m\u001b[0mChoice\u001b[0m\u001b[0;34m(\u001b[0m\u001b[0;34m\"batch_size\"\u001b[0m\u001b[0;34m,\u001b[0m \u001b[0;34m[\u001b[0m\u001b[0;36m16\u001b[0m\u001b[0;34m,\u001b[0m \u001b[0;36m32\u001b[0m\u001b[0;34m]\u001b[0m\u001b[0;34m)\u001b[0m\u001b[0;34m,\u001b[0m\u001b[0;34m\u001b[0m\u001b[0;34m\u001b[0m\u001b[0m\n\u001b[0m\u001b[1;32m      7\u001b[0m     \u001b[0mobjective\u001b[0m\u001b[0;34m=\u001b[0m\u001b[0mkt\u001b[0m\u001b[0;34m.\u001b[0m\u001b[0mObjective\u001b[0m\u001b[0;34m(\u001b[0m\u001b[0;34m\"val_mean_absolute_error\"\u001b[0m\u001b[0;34m,\u001b[0m \u001b[0mdirection\u001b[0m \u001b[0;34m=\u001b[0m\u001b[0;34m\"min\"\u001b[0m\u001b[0;34m)\u001b[0m\u001b[0;34m,\u001b[0m\u001b[0;34m\u001b[0m\u001b[0;34m\u001b[0m\u001b[0m\n\u001b[1;32m      8\u001b[0m     \u001b[0mmax_epochs\u001b[0m\u001b[0;34m=\u001b[0m\u001b[0;36m20\u001b[0m\u001b[0;34m,\u001b[0m\u001b[0;34m\u001b[0m\u001b[0;34m\u001b[0m\u001b[0m\n",
            "\u001b[0;31mNameError\u001b[0m: name 'hp' is not defined"
          ]
        }
      ]
    },
    {
      "cell_type": "code",
      "source": [
        "\n",
        "tuner.get_best_hyperparameters()[0].values"
      ],
      "metadata": {
        "colab": {
          "base_uri": "https://localhost:8080/"
        },
        "id": "EjXWhDoKgWTO",
        "outputId": "112780b2-881c-47c2-fe6b-9a407d1a2fdd"
      },
      "execution_count": null,
      "outputs": [
        {
          "output_type": "execute_result",
          "data": {
            "text/plain": [
              "{'activation': 'relu',\n",
              " 'first_units': 24,\n",
              " 'tuner/epochs': 20,\n",
              " 'tuner/initial_epoch': 0,\n",
              " 'tuner/bracket': 0,\n",
              " 'tuner/round': 0}"
            ]
          },
          "metadata": {},
          "execution_count": 377
        }
      ]
    },
    {
      "cell_type": "code",
      "source": [
        "# run keras tuner search for best hyperparameters\n",
        "tuner.search(X_nn_train_scaled, y_nn_train, epochs=20, validation_data=(X_nn_test_scaled, y_nn_test))"
      ],
      "metadata": {
        "id": "tt5V8ATXDmb4"
      },
      "execution_count": null,
      "outputs": []
    },
    {
      "cell_type": "code",
      "source": [
        "# evaluate top 3 models against test dataset\n",
        "top_model = tuner.get_best_models(3)\n",
        "for model in top_model:\n",
        "  model_loss = model.evaluate(X_nn_test_scaled, y_nn_test, verbose=2)\n",
        "  print(f'{model_loss}')\n"
      ],
      "metadata": {
        "id": "flhu25kgIDX4",
        "colab": {
          "base_uri": "https://localhost:8080/"
        },
        "outputId": "a8eef940-5ee6-4c11-fbe6-58591e593dc1"
      },
      "execution_count": null,
      "outputs": [
        {
          "output_type": "stream",
          "name": "stderr",
          "text": [
            "WARNING:tensorflow:Detecting that an object or model or tf.train.Checkpoint is being deleted with unrestored values. See the following logs for the specific values in question. To silence these warnings, use `status.expect_partial()`. See https://www.tensorflow.org/api_docs/python/tf/train/Checkpoint#restorefor details about the status object returned by the restore function.\n",
            "WARNING:tensorflow:Value in checkpoint could not be found in the restored object: (root).optimizer.iter\n",
            "WARNING:tensorflow:Value in checkpoint could not be found in the restored object: (root).optimizer.beta_1\n",
            "WARNING:tensorflow:Value in checkpoint could not be found in the restored object: (root).optimizer.beta_2\n",
            "WARNING:tensorflow:Value in checkpoint could not be found in the restored object: (root).optimizer.decay\n",
            "WARNING:tensorflow:Value in checkpoint could not be found in the restored object: (root).optimizer.learning_rate\n",
            "WARNING:tensorflow:Detecting that an object or model or tf.train.Checkpoint is being deleted with unrestored values. See the following logs for the specific values in question. To silence these warnings, use `status.expect_partial()`. See https://www.tensorflow.org/api_docs/python/tf/train/Checkpoint#restorefor details about the status object returned by the restore function.\n",
            "WARNING:tensorflow:Value in checkpoint could not be found in the restored object: (root).optimizer.iter\n",
            "WARNING:tensorflow:Value in checkpoint could not be found in the restored object: (root).optimizer.beta_1\n",
            "WARNING:tensorflow:Value in checkpoint could not be found in the restored object: (root).optimizer.beta_2\n",
            "WARNING:tensorflow:Value in checkpoint could not be found in the restored object: (root).optimizer.decay\n",
            "WARNING:tensorflow:Value in checkpoint could not be found in the restored object: (root).optimizer.learning_rate\n",
            "WARNING:tensorflow:Detecting that an object or model or tf.train.Checkpoint is being deleted with unrestored values. See the following logs for the specific values in question. To silence these warnings, use `status.expect_partial()`. See https://www.tensorflow.org/api_docs/python/tf/train/Checkpoint#restorefor details about the status object returned by the restore function.\n",
            "WARNING:tensorflow:Value in checkpoint could not be found in the restored object: (root).optimizer.iter\n",
            "WARNING:tensorflow:Value in checkpoint could not be found in the restored object: (root).optimizer.beta_1\n",
            "WARNING:tensorflow:Value in checkpoint could not be found in the restored object: (root).optimizer.beta_2\n",
            "WARNING:tensorflow:Value in checkpoint could not be found in the restored object: (root).optimizer.decay\n",
            "WARNING:tensorflow:Value in checkpoint could not be found in the restored object: (root).optimizer.learning_rate\n"
          ]
        },
        {
          "output_type": "stream",
          "name": "stdout",
          "text": [
            "33/33 - 1s - loss: 1.6295 - mean_absolute_error: 1.6295 - 730ms/epoch - 22ms/step\n",
            "[1.629518747329712, 1.629518747329712]\n",
            "33/33 - 1s - loss: 1.6633 - mean_absolute_error: 1.6633 - 600ms/epoch - 18ms/step\n",
            "[1.6632558107376099, 1.6632558107376099]\n",
            "33/33 - 0s - loss: 1.6724 - mean_absolute_error: 1.6724 - 371ms/epoch - 11ms/step\n",
            "[1.6723517179489136, 1.6723517179489136]\n"
          ]
        }
      ]
    },
    {
      "cell_type": "code",
      "source": [
        "# test model\n",
        "y_test_predicted7 = top_model[0].predict(X_nn_test_scaled)"
      ],
      "metadata": {
        "id": "dNk5CXgVKZAb",
        "colab": {
          "base_uri": "https://localhost:8080/"
        },
        "outputId": "6283672e-272c-4cb4-d76b-c76293755bb4"
      },
      "execution_count": null,
      "outputs": [
        {
          "output_type": "stream",
          "name": "stdout",
          "text": [
            "33/33 [==============================] - 0s 4ms/step\n"
          ]
        }
      ]
    },
    {
      "cell_type": "code",
      "source": [
        "# Calculate coefficient of determination (inconsistent results, possibly a result of not being able to fine-tune batch size without creating our own class)\n",
        "r2_score(y_nn_test, y_test_predicted7)"
      ],
      "metadata": {
        "id": "vTRFpQ9DaolO",
        "colab": {
          "base_uri": "https://localhost:8080/"
        },
        "outputId": "917a8d85-b939-4ac8-d3c2-ed6db84af486"
      },
      "execution_count": null,
      "outputs": [
        {
          "output_type": "execute_result",
          "data": {
            "text/plain": [
              "0.40756625612493136"
            ]
          },
          "metadata": {},
          "execution_count": 381
        }
      ]
    },
    {
      "cell_type": "code",
      "source": [
        "# get second best model hyperparameters\n",
        "second_hyper = tuner.get_best_hyperparameters(2)[0]\n",
        "second_hyper.values"
      ],
      "metadata": {
        "id": "BG57HL17Dq3h",
        "colab": {
          "base_uri": "https://localhost:8080/"
        },
        "outputId": "69c7e5c8-13d8-437d-828c-9c33684fab7c"
      },
      "execution_count": null,
      "outputs": [
        {
          "output_type": "execute_result",
          "data": {
            "text/plain": [
              "{'activation': 'relu',\n",
              " 'first_units': 24,\n",
              " 'tuner/epochs': 20,\n",
              " 'tuner/initial_epoch': 0,\n",
              " 'tuner/bracket': 0,\n",
              " 'tuner/round': 0}"
            ]
          },
          "metadata": {},
          "execution_count": 382
        }
      ]
    },
    {
      "cell_type": "code",
      "source": [
        "# evaluate performance of second-best model\n",
        "second_model = tuner.get_best_models(2)[1]\n",
        "model_loss, model_accuracy = second_model.evaluate(X_nn_test_scaled, y_nn_test, verbose=2)\n",
        "print(f'loss: {model_loss}, accuracy: {model_accuracy}')"
      ],
      "metadata": {
        "id": "JuW3ReIdDv8d",
        "colab": {
          "base_uri": "https://localhost:8080/"
        },
        "outputId": "aee4c51b-eb66-45ab-ccb9-61e24e7c6ca7"
      },
      "execution_count": null,
      "outputs": [
        {
          "output_type": "stream",
          "name": "stderr",
          "text": [
            "WARNING:tensorflow:Detecting that an object or model or tf.train.Checkpoint is being deleted with unrestored values. See the following logs for the specific values in question. To silence these warnings, use `status.expect_partial()`. See https://www.tensorflow.org/api_docs/python/tf/train/Checkpoint#restorefor details about the status object returned by the restore function.\n",
            "WARNING:tensorflow:Value in checkpoint could not be found in the restored object: (root).optimizer.iter\n",
            "WARNING:tensorflow:Value in checkpoint could not be found in the restored object: (root).optimizer.beta_1\n",
            "WARNING:tensorflow:Value in checkpoint could not be found in the restored object: (root).optimizer.beta_2\n",
            "WARNING:tensorflow:Value in checkpoint could not be found in the restored object: (root).optimizer.decay\n",
            "WARNING:tensorflow:Value in checkpoint could not be found in the restored object: (root).optimizer.learning_rate\n",
            "WARNING:tensorflow:Detecting that an object or model or tf.train.Checkpoint is being deleted with unrestored values. See the following logs for the specific values in question. To silence these warnings, use `status.expect_partial()`. See https://www.tensorflow.org/api_docs/python/tf/train/Checkpoint#restorefor details about the status object returned by the restore function.\n",
            "WARNING:tensorflow:Value in checkpoint could not be found in the restored object: (root).optimizer.iter\n",
            "WARNING:tensorflow:Value in checkpoint could not be found in the restored object: (root).optimizer.beta_1\n",
            "WARNING:tensorflow:Value in checkpoint could not be found in the restored object: (root).optimizer.beta_2\n",
            "WARNING:tensorflow:Value in checkpoint could not be found in the restored object: (root).optimizer.decay\n",
            "WARNING:tensorflow:Value in checkpoint could not be found in the restored object: (root).optimizer.learning_rate\n",
            "WARNING:tensorflow:Detecting that an object or model or tf.train.Checkpoint is being deleted with unrestored values. See the following logs for the specific values in question. To silence these warnings, use `status.expect_partial()`. See https://www.tensorflow.org/api_docs/python/tf/train/Checkpoint#restorefor details about the status object returned by the restore function.\n",
            "WARNING:tensorflow:Value in checkpoint could not be found in the restored object: (root).optimizer.iter\n",
            "WARNING:tensorflow:Value in checkpoint could not be found in the restored object: (root).optimizer.beta_1\n",
            "WARNING:tensorflow:Value in checkpoint could not be found in the restored object: (root).optimizer.beta_2\n",
            "WARNING:tensorflow:Value in checkpoint could not be found in the restored object: (root).optimizer.decay\n",
            "WARNING:tensorflow:Value in checkpoint could not be found in the restored object: (root).optimizer.learning_rate\n",
            "WARNING:tensorflow:Detecting that an object or model or tf.train.Checkpoint is being deleted with unrestored values. See the following logs for the specific values in question. To silence these warnings, use `status.expect_partial()`. See https://www.tensorflow.org/api_docs/python/tf/train/Checkpoint#restorefor details about the status object returned by the restore function.\n",
            "WARNING:tensorflow:Value in checkpoint could not be found in the restored object: (root).optimizer.iter\n",
            "WARNING:tensorflow:Value in checkpoint could not be found in the restored object: (root).optimizer.beta_1\n",
            "WARNING:tensorflow:Value in checkpoint could not be found in the restored object: (root).optimizer.beta_2\n",
            "WARNING:tensorflow:Value in checkpoint could not be found in the restored object: (root).optimizer.decay\n",
            "WARNING:tensorflow:Value in checkpoint could not be found in the restored object: (root).optimizer.learning_rate\n"
          ]
        },
        {
          "output_type": "stream",
          "name": "stdout",
          "text": [
            "33/33 - 0s - loss: 1.6633 - mean_absolute_error: 1.6633 - 209ms/epoch - 6ms/step\n",
            "loss: 1.6632558107376099, accuracy: 1.6632558107376099\n"
          ]
        }
      ]
    },
    {
      "cell_type": "markdown",
      "source": [
        "#### NN8\n",
        "Thought adding more layers to keras tuner model would help get more consistent results. "
      ],
      "metadata": {
        "id": "ifUwfyhuffCR"
      }
    },
    {
      "cell_type": "code",
      "source": [
        "# create model function\n",
        "def create_model2(hp):\n",
        "  nn_model8 = tf.keras.models.Sequential()\n",
        "\n",
        "  activation = hp.Choice('activation', ['relu', 'tanh'])\n",
        "\n",
        "  nn_model8.add(tf.keras.layers.Dense(units=hp.Int('first_units',\n",
        "                                                  min_value = 1,\n",
        "                                                  max_value = 9,\n",
        "                                                  step=2), activation=activation, input_dim=10))\n",
        "  nn_model8.add(tf.keras.layers.Dense(units=hp.Int('second_units',\n",
        "                                                  min_value = 1,\n",
        "                                                  max_value = 9,\n",
        "                                                  step=2), activation = 'relu' ))\n",
        "  nn_model8.add(tf.keras.layers.Dense(units = 1, activation = \"linear\"))\n",
        "  nn_model8.compile(loss='mean_absolute_error', optimizer='adam', metrics = ['mean_absolute_error'])\n",
        "  return nn_model8"
      ],
      "metadata": {
        "id": "4i3qmY06Dx3x"
      },
      "execution_count": null,
      "outputs": []
    },
    {
      "cell_type": "code",
      "source": [
        "# setting up hyperband tuner\n",
        "tuner2 = kt.Hyperband(\n",
        "    create_model2,\n",
        "    objective=kt.Objective(\"val_mean_absolute_error\", direction =\"min\"),\n",
        "    max_epochs=20,\n",
        "    hyperband_iterations=2)\n"
      ],
      "metadata": {
        "id": "MrR8QIACf1vp"
      },
      "execution_count": null,
      "outputs": []
    },
    {
      "cell_type": "code",
      "source": [
        "# run keras tuner search for best hyperparameters\n",
        "tuner2.search(X_nn_train_scaled, y_nn_train, epochs=20, validation_data=(X_nn_test_scaled, y_nn_test))"
      ],
      "metadata": {
        "id": "FjniFzNMgSuW"
      },
      "execution_count": null,
      "outputs": []
    },
    {
      "cell_type": "code",
      "source": [
        "# evaluate top 3 models against test dataset\n",
        "top_model2 = tuner2.get_best_models(3)\n",
        "for model in top_model2:\n",
        "  model_loss = model.evaluate(X_nn_test_scaled, y_nn_test, verbose=2)\n",
        "  print(f'{model_loss}')"
      ],
      "metadata": {
        "id": "6I6uQYaqgdRU",
        "colab": {
          "base_uri": "https://localhost:8080/"
        },
        "outputId": "7285ddfd-76c7-45f6-e7e3-034737446530"
      },
      "execution_count": null,
      "outputs": [
        {
          "output_type": "stream",
          "name": "stderr",
          "text": [
            "WARNING:tensorflow:Detecting that an object or model or tf.train.Checkpoint is being deleted with unrestored values. See the following logs for the specific values in question. To silence these warnings, use `status.expect_partial()`. See https://www.tensorflow.org/api_docs/python/tf/train/Checkpoint#restorefor details about the status object returned by the restore function.\n",
            "WARNING:tensorflow:Value in checkpoint could not be found in the restored object: (root).optimizer.iter\n",
            "WARNING:tensorflow:Value in checkpoint could not be found in the restored object: (root).optimizer.beta_1\n",
            "WARNING:tensorflow:Value in checkpoint could not be found in the restored object: (root).optimizer.beta_2\n",
            "WARNING:tensorflow:Value in checkpoint could not be found in the restored object: (root).optimizer.decay\n",
            "WARNING:tensorflow:Value in checkpoint could not be found in the restored object: (root).optimizer.learning_rate\n",
            "WARNING:tensorflow:Detecting that an object or model or tf.train.Checkpoint is being deleted with unrestored values. See the following logs for the specific values in question. To silence these warnings, use `status.expect_partial()`. See https://www.tensorflow.org/api_docs/python/tf/train/Checkpoint#restorefor details about the status object returned by the restore function.\n",
            "WARNING:tensorflow:Value in checkpoint could not be found in the restored object: (root).optimizer.iter\n",
            "WARNING:tensorflow:Value in checkpoint could not be found in the restored object: (root).optimizer.beta_1\n",
            "WARNING:tensorflow:Value in checkpoint could not be found in the restored object: (root).optimizer.beta_2\n",
            "WARNING:tensorflow:Value in checkpoint could not be found in the restored object: (root).optimizer.decay\n",
            "WARNING:tensorflow:Value in checkpoint could not be found in the restored object: (root).optimizer.learning_rate\n",
            "WARNING:tensorflow:Detecting that an object or model or tf.train.Checkpoint is being deleted with unrestored values. See the following logs for the specific values in question. To silence these warnings, use `status.expect_partial()`. See https://www.tensorflow.org/api_docs/python/tf/train/Checkpoint#restorefor details about the status object returned by the restore function.\n",
            "WARNING:tensorflow:Value in checkpoint could not be found in the restored object: (root).optimizer.iter\n",
            "WARNING:tensorflow:Value in checkpoint could not be found in the restored object: (root).optimizer.beta_1\n",
            "WARNING:tensorflow:Value in checkpoint could not be found in the restored object: (root).optimizer.beta_2\n",
            "WARNING:tensorflow:Value in checkpoint could not be found in the restored object: (root).optimizer.decay\n",
            "WARNING:tensorflow:Value in checkpoint could not be found in the restored object: (root).optimizer.learning_rate\n"
          ]
        },
        {
          "output_type": "stream",
          "name": "stdout",
          "text": [
            "33/33 - 0s - loss: 21.7895 - mean_absolute_error: 21.7895 - 242ms/epoch - 7ms/step\n",
            "[21.789541244506836, 21.789541244506836]\n",
            "33/33 - 0s - loss: 3.3028 - mean_absolute_error: 3.3028 - 321ms/epoch - 10ms/step\n",
            "[3.3028457164764404, 3.3028457164764404]\n",
            "33/33 - 0s - loss: 2.5194 - mean_absolute_error: 2.5194 - 333ms/epoch - 10ms/step\n",
            "[2.519432306289673, 2.519432306289673]\n"
          ]
        }
      ]
    },
    {
      "cell_type": "code",
      "source": [
        "# test model \n",
        "y_test_predicted8 = top_model2[0].predict(X_nn_test_scaled)"
      ],
      "metadata": {
        "id": "QzqPcsrVghgK",
        "colab": {
          "base_uri": "https://localhost:8080/"
        },
        "outputId": "ab1a6bb9-045a-4f5a-dcb3-eda49d4ca66c"
      },
      "execution_count": null,
      "outputs": [
        {
          "output_type": "stream",
          "name": "stdout",
          "text": [
            "33/33 [==============================] - 0s 1ms/step\n"
          ]
        }
      ]
    },
    {
      "cell_type": "code",
      "source": [
        "# Calculate coefficient of determination (inconsistent results, possibly a result of not being able to fine-tune batch size without creating our own class)\n",
        "r2_score(y_nn_test, y_test_predicted8)"
      ],
      "metadata": {
        "id": "m0E1qAf7gjyQ",
        "colab": {
          "base_uri": "https://localhost:8080/"
        },
        "outputId": "02af2e08-fba0-4f02-8d6d-7ecad74b033f"
      },
      "execution_count": null,
      "outputs": [
        {
          "output_type": "execute_result",
          "data": {
            "text/plain": [
              "-48.59786644444293"
            ]
          },
          "metadata": {},
          "execution_count": 425
        }
      ]
    },
    {
      "cell_type": "code",
      "source": [
        "# get second best model hyperparameters\n",
        "second_hyper = tuner.get_best_hyperparameters(2)[0]\n",
        "second_hyper.values"
      ],
      "metadata": {
        "id": "pMf91j2Mgmgw",
        "colab": {
          "base_uri": "https://localhost:8080/"
        },
        "outputId": "41c67f7c-5858-4c66-ecf0-2032554f655b"
      },
      "execution_count": null,
      "outputs": [
        {
          "output_type": "execute_result",
          "data": {
            "text/plain": [
              "{'activation': 'relu',\n",
              " 'first_units': 24,\n",
              " 'tuner/epochs': 20,\n",
              " 'tuner/initial_epoch': 0,\n",
              " 'tuner/bracket': 0,\n",
              " 'tuner/round': 0}"
            ]
          },
          "metadata": {},
          "execution_count": 390
        }
      ]
    },
    {
      "cell_type": "code",
      "source": [
        "# evaluate performance of second-best model\n",
        "second_model = tuner2.get_best_models(2)[1]\n",
        "model_loss, model_accuracy = second_model.evaluate(X_nn_test_scaled, y_nn_test, verbose=2)\n",
        "print(f'loss: {model_loss}, accuracy: {model_accuracy}')"
      ],
      "metadata": {
        "id": "LWSubib6gpdh",
        "colab": {
          "base_uri": "https://localhost:8080/"
        },
        "outputId": "ae0d56ff-2c0b-4fd6-f927-e6f2a4d994d2"
      },
      "execution_count": null,
      "outputs": [
        {
          "output_type": "stream",
          "name": "stderr",
          "text": [
            "WARNING:tensorflow:Detecting that an object or model or tf.train.Checkpoint is being deleted with unrestored values. See the following logs for the specific values in question. To silence these warnings, use `status.expect_partial()`. See https://www.tensorflow.org/api_docs/python/tf/train/Checkpoint#restorefor details about the status object returned by the restore function.\n",
            "WARNING:tensorflow:Value in checkpoint could not be found in the restored object: (root).optimizer.iter\n",
            "WARNING:tensorflow:Value in checkpoint could not be found in the restored object: (root).optimizer.beta_1\n",
            "WARNING:tensorflow:Value in checkpoint could not be found in the restored object: (root).optimizer.beta_2\n",
            "WARNING:tensorflow:Value in checkpoint could not be found in the restored object: (root).optimizer.decay\n",
            "WARNING:tensorflow:Value in checkpoint could not be found in the restored object: (root).optimizer.learning_rate\n",
            "WARNING:tensorflow:Detecting that an object or model or tf.train.Checkpoint is being deleted with unrestored values. See the following logs for the specific values in question. To silence these warnings, use `status.expect_partial()`. See https://www.tensorflow.org/api_docs/python/tf/train/Checkpoint#restorefor details about the status object returned by the restore function.\n",
            "WARNING:tensorflow:Value in checkpoint could not be found in the restored object: (root).optimizer.iter\n",
            "WARNING:tensorflow:Value in checkpoint could not be found in the restored object: (root).optimizer.beta_1\n",
            "WARNING:tensorflow:Value in checkpoint could not be found in the restored object: (root).optimizer.beta_2\n",
            "WARNING:tensorflow:Value in checkpoint could not be found in the restored object: (root).optimizer.decay\n",
            "WARNING:tensorflow:Value in checkpoint could not be found in the restored object: (root).optimizer.learning_rate\n",
            "WARNING:tensorflow:Detecting that an object or model or tf.train.Checkpoint is being deleted with unrestored values. See the following logs for the specific values in question. To silence these warnings, use `status.expect_partial()`. See https://www.tensorflow.org/api_docs/python/tf/train/Checkpoint#restorefor details about the status object returned by the restore function.\n",
            "WARNING:tensorflow:Value in checkpoint could not be found in the restored object: (root).optimizer.iter\n",
            "WARNING:tensorflow:Value in checkpoint could not be found in the restored object: (root).optimizer.beta_1\n",
            "WARNING:tensorflow:Value in checkpoint could not be found in the restored object: (root).optimizer.beta_2\n",
            "WARNING:tensorflow:Value in checkpoint could not be found in the restored object: (root).optimizer.decay\n",
            "WARNING:tensorflow:Value in checkpoint could not be found in the restored object: (root).optimizer.learning_rate\n",
            "WARNING:tensorflow:Detecting that an object or model or tf.train.Checkpoint is being deleted with unrestored values. See the following logs for the specific values in question. To silence these warnings, use `status.expect_partial()`. See https://www.tensorflow.org/api_docs/python/tf/train/Checkpoint#restorefor details about the status object returned by the restore function.\n",
            "WARNING:tensorflow:Value in checkpoint could not be found in the restored object: (root).optimizer.iter\n",
            "WARNING:tensorflow:Value in checkpoint could not be found in the restored object: (root).optimizer.beta_1\n",
            "WARNING:tensorflow:Value in checkpoint could not be found in the restored object: (root).optimizer.beta_2\n",
            "WARNING:tensorflow:Value in checkpoint could not be found in the restored object: (root).optimizer.decay\n",
            "WARNING:tensorflow:Value in checkpoint could not be found in the restored object: (root).optimizer.learning_rate\n"
          ]
        },
        {
          "output_type": "stream",
          "name": "stdout",
          "text": [
            "33/33 - 0s - loss: 13.5638 - mean_absolute_error: 13.5638 - 290ms/epoch - 9ms/step\n",
            "loss: 13.563755989074707, accuracy: 13.563755989074707\n"
          ]
        }
      ]
    },
    {
      "cell_type": "markdown",
      "source": [
        "#### NN9 \n",
        "Keras Tuner with more epochs"
      ],
      "metadata": {
        "id": "RX5wCOJ4hnou"
      }
    },
    {
      "cell_type": "code",
      "source": [
        "# make create_model function\n",
        "\n",
        "def create_model3(hp):\n",
        "  nn_model9 = tf.keras.models.Sequential()\n",
        "\n",
        "  activation = hp.Choice('activation', ['relu', 'tanh'])\n",
        "\n",
        "  nn_model9.add(tf.keras.layers.Dense(units=hp.Int('first_units',\n",
        "                                                  min_value = 1,\n",
        "                                                  max_value = 30,\n",
        "                                                  step=1), activation=activation, input_dim=10))\n",
        "  nn_model9.add(tf.keras.layers.Dense(units=hp.Int('second_units',\n",
        "                                                   min_value = 1,\n",
        "                                                   max_value = 30,\n",
        "                                                   step = 1), activation = 'relu'))\n",
        "  nn_model9.add(tf.keras.layers.Dense(units = 1, activation = \"linear\"))\n",
        "  nn_model9.compile(loss='mean_absolute_error', optimizer='adam', metrics = ['mean_absolute_error'])\n",
        "  return nn_model9"
      ],
      "metadata": {
        "id": "lAR37i0QjY4b"
      },
      "execution_count": null,
      "outputs": []
    },
    {
      "cell_type": "code",
      "source": [
        "# setting up hyperband tuner\n",
        "tuner3 = kt.Hyperband(\n",
        "    create_model3,\n",
        "    objective=kt.Objective(\"val_mean_absolute_error\", direction =\"min\"),\n",
        "    max_epochs=50,\n",
        "    hyperband_iterations=2)\n"
      ],
      "metadata": {
        "id": "4HIkop4wi1eK"
      },
      "execution_count": null,
      "outputs": []
    },
    {
      "cell_type": "code",
      "source": [
        "# run keras tuner search for best hyperparameters\n",
        "tuner3.search(X_nn_train_scaled, y_nn_train, epochs=50, validation_data=(X_nn_test_scaled, y_nn_test))"
      ],
      "metadata": {
        "id": "QtPmDkXFi8DZ"
      },
      "execution_count": null,
      "outputs": []
    },
    {
      "cell_type": "code",
      "source": [
        "# evaluate top 3 models against test dataset\n",
        "top_model3 = tuner3.get_best_models(3)\n",
        "for model in top_model3:\n",
        "  model_loss = model.evaluate(X_nn_test_scaled, y_nn_test, verbose=2)\n",
        "  print(f'{model_loss}')"
      ],
      "metadata": {
        "colab": {
          "base_uri": "https://localhost:8080/"
        },
        "id": "mztDVfWYjAzk",
        "outputId": "f76b4794-82c3-41a8-d6fe-368d284a5b3f"
      },
      "execution_count": null,
      "outputs": [
        {
          "output_type": "stream",
          "name": "stderr",
          "text": [
            "WARNING:tensorflow:Detecting that an object or model or tf.train.Checkpoint is being deleted with unrestored values. See the following logs for the specific values in question. To silence these warnings, use `status.expect_partial()`. See https://www.tensorflow.org/api_docs/python/tf/train/Checkpoint#restorefor details about the status object returned by the restore function.\n",
            "WARNING:tensorflow:Value in checkpoint could not be found in the restored object: (root).optimizer.iter\n",
            "WARNING:tensorflow:Value in checkpoint could not be found in the restored object: (root).optimizer.beta_1\n",
            "WARNING:tensorflow:Value in checkpoint could not be found in the restored object: (root).optimizer.beta_2\n",
            "WARNING:tensorflow:Value in checkpoint could not be found in the restored object: (root).optimizer.decay\n",
            "WARNING:tensorflow:Value in checkpoint could not be found in the restored object: (root).optimizer.learning_rate\n"
          ]
        },
        {
          "output_type": "stream",
          "name": "stdout",
          "text": [
            "33/33 - 0s - loss: 18.6688 - mean_absolute_error: 18.6688 - 235ms/epoch - 7ms/step\n",
            "[18.668766021728516, 18.668766021728516]\n",
            "33/33 - 0s - loss: 22.1196 - mean_absolute_error: 22.1196 - 248ms/epoch - 8ms/step\n",
            "[22.119552612304688, 22.119552612304688]\n",
            "33/33 - 0s - loss: 13.3047 - mean_absolute_error: 13.3047 - 257ms/epoch - 8ms/step\n",
            "[13.304729461669922, 13.304729461669922]\n"
          ]
        }
      ]
    },
    {
      "cell_type": "code",
      "source": [
        "# test model \n",
        "y_test_predicted9 = top_model3[0].predict(X_nn_test_scaled)"
      ],
      "metadata": {
        "colab": {
          "base_uri": "https://localhost:8080/"
        },
        "id": "RMVELF5pjEr-",
        "outputId": "fc15d8ba-a6b2-4a5f-f323-08a12af16daa"
      },
      "execution_count": null,
      "outputs": [
        {
          "output_type": "stream",
          "name": "stdout",
          "text": [
            "33/33 [==============================] - 0s 1ms/step\n"
          ]
        }
      ]
    },
    {
      "cell_type": "code",
      "source": [
        "# Calculate coefficient of determination (inconsistent results, possibly a result of not being able to fine-tune batch size without creating our own class)\n",
        "r2_score(y_nn_test, y_test_predicted9)"
      ],
      "metadata": {
        "colab": {
          "base_uri": "https://localhost:8080/"
        },
        "id": "yH3SRea2jUIf",
        "outputId": "400f564b-5a8f-4eda-f203-b75c555ce46f"
      },
      "execution_count": null,
      "outputs": [
        {
          "output_type": "execute_result",
          "data": {
            "text/plain": [
              "-35.58237187506781"
            ]
          },
          "metadata": {},
          "execution_count": 397
        }
      ]
    },
    {
      "cell_type": "markdown",
      "source": [
        "#### NN10\n",
        "Keras tuner 75 epochs"
      ],
      "metadata": {
        "id": "CrxkGoM2kpva"
      }
    },
    {
      "cell_type": "code",
      "source": [
        "# make create_model function\n",
        "def create_model4(hp):\n",
        "  nn_model10 = tf.keras.models.Sequential()\n",
        "\n",
        "  activation = hp.Choice('activation', ['relu', 'tanh'])\n",
        "\n",
        "  nn_model10.add(tf.keras.layers.Dense(units=hp.Int('first_units',\n",
        "                                                  min_value = 1,\n",
        "                                                  max_value = 30,\n",
        "                                                  step=1), activation=activation, input_dim=10))\n",
        "  nn_model10.add(tf.keras.layers.Dense(units=hp.Int('second_units',\n",
        "                                                  min_value = 1,\n",
        "                                                  max_value = 30,\n",
        "                                                  step=1), activation = 'relu' ))\n",
        "  nn_model10.add(tf.keras.layers.Dense(units = 1, activation = \"linear\"))\n",
        "  nn_model10.compile(loss='mean_absolute_error', optimizer='adam', metrics = ['mean_absolute_error'])\n",
        "  return nn_model10"
      ],
      "metadata": {
        "id": "EcuLWj-MjX8l"
      },
      "execution_count": null,
      "outputs": []
    },
    {
      "cell_type": "code",
      "source": [
        "# setting up hyperband tuner\n",
        "tuner4 = kt.Hyperband(\n",
        "    create_model4,\n",
        "    objective=kt.Objective(\"val_mean_absolute_error\", direction =\"min\"),\n",
        "    max_epochs=75,\n",
        "    hyperband_iterations=2)"
      ],
      "metadata": {
        "id": "TyIPYMvIk7R-"
      },
      "execution_count": null,
      "outputs": []
    },
    {
      "cell_type": "code",
      "source": [
        "# run keras tuner search for best hyperparameters\n",
        "tuner4.search(X_nn_train_scaled, y_nn_train, epochs=75, validation_data=(X_nn_test_scaled, y_nn_test))"
      ],
      "metadata": {
        "id": "1x21G283lBEI"
      },
      "execution_count": null,
      "outputs": []
    },
    {
      "cell_type": "code",
      "source": [
        "# evaluate top 3 models against test dataset\n",
        "top_model4 = tuner4.get_best_models(3)\n",
        "for model in top_model4:\n",
        "  model_loss = model.evaluate(X_nn_test_scaled, y_nn_test, verbose=2)\n",
        "  print(f'{model_loss}')"
      ],
      "metadata": {
        "colab": {
          "base_uri": "https://localhost:8080/"
        },
        "id": "LG7NqwkzlGy_",
        "outputId": "011831f6-fa6b-4efb-e730-af656fef3bee"
      },
      "execution_count": null,
      "outputs": [
        {
          "output_type": "stream",
          "name": "stderr",
          "text": [
            "WARNING:tensorflow:Detecting that an object or model or tf.train.Checkpoint is being deleted with unrestored values. See the following logs for the specific values in question. To silence these warnings, use `status.expect_partial()`. See https://www.tensorflow.org/api_docs/python/tf/train/Checkpoint#restorefor details about the status object returned by the restore function.\n",
            "WARNING:tensorflow:Value in checkpoint could not be found in the restored object: (root).optimizer.iter\n",
            "WARNING:tensorflow:Value in checkpoint could not be found in the restored object: (root).optimizer.beta_1\n",
            "WARNING:tensorflow:Value in checkpoint could not be found in the restored object: (root).optimizer.beta_2\n",
            "WARNING:tensorflow:Value in checkpoint could not be found in the restored object: (root).optimizer.decay\n",
            "WARNING:tensorflow:Value in checkpoint could not be found in the restored object: (root).optimizer.learning_rate\n",
            "WARNING:tensorflow:Detecting that an object or model or tf.train.Checkpoint is being deleted with unrestored values. See the following logs for the specific values in question. To silence these warnings, use `status.expect_partial()`. See https://www.tensorflow.org/api_docs/python/tf/train/Checkpoint#restorefor details about the status object returned by the restore function.\n",
            "WARNING:tensorflow:Value in checkpoint could not be found in the restored object: (root).optimizer.iter\n",
            "WARNING:tensorflow:Value in checkpoint could not be found in the restored object: (root).optimizer.beta_1\n",
            "WARNING:tensorflow:Value in checkpoint could not be found in the restored object: (root).optimizer.beta_2\n",
            "WARNING:tensorflow:Value in checkpoint could not be found in the restored object: (root).optimizer.decay\n",
            "WARNING:tensorflow:Value in checkpoint could not be found in the restored object: (root).optimizer.learning_rate\n",
            "WARNING:tensorflow:Detecting that an object or model or tf.train.Checkpoint is being deleted with unrestored values. See the following logs for the specific values in question. To silence these warnings, use `status.expect_partial()`. See https://www.tensorflow.org/api_docs/python/tf/train/Checkpoint#restorefor details about the status object returned by the restore function.\n",
            "WARNING:tensorflow:Value in checkpoint could not be found in the restored object: (root).optimizer.iter\n",
            "WARNING:tensorflow:Value in checkpoint could not be found in the restored object: (root).optimizer.beta_1\n",
            "WARNING:tensorflow:Value in checkpoint could not be found in the restored object: (root).optimizer.beta_2\n",
            "WARNING:tensorflow:Value in checkpoint could not be found in the restored object: (root).optimizer.decay\n",
            "WARNING:tensorflow:Value in checkpoint could not be found in the restored object: (root).optimizer.learning_rate\n"
          ]
        },
        {
          "output_type": "stream",
          "name": "stdout",
          "text": [
            "33/33 - 0s - loss: 23.5178 - mean_absolute_error: 23.5178 - 271ms/epoch - 8ms/step\n",
            "[23.51777458190918, 23.51777458190918]\n",
            "33/33 - 0s - loss: 2.7729 - mean_absolute_error: 2.7729 - 361ms/epoch - 11ms/step\n",
            "[2.7729039192199707, 2.7729039192199707]\n",
            "33/33 - 0s - loss: 11.0202 - mean_absolute_error: 11.0202 - 295ms/epoch - 9ms/step\n",
            "[11.020216941833496, 11.020216941833496]\n"
          ]
        }
      ]
    },
    {
      "cell_type": "code",
      "source": [
        "# test model\n",
        "y_test_predicted10 = top_model4[0].predict(X_nn_test_scaled)"
      ],
      "metadata": {
        "colab": {
          "base_uri": "https://localhost:8080/"
        },
        "id": "DZ0uJajZlKRr",
        "outputId": "1a1ddec5-1f53-442b-ad90-59ed57e36bf5"
      },
      "execution_count": null,
      "outputs": [
        {
          "output_type": "stream",
          "name": "stdout",
          "text": [
            "33/33 [==============================] - 0s 1ms/step\n"
          ]
        }
      ]
    },
    {
      "cell_type": "code",
      "source": [
        "# Calculate coefficient of determination (inconsistent results, possibly a result of not being able to fine-tune batch size without creating our own class)\n",
        "r2_score(y_nn_test, y_test_predicted10)"
      ],
      "metadata": {
        "colab": {
          "base_uri": "https://localhost:8080/"
        },
        "id": "d97-hDaDlZUM",
        "outputId": "9c1848ed-c22e-4d41-a7e9-08e12cf5c18b"
      },
      "execution_count": null,
      "outputs": [
        {
          "output_type": "execute_result",
          "data": {
            "text/plain": [
              "-56.66745992494225"
            ]
          },
          "metadata": {},
          "execution_count": 403
        }
      ]
    }
  ],
  "metadata": {
    "colab": {
      "provenance": [],
      "include_colab_link": true
    },
    "kernelspec": {
      "display_name": "Python 3",
      "name": "python3"
    },
    "language_info": {
      "name": "python"
    }
  },
  "nbformat": 4,
  "nbformat_minor": 0
}