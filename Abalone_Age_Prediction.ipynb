{
  "nbformat": 4,
  "nbformat_minor": 0,
  "metadata": {
    "colab": {
      "provenance": [],
      "include_colab_link": true
    },
    "kernelspec": {
      "name": "python3",
      "display_name": "Python 3"
    },
    "language_info": {
      "name": "python"
    }
  },
  "cells": [
    {
      "cell_type": "markdown",
      "metadata": {
        "id": "view-in-github",
        "colab_type": "text"
      },
      "source": [
        "<a href=\"https://colab.research.google.com/github/d0rtilla/AbaloneAgePredictionProject/blob/main/Abalone_Age_Prediction.ipynb\" target=\"_parent\"><img src=\"https://colab.research.google.com/assets/colab-badge.svg\" alt=\"Open In Colab\"/></a>"
      ]
    },
    {
      "cell_type": "markdown",
      "source": [
        "### Extract and Transform Data"
      ],
      "metadata": {
        "id": "LtHf_hi0IrjT"
      }
    },
    {
      "cell_type": "code",
      "execution_count": null,
      "metadata": {
        "id": "JLUYluKPGIoH"
      },
      "outputs": [],
      "source": [
        "# Import dependencies"
      ]
    },
    {
      "cell_type": "code",
      "source": [
        "# Read in data"
      ],
      "metadata": {
        "id": "urofG__2HA4Q"
      },
      "execution_count": null,
      "outputs": []
    },
    {
      "cell_type": "code",
      "source": [
        "# Add column names"
      ],
      "metadata": {
        "id": "a4_rxGEiHYAc"
      },
      "execution_count": 4,
      "outputs": []
    },
    {
      "cell_type": "code",
      "source": [
        "# Get dummies on sex column"
      ],
      "metadata": {
        "id": "Yb_VlF9AIbqn"
      },
      "execution_count": 5,
      "outputs": []
    },
    {
      "cell_type": "code",
      "source": [],
      "metadata": {
        "id": "LWZVD91uImdO"
      },
      "execution_count": null,
      "outputs": []
    },
    {
      "cell_type": "markdown",
      "source": [
        "### Multiple Linear Regression Model"
      ],
      "metadata": {
        "id": "_nWGmK17InHQ"
      }
    },
    {
      "cell_type": "code",
      "source": [
        "# Create model"
      ],
      "metadata": {
        "id": "VM4f9WNAIrBT"
      },
      "execution_count": 6,
      "outputs": []
    },
    {
      "cell_type": "code",
      "source": [
        "# Split into training and testing sets"
      ],
      "metadata": {
        "id": "RerCJWl3I2dO"
      },
      "execution_count": 7,
      "outputs": []
    },
    {
      "cell_type": "code",
      "source": [
        "# Scale data"
      ],
      "metadata": {
        "id": "Uww4PEncI5wH"
      },
      "execution_count": 9,
      "outputs": []
    },
    {
      "cell_type": "code",
      "source": [
        "# Train data"
      ],
      "metadata": {
        "id": "6Q4-OpIDI6vX"
      },
      "execution_count": 10,
      "outputs": []
    },
    {
      "cell_type": "code",
      "source": [
        "# Test model"
      ],
      "metadata": {
        "id": "Tq6bTWywI-BS"
      },
      "execution_count": 11,
      "outputs": []
    },
    {
      "cell_type": "code",
      "source": [
        "# Evaluate model"
      ],
      "metadata": {
        "id": "kpj0wkiXI-4z"
      },
      "execution_count": 12,
      "outputs": []
    },
    {
      "cell_type": "code",
      "source": [],
      "metadata": {
        "id": "MzYQoHpzI_xp"
      },
      "execution_count": null,
      "outputs": []
    }
  ]
}