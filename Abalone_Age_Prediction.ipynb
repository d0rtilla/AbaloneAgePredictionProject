{
  "cells": [
    {
      "cell_type": "markdown",
      "metadata": {
        "id": "view-in-github",
        "colab_type": "text"
      },
      "source": [
        "<a href=\"https://colab.research.google.com/github/d0rtilla/AbaloneAgePredictionProject/blob/main/Abalone_Age_Prediction.ipynb\" target=\"_parent\"><img src=\"https://colab.research.google.com/assets/colab-badge.svg\" alt=\"Open In Colab\"/></a>"
      ]
    },
    {
      "cell_type": "markdown",
      "metadata": {
        "id": "n1_Lb3X0O8Ij"
      },
      "source": [
        "# Abalone Age Predictor with Supervised Machine Learning\n",
        "\n",
        "## Contributors: Jacob Douthett, Sam Espe, Alan Jallah, Jae Neuharth"
      ]
    },
    {
      "cell_type": "markdown",
      "metadata": {
        "id": "LtHf_hi0IrjT"
      },
      "source": [
        "### Extract and Transform Data\n",
        "In this section, we load the required libraries, install Keras Tuner on our colab environment, connect our colab to our google drive, and load / clean our dataset."
      ]
    },
    {
      "cell_type": "code",
      "execution_count": 1,
      "metadata": {
        "id": "JLUYluKPGIoH"
      },
      "outputs": [],
      "source": [
        "# Import dependencies\n",
        "import pandas as pd\n",
        "import matplotlib.pyplot as plt\n",
        "import numpy as np\n",
        "from sklearn.preprocessing import StandardScaler\n",
        "from sklearn.model_selection import train_test_split\n",
        "from sklearn.linear_model import LinearRegression\n",
        "from sklearn.preprocessing import MinMaxScaler\n",
        "from sklearn.metrics import r2_score\n",
        "import tensorflow as tf"
      ]
    },
    {
      "cell_type": "code",
      "source": [
        "# Install Keras Tuner in the Google Colab environment\n",
        "!pip install keras-tuner"
      ],
      "metadata": {
        "colab": {
          "base_uri": "https://localhost:8080/"
        },
        "id": "7_ClvpaHTKha",
        "outputId": "fed90629-cfa6-49aa-e204-b8533b19c4e0"
      },
      "execution_count": 2,
      "outputs": [
        {
          "output_type": "stream",
          "name": "stdout",
          "text": [
            "Looking in indexes: https://pypi.org/simple, https://us-python.pkg.dev/colab-wheels/public/simple/\n",
            "Requirement already satisfied: keras-tuner in /usr/local/lib/python3.8/dist-packages (1.1.3)\n",
            "Requirement already satisfied: tensorboard in /usr/local/lib/python3.8/dist-packages (from keras-tuner) (2.9.1)\n",
            "Requirement already satisfied: kt-legacy in /usr/local/lib/python3.8/dist-packages (from keras-tuner) (1.0.4)\n",
            "Requirement already satisfied: numpy in /usr/local/lib/python3.8/dist-packages (from keras-tuner) (1.21.6)\n",
            "Requirement already satisfied: ipython in /usr/local/lib/python3.8/dist-packages (from keras-tuner) (7.9.0)\n",
            "Requirement already satisfied: packaging in /usr/local/lib/python3.8/dist-packages (from keras-tuner) (21.3)\n",
            "Requirement already satisfied: requests in /usr/local/lib/python3.8/dist-packages (from keras-tuner) (2.23.0)\n",
            "Requirement already satisfied: pygments in /usr/local/lib/python3.8/dist-packages (from ipython->keras-tuner) (2.6.1)\n",
            "Requirement already satisfied: backcall in /usr/local/lib/python3.8/dist-packages (from ipython->keras-tuner) (0.2.0)\n",
            "Requirement already satisfied: pexpect in /usr/local/lib/python3.8/dist-packages (from ipython->keras-tuner) (4.8.0)\n",
            "Requirement already satisfied: pickleshare in /usr/local/lib/python3.8/dist-packages (from ipython->keras-tuner) (0.7.5)\n",
            "Requirement already satisfied: prompt-toolkit<2.1.0,>=2.0.0 in /usr/local/lib/python3.8/dist-packages (from ipython->keras-tuner) (2.0.10)\n",
            "Requirement already satisfied: traitlets>=4.2 in /usr/local/lib/python3.8/dist-packages (from ipython->keras-tuner) (5.1.1)\n",
            "Requirement already satisfied: decorator in /usr/local/lib/python3.8/dist-packages (from ipython->keras-tuner) (4.4.2)\n",
            "Requirement already satisfied: jedi>=0.10 in /usr/local/lib/python3.8/dist-packages (from ipython->keras-tuner) (0.18.2)\n",
            "Requirement already satisfied: setuptools>=18.5 in /usr/local/lib/python3.8/dist-packages (from ipython->keras-tuner) (57.4.0)\n",
            "Requirement already satisfied: parso<0.9.0,>=0.8.0 in /usr/local/lib/python3.8/dist-packages (from jedi>=0.10->ipython->keras-tuner) (0.8.3)\n",
            "Requirement already satisfied: wcwidth in /usr/local/lib/python3.8/dist-packages (from prompt-toolkit<2.1.0,>=2.0.0->ipython->keras-tuner) (0.2.5)\n",
            "Requirement already satisfied: six>=1.9.0 in /usr/local/lib/python3.8/dist-packages (from prompt-toolkit<2.1.0,>=2.0.0->ipython->keras-tuner) (1.15.0)\n",
            "Requirement already satisfied: pyparsing!=3.0.5,>=2.0.2 in /usr/local/lib/python3.8/dist-packages (from packaging->keras-tuner) (3.0.9)\n",
            "Requirement already satisfied: ptyprocess>=0.5 in /usr/local/lib/python3.8/dist-packages (from pexpect->ipython->keras-tuner) (0.7.0)\n",
            "Requirement already satisfied: chardet<4,>=3.0.2 in /usr/local/lib/python3.8/dist-packages (from requests->keras-tuner) (3.0.4)\n",
            "Requirement already satisfied: certifi>=2017.4.17 in /usr/local/lib/python3.8/dist-packages (from requests->keras-tuner) (2022.9.24)\n",
            "Requirement already satisfied: idna<3,>=2.5 in /usr/local/lib/python3.8/dist-packages (from requests->keras-tuner) (2.10)\n",
            "Requirement already satisfied: urllib3!=1.25.0,!=1.25.1,<1.26,>=1.21.1 in /usr/local/lib/python3.8/dist-packages (from requests->keras-tuner) (1.24.3)\n",
            "Requirement already satisfied: google-auth<3,>=1.6.3 in /usr/local/lib/python3.8/dist-packages (from tensorboard->keras-tuner) (2.14.1)\n",
            "Requirement already satisfied: google-auth-oauthlib<0.5,>=0.4.1 in /usr/local/lib/python3.8/dist-packages (from tensorboard->keras-tuner) (0.4.6)\n",
            "Requirement already satisfied: protobuf<3.20,>=3.9.2 in /usr/local/lib/python3.8/dist-packages (from tensorboard->keras-tuner) (3.19.6)\n",
            "Requirement already satisfied: tensorboard-data-server<0.7.0,>=0.6.0 in /usr/local/lib/python3.8/dist-packages (from tensorboard->keras-tuner) (0.6.1)\n",
            "Requirement already satisfied: tensorboard-plugin-wit>=1.6.0 in /usr/local/lib/python3.8/dist-packages (from tensorboard->keras-tuner) (1.8.1)\n",
            "Requirement already satisfied: wheel>=0.26 in /usr/local/lib/python3.8/dist-packages (from tensorboard->keras-tuner) (0.38.4)\n",
            "Requirement already satisfied: werkzeug>=1.0.1 in /usr/local/lib/python3.8/dist-packages (from tensorboard->keras-tuner) (1.0.1)\n",
            "Requirement already satisfied: absl-py>=0.4 in /usr/local/lib/python3.8/dist-packages (from tensorboard->keras-tuner) (1.3.0)\n",
            "Requirement already satisfied: markdown>=2.6.8 in /usr/local/lib/python3.8/dist-packages (from tensorboard->keras-tuner) (3.4.1)\n",
            "Requirement already satisfied: grpcio>=1.24.3 in /usr/local/lib/python3.8/dist-packages (from tensorboard->keras-tuner) (1.50.0)\n",
            "Requirement already satisfied: pyasn1-modules>=0.2.1 in /usr/local/lib/python3.8/dist-packages (from google-auth<3,>=1.6.3->tensorboard->keras-tuner) (0.2.8)\n",
            "Requirement already satisfied: cachetools<6.0,>=2.0.0 in /usr/local/lib/python3.8/dist-packages (from google-auth<3,>=1.6.3->tensorboard->keras-tuner) (5.2.0)\n",
            "Requirement already satisfied: rsa<5,>=3.1.4 in /usr/local/lib/python3.8/dist-packages (from google-auth<3,>=1.6.3->tensorboard->keras-tuner) (4.9)\n",
            "Requirement already satisfied: requests-oauthlib>=0.7.0 in /usr/local/lib/python3.8/dist-packages (from google-auth-oauthlib<0.5,>=0.4.1->tensorboard->keras-tuner) (1.3.1)\n",
            "Requirement already satisfied: importlib-metadata>=4.4 in /usr/local/lib/python3.8/dist-packages (from markdown>=2.6.8->tensorboard->keras-tuner) (4.13.0)\n",
            "Requirement already satisfied: zipp>=0.5 in /usr/local/lib/python3.8/dist-packages (from importlib-metadata>=4.4->markdown>=2.6.8->tensorboard->keras-tuner) (3.10.0)\n",
            "Requirement already satisfied: pyasn1<0.5.0,>=0.4.6 in /usr/local/lib/python3.8/dist-packages (from pyasn1-modules>=0.2.1->google-auth<3,>=1.6.3->tensorboard->keras-tuner) (0.4.8)\n",
            "Requirement already satisfied: oauthlib>=3.0.0 in /usr/local/lib/python3.8/dist-packages (from requests-oauthlib>=0.7.0->google-auth-oauthlib<0.5,>=0.4.1->tensorboard->keras-tuner) (3.2.2)\n"
          ]
        }
      ]
    },
    {
      "cell_type": "code",
      "execution_count": 3,
      "metadata": {
        "colab": {
          "base_uri": "https://localhost:8080/",
          "height": 0
        },
        "id": "urofG__2HA4Q",
        "outputId": "4729db1c-b91f-480e-c31a-f87b998c4280"
      },
      "outputs": [
        {
          "output_type": "display_data",
          "data": {
            "text/plain": [
              "     Sex  Length  Diameter  Height  Whole weight  Shucked weight  \\\n",
              "0      M   0.455     0.365   0.095        0.5140          0.2245   \n",
              "1      M   0.350     0.265   0.090        0.2255          0.0995   \n",
              "2      F   0.530     0.420   0.135        0.6770          0.2565   \n",
              "3      M   0.440     0.365   0.125        0.5160          0.2155   \n",
              "4      I   0.330     0.255   0.080        0.2050          0.0895   \n",
              "...   ..     ...       ...     ...           ...             ...   \n",
              "4172   F   0.565     0.450   0.165        0.8870          0.3700   \n",
              "4173   M   0.590     0.440   0.135        0.9660          0.4390   \n",
              "4174   M   0.600     0.475   0.205        1.1760          0.5255   \n",
              "4175   F   0.625     0.485   0.150        1.0945          0.5310   \n",
              "4176   M   0.710     0.555   0.195        1.9485          0.9455   \n",
              "\n",
              "      Viscera weight  Shell weight  Rings  \n",
              "0             0.1010        0.1500     15  \n",
              "1             0.0485        0.0700      7  \n",
              "2             0.1415        0.2100      9  \n",
              "3             0.1140        0.1550     10  \n",
              "4             0.0395        0.0550      7  \n",
              "...              ...           ...    ...  \n",
              "4172          0.2390        0.2490     11  \n",
              "4173          0.2145        0.2605     10  \n",
              "4174          0.2875        0.3080      9  \n",
              "4175          0.2610        0.2960     10  \n",
              "4176          0.3765        0.4950     12  \n",
              "\n",
              "[4177 rows x 9 columns]"
            ],
            "text/html": [
              "\n",
              "  <div id=\"df-11d9439f-8238-409d-82a4-0b14976e848e\">\n",
              "    <div class=\"colab-df-container\">\n",
              "      <div>\n",
              "<style scoped>\n",
              "    .dataframe tbody tr th:only-of-type {\n",
              "        vertical-align: middle;\n",
              "    }\n",
              "\n",
              "    .dataframe tbody tr th {\n",
              "        vertical-align: top;\n",
              "    }\n",
              "\n",
              "    .dataframe thead th {\n",
              "        text-align: right;\n",
              "    }\n",
              "</style>\n",
              "<table border=\"1\" class=\"dataframe\">\n",
              "  <thead>\n",
              "    <tr style=\"text-align: right;\">\n",
              "      <th></th>\n",
              "      <th>Sex</th>\n",
              "      <th>Length</th>\n",
              "      <th>Diameter</th>\n",
              "      <th>Height</th>\n",
              "      <th>Whole weight</th>\n",
              "      <th>Shucked weight</th>\n",
              "      <th>Viscera weight</th>\n",
              "      <th>Shell weight</th>\n",
              "      <th>Rings</th>\n",
              "    </tr>\n",
              "  </thead>\n",
              "  <tbody>\n",
              "    <tr>\n",
              "      <th>0</th>\n",
              "      <td>M</td>\n",
              "      <td>0.455</td>\n",
              "      <td>0.365</td>\n",
              "      <td>0.095</td>\n",
              "      <td>0.5140</td>\n",
              "      <td>0.2245</td>\n",
              "      <td>0.1010</td>\n",
              "      <td>0.1500</td>\n",
              "      <td>15</td>\n",
              "    </tr>\n",
              "    <tr>\n",
              "      <th>1</th>\n",
              "      <td>M</td>\n",
              "      <td>0.350</td>\n",
              "      <td>0.265</td>\n",
              "      <td>0.090</td>\n",
              "      <td>0.2255</td>\n",
              "      <td>0.0995</td>\n",
              "      <td>0.0485</td>\n",
              "      <td>0.0700</td>\n",
              "      <td>7</td>\n",
              "    </tr>\n",
              "    <tr>\n",
              "      <th>2</th>\n",
              "      <td>F</td>\n",
              "      <td>0.530</td>\n",
              "      <td>0.420</td>\n",
              "      <td>0.135</td>\n",
              "      <td>0.6770</td>\n",
              "      <td>0.2565</td>\n",
              "      <td>0.1415</td>\n",
              "      <td>0.2100</td>\n",
              "      <td>9</td>\n",
              "    </tr>\n",
              "    <tr>\n",
              "      <th>3</th>\n",
              "      <td>M</td>\n",
              "      <td>0.440</td>\n",
              "      <td>0.365</td>\n",
              "      <td>0.125</td>\n",
              "      <td>0.5160</td>\n",
              "      <td>0.2155</td>\n",
              "      <td>0.1140</td>\n",
              "      <td>0.1550</td>\n",
              "      <td>10</td>\n",
              "    </tr>\n",
              "    <tr>\n",
              "      <th>4</th>\n",
              "      <td>I</td>\n",
              "      <td>0.330</td>\n",
              "      <td>0.255</td>\n",
              "      <td>0.080</td>\n",
              "      <td>0.2050</td>\n",
              "      <td>0.0895</td>\n",
              "      <td>0.0395</td>\n",
              "      <td>0.0550</td>\n",
              "      <td>7</td>\n",
              "    </tr>\n",
              "    <tr>\n",
              "      <th>...</th>\n",
              "      <td>...</td>\n",
              "      <td>...</td>\n",
              "      <td>...</td>\n",
              "      <td>...</td>\n",
              "      <td>...</td>\n",
              "      <td>...</td>\n",
              "      <td>...</td>\n",
              "      <td>...</td>\n",
              "      <td>...</td>\n",
              "    </tr>\n",
              "    <tr>\n",
              "      <th>4172</th>\n",
              "      <td>F</td>\n",
              "      <td>0.565</td>\n",
              "      <td>0.450</td>\n",
              "      <td>0.165</td>\n",
              "      <td>0.8870</td>\n",
              "      <td>0.3700</td>\n",
              "      <td>0.2390</td>\n",
              "      <td>0.2490</td>\n",
              "      <td>11</td>\n",
              "    </tr>\n",
              "    <tr>\n",
              "      <th>4173</th>\n",
              "      <td>M</td>\n",
              "      <td>0.590</td>\n",
              "      <td>0.440</td>\n",
              "      <td>0.135</td>\n",
              "      <td>0.9660</td>\n",
              "      <td>0.4390</td>\n",
              "      <td>0.2145</td>\n",
              "      <td>0.2605</td>\n",
              "      <td>10</td>\n",
              "    </tr>\n",
              "    <tr>\n",
              "      <th>4174</th>\n",
              "      <td>M</td>\n",
              "      <td>0.600</td>\n",
              "      <td>0.475</td>\n",
              "      <td>0.205</td>\n",
              "      <td>1.1760</td>\n",
              "      <td>0.5255</td>\n",
              "      <td>0.2875</td>\n",
              "      <td>0.3080</td>\n",
              "      <td>9</td>\n",
              "    </tr>\n",
              "    <tr>\n",
              "      <th>4175</th>\n",
              "      <td>F</td>\n",
              "      <td>0.625</td>\n",
              "      <td>0.485</td>\n",
              "      <td>0.150</td>\n",
              "      <td>1.0945</td>\n",
              "      <td>0.5310</td>\n",
              "      <td>0.2610</td>\n",
              "      <td>0.2960</td>\n",
              "      <td>10</td>\n",
              "    </tr>\n",
              "    <tr>\n",
              "      <th>4176</th>\n",
              "      <td>M</td>\n",
              "      <td>0.710</td>\n",
              "      <td>0.555</td>\n",
              "      <td>0.195</td>\n",
              "      <td>1.9485</td>\n",
              "      <td>0.9455</td>\n",
              "      <td>0.3765</td>\n",
              "      <td>0.4950</td>\n",
              "      <td>12</td>\n",
              "    </tr>\n",
              "  </tbody>\n",
              "</table>\n",
              "<p>4177 rows × 9 columns</p>\n",
              "</div>\n",
              "      <button class=\"colab-df-convert\" onclick=\"convertToInteractive('df-11d9439f-8238-409d-82a4-0b14976e848e')\"\n",
              "              title=\"Convert this dataframe to an interactive table.\"\n",
              "              style=\"display:none;\">\n",
              "        \n",
              "  <svg xmlns=\"http://www.w3.org/2000/svg\" height=\"24px\"viewBox=\"0 0 24 24\"\n",
              "       width=\"24px\">\n",
              "    <path d=\"M0 0h24v24H0V0z\" fill=\"none\"/>\n",
              "    <path d=\"M18.56 5.44l.94 2.06.94-2.06 2.06-.94-2.06-.94-.94-2.06-.94 2.06-2.06.94zm-11 1L8.5 8.5l.94-2.06 2.06-.94-2.06-.94L8.5 2.5l-.94 2.06-2.06.94zm10 10l.94 2.06.94-2.06 2.06-.94-2.06-.94-.94-2.06-.94 2.06-2.06.94z\"/><path d=\"M17.41 7.96l-1.37-1.37c-.4-.4-.92-.59-1.43-.59-.52 0-1.04.2-1.43.59L10.3 9.45l-7.72 7.72c-.78.78-.78 2.05 0 2.83L4 21.41c.39.39.9.59 1.41.59.51 0 1.02-.2 1.41-.59l7.78-7.78 2.81-2.81c.8-.78.8-2.07 0-2.86zM5.41 20L4 18.59l7.72-7.72 1.47 1.35L5.41 20z\"/>\n",
              "  </svg>\n",
              "      </button>\n",
              "      \n",
              "  <style>\n",
              "    .colab-df-container {\n",
              "      display:flex;\n",
              "      flex-wrap:wrap;\n",
              "      gap: 12px;\n",
              "    }\n",
              "\n",
              "    .colab-df-convert {\n",
              "      background-color: #E8F0FE;\n",
              "      border: none;\n",
              "      border-radius: 50%;\n",
              "      cursor: pointer;\n",
              "      display: none;\n",
              "      fill: #1967D2;\n",
              "      height: 32px;\n",
              "      padding: 0 0 0 0;\n",
              "      width: 32px;\n",
              "    }\n",
              "\n",
              "    .colab-df-convert:hover {\n",
              "      background-color: #E2EBFA;\n",
              "      box-shadow: 0px 1px 2px rgba(60, 64, 67, 0.3), 0px 1px 3px 1px rgba(60, 64, 67, 0.15);\n",
              "      fill: #174EA6;\n",
              "    }\n",
              "\n",
              "    [theme=dark] .colab-df-convert {\n",
              "      background-color: #3B4455;\n",
              "      fill: #D2E3FC;\n",
              "    }\n",
              "\n",
              "    [theme=dark] .colab-df-convert:hover {\n",
              "      background-color: #434B5C;\n",
              "      box-shadow: 0px 1px 3px 1px rgba(0, 0, 0, 0.15);\n",
              "      filter: drop-shadow(0px 1px 2px rgba(0, 0, 0, 0.3));\n",
              "      fill: #FFFFFF;\n",
              "    }\n",
              "  </style>\n",
              "\n",
              "      <script>\n",
              "        const buttonEl =\n",
              "          document.querySelector('#df-11d9439f-8238-409d-82a4-0b14976e848e button.colab-df-convert');\n",
              "        buttonEl.style.display =\n",
              "          google.colab.kernel.accessAllowed ? 'block' : 'none';\n",
              "\n",
              "        async function convertToInteractive(key) {\n",
              "          const element = document.querySelector('#df-11d9439f-8238-409d-82a4-0b14976e848e');\n",
              "          const dataTable =\n",
              "            await google.colab.kernel.invokeFunction('convertToInteractive',\n",
              "                                                     [key], {});\n",
              "          if (!dataTable) return;\n",
              "\n",
              "          const docLinkHtml = 'Like what you see? Visit the ' +\n",
              "            '<a target=\"_blank\" href=https://colab.research.google.com/notebooks/data_table.ipynb>data table notebook</a>'\n",
              "            + ' to learn more about interactive tables.';\n",
              "          element.innerHTML = '';\n",
              "          dataTable['output_type'] = 'display_data';\n",
              "          await google.colab.output.renderOutput(dataTable, element);\n",
              "          const docLink = document.createElement('div');\n",
              "          docLink.innerHTML = docLinkHtml;\n",
              "          element.appendChild(docLink);\n",
              "        }\n",
              "      </script>\n",
              "    </div>\n",
              "  </div>\n",
              "  "
            ]
          },
          "metadata": {}
        }
      ],
      "source": [
        "# Read in raw data from Amazon S3 bucket\n",
        "file_path = \"https://abalone-machine-learning-data.s3.us-east-2.amazonaws.com/abalone.csv\"\n",
        "df = pd.read_csv(file_path)\n",
        "display(df)"
      ]
    },
    {
      "cell_type": "code",
      "execution_count": 4,
      "metadata": {
        "colab": {
          "base_uri": "https://localhost:8080/"
        },
        "id": "hxz-hskSMEpB",
        "outputId": "1f14b619-ef67-490f-9039-3c685467d1ba"
      },
      "outputs": [
        {
          "output_type": "stream",
          "name": "stdout",
          "text": [
            "Duplicate entries: 0\n"
          ]
        }
      ],
      "source": [
        "# Look for duplicate entries\n",
        "print(f\"Duplicate entries: {df.duplicated().sum()}\")"
      ]
    },
    {
      "cell_type": "code",
      "execution_count": 5,
      "metadata": {
        "colab": {
          "base_uri": "https://localhost:8080/"
        },
        "id": "_UfFpezeMY2w",
        "outputId": "2fea6692-3416-4ef5-b0ef-21df7d2ee07f"
      },
      "outputs": [
        {
          "output_type": "execute_result",
          "data": {
            "text/plain": [
              "Sex               0\n",
              "Length            0\n",
              "Diameter          0\n",
              "Height            0\n",
              "Whole weight      0\n",
              "Shucked weight    0\n",
              "Viscera weight    0\n",
              "Shell weight      0\n",
              "Rings             0\n",
              "dtype: int64"
            ]
          },
          "metadata": {},
          "execution_count": 5
        }
      ],
      "source": [
        "# Check for missing values\n",
        "df.isnull().sum(axis = 0)\n"
      ]
    },
    {
      "cell_type": "code",
      "execution_count": 6,
      "metadata": {
        "colab": {
          "base_uri": "https://localhost:8080/",
          "height": 0
        },
        "id": "Yb_VlF9AIbqn",
        "outputId": "d1ec86b2-d8a8-4887-e7c1-2e28fdd118ba"
      },
      "outputs": [
        {
          "output_type": "display_data",
          "data": {
            "text/plain": [
              "      Length  Diameter  Height  Whole weight  Shucked weight  Viscera weight  \\\n",
              "0      0.455     0.365   0.095        0.5140          0.2245          0.1010   \n",
              "1      0.350     0.265   0.090        0.2255          0.0995          0.0485   \n",
              "2      0.530     0.420   0.135        0.6770          0.2565          0.1415   \n",
              "3      0.440     0.365   0.125        0.5160          0.2155          0.1140   \n",
              "4      0.330     0.255   0.080        0.2050          0.0895          0.0395   \n",
              "...      ...       ...     ...           ...             ...             ...   \n",
              "4172   0.565     0.450   0.165        0.8870          0.3700          0.2390   \n",
              "4173   0.590     0.440   0.135        0.9660          0.4390          0.2145   \n",
              "4174   0.600     0.475   0.205        1.1760          0.5255          0.2875   \n",
              "4175   0.625     0.485   0.150        1.0945          0.5310          0.2610   \n",
              "4176   0.710     0.555   0.195        1.9485          0.9455          0.3765   \n",
              "\n",
              "      Shell weight  Rings  Sex_F  Sex_I  Sex_M  \n",
              "0           0.1500     15      0      0      1  \n",
              "1           0.0700      7      0      0      1  \n",
              "2           0.2100      9      1      0      0  \n",
              "3           0.1550     10      0      0      1  \n",
              "4           0.0550      7      0      1      0  \n",
              "...            ...    ...    ...    ...    ...  \n",
              "4172        0.2490     11      1      0      0  \n",
              "4173        0.2605     10      0      0      1  \n",
              "4174        0.3080      9      0      0      1  \n",
              "4175        0.2960     10      1      0      0  \n",
              "4176        0.4950     12      0      0      1  \n",
              "\n",
              "[4177 rows x 11 columns]"
            ],
            "text/html": [
              "\n",
              "  <div id=\"df-d8bceb50-f9c6-40c2-8711-fc9865cace3c\">\n",
              "    <div class=\"colab-df-container\">\n",
              "      <div>\n",
              "<style scoped>\n",
              "    .dataframe tbody tr th:only-of-type {\n",
              "        vertical-align: middle;\n",
              "    }\n",
              "\n",
              "    .dataframe tbody tr th {\n",
              "        vertical-align: top;\n",
              "    }\n",
              "\n",
              "    .dataframe thead th {\n",
              "        text-align: right;\n",
              "    }\n",
              "</style>\n",
              "<table border=\"1\" class=\"dataframe\">\n",
              "  <thead>\n",
              "    <tr style=\"text-align: right;\">\n",
              "      <th></th>\n",
              "      <th>Length</th>\n",
              "      <th>Diameter</th>\n",
              "      <th>Height</th>\n",
              "      <th>Whole weight</th>\n",
              "      <th>Shucked weight</th>\n",
              "      <th>Viscera weight</th>\n",
              "      <th>Shell weight</th>\n",
              "      <th>Rings</th>\n",
              "      <th>Sex_F</th>\n",
              "      <th>Sex_I</th>\n",
              "      <th>Sex_M</th>\n",
              "    </tr>\n",
              "  </thead>\n",
              "  <tbody>\n",
              "    <tr>\n",
              "      <th>0</th>\n",
              "      <td>0.455</td>\n",
              "      <td>0.365</td>\n",
              "      <td>0.095</td>\n",
              "      <td>0.5140</td>\n",
              "      <td>0.2245</td>\n",
              "      <td>0.1010</td>\n",
              "      <td>0.1500</td>\n",
              "      <td>15</td>\n",
              "      <td>0</td>\n",
              "      <td>0</td>\n",
              "      <td>1</td>\n",
              "    </tr>\n",
              "    <tr>\n",
              "      <th>1</th>\n",
              "      <td>0.350</td>\n",
              "      <td>0.265</td>\n",
              "      <td>0.090</td>\n",
              "      <td>0.2255</td>\n",
              "      <td>0.0995</td>\n",
              "      <td>0.0485</td>\n",
              "      <td>0.0700</td>\n",
              "      <td>7</td>\n",
              "      <td>0</td>\n",
              "      <td>0</td>\n",
              "      <td>1</td>\n",
              "    </tr>\n",
              "    <tr>\n",
              "      <th>2</th>\n",
              "      <td>0.530</td>\n",
              "      <td>0.420</td>\n",
              "      <td>0.135</td>\n",
              "      <td>0.6770</td>\n",
              "      <td>0.2565</td>\n",
              "      <td>0.1415</td>\n",
              "      <td>0.2100</td>\n",
              "      <td>9</td>\n",
              "      <td>1</td>\n",
              "      <td>0</td>\n",
              "      <td>0</td>\n",
              "    </tr>\n",
              "    <tr>\n",
              "      <th>3</th>\n",
              "      <td>0.440</td>\n",
              "      <td>0.365</td>\n",
              "      <td>0.125</td>\n",
              "      <td>0.5160</td>\n",
              "      <td>0.2155</td>\n",
              "      <td>0.1140</td>\n",
              "      <td>0.1550</td>\n",
              "      <td>10</td>\n",
              "      <td>0</td>\n",
              "      <td>0</td>\n",
              "      <td>1</td>\n",
              "    </tr>\n",
              "    <tr>\n",
              "      <th>4</th>\n",
              "      <td>0.330</td>\n",
              "      <td>0.255</td>\n",
              "      <td>0.080</td>\n",
              "      <td>0.2050</td>\n",
              "      <td>0.0895</td>\n",
              "      <td>0.0395</td>\n",
              "      <td>0.0550</td>\n",
              "      <td>7</td>\n",
              "      <td>0</td>\n",
              "      <td>1</td>\n",
              "      <td>0</td>\n",
              "    </tr>\n",
              "    <tr>\n",
              "      <th>...</th>\n",
              "      <td>...</td>\n",
              "      <td>...</td>\n",
              "      <td>...</td>\n",
              "      <td>...</td>\n",
              "      <td>...</td>\n",
              "      <td>...</td>\n",
              "      <td>...</td>\n",
              "      <td>...</td>\n",
              "      <td>...</td>\n",
              "      <td>...</td>\n",
              "      <td>...</td>\n",
              "    </tr>\n",
              "    <tr>\n",
              "      <th>4172</th>\n",
              "      <td>0.565</td>\n",
              "      <td>0.450</td>\n",
              "      <td>0.165</td>\n",
              "      <td>0.8870</td>\n",
              "      <td>0.3700</td>\n",
              "      <td>0.2390</td>\n",
              "      <td>0.2490</td>\n",
              "      <td>11</td>\n",
              "      <td>1</td>\n",
              "      <td>0</td>\n",
              "      <td>0</td>\n",
              "    </tr>\n",
              "    <tr>\n",
              "      <th>4173</th>\n",
              "      <td>0.590</td>\n",
              "      <td>0.440</td>\n",
              "      <td>0.135</td>\n",
              "      <td>0.9660</td>\n",
              "      <td>0.4390</td>\n",
              "      <td>0.2145</td>\n",
              "      <td>0.2605</td>\n",
              "      <td>10</td>\n",
              "      <td>0</td>\n",
              "      <td>0</td>\n",
              "      <td>1</td>\n",
              "    </tr>\n",
              "    <tr>\n",
              "      <th>4174</th>\n",
              "      <td>0.600</td>\n",
              "      <td>0.475</td>\n",
              "      <td>0.205</td>\n",
              "      <td>1.1760</td>\n",
              "      <td>0.5255</td>\n",
              "      <td>0.2875</td>\n",
              "      <td>0.3080</td>\n",
              "      <td>9</td>\n",
              "      <td>0</td>\n",
              "      <td>0</td>\n",
              "      <td>1</td>\n",
              "    </tr>\n",
              "    <tr>\n",
              "      <th>4175</th>\n",
              "      <td>0.625</td>\n",
              "      <td>0.485</td>\n",
              "      <td>0.150</td>\n",
              "      <td>1.0945</td>\n",
              "      <td>0.5310</td>\n",
              "      <td>0.2610</td>\n",
              "      <td>0.2960</td>\n",
              "      <td>10</td>\n",
              "      <td>1</td>\n",
              "      <td>0</td>\n",
              "      <td>0</td>\n",
              "    </tr>\n",
              "    <tr>\n",
              "      <th>4176</th>\n",
              "      <td>0.710</td>\n",
              "      <td>0.555</td>\n",
              "      <td>0.195</td>\n",
              "      <td>1.9485</td>\n",
              "      <td>0.9455</td>\n",
              "      <td>0.3765</td>\n",
              "      <td>0.4950</td>\n",
              "      <td>12</td>\n",
              "      <td>0</td>\n",
              "      <td>0</td>\n",
              "      <td>1</td>\n",
              "    </tr>\n",
              "  </tbody>\n",
              "</table>\n",
              "<p>4177 rows × 11 columns</p>\n",
              "</div>\n",
              "      <button class=\"colab-df-convert\" onclick=\"convertToInteractive('df-d8bceb50-f9c6-40c2-8711-fc9865cace3c')\"\n",
              "              title=\"Convert this dataframe to an interactive table.\"\n",
              "              style=\"display:none;\">\n",
              "        \n",
              "  <svg xmlns=\"http://www.w3.org/2000/svg\" height=\"24px\"viewBox=\"0 0 24 24\"\n",
              "       width=\"24px\">\n",
              "    <path d=\"M0 0h24v24H0V0z\" fill=\"none\"/>\n",
              "    <path d=\"M18.56 5.44l.94 2.06.94-2.06 2.06-.94-2.06-.94-.94-2.06-.94 2.06-2.06.94zm-11 1L8.5 8.5l.94-2.06 2.06-.94-2.06-.94L8.5 2.5l-.94 2.06-2.06.94zm10 10l.94 2.06.94-2.06 2.06-.94-2.06-.94-.94-2.06-.94 2.06-2.06.94z\"/><path d=\"M17.41 7.96l-1.37-1.37c-.4-.4-.92-.59-1.43-.59-.52 0-1.04.2-1.43.59L10.3 9.45l-7.72 7.72c-.78.78-.78 2.05 0 2.83L4 21.41c.39.39.9.59 1.41.59.51 0 1.02-.2 1.41-.59l7.78-7.78 2.81-2.81c.8-.78.8-2.07 0-2.86zM5.41 20L4 18.59l7.72-7.72 1.47 1.35L5.41 20z\"/>\n",
              "  </svg>\n",
              "      </button>\n",
              "      \n",
              "  <style>\n",
              "    .colab-df-container {\n",
              "      display:flex;\n",
              "      flex-wrap:wrap;\n",
              "      gap: 12px;\n",
              "    }\n",
              "\n",
              "    .colab-df-convert {\n",
              "      background-color: #E8F0FE;\n",
              "      border: none;\n",
              "      border-radius: 50%;\n",
              "      cursor: pointer;\n",
              "      display: none;\n",
              "      fill: #1967D2;\n",
              "      height: 32px;\n",
              "      padding: 0 0 0 0;\n",
              "      width: 32px;\n",
              "    }\n",
              "\n",
              "    .colab-df-convert:hover {\n",
              "      background-color: #E2EBFA;\n",
              "      box-shadow: 0px 1px 2px rgba(60, 64, 67, 0.3), 0px 1px 3px 1px rgba(60, 64, 67, 0.15);\n",
              "      fill: #174EA6;\n",
              "    }\n",
              "\n",
              "    [theme=dark] .colab-df-convert {\n",
              "      background-color: #3B4455;\n",
              "      fill: #D2E3FC;\n",
              "    }\n",
              "\n",
              "    [theme=dark] .colab-df-convert:hover {\n",
              "      background-color: #434B5C;\n",
              "      box-shadow: 0px 1px 3px 1px rgba(0, 0, 0, 0.15);\n",
              "      filter: drop-shadow(0px 1px 2px rgba(0, 0, 0, 0.3));\n",
              "      fill: #FFFFFF;\n",
              "    }\n",
              "  </style>\n",
              "\n",
              "      <script>\n",
              "        const buttonEl =\n",
              "          document.querySelector('#df-d8bceb50-f9c6-40c2-8711-fc9865cace3c button.colab-df-convert');\n",
              "        buttonEl.style.display =\n",
              "          google.colab.kernel.accessAllowed ? 'block' : 'none';\n",
              "\n",
              "        async function convertToInteractive(key) {\n",
              "          const element = document.querySelector('#df-d8bceb50-f9c6-40c2-8711-fc9865cace3c');\n",
              "          const dataTable =\n",
              "            await google.colab.kernel.invokeFunction('convertToInteractive',\n",
              "                                                     [key], {});\n",
              "          if (!dataTable) return;\n",
              "\n",
              "          const docLinkHtml = 'Like what you see? Visit the ' +\n",
              "            '<a target=\"_blank\" href=https://colab.research.google.com/notebooks/data_table.ipynb>data table notebook</a>'\n",
              "            + ' to learn more about interactive tables.';\n",
              "          element.innerHTML = '';\n",
              "          dataTable['output_type'] = 'display_data';\n",
              "          await google.colab.output.renderOutput(dataTable, element);\n",
              "          const docLink = document.createElement('div');\n",
              "          docLink.innerHTML = docLinkHtml;\n",
              "          element.appendChild(docLink);\n",
              "        }\n",
              "      </script>\n",
              "    </div>\n",
              "  </div>\n",
              "  "
            ]
          },
          "metadata": {}
        }
      ],
      "source": [
        "# One-hot encode sex column\n",
        "df = pd.get_dummies(df)\n",
        "display(df)"
      ]
    },
    {
      "cell_type": "code",
      "execution_count": 7,
      "metadata": {
        "colab": {
          "base_uri": "https://localhost:8080/",
          "height": 0
        },
        "id": "no0Qv2j7UcGs",
        "outputId": "1ef39b4b-60c7-49cb-d7f0-35f061a9f49c"
      },
      "outputs": [
        {
          "output_type": "execute_result",
          "data": {
            "text/plain": [
              "      Length  Diameter  Height  Whole_weight  Shucked_weight  Viscera_weight  \\\n",
              "0      0.455     0.365   0.095        0.5140          0.2245          0.1010   \n",
              "1      0.350     0.265   0.090        0.2255          0.0995          0.0485   \n",
              "2      0.530     0.420   0.135        0.6770          0.2565          0.1415   \n",
              "3      0.440     0.365   0.125        0.5160          0.2155          0.1140   \n",
              "4      0.330     0.255   0.080        0.2050          0.0895          0.0395   \n",
              "...      ...       ...     ...           ...             ...             ...   \n",
              "4172   0.565     0.450   0.165        0.8870          0.3700          0.2390   \n",
              "4173   0.590     0.440   0.135        0.9660          0.4390          0.2145   \n",
              "4174   0.600     0.475   0.205        1.1760          0.5255          0.2875   \n",
              "4175   0.625     0.485   0.150        1.0945          0.5310          0.2610   \n",
              "4176   0.710     0.555   0.195        1.9485          0.9455          0.3765   \n",
              "\n",
              "      Shell_weight  Rings  Sex_F  Sex_I  Sex_M  \n",
              "0           0.1500     15      0      0      1  \n",
              "1           0.0700      7      0      0      1  \n",
              "2           0.2100      9      1      0      0  \n",
              "3           0.1550     10      0      0      1  \n",
              "4           0.0550      7      0      1      0  \n",
              "...            ...    ...    ...    ...    ...  \n",
              "4172        0.2490     11      1      0      0  \n",
              "4173        0.2605     10      0      0      1  \n",
              "4174        0.3080      9      0      0      1  \n",
              "4175        0.2960     10      1      0      0  \n",
              "4176        0.4950     12      0      0      1  \n",
              "\n",
              "[4177 rows x 11 columns]"
            ],
            "text/html": [
              "\n",
              "  <div id=\"df-0ef0c95f-c99d-4a7b-80ab-1bd89459b186\">\n",
              "    <div class=\"colab-df-container\">\n",
              "      <div>\n",
              "<style scoped>\n",
              "    .dataframe tbody tr th:only-of-type {\n",
              "        vertical-align: middle;\n",
              "    }\n",
              "\n",
              "    .dataframe tbody tr th {\n",
              "        vertical-align: top;\n",
              "    }\n",
              "\n",
              "    .dataframe thead th {\n",
              "        text-align: right;\n",
              "    }\n",
              "</style>\n",
              "<table border=\"1\" class=\"dataframe\">\n",
              "  <thead>\n",
              "    <tr style=\"text-align: right;\">\n",
              "      <th></th>\n",
              "      <th>Length</th>\n",
              "      <th>Diameter</th>\n",
              "      <th>Height</th>\n",
              "      <th>Whole_weight</th>\n",
              "      <th>Shucked_weight</th>\n",
              "      <th>Viscera_weight</th>\n",
              "      <th>Shell_weight</th>\n",
              "      <th>Rings</th>\n",
              "      <th>Sex_F</th>\n",
              "      <th>Sex_I</th>\n",
              "      <th>Sex_M</th>\n",
              "    </tr>\n",
              "  </thead>\n",
              "  <tbody>\n",
              "    <tr>\n",
              "      <th>0</th>\n",
              "      <td>0.455</td>\n",
              "      <td>0.365</td>\n",
              "      <td>0.095</td>\n",
              "      <td>0.5140</td>\n",
              "      <td>0.2245</td>\n",
              "      <td>0.1010</td>\n",
              "      <td>0.1500</td>\n",
              "      <td>15</td>\n",
              "      <td>0</td>\n",
              "      <td>0</td>\n",
              "      <td>1</td>\n",
              "    </tr>\n",
              "    <tr>\n",
              "      <th>1</th>\n",
              "      <td>0.350</td>\n",
              "      <td>0.265</td>\n",
              "      <td>0.090</td>\n",
              "      <td>0.2255</td>\n",
              "      <td>0.0995</td>\n",
              "      <td>0.0485</td>\n",
              "      <td>0.0700</td>\n",
              "      <td>7</td>\n",
              "      <td>0</td>\n",
              "      <td>0</td>\n",
              "      <td>1</td>\n",
              "    </tr>\n",
              "    <tr>\n",
              "      <th>2</th>\n",
              "      <td>0.530</td>\n",
              "      <td>0.420</td>\n",
              "      <td>0.135</td>\n",
              "      <td>0.6770</td>\n",
              "      <td>0.2565</td>\n",
              "      <td>0.1415</td>\n",
              "      <td>0.2100</td>\n",
              "      <td>9</td>\n",
              "      <td>1</td>\n",
              "      <td>0</td>\n",
              "      <td>0</td>\n",
              "    </tr>\n",
              "    <tr>\n",
              "      <th>3</th>\n",
              "      <td>0.440</td>\n",
              "      <td>0.365</td>\n",
              "      <td>0.125</td>\n",
              "      <td>0.5160</td>\n",
              "      <td>0.2155</td>\n",
              "      <td>0.1140</td>\n",
              "      <td>0.1550</td>\n",
              "      <td>10</td>\n",
              "      <td>0</td>\n",
              "      <td>0</td>\n",
              "      <td>1</td>\n",
              "    </tr>\n",
              "    <tr>\n",
              "      <th>4</th>\n",
              "      <td>0.330</td>\n",
              "      <td>0.255</td>\n",
              "      <td>0.080</td>\n",
              "      <td>0.2050</td>\n",
              "      <td>0.0895</td>\n",
              "      <td>0.0395</td>\n",
              "      <td>0.0550</td>\n",
              "      <td>7</td>\n",
              "      <td>0</td>\n",
              "      <td>1</td>\n",
              "      <td>0</td>\n",
              "    </tr>\n",
              "    <tr>\n",
              "      <th>...</th>\n",
              "      <td>...</td>\n",
              "      <td>...</td>\n",
              "      <td>...</td>\n",
              "      <td>...</td>\n",
              "      <td>...</td>\n",
              "      <td>...</td>\n",
              "      <td>...</td>\n",
              "      <td>...</td>\n",
              "      <td>...</td>\n",
              "      <td>...</td>\n",
              "      <td>...</td>\n",
              "    </tr>\n",
              "    <tr>\n",
              "      <th>4172</th>\n",
              "      <td>0.565</td>\n",
              "      <td>0.450</td>\n",
              "      <td>0.165</td>\n",
              "      <td>0.8870</td>\n",
              "      <td>0.3700</td>\n",
              "      <td>0.2390</td>\n",
              "      <td>0.2490</td>\n",
              "      <td>11</td>\n",
              "      <td>1</td>\n",
              "      <td>0</td>\n",
              "      <td>0</td>\n",
              "    </tr>\n",
              "    <tr>\n",
              "      <th>4173</th>\n",
              "      <td>0.590</td>\n",
              "      <td>0.440</td>\n",
              "      <td>0.135</td>\n",
              "      <td>0.9660</td>\n",
              "      <td>0.4390</td>\n",
              "      <td>0.2145</td>\n",
              "      <td>0.2605</td>\n",
              "      <td>10</td>\n",
              "      <td>0</td>\n",
              "      <td>0</td>\n",
              "      <td>1</td>\n",
              "    </tr>\n",
              "    <tr>\n",
              "      <th>4174</th>\n",
              "      <td>0.600</td>\n",
              "      <td>0.475</td>\n",
              "      <td>0.205</td>\n",
              "      <td>1.1760</td>\n",
              "      <td>0.5255</td>\n",
              "      <td>0.2875</td>\n",
              "      <td>0.3080</td>\n",
              "      <td>9</td>\n",
              "      <td>0</td>\n",
              "      <td>0</td>\n",
              "      <td>1</td>\n",
              "    </tr>\n",
              "    <tr>\n",
              "      <th>4175</th>\n",
              "      <td>0.625</td>\n",
              "      <td>0.485</td>\n",
              "      <td>0.150</td>\n",
              "      <td>1.0945</td>\n",
              "      <td>0.5310</td>\n",
              "      <td>0.2610</td>\n",
              "      <td>0.2960</td>\n",
              "      <td>10</td>\n",
              "      <td>1</td>\n",
              "      <td>0</td>\n",
              "      <td>0</td>\n",
              "    </tr>\n",
              "    <tr>\n",
              "      <th>4176</th>\n",
              "      <td>0.710</td>\n",
              "      <td>0.555</td>\n",
              "      <td>0.195</td>\n",
              "      <td>1.9485</td>\n",
              "      <td>0.9455</td>\n",
              "      <td>0.3765</td>\n",
              "      <td>0.4950</td>\n",
              "      <td>12</td>\n",
              "      <td>0</td>\n",
              "      <td>0</td>\n",
              "      <td>1</td>\n",
              "    </tr>\n",
              "  </tbody>\n",
              "</table>\n",
              "<p>4177 rows × 11 columns</p>\n",
              "</div>\n",
              "      <button class=\"colab-df-convert\" onclick=\"convertToInteractive('df-0ef0c95f-c99d-4a7b-80ab-1bd89459b186')\"\n",
              "              title=\"Convert this dataframe to an interactive table.\"\n",
              "              style=\"display:none;\">\n",
              "        \n",
              "  <svg xmlns=\"http://www.w3.org/2000/svg\" height=\"24px\"viewBox=\"0 0 24 24\"\n",
              "       width=\"24px\">\n",
              "    <path d=\"M0 0h24v24H0V0z\" fill=\"none\"/>\n",
              "    <path d=\"M18.56 5.44l.94 2.06.94-2.06 2.06-.94-2.06-.94-.94-2.06-.94 2.06-2.06.94zm-11 1L8.5 8.5l.94-2.06 2.06-.94-2.06-.94L8.5 2.5l-.94 2.06-2.06.94zm10 10l.94 2.06.94-2.06 2.06-.94-2.06-.94-.94-2.06-.94 2.06-2.06.94z\"/><path d=\"M17.41 7.96l-1.37-1.37c-.4-.4-.92-.59-1.43-.59-.52 0-1.04.2-1.43.59L10.3 9.45l-7.72 7.72c-.78.78-.78 2.05 0 2.83L4 21.41c.39.39.9.59 1.41.59.51 0 1.02-.2 1.41-.59l7.78-7.78 2.81-2.81c.8-.78.8-2.07 0-2.86zM5.41 20L4 18.59l7.72-7.72 1.47 1.35L5.41 20z\"/>\n",
              "  </svg>\n",
              "      </button>\n",
              "      \n",
              "  <style>\n",
              "    .colab-df-container {\n",
              "      display:flex;\n",
              "      flex-wrap:wrap;\n",
              "      gap: 12px;\n",
              "    }\n",
              "\n",
              "    .colab-df-convert {\n",
              "      background-color: #E8F0FE;\n",
              "      border: none;\n",
              "      border-radius: 50%;\n",
              "      cursor: pointer;\n",
              "      display: none;\n",
              "      fill: #1967D2;\n",
              "      height: 32px;\n",
              "      padding: 0 0 0 0;\n",
              "      width: 32px;\n",
              "    }\n",
              "\n",
              "    .colab-df-convert:hover {\n",
              "      background-color: #E2EBFA;\n",
              "      box-shadow: 0px 1px 2px rgba(60, 64, 67, 0.3), 0px 1px 3px 1px rgba(60, 64, 67, 0.15);\n",
              "      fill: #174EA6;\n",
              "    }\n",
              "\n",
              "    [theme=dark] .colab-df-convert {\n",
              "      background-color: #3B4455;\n",
              "      fill: #D2E3FC;\n",
              "    }\n",
              "\n",
              "    [theme=dark] .colab-df-convert:hover {\n",
              "      background-color: #434B5C;\n",
              "      box-shadow: 0px 1px 3px 1px rgba(0, 0, 0, 0.15);\n",
              "      filter: drop-shadow(0px 1px 2px rgba(0, 0, 0, 0.3));\n",
              "      fill: #FFFFFF;\n",
              "    }\n",
              "  </style>\n",
              "\n",
              "      <script>\n",
              "        const buttonEl =\n",
              "          document.querySelector('#df-0ef0c95f-c99d-4a7b-80ab-1bd89459b186 button.colab-df-convert');\n",
              "        buttonEl.style.display =\n",
              "          google.colab.kernel.accessAllowed ? 'block' : 'none';\n",
              "\n",
              "        async function convertToInteractive(key) {\n",
              "          const element = document.querySelector('#df-0ef0c95f-c99d-4a7b-80ab-1bd89459b186');\n",
              "          const dataTable =\n",
              "            await google.colab.kernel.invokeFunction('convertToInteractive',\n",
              "                                                     [key], {});\n",
              "          if (!dataTable) return;\n",
              "\n",
              "          const docLinkHtml = 'Like what you see? Visit the ' +\n",
              "            '<a target=\"_blank\" href=https://colab.research.google.com/notebooks/data_table.ipynb>data table notebook</a>'\n",
              "            + ' to learn more about interactive tables.';\n",
              "          element.innerHTML = '';\n",
              "          dataTable['output_type'] = 'display_data';\n",
              "          await google.colab.output.renderOutput(dataTable, element);\n",
              "          const docLink = document.createElement('div');\n",
              "          docLink.innerHTML = docLinkHtml;\n",
              "          element.appendChild(docLink);\n",
              "        }\n",
              "      </script>\n",
              "    </div>\n",
              "  </div>\n",
              "  "
            ]
          },
          "metadata": {},
          "execution_count": 7
        }
      ],
      "source": [
        "# Rename columns to Python-friendly names\n",
        "\n",
        "df = df.rename(columns = {\"Whole weight\": \"Whole_weight\", \"Shucked weight\": \"Shucked_weight\", \"Viscera weight\": \"Viscera_weight\", \"Shell weight\": \"Shell_weight\"})\n",
        "df"
      ]
    },
    {
      "cell_type": "markdown",
      "metadata": {
        "id": "SP0cgMHqU-s1"
      },
      "source": [
        "### Visualizing Parameters\n",
        "In this section, we use matplotlib to visualize and compare each datapoint's various parameters against its number of rings. We did this to identify any outliers, as well as to get a feel for how our data are distributed in the various dimensions."
      ]
    },
    {
      "cell_type": "code",
      "execution_count": 8,
      "metadata": {
        "colab": {
          "base_uri": "https://localhost:8080/",
          "height": 0
        },
        "id": "N7bJkw3aTkbr",
        "outputId": "e31828b3-fd90-4743-b936-2d6650633d64"
      },
      "outputs": [
        {
          "output_type": "display_data",
          "data": {
            "text/plain": [
              "<Figure size 432x288 with 1 Axes>"
            ],
            "image/png": "[encoded data removed]"
          },
          "metadata": {
            "needs_background": "light"
          }
        }
      ],
      "source": [
        "# Graph the distribution of Lengths\n",
        "x = df[\"Rings\"]\n",
        "length = df[\"Length\"]\n",
        "\n",
        "plt.scatter(x, length)\n",
        "plt.title(\"Shell Length vs. # of Rings\")\n",
        "plt.xlabel(\"# of Rings\")\n",
        "plt.ylabel(\"Shell Length (mm)\")\n",
        "plt.show()"
      ]
    },
    {
      "cell_type": "code",
      "execution_count": 9,
      "metadata": {
        "id": "sGjU4k7aTwr-",
        "colab": {
          "base_uri": "https://localhost:8080/",
          "height": 0
        },
        "outputId": "8b43a958-3c9a-4b19-99ec-eaea8a0369a4"
      },
      "outputs": [
        {
          "output_type": "display_data",
          "data": {
            "text/plain": [
              "<Figure size 432x288 with 1 Axes>"
            ],
            "image/png": "[encoded data removed]"
          },
          "metadata": {
            "needs_background": "light"
          }
        }
      ],
      "source": [
        "# Graph the distribution of Diameters\n",
        "diameter = df[\"Diameter\"]\n",
        "\n",
        "plt.scatter(x, diameter)\n",
        "plt.title(\"Shell Diameter vs. # of Rings\")\n",
        "plt.xlabel(\"# of Rings\")\n",
        "plt.ylabel(\"Shell Diameter (mm)\")\n",
        "plt.show()"
      ]
    },
    {
      "cell_type": "code",
      "execution_count": 10,
      "metadata": {
        "id": "w5CbsAojUD51",
        "colab": {
          "base_uri": "https://localhost:8080/",
          "height": 0
        },
        "outputId": "1c24adf1-dafd-4644-ff3d-9f4a76ad8d24"
      },
      "outputs": [
        {
          "output_type": "display_data",
          "data": {
            "text/plain": [
              "<Figure size 432x288 with 1 Axes>"
            ],
            "image/png": "[encoded data removed]"
          },
          "metadata": {
            "needs_background": "light"
          }
        }
      ],
      "source": [
        "# Graph the distribution of Heights\n",
        "height = df[\"Height\"]\n",
        "\n",
        "plt.scatter(x, height)\n",
        "plt.title(\"Shell Height vs. # of Rings\")\n",
        "plt.xlabel(\"# of Rings\")\n",
        "plt.ylabel(\"Shell Height (mm)\")\n",
        "plt.show()"
      ]
    },
    {
      "cell_type": "code",
      "execution_count": 11,
      "metadata": {
        "id": "J949ji3hVe84",
        "colab": {
          "base_uri": "https://localhost:8080/",
          "height": 0
        },
        "outputId": "52d20ec1-e5cc-4ee6-f146-45bc2afe80fd"
      },
      "outputs": [
        {
          "output_type": "execute_result",
          "data": {
            "text/plain": [
              "      Length  Diameter  Height  Whole_weight  Shucked_weight  Viscera_weight  \\\n",
              "1417   0.705     0.565   0.515         2.210          1.1075          0.4865   \n",
              "2051   0.455     0.355   1.130         0.594          0.3320          0.1160   \n",
              "\n",
              "      Shell_weight  Rings  Sex_F  Sex_I  Sex_M  \n",
              "1417        0.5120     10      0      0      1  \n",
              "2051        0.1335      8      1      0      0  "
            ],
            "text/html": [
              "\n",
              "  <div id=\"df-5721fa63-03f3-457a-bc5c-9451c8c92e61\">\n",
              "    <div class=\"colab-df-container\">\n",
              "      <div>\n",
              "<style scoped>\n",
              "    .dataframe tbody tr th:only-of-type {\n",
              "        vertical-align: middle;\n",
              "    }\n",
              "\n",
              "    .dataframe tbody tr th {\n",
              "        vertical-align: top;\n",
              "    }\n",
              "\n",
              "    .dataframe thead th {\n",
              "        text-align: right;\n",
              "    }\n",
              "</style>\n",
              "<table border=\"1\" class=\"dataframe\">\n",
              "  <thead>\n",
              "    <tr style=\"text-align: right;\">\n",
              "      <th></th>\n",
              "      <th>Length</th>\n",
              "      <th>Diameter</th>\n",
              "      <th>Height</th>\n",
              "      <th>Whole_weight</th>\n",
              "      <th>Shucked_weight</th>\n",
              "      <th>Viscera_weight</th>\n",
              "      <th>Shell_weight</th>\n",
              "      <th>Rings</th>\n",
              "      <th>Sex_F</th>\n",
              "      <th>Sex_I</th>\n",
              "      <th>Sex_M</th>\n",
              "    </tr>\n",
              "  </thead>\n",
              "  <tbody>\n",
              "    <tr>\n",
              "      <th>1417</th>\n",
              "      <td>0.705</td>\n",
              "      <td>0.565</td>\n",
              "      <td>0.515</td>\n",
              "      <td>2.210</td>\n",
              "      <td>1.1075</td>\n",
              "      <td>0.4865</td>\n",
              "      <td>0.5120</td>\n",
              "      <td>10</td>\n",
              "      <td>0</td>\n",
              "      <td>0</td>\n",
              "      <td>1</td>\n",
              "    </tr>\n",
              "    <tr>\n",
              "      <th>2051</th>\n",
              "      <td>0.455</td>\n",
              "      <td>0.355</td>\n",
              "      <td>1.130</td>\n",
              "      <td>0.594</td>\n",
              "      <td>0.3320</td>\n",
              "      <td>0.1160</td>\n",
              "      <td>0.1335</td>\n",
              "      <td>8</td>\n",
              "      <td>1</td>\n",
              "      <td>0</td>\n",
              "      <td>0</td>\n",
              "    </tr>\n",
              "  </tbody>\n",
              "</table>\n",
              "</div>\n",
              "      <button class=\"colab-df-convert\" onclick=\"convertToInteractive('df-5721fa63-03f3-457a-bc5c-9451c8c92e61')\"\n",
              "              title=\"Convert this dataframe to an interactive table.\"\n",
              "              style=\"display:none;\">\n",
              "        \n",
              "  <svg xmlns=\"http://www.w3.org/2000/svg\" height=\"24px\"viewBox=\"0 0 24 24\"\n",
              "       width=\"24px\">\n",
              "    <path d=\"M0 0h24v24H0V0z\" fill=\"none\"/>\n",
              "    <path d=\"M18.56 5.44l.94 2.06.94-2.06 2.06-.94-2.06-.94-.94-2.06-.94 2.06-2.06.94zm-11 1L8.5 8.5l.94-2.06 2.06-.94-2.06-.94L8.5 2.5l-.94 2.06-2.06.94zm10 10l.94 2.06.94-2.06 2.06-.94-2.06-.94-.94-2.06-.94 2.06-2.06.94z\"/><path d=\"M17.41 7.96l-1.37-1.37c-.4-.4-.92-.59-1.43-.59-.52 0-1.04.2-1.43.59L10.3 9.45l-7.72 7.72c-.78.78-.78 2.05 0 2.83L4 21.41c.39.39.9.59 1.41.59.51 0 1.02-.2 1.41-.59l7.78-7.78 2.81-2.81c.8-.78.8-2.07 0-2.86zM5.41 20L4 18.59l7.72-7.72 1.47 1.35L5.41 20z\"/>\n",
              "  </svg>\n",
              "      </button>\n",
              "      \n",
              "  <style>\n",
              "    .colab-df-container {\n",
              "      display:flex;\n",
              "      flex-wrap:wrap;\n",
              "      gap: 12px;\n",
              "    }\n",
              "\n",
              "    .colab-df-convert {\n",
              "      background-color: #E8F0FE;\n",
              "      border: none;\n",
              "      border-radius: 50%;\n",
              "      cursor: pointer;\n",
              "      display: none;\n",
              "      fill: #1967D2;\n",
              "      height: 32px;\n",
              "      padding: 0 0 0 0;\n",
              "      width: 32px;\n",
              "    }\n",
              "\n",
              "    .colab-df-convert:hover {\n",
              "      background-color: #E2EBFA;\n",
              "      box-shadow: 0px 1px 2px rgba(60, 64, 67, 0.3), 0px 1px 3px 1px rgba(60, 64, 67, 0.15);\n",
              "      fill: #174EA6;\n",
              "    }\n",
              "\n",
              "    [theme=dark] .colab-df-convert {\n",
              "      background-color: #3B4455;\n",
              "      fill: #D2E3FC;\n",
              "    }\n",
              "\n",
              "    [theme=dark] .colab-df-convert:hover {\n",
              "      background-color: #434B5C;\n",
              "      box-shadow: 0px 1px 3px 1px rgba(0, 0, 0, 0.15);\n",
              "      filter: drop-shadow(0px 1px 2px rgba(0, 0, 0, 0.3));\n",
              "      fill: #FFFFFF;\n",
              "    }\n",
              "  </style>\n",
              "\n",
              "      <script>\n",
              "        const buttonEl =\n",
              "          document.querySelector('#df-5721fa63-03f3-457a-bc5c-9451c8c92e61 button.colab-df-convert');\n",
              "        buttonEl.style.display =\n",
              "          google.colab.kernel.accessAllowed ? 'block' : 'none';\n",
              "\n",
              "        async function convertToInteractive(key) {\n",
              "          const element = document.querySelector('#df-5721fa63-03f3-457a-bc5c-9451c8c92e61');\n",
              "          const dataTable =\n",
              "            await google.colab.kernel.invokeFunction('convertToInteractive',\n",
              "                                                     [key], {});\n",
              "          if (!dataTable) return;\n",
              "\n",
              "          const docLinkHtml = 'Like what you see? Visit the ' +\n",
              "            '<a target=\"_blank\" href=https://colab.research.google.com/notebooks/data_table.ipynb>data table notebook</a>'\n",
              "            + ' to learn more about interactive tables.';\n",
              "          element.innerHTML = '';\n",
              "          dataTable['output_type'] = 'display_data';\n",
              "          await google.colab.output.renderOutput(dataTable, element);\n",
              "          const docLink = document.createElement('div');\n",
              "          docLink.innerHTML = docLinkHtml;\n",
              "          element.appendChild(docLink);\n",
              "        }\n",
              "      </script>\n",
              "    </div>\n",
              "  </div>\n",
              "  "
            ]
          },
          "metadata": {},
          "execution_count": 11
        }
      ],
      "source": [
        "# Isolating the two samples that have heights greater than 0.4 (far above the rest of the distribution)\n",
        "df.loc[df[\"Height\"] > 0.4]"
      ]
    },
    {
      "cell_type": "code",
      "source": [
        "# Isolating the two samples that have a height of 0\n",
        "df.loc[df[\"Height\"] == 0]"
      ],
      "metadata": {
        "id": "pdbvn1ZrAnQp",
        "colab": {
          "base_uri": "https://localhost:8080/",
          "height": 0
        },
        "outputId": "39527430-1421-4f70-9bc1-64ad3485fda8"
      },
      "execution_count": 12,
      "outputs": [
        {
          "output_type": "execute_result",
          "data": {
            "text/plain": [
              "      Length  Diameter  Height  Whole_weight  Shucked_weight  Viscera_weight  \\\n",
              "1257   0.430      0.34     0.0         0.428          0.2065          0.0860   \n",
              "3996   0.315      0.23     0.0         0.134          0.0575          0.0285   \n",
              "\n",
              "      Shell_weight  Rings  Sex_F  Sex_I  Sex_M  \n",
              "1257        0.1150      8      0      1      0  \n",
              "3996        0.3505      6      0      1      0  "
            ],
            "text/html": [
              "\n",
              "  <div id=\"df-234dd147-fb68-4209-89d8-fb2c56e0ca1c\">\n",
              "    <div class=\"colab-df-container\">\n",
              "      <div>\n",
              "<style scoped>\n",
              "    .dataframe tbody tr th:only-of-type {\n",
              "        vertical-align: middle;\n",
              "    }\n",
              "\n",
              "    .dataframe tbody tr th {\n",
              "        vertical-align: top;\n",
              "    }\n",
              "\n",
              "    .dataframe thead th {\n",
              "        text-align: right;\n",
              "    }\n",
              "</style>\n",
              "<table border=\"1\" class=\"dataframe\">\n",
              "  <thead>\n",
              "    <tr style=\"text-align: right;\">\n",
              "      <th></th>\n",
              "      <th>Length</th>\n",
              "      <th>Diameter</th>\n",
              "      <th>Height</th>\n",
              "      <th>Whole_weight</th>\n",
              "      <th>Shucked_weight</th>\n",
              "      <th>Viscera_weight</th>\n",
              "      <th>Shell_weight</th>\n",
              "      <th>Rings</th>\n",
              "      <th>Sex_F</th>\n",
              "      <th>Sex_I</th>\n",
              "      <th>Sex_M</th>\n",
              "    </tr>\n",
              "  </thead>\n",
              "  <tbody>\n",
              "    <tr>\n",
              "      <th>1257</th>\n",
              "      <td>0.430</td>\n",
              "      <td>0.34</td>\n",
              "      <td>0.0</td>\n",
              "      <td>0.428</td>\n",
              "      <td>0.2065</td>\n",
              "      <td>0.0860</td>\n",
              "      <td>0.1150</td>\n",
              "      <td>8</td>\n",
              "      <td>0</td>\n",
              "      <td>1</td>\n",
              "      <td>0</td>\n",
              "    </tr>\n",
              "    <tr>\n",
              "      <th>3996</th>\n",
              "      <td>0.315</td>\n",
              "      <td>0.23</td>\n",
              "      <td>0.0</td>\n",
              "      <td>0.134</td>\n",
              "      <td>0.0575</td>\n",
              "      <td>0.0285</td>\n",
              "      <td>0.3505</td>\n",
              "      <td>6</td>\n",
              "      <td>0</td>\n",
              "      <td>1</td>\n",
              "      <td>0</td>\n",
              "    </tr>\n",
              "  </tbody>\n",
              "</table>\n",
              "</div>\n",
              "      <button class=\"colab-df-convert\" onclick=\"convertToInteractive('df-234dd147-fb68-4209-89d8-fb2c56e0ca1c')\"\n",
              "              title=\"Convert this dataframe to an interactive table.\"\n",
              "              style=\"display:none;\">\n",
              "        \n",
              "  <svg xmlns=\"http://www.w3.org/2000/svg\" height=\"24px\"viewBox=\"0 0 24 24\"\n",
              "       width=\"24px\">\n",
              "    <path d=\"M0 0h24v24H0V0z\" fill=\"none\"/>\n",
              "    <path d=\"M18.56 5.44l.94 2.06.94-2.06 2.06-.94-2.06-.94-.94-2.06-.94 2.06-2.06.94zm-11 1L8.5 8.5l.94-2.06 2.06-.94-2.06-.94L8.5 2.5l-.94 2.06-2.06.94zm10 10l.94 2.06.94-2.06 2.06-.94-2.06-.94-.94-2.06-.94 2.06-2.06.94z\"/><path d=\"M17.41 7.96l-1.37-1.37c-.4-.4-.92-.59-1.43-.59-.52 0-1.04.2-1.43.59L10.3 9.45l-7.72 7.72c-.78.78-.78 2.05 0 2.83L4 21.41c.39.39.9.59 1.41.59.51 0 1.02-.2 1.41-.59l7.78-7.78 2.81-2.81c.8-.78.8-2.07 0-2.86zM5.41 20L4 18.59l7.72-7.72 1.47 1.35L5.41 20z\"/>\n",
              "  </svg>\n",
              "      </button>\n",
              "      \n",
              "  <style>\n",
              "    .colab-df-container {\n",
              "      display:flex;\n",
              "      flex-wrap:wrap;\n",
              "      gap: 12px;\n",
              "    }\n",
              "\n",
              "    .colab-df-convert {\n",
              "      background-color: #E8F0FE;\n",
              "      border: none;\n",
              "      border-radius: 50%;\n",
              "      cursor: pointer;\n",
              "      display: none;\n",
              "      fill: #1967D2;\n",
              "      height: 32px;\n",
              "      padding: 0 0 0 0;\n",
              "      width: 32px;\n",
              "    }\n",
              "\n",
              "    .colab-df-convert:hover {\n",
              "      background-color: #E2EBFA;\n",
              "      box-shadow: 0px 1px 2px rgba(60, 64, 67, 0.3), 0px 1px 3px 1px rgba(60, 64, 67, 0.15);\n",
              "      fill: #174EA6;\n",
              "    }\n",
              "\n",
              "    [theme=dark] .colab-df-convert {\n",
              "      background-color: #3B4455;\n",
              "      fill: #D2E3FC;\n",
              "    }\n",
              "\n",
              "    [theme=dark] .colab-df-convert:hover {\n",
              "      background-color: #434B5C;\n",
              "      box-shadow: 0px 1px 3px 1px rgba(0, 0, 0, 0.15);\n",
              "      filter: drop-shadow(0px 1px 2px rgba(0, 0, 0, 0.3));\n",
              "      fill: #FFFFFF;\n",
              "    }\n",
              "  </style>\n",
              "\n",
              "      <script>\n",
              "        const buttonEl =\n",
              "          document.querySelector('#df-234dd147-fb68-4209-89d8-fb2c56e0ca1c button.colab-df-convert');\n",
              "        buttonEl.style.display =\n",
              "          google.colab.kernel.accessAllowed ? 'block' : 'none';\n",
              "\n",
              "        async function convertToInteractive(key) {\n",
              "          const element = document.querySelector('#df-234dd147-fb68-4209-89d8-fb2c56e0ca1c');\n",
              "          const dataTable =\n",
              "            await google.colab.kernel.invokeFunction('convertToInteractive',\n",
              "                                                     [key], {});\n",
              "          if (!dataTable) return;\n",
              "\n",
              "          const docLinkHtml = 'Like what you see? Visit the ' +\n",
              "            '<a target=\"_blank\" href=https://colab.research.google.com/notebooks/data_table.ipynb>data table notebook</a>'\n",
              "            + ' to learn more about interactive tables.';\n",
              "          element.innerHTML = '';\n",
              "          dataTable['output_type'] = 'display_data';\n",
              "          await google.colab.output.renderOutput(dataTable, element);\n",
              "          const docLink = document.createElement('div');\n",
              "          docLink.innerHTML = docLinkHtml;\n",
              "          element.appendChild(docLink);\n",
              "        }\n",
              "      </script>\n",
              "    </div>\n",
              "  </div>\n",
              "  "
            ]
          },
          "metadata": {},
          "execution_count": 12
        }
      ]
    },
    {
      "cell_type": "code",
      "execution_count": 13,
      "metadata": {
        "id": "F1XT_f8GW9pT"
      },
      "outputs": [],
      "source": [
        "# Create new dataframe without outliers\n",
        "\n",
        "df_no_outliers = df.drop(index = [1417, 2051, 1257, 3996])"
      ]
    },
    {
      "cell_type": "code",
      "execution_count": 14,
      "metadata": {
        "id": "UpNidTz3XQxh",
        "colab": {
          "base_uri": "https://localhost:8080/",
          "height": 0
        },
        "outputId": "b5c7358d-12c3-430b-81d3-31d00cd82c30"
      },
      "outputs": [
        {
          "output_type": "display_data",
          "data": {
            "text/plain": [
              "<Figure size 432x288 with 1 Axes>"
            ],
            "image/png": "[encoded data removed]"
          },
          "metadata": {
            "needs_background": "light"
          }
        }
      ],
      "source": [
        "# Graph the distribution of Heights without the outliers\n",
        "x_no = df_no_outliers[\"Rings\"]\n",
        "height_no = df_no_outliers[\"Height\"]\n",
        "\n",
        "plt.scatter(x_no, height_no)\n",
        "plt.title(\"Height vs. # of Rings, No Outliers\")\n",
        "plt.xlabel(\"# of Rings\")\n",
        "plt.ylabel(\"Height (mm)\")\n",
        "plt.show()"
      ]
    },
    {
      "cell_type": "code",
      "execution_count": 15,
      "metadata": {
        "id": "QqPJwgGpUNz8",
        "colab": {
          "base_uri": "https://localhost:8080/",
          "height": 0
        },
        "outputId": "87ada55b-47b0-436e-d0b1-1819dbd51e2d"
      },
      "outputs": [
        {
          "output_type": "display_data",
          "data": {
            "text/plain": [
              "<Figure size 432x288 with 1 Axes>"
            ],
            "image/png": "[encoded data removed]"
          },
          "metadata": {
            "needs_background": "light"
          }
        }
      ],
      "source": [
        "# Graph the distribution of Whole Weights\n",
        "whole = df[\"Whole_weight\"]\n",
        "\n",
        "plt.scatter(x, whole)\n",
        "plt.title(\"Whole Weight vs. # of Rings\")\n",
        "plt.xlabel(\"# of Rings\")\n",
        "plt.ylabel(\"Whole Weight (g)\")\n",
        "plt.show()"
      ]
    },
    {
      "cell_type": "code",
      "execution_count": 16,
      "metadata": {
        "id": "KdhItx-oU3gD",
        "colab": {
          "base_uri": "https://localhost:8080/",
          "height": 0
        },
        "outputId": "586e495d-a746-425b-d887-5693028bbb51"
      },
      "outputs": [
        {
          "output_type": "display_data",
          "data": {
            "text/plain": [
              "<Figure size 432x288 with 1 Axes>"
            ],
            "image/png": "[encoded data removed]"
          },
          "metadata": {
            "needs_background": "light"
          }
        }
      ],
      "source": [
        "# Graph the distribution of Shucked Weights\n",
        "shucked = df[\"Shucked_weight\"]\n",
        "\n",
        "plt.scatter(x, shucked)\n",
        "plt.title(\"Shucked Weight vs. # of Rings\")\n",
        "plt.xlabel(\"# of Rings\")\n",
        "plt.ylabel(\"Shucked Weight (g)\")\n",
        "plt.show()"
      ]
    },
    {
      "cell_type": "code",
      "execution_count": 17,
      "metadata": {
        "id": "stnotdyrVKL1",
        "colab": {
          "base_uri": "https://localhost:8080/",
          "height": 0
        },
        "outputId": "c37b5571-268f-4d73-80c9-e54ecfc97138"
      },
      "outputs": [
        {
          "output_type": "display_data",
          "data": {
            "text/plain": [
              "<Figure size 432x288 with 1 Axes>"
            ],
            "image/png": "[encoded data removed]"
          },
          "metadata": {
            "needs_background": "light"
          }
        }
      ],
      "source": [
        "# Graph the distribution of Viscera Weights\n",
        "viscera = df[\"Viscera_weight\"]\n",
        "\n",
        "plt.scatter(x, viscera)\n",
        "plt.title(\"Viscera Weight vs. # of Rings\")\n",
        "plt.xlabel(\"# of Rings\")\n",
        "plt.ylabel(\"Viscera Weight (g)\")\n",
        "plt.show()"
      ]
    },
    {
      "cell_type": "code",
      "execution_count": 18,
      "metadata": {
        "id": "MhJizI0uVT9w",
        "colab": {
          "base_uri": "https://localhost:8080/",
          "height": 0
        },
        "outputId": "8ab687de-97a9-40da-dceb-05bdb2c01522"
      },
      "outputs": [
        {
          "output_type": "display_data",
          "data": {
            "text/plain": [
              "<Figure size 432x288 with 1 Axes>"
            ],
            "image/png": "[encoded data removed]"
          },
          "metadata": {
            "needs_background": "light"
          }
        }
      ],
      "source": [
        "# Graph the distribution of Shell Weights \n",
        "shell = df[\"Shell_weight\"]\n",
        "\n",
        "# X = Rings | Y = Shell Weight\n",
        "plt.scatter(x, shell)\n",
        "plt.title(\"Shell Weight vs. # of Rings\")\n",
        "plt.xlabel(\"# of Rings\")\n",
        "plt.ylabel(\"Shell Weight (g)\")\n",
        "plt.show()"
      ]
    },
    {
      "cell_type": "markdown",
      "source": [
        "### Multiple Linear Regressions\n",
        "\n",
        "We started our analysis by trying to use a Multiple Linear Regression to fit our data. "
      ],
      "metadata": {
        "id": "YxS0eSEqULil"
      }
    },
    {
      "cell_type": "markdown",
      "metadata": {
        "id": "_nWGmK17InHQ"
      },
      "source": [
        "#### Multiple Linear Regression Model #1\n",
        "\n",
        "We first tried creating a multiple linear regression model on the entire data set, including the height outliers. \n",
        "\n",
        "This resulted in an R^2 value of 50.785%."
      ]
    },
    {
      "cell_type": "code",
      "execution_count": 20,
      "metadata": {
        "id": "VM4f9WNAIrBT"
      },
      "outputs": [],
      "source": [
        "# Create model\n",
        "\n",
        "multLinReg = LinearRegression()"
      ]
    },
    {
      "cell_type": "code",
      "execution_count": 21,
      "metadata": {
        "id": "RerCJWl3I2dO"
      },
      "outputs": [],
      "source": [
        "# Split data into training and testing sets\n",
        "\n",
        "X = df.drop(columns = \"Rings\")\n",
        "y = df[\"Rings\"]"
      ]
    },
    {
      "cell_type": "code",
      "execution_count": 22,
      "metadata": {
        "id": "zrOZIo1bRTkz"
      },
      "outputs": [],
      "source": [
        "# Split data into training and testing sets\n",
        "X_train, X_test, y_train, y_test = train_test_split(X, y, random_state = 3)"
      ]
    },
    {
      "cell_type": "code",
      "execution_count": 23,
      "metadata": {
        "id": "Uww4PEncI5wH"
      },
      "outputs": [],
      "source": [
        "# Instantiate standard scaler\n",
        "\n",
        "scaler = StandardScaler()"
      ]
    },
    {
      "cell_type": "code",
      "execution_count": 24,
      "metadata": {
        "id": "i-Y7Lib2RXK6",
        "colab": {
          "base_uri": "https://localhost:8080/"
        },
        "outputId": "c55477db-0b54-4c57-aba4-ad33b1f67dc5"
      },
      "outputs": [
        {
          "output_type": "execute_result",
          "data": {
            "text/plain": [
              "StandardScaler()"
            ]
          },
          "metadata": {},
          "execution_count": 24
        }
      ],
      "source": [
        "# Fit scaler to training data\n",
        "scaler.fit(X_train) \n"
      ]
    },
    {
      "cell_type": "code",
      "execution_count": 25,
      "metadata": {
        "id": "MGNnhfTXRae0"
      },
      "outputs": [],
      "source": [
        "# Scale X train and test data \n",
        "X_train_scaled = scaler.transform(X_train)\n",
        "X_test_scaled = scaler.transform(X_test)"
      ]
    },
    {
      "cell_type": "code",
      "execution_count": 26,
      "metadata": {
        "id": "6Q4-OpIDI6vX",
        "colab": {
          "base_uri": "https://localhost:8080/"
        },
        "outputId": "f381800c-0be7-4e4c-b5f5-fa37146d27b2"
      },
      "outputs": [
        {
          "output_type": "execute_result",
          "data": {
            "text/plain": [
              "LinearRegression()"
            ]
          },
          "metadata": {},
          "execution_count": 26
        }
      ],
      "source": [
        "# Train model\n",
        "\n",
        "multLinReg.fit(X_train_scaled, y_train)"
      ]
    },
    {
      "cell_type": "code",
      "execution_count": 27,
      "metadata": {
        "id": "Tq6bTWywI-BS",
        "colab": {
          "base_uri": "https://localhost:8080/"
        },
        "outputId": "c51b35ed-a12c-430c-a801-f33701bb5962"
      },
      "outputs": [
        {
          "output_type": "execute_result",
          "data": {
            "text/plain": [
              "array([10.93318904, 11.14649789, 11.50648478, ...,  8.19775703,\n",
              "        9.65056996, 12.27414972])"
            ]
          },
          "metadata": {},
          "execution_count": 27
        }
      ],
      "source": [
        "# Test model\n",
        "\n",
        "multLinReg.predict(X_test_scaled)"
      ]
    },
    {
      "cell_type": "code",
      "source": [
        "# Evaluate model on training set\n",
        "multLinReg.score(X_train_scaled, y_train)"
      ],
      "metadata": {
        "id": "APLvYy0e2-pA",
        "colab": {
          "base_uri": "https://localhost:8080/"
        },
        "outputId": "bbc11bf3-0522-4d89-9880-ea954f6cf257"
      },
      "execution_count": 28,
      "outputs": [
        {
          "output_type": "execute_result",
          "data": {
            "text/plain": [
              "0.5458379428502007"
            ]
          },
          "metadata": {},
          "execution_count": 28
        }
      ]
    },
    {
      "cell_type": "code",
      "execution_count": 29,
      "metadata": {
        "id": "kpj0wkiXI-4z",
        "colab": {
          "base_uri": "https://localhost:8080/"
        },
        "outputId": "2f38f518-2621-46d8-8d8e-7d0b5ac399a2"
      },
      "outputs": [
        {
          "output_type": "execute_result",
          "data": {
            "text/plain": [
              "0.5078501514842158"
            ]
          },
          "metadata": {},
          "execution_count": 29
        }
      ],
      "source": [
        "# Evaluate model on test set\n",
        "\n",
        "multLinReg.score(X_test_scaled, y_test)"
      ]
    },
    {
      "cell_type": "markdown",
      "source": [
        "#### Multiple Linear Regression Model #2 \n",
        "\n",
        "We performed our second Multiple Linear Regression on a subset of the original data set, where we excluded four data entries that appeared to be outliers in the height parameter.\n",
        "\n",
        "This improved the model's performance slightly, giving an R^2 value of 51.986%."
      ],
      "metadata": {
        "id": "4a0r7qwTxX6Y"
      }
    },
    {
      "cell_type": "code",
      "execution_count": 32,
      "metadata": {
        "id": "AQijxPO7XjMB"
      },
      "outputs": [],
      "source": [
        "# Create model\n",
        "multLinReg2 = LinearRegression()"
      ]
    },
    {
      "cell_type": "code",
      "execution_count": 33,
      "metadata": {
        "id": "LesvJ3v_Xo0n"
      },
      "outputs": [],
      "source": [
        "# Split data into training and testing sets\n",
        "X_no = df_no_outliers.drop(columns = \"Rings\")\n",
        "y_no = df_no_outliers[\"Rings\"]"
      ]
    },
    {
      "cell_type": "code",
      "execution_count": 34,
      "metadata": {
        "id": "LTn6dBS5X4FK"
      },
      "outputs": [],
      "source": [
        "# Split data into training and testing sets\n",
        "X_no_train, X_no_test, y_no_train, y_no_test = train_test_split(X_no, y_no, random_state = 3)"
      ]
    },
    {
      "cell_type": "code",
      "execution_count": 35,
      "metadata": {
        "id": "7WOctRFAX_2C"
      },
      "outputs": [],
      "source": [
        "# Instantiate standard scaler\n",
        "scaler_no = StandardScaler()"
      ]
    },
    {
      "cell_type": "code",
      "execution_count": 36,
      "metadata": {
        "colab": {
          "base_uri": "https://localhost:8080/"
        },
        "id": "oaD38Kr5YE4B",
        "outputId": "883d5bcb-7e31-4a3f-b32a-2acba8978b12"
      },
      "outputs": [
        {
          "output_type": "execute_result",
          "data": {
            "text/plain": [
              "StandardScaler()"
            ]
          },
          "metadata": {},
          "execution_count": 36
        }
      ],
      "source": [
        "# Fit scaler to training data\n",
        "scaler_no.fit(X_no_train)"
      ]
    },
    {
      "cell_type": "code",
      "execution_count": 37,
      "metadata": {
        "id": "RkxgVwmIYHiT"
      },
      "outputs": [],
      "source": [
        "# Scale training and testing data\n",
        "X_no_train_scaled = scaler_no.transform(X_no_train)\n",
        "X_no_test_scaled = scaler_no.transform(X_no_test)"
      ]
    },
    {
      "cell_type": "code",
      "execution_count": 38,
      "metadata": {
        "colab": {
          "base_uri": "https://localhost:8080/"
        },
        "id": "BIZF0DTMYSYM",
        "outputId": "b6dfcc66-245b-45ed-b946-1dee39c1d9b5"
      },
      "outputs": [
        {
          "output_type": "execute_result",
          "data": {
            "text/plain": [
              "LinearRegression()"
            ]
          },
          "metadata": {},
          "execution_count": 38
        }
      ],
      "source": [
        "# Train model\n",
        "multLinReg2.fit(X_no_train_scaled, y_no_train)"
      ]
    },
    {
      "cell_type": "code",
      "execution_count": 39,
      "metadata": {
        "colab": {
          "base_uri": "https://localhost:8080/"
        },
        "id": "LpMrmLAtYaRw",
        "outputId": "b0d43f6d-fd53-4a5a-9116-484357e56540"
      },
      "outputs": [
        {
          "output_type": "execute_result",
          "data": {
            "text/plain": [
              "array([ 8.4027033 ,  9.68212737, 10.61402308, ...,  7.05080196,\n",
              "        8.13314824,  9.30942069])"
            ]
          },
          "metadata": {},
          "execution_count": 39
        }
      ],
      "source": [
        "# Test model\n",
        "multLinReg2.predict(X_no_test_scaled)"
      ]
    },
    {
      "cell_type": "code",
      "source": [
        "# Evaluate model on training set\n",
        "multLinReg2.score(X_no_train_scaled, y_no_train)"
      ],
      "metadata": {
        "colab": {
          "base_uri": "https://localhost:8080/"
        },
        "id": "7Pxt9LUd22SF",
        "outputId": "84834fb3-e15f-4a9c-ae04-28af7cb1a4cc"
      },
      "execution_count": 40,
      "outputs": [
        {
          "output_type": "execute_result",
          "data": {
            "text/plain": [
              "0.5506328743094396"
            ]
          },
          "metadata": {},
          "execution_count": 40
        }
      ]
    },
    {
      "cell_type": "code",
      "execution_count": 41,
      "metadata": {
        "colab": {
          "base_uri": "https://localhost:8080/"
        },
        "id": "0bnOAkbSYiEs",
        "outputId": "46479b8a-9757-4845-d267-4ecabe7e87a4"
      },
      "outputs": [
        {
          "output_type": "execute_result",
          "data": {
            "text/plain": [
              "0.5198595463446136"
            ]
          },
          "metadata": {},
          "execution_count": 41
        }
      ],
      "source": [
        "# Evaluate model on test set\n",
        "multLinReg2.score(X_no_test_scaled, y_no_test)"
      ]
    },
    {
      "cell_type": "markdown",
      "source": [
        "#### Multiple Linear Regression #3\n",
        "\n",
        "Because the data set consists entirely of positive numbers, we experimented with using the MinMax scaler instead of the Standard Scaler to see if it could improve our model.\n",
        "\n",
        "We got an R^2 value of 51.952%. Because it didn't increase the performance of the model, we reverted to the Standard scaler."
      ],
      "metadata": {
        "id": "UTCCjCxZeRpJ"
      }
    },
    {
      "cell_type": "code",
      "source": [
        "# Create model\n",
        "multLinReg3 = LinearRegression()"
      ],
      "metadata": {
        "id": "cHIjkZnleQ1G"
      },
      "execution_count": 44,
      "outputs": []
    },
    {
      "cell_type": "code",
      "source": [
        "# Split data into training and testing sets\n",
        "X_minmax = df_no_outliers.drop(columns = \"Rings\")\n",
        "y_minmax = df_no_outliers[\"Rings\"]"
      ],
      "metadata": {
        "id": "t7czBdOPeQ4Z"
      },
      "execution_count": 45,
      "outputs": []
    },
    {
      "cell_type": "code",
      "source": [
        "# Split data into training and test sets\n",
        "X_minmax_train, X_minmax_test, y_minmax_train, y_minmax_test = train_test_split(X_minmax, y_minmax, random_state = 3)"
      ],
      "metadata": {
        "id": "zShTiffEecFV"
      },
      "execution_count": 46,
      "outputs": []
    },
    {
      "cell_type": "code",
      "source": [
        "# Instantiate MinMax Scaler\n",
        "scaler_minmax = MinMaxScaler()"
      ],
      "metadata": {
        "id": "-C1Y71EdfTEM"
      },
      "execution_count": 47,
      "outputs": []
    },
    {
      "cell_type": "code",
      "source": [
        "# Fit scaler to data\n",
        "scaler_minmax.fit(X_minmax_train)"
      ],
      "metadata": {
        "colab": {
          "base_uri": "https://localhost:8080/"
        },
        "id": "1MQeQzGOfcRy",
        "outputId": "171502a9-9a42-45fe-f928-7d3152bc09e3"
      },
      "execution_count": 48,
      "outputs": [
        {
          "output_type": "execute_result",
          "data": {
            "text/plain": [
              "MinMaxScaler()"
            ]
          },
          "metadata": {},
          "execution_count": 48
        }
      ]
    },
    {
      "cell_type": "code",
      "source": [
        "# Scale data \n",
        "X_minmax_train_scaled = scaler_minmax.transform(X_minmax_train)\n",
        "X_minmax_test_scaled = scaler_minmax.transform(X_minmax_test)"
      ],
      "metadata": {
        "id": "lrOLQ281ffyy"
      },
      "execution_count": 49,
      "outputs": []
    },
    {
      "cell_type": "code",
      "source": [
        "# Train model\n",
        "multLinReg3.fit(X_minmax_train_scaled, y_minmax_train)"
      ],
      "metadata": {
        "colab": {
          "base_uri": "https://localhost:8080/"
        },
        "id": "6Y9t25GKgYZd",
        "outputId": "91dfd3f5-4349-4186-d380-6b053fb24467"
      },
      "execution_count": 50,
      "outputs": [
        {
          "output_type": "execute_result",
          "data": {
            "text/plain": [
              "LinearRegression()"
            ]
          },
          "metadata": {},
          "execution_count": 50
        }
      ]
    },
    {
      "cell_type": "code",
      "source": [
        "# Test model\n",
        "multLinReg3.predict(X_minmax_test_scaled)"
      ],
      "metadata": {
        "colab": {
          "base_uri": "https://localhost:8080/"
        },
        "id": "HRLjh3igg0et",
        "outputId": "141a3ed0-2dc6-4513-cb21-77fe766398fc"
      },
      "execution_count": 51,
      "outputs": [
        {
          "output_type": "execute_result",
          "data": {
            "text/plain": [
              "array([ 8.421875,  9.703125, 10.640625, ...,  7.03125 ,  8.171875,\n",
              "        9.3125  ])"
            ]
          },
          "metadata": {},
          "execution_count": 51
        }
      ]
    },
    {
      "cell_type": "code",
      "source": [
        "# Evaluate training set\n",
        "multLinReg3.score(X_minmax_train_scaled, y_minmax_train)"
      ],
      "metadata": {
        "colab": {
          "base_uri": "https://localhost:8080/"
        },
        "id": "oWFzrWPo2q9V",
        "outputId": "2d463c3d-0fe1-4a83-8528-d806cfea62fe"
      },
      "execution_count": 52,
      "outputs": [
        {
          "output_type": "execute_result",
          "data": {
            "text/plain": [
              "0.5506211574152733"
            ]
          },
          "metadata": {},
          "execution_count": 52
        }
      ]
    },
    {
      "cell_type": "code",
      "source": [
        "# Evaluate testing set\n",
        "multLinReg3.score(X_minmax_test_scaled, y_minmax_test)"
      ],
      "metadata": {
        "colab": {
          "base_uri": "https://localhost:8080/"
        },
        "id": "n7XKwBRMg9T_",
        "outputId": "e6eca53d-750b-4521-8257-ffe669aeb05d"
      },
      "execution_count": 53,
      "outputs": [
        {
          "output_type": "execute_result",
          "data": {
            "text/plain": [
              "0.5195227159847559"
            ]
          },
          "metadata": {},
          "execution_count": 53
        }
      ]
    },
    {
      "cell_type": "markdown",
      "source": [
        "A multiple linear regression doesn't seem to be working."
      ],
      "metadata": {
        "id": "GGDCJDbDpSCQ"
      }
    },
    {
      "cell_type": "markdown",
      "source": [
        "### k-Nearest Neighbors Regressor\n",
        "\n",
        "Our next model to try was the k-Nearest Neighbors Regressor. "
      ],
      "metadata": {
        "id": "pOxLOlFHxnJQ"
      }
    },
    {
      "cell_type": "code",
      "source": [
        "# Import k-Nearest Neighbors Regressor\n",
        "from sklearn.neighbors import KNeighborsRegressor"
      ],
      "metadata": {
        "id": "_926oIGvpVKL"
      },
      "execution_count": 56,
      "outputs": []
    },
    {
      "cell_type": "code",
      "source": [
        "# Create model\n",
        "knn = KNeighborsRegressor()"
      ],
      "metadata": {
        "id": "67gTeFiZuWyt"
      },
      "execution_count": 57,
      "outputs": []
    },
    {
      "cell_type": "code",
      "source": [
        "# Split target column from features\n",
        "X_knn = df_no_outliers.drop(columns = \"Rings\")\n",
        "y_knn = df_no_outliers[\"Rings\"]"
      ],
      "metadata": {
        "id": "YWYqm2Qww8BF"
      },
      "execution_count": 58,
      "outputs": []
    },
    {
      "cell_type": "code",
      "source": [
        "# Split data into training and testing sets\n",
        "X_knn_train, X_knn_test, y_knn_train, y_knn_test = train_test_split(X_knn, y_knn, random_state = 3)"
      ],
      "metadata": {
        "id": "lJ1zK6XyxAF6"
      },
      "execution_count": 59,
      "outputs": []
    },
    {
      "cell_type": "code",
      "source": [
        "# Instantiate standard scaler\n",
        "scaler = StandardScaler()"
      ],
      "metadata": {
        "id": "kYoZcHHuxJYN"
      },
      "execution_count": 60,
      "outputs": []
    },
    {
      "cell_type": "code",
      "source": [
        "# Fit scaler to training data\n",
        "scaler.fit(X_knn_train)"
      ],
      "metadata": {
        "colab": {
          "base_uri": "https://localhost:8080/"
        },
        "id": "USDdgzpoxztz",
        "outputId": "6bdb96a2-49c3-4ca0-f47e-707bb91eaed3"
      },
      "execution_count": 61,
      "outputs": [
        {
          "output_type": "execute_result",
          "data": {
            "text/plain": [
              "StandardScaler()"
            ]
          },
          "metadata": {},
          "execution_count": 61
        }
      ]
    },
    {
      "cell_type": "code",
      "source": [
        "# Scale data\n",
        "X_knn_train_scaled = scaler.transform(X_knn_train)\n",
        "X_knn_test_scaled = scaler.transform(X_knn_test)"
      ],
      "metadata": {
        "id": "C4FZkvKrx1bQ"
      },
      "execution_count": 62,
      "outputs": []
    },
    {
      "cell_type": "code",
      "source": [
        "# Test various values of k to find where the change in performance levels off\n",
        "# Borrowed and adapted from 19.2 Activity 6\n",
        "train_scores = []\n",
        "test_scores = []\n",
        "for k in range(1, 20, 2):\n",
        "    knn = KNeighborsRegressor(n_neighbors=k)\n",
        "    knn.fit(X_train_scaled, y_train)\n",
        "    train_score = knn.score(X_train_scaled, y_train)\n",
        "    test_score = knn.score(X_test_scaled, y_test)\n",
        "    train_scores.append(train_score)\n",
        "    test_scores.append(test_score)\n",
        "    print(f\"k: {k}, Train/Test Score: {train_score:.3f}/{test_score:.3f}\")\n",
        "    \n",
        "plt.plot(range(1, 20, 2), train_scores, marker='o')\n",
        "plt.plot(range(1, 20, 2), test_scores, marker=\"x\")\n",
        "plt.xlabel(\"Value of k\")\n",
        "plt.ylabel(\"Testing accuracy score\")\n",
        "plt.show()"
      ],
      "metadata": {
        "colab": {
          "base_uri": "https://localhost:8080/",
          "height": 453
        },
        "id": "5xcUz2ygx6i6",
        "outputId": "4f5c787e-8a29-478b-ec27-3821084a31f0"
      },
      "execution_count": 63,
      "outputs": [
        {
          "output_type": "stream",
          "name": "stdout",
          "text": [
            "k: 1, Train/Test Score: 1.000/0.130\n",
            "k: 3, Train/Test Score: 0.713/0.435\n",
            "k: 5, Train/Test Score: 0.659/0.473\n",
            "k: 7, Train/Test Score: 0.632/0.506\n",
            "k: 9, Train/Test Score: 0.617/0.510\n",
            "k: 11, Train/Test Score: 0.603/0.516\n",
            "k: 13, Train/Test Score: 0.597/0.514\n",
            "k: 15, Train/Test Score: 0.588/0.511\n",
            "k: 17, Train/Test Score: 0.580/0.511\n",
            "k: 19, Train/Test Score: 0.574/0.510\n"
          ]
        },
        {
          "output_type": "display_data",
          "data": {
            "text/plain": [
              "<Figure size 432x288 with 1 Axes>"
            ],
            "image/png": "[encoded data removed]"
          },
          "metadata": {
            "needs_background": "light"
          }
        }
      ]
    },
    {
      "cell_type": "markdown",
      "source": [
        "It appears that the graph levels off around k = 7. We decided to see what results we would get from k = 5, 7, and 9."
      ],
      "metadata": {
        "id": "QSg09w04FT9E"
      }
    },
    {
      "cell_type": "markdown",
      "source": [
        "#### k-Nearest Neighbors where k = 7\n",
        "\n",
        "This model produced an R^2 value of 51.758%, which is similar to our Multiple Linear Regression models. However, this model shows evidence of overfitting the data."
      ],
      "metadata": {
        "id": "PutJ-KikFn2U"
      }
    },
    {
      "cell_type": "code",
      "source": [
        "# Instantiate the model\n",
        "\n",
        "knn7 = KNeighborsRegressor(n_neighbors=7)"
      ],
      "metadata": {
        "id": "QULusjamyN6W"
      },
      "execution_count": 64,
      "outputs": []
    },
    {
      "cell_type": "code",
      "source": [
        "# Train model\n",
        "knn7.fit(X_knn_train_scaled, y_knn_train)"
      ],
      "metadata": {
        "colab": {
          "base_uri": "https://localhost:8080/"
        },
        "id": "G5pOjDJ7yoTf",
        "outputId": "885b1567-2523-45e9-ca07-f90a0317797a"
      },
      "execution_count": 65,
      "outputs": [
        {
          "output_type": "execute_result",
          "data": {
            "text/plain": [
              "KNeighborsRegressor(n_neighbors=7)"
            ]
          },
          "metadata": {},
          "execution_count": 65
        }
      ]
    },
    {
      "cell_type": "code",
      "source": [
        "# Evaluate model on training set\n",
        "knn7.score(X_knn_train_scaled, y_knn_train)"
      ],
      "metadata": {
        "colab": {
          "base_uri": "https://localhost:8080/"
        },
        "id": "gWVmA2Sx2YJf",
        "outputId": "e1c8a536-d35b-43bc-d950-d6e87ed50ba0"
      },
      "execution_count": 66,
      "outputs": [
        {
          "output_type": "execute_result",
          "data": {
            "text/plain": [
              "0.6327925600619995"
            ]
          },
          "metadata": {},
          "execution_count": 66
        }
      ]
    },
    {
      "cell_type": "code",
      "source": [
        "# Evaluate model on test set\n",
        "knn7.score(X_knn_test_scaled, y_knn_test)"
      ],
      "metadata": {
        "colab": {
          "base_uri": "https://localhost:8080/"
        },
        "id": "lBD40G17ytOK",
        "outputId": "2b940ddb-98fc-4168-d684-e324baf40886"
      },
      "execution_count": 67,
      "outputs": [
        {
          "output_type": "execute_result",
          "data": {
            "text/plain": [
              "0.5175826155218659"
            ]
          },
          "metadata": {},
          "execution_count": 67
        }
      ]
    },
    {
      "cell_type": "markdown",
      "source": [
        "#### k-Nearest Neighbors where k = 5\n",
        "\n",
        "This model produced an R^2 of 51.442%. This isn't as strong as the model with k = 7, and it still shows evidence of overfitting."
      ],
      "metadata": {
        "id": "wBUP0QbRFz1X"
      }
    },
    {
      "cell_type": "code",
      "source": [
        "# Instantiate the model\n",
        "\n",
        "knn5 = KNeighborsRegressor(n_neighbors=5)"
      ],
      "metadata": {
        "id": "GgDbdrzty3Ml"
      },
      "execution_count": 68,
      "outputs": []
    },
    {
      "cell_type": "code",
      "source": [
        "# Train model\n",
        "knn5.fit(X_knn_train_scaled, y_knn_train)"
      ],
      "metadata": {
        "colab": {
          "base_uri": "https://localhost:8080/"
        },
        "id": "-NIYVdPGzBIc",
        "outputId": "286f5923-4fe2-4012-ca71-2c1523aa4dc0"
      },
      "execution_count": 69,
      "outputs": [
        {
          "output_type": "execute_result",
          "data": {
            "text/plain": [
              "KNeighborsRegressor()"
            ]
          },
          "metadata": {},
          "execution_count": 69
        }
      ]
    },
    {
      "cell_type": "code",
      "source": [
        "# Evaluate model on training set \n",
        "knn5.score(X_knn_train_scaled, y_knn_train)"
      ],
      "metadata": {
        "colab": {
          "base_uri": "https://localhost:8080/"
        },
        "id": "7sBrcXd82TRv",
        "outputId": "4e06dd71-d7a2-4db4-ad03-e0c3a1c6d3df"
      },
      "execution_count": 70,
      "outputs": [
        {
          "output_type": "execute_result",
          "data": {
            "text/plain": [
              "0.6568778400215458"
            ]
          },
          "metadata": {},
          "execution_count": 70
        }
      ]
    },
    {
      "cell_type": "code",
      "source": [
        "# Evaluate model on testing set \n",
        "knn5.score(X_knn_test_scaled, y_knn_test)"
      ],
      "metadata": {
        "colab": {
          "base_uri": "https://localhost:8080/"
        },
        "id": "58a6Q2BuzEuj",
        "outputId": "eb975d37-6b30-4793-8eac-844829f7d012"
      },
      "execution_count": 71,
      "outputs": [
        {
          "output_type": "execute_result",
          "data": {
            "text/plain": [
              "0.5144217172021863"
            ]
          },
          "metadata": {},
          "execution_count": 71
        }
      ]
    },
    {
      "cell_type": "markdown",
      "source": [
        "#### k-Nearest Neighbors with k = 9\n",
        "\n",
        "This model produced an R^2 value of 51.844%. This is close to the performance of our best Multiple Linear Regression model, but it shows evidence of overfitting the data."
      ],
      "metadata": {
        "id": "hcIqOyQXGDYC"
      }
    },
    {
      "cell_type": "code",
      "source": [
        "# Instantiate the model\n",
        "\n",
        "knn9 = KNeighborsRegressor(n_neighbors=9)"
      ],
      "metadata": {
        "id": "PCherQWnzKr9"
      },
      "execution_count": 177,
      "outputs": []
    },
    {
      "cell_type": "code",
      "source": [
        "# train model \n",
        "knn9.fit(X_knn_train_scaled, y_knn_train)"
      ],
      "metadata": {
        "colab": {
          "base_uri": "https://localhost:8080/"
        },
        "id": "w2pOXIvozQey",
        "outputId": "37d983f5-a4c6-4708-ddeb-585839e4f7e9"
      },
      "execution_count": 73,
      "outputs": [
        {
          "output_type": "execute_result",
          "data": {
            "text/plain": [
              "KNeighborsRegressor(n_neighbors=9)"
            ]
          },
          "metadata": {},
          "execution_count": 73
        }
      ]
    },
    {
      "cell_type": "code",
      "source": [
        "# evaluate model on training set\n",
        "knn9.score(X_knn_train_scaled, y_knn_train)"
      ],
      "metadata": {
        "colab": {
          "base_uri": "https://localhost:8080/"
        },
        "id": "fsMSnBEp2MnW",
        "outputId": "577a0c6f-ed6c-4b19-81ff-66a8bcb6d25b"
      },
      "execution_count": 74,
      "outputs": [
        {
          "output_type": "execute_result",
          "data": {
            "text/plain": [
              "0.6119803742606059"
            ]
          },
          "metadata": {},
          "execution_count": 74
        }
      ]
    },
    {
      "cell_type": "code",
      "source": [
        "# evaluate model on test set\n",
        "knn9.score(X_knn_test_scaled, y_knn_test)"
      ],
      "metadata": {
        "colab": {
          "base_uri": "https://localhost:8080/"
        },
        "id": "mj5qqVKmzUfO",
        "outputId": "430aa918-f1b4-41df-de2b-a2325d428318"
      },
      "execution_count": 75,
      "outputs": [
        {
          "output_type": "execute_result",
          "data": {
            "text/plain": [
              "0.5184358874584232"
            ]
          },
          "metadata": {},
          "execution_count": 75
        }
      ]
    },
    {
      "cell_type": "markdown",
      "source": [
        "K Nearest Neighbors Regressor worked about as well as the Multiple Linear Regression (that is to say, not well). It also seems to be overfitting the data (training score is higher than the testing score by a bunch). Time to try something else. I'm going to try a Support Vector Regression."
      ],
      "metadata": {
        "id": "DApNcatRzaoJ"
      }
    },
    {
      "cell_type": "markdown",
      "source": [
        "### Support Vector Regression\n",
        "\n",
        "The next model we tried was the Support Vector Regressor.\n",
        "\n",
        "This model produced better results. It produced an R^2 value of 54.430%. It is the best-performing model so far, and it has less evidence of overfitting the data than the k-Nearest Neighbors Regressors."
      ],
      "metadata": {
        "id": "X1pVc235xuEG"
      }
    },
    {
      "cell_type": "code",
      "source": [
        "# Import Support Vector Regression\n",
        "from sklearn.svm import SVR"
      ],
      "metadata": {
        "id": "U_JPtnY6zXoV"
      },
      "execution_count": 178,
      "outputs": []
    },
    {
      "cell_type": "code",
      "source": [
        "# Split target column from the features\n",
        "X_svr = df_no_outliers.drop(columns = \"Rings\")\n",
        "y_svr = df_no_outliers[\"Rings\"]"
      ],
      "metadata": {
        "id": "oX9NPFox0Yb4"
      },
      "execution_count": 77,
      "outputs": []
    },
    {
      "cell_type": "code",
      "source": [
        "# Split data into training and testing set\n",
        "X_svr_train, X_svr_test, y_svr_train, y_svr_test = train_test_split(X_svr, y_svr, random_state = 3)"
      ],
      "metadata": {
        "id": "CE6qUM2g07px"
      },
      "execution_count": 78,
      "outputs": []
    },
    {
      "cell_type": "code",
      "source": [
        "# Scale with standard scaler\n",
        "scaler = StandardScaler()"
      ],
      "metadata": {
        "id": "CrPBQZE81Gcv"
      },
      "execution_count": 79,
      "outputs": []
    },
    {
      "cell_type": "code",
      "source": [
        "# Fit scaler to training data\n",
        "scaler.fit(X_svr_train)"
      ],
      "metadata": {
        "colab": {
          "base_uri": "https://localhost:8080/"
        },
        "id": "N_ZzoVKh1Lmf",
        "outputId": "214172c7-0eb3-4a11-8b79-40b2113ef5f9"
      },
      "execution_count": 80,
      "outputs": [
        {
          "output_type": "execute_result",
          "data": {
            "text/plain": [
              "StandardScaler()"
            ]
          },
          "metadata": {},
          "execution_count": 80
        }
      ]
    },
    {
      "cell_type": "code",
      "source": [
        "# Scale data \n",
        "X_svr_train_scaled = scaler.transform(X_svr_train)\n",
        "X_svr_test_scaled = scaler.transform(X_svr_test)"
      ],
      "metadata": {
        "id": "KJb5xXmU1VO2"
      },
      "execution_count": 81,
      "outputs": []
    },
    {
      "cell_type": "code",
      "source": [
        "# Instantiate the model\n",
        "svr = SVR()"
      ],
      "metadata": {
        "id": "Fs-upEVk1eH7"
      },
      "execution_count": 82,
      "outputs": []
    },
    {
      "cell_type": "code",
      "source": [
        "# Train model\n",
        "svr.fit(X_svr_train_scaled, y_svr_train)"
      ],
      "metadata": {
        "colab": {
          "base_uri": "https://localhost:8080/"
        },
        "id": "3SKz7zIW1hIo",
        "outputId": "80792ed5-d8dc-4fb0-b900-b5f426375bef"
      },
      "execution_count": 83,
      "outputs": [
        {
          "output_type": "execute_result",
          "data": {
            "text/plain": [
              "SVR()"
            ]
          },
          "metadata": {},
          "execution_count": 83
        }
      ]
    },
    {
      "cell_type": "code",
      "source": [
        "# Evaluate model on training set\n",
        "svr.score(X_svr_train_scaled, y_svr_train)"
      ],
      "metadata": {
        "colab": {
          "base_uri": "https://localhost:8080/"
        },
        "id": "7P8Iv-9C2HeQ",
        "outputId": "7f89f0e1-e108-4c10-e0f1-adc993108bf2"
      },
      "execution_count": 84,
      "outputs": [
        {
          "output_type": "execute_result",
          "data": {
            "text/plain": [
              "0.5467901792826577"
            ]
          },
          "metadata": {},
          "execution_count": 84
        }
      ]
    },
    {
      "cell_type": "code",
      "source": [
        "# Evaluate model on testing set\n",
        "svr.score(X_svr_test_scaled, y_svr_test)"
      ],
      "metadata": {
        "colab": {
          "base_uri": "https://localhost:8080/"
        },
        "id": "euIaWqXb1ltl",
        "outputId": "7540d3c9-0bed-496c-fe5f-8466ab57c607"
      },
      "execution_count": 85,
      "outputs": [
        {
          "output_type": "execute_result",
          "data": {
            "text/plain": [
              "0.5443014471089089"
            ]
          },
          "metadata": {},
          "execution_count": 85
        }
      ]
    },
    {
      "cell_type": "markdown",
      "source": [
        "### Random Forest Regressors\n",
        "\n",
        "The next model we wanted to try was a Random Forest Regressor.\n",
        "\n"
      ],
      "metadata": {
        "id": "pHBKr1bLxzNE"
      }
    },
    {
      "cell_type": "markdown",
      "source": [
        "#### Set up for the Random Forest Regressors"
      ],
      "metadata": {
        "id": "05_8YOOxqGaH"
      }
    },
    {
      "cell_type": "code",
      "source": [
        "# Import Random Forest Regressor\n",
        "from sklearn.ensemble import RandomForestRegressor"
      ],
      "metadata": {
        "id": "Kvyv3Mbb1t70"
      },
      "execution_count": 86,
      "outputs": []
    },
    {
      "cell_type": "code",
      "source": [
        "# Instantiate the regressor\n",
        "forest = RandomForestRegressor()"
      ],
      "metadata": {
        "id": "0cMnFNYC3SMn"
      },
      "execution_count": 87,
      "outputs": []
    },
    {
      "cell_type": "code",
      "source": [
        "# Split target column from features\n",
        "X_forest = df_no_outliers.drop(columns = \"Rings\")\n",
        "y_forest = df_no_outliers[\"Rings\"]"
      ],
      "metadata": {
        "id": "fKlqYvbQ4UB0"
      },
      "execution_count": 88,
      "outputs": []
    },
    {
      "cell_type": "code",
      "source": [
        "# Split data into training and testing sets\n",
        "X_forest_train, X_forest_test, y_forest_train, y_forest_test = train_test_split(X_forest, y_forest, random_state = 3)"
      ],
      "metadata": {
        "id": "HFqyul4t4399"
      },
      "execution_count": 89,
      "outputs": []
    },
    {
      "cell_type": "code",
      "source": [
        "# Scale data with standard scaler\n",
        "scaler = StandardScaler()"
      ],
      "metadata": {
        "id": "M8H8zkvl5AV3"
      },
      "execution_count": 90,
      "outputs": []
    },
    {
      "cell_type": "code",
      "source": [
        "# Fit data to scaler\n",
        "scaler.fit(X_forest_train)"
      ],
      "metadata": {
        "colab": {
          "base_uri": "https://localhost:8080/"
        },
        "id": "tDxEWctN5GIQ",
        "outputId": "ff2d7d88-6160-4b92-cefb-ffef28972245"
      },
      "execution_count": 91,
      "outputs": [
        {
          "output_type": "execute_result",
          "data": {
            "text/plain": [
              "StandardScaler()"
            ]
          },
          "metadata": {},
          "execution_count": 91
        }
      ]
    },
    {
      "cell_type": "code",
      "source": [
        "# Scale data\n",
        "X_forest_train_scaled = scaler.transform(X_forest_train)\n",
        "X_forest_test_scaled = scaler.transform(X_forest_test)"
      ],
      "metadata": {
        "id": "qgmL_Inm5IIp"
      },
      "execution_count": 92,
      "outputs": []
    },
    {
      "cell_type": "markdown",
      "source": [
        "#### Random Forest Regressor #1\n",
        "\n",
        "The first Random Forest that we tried used 1,000 estimators with a maximum depth of 7 splits that each estimator could make. \n",
        "\n",
        "This performed better than the previous models, producing an R^2 value of 55.327%, but it also overfit the data."
      ],
      "metadata": {
        "id": "I1IzXvO8eoQ1"
      }
    },
    {
      "cell_type": "code",
      "source": [
        "# Setting up Random Forest\n",
        "forest = RandomForestRegressor(n_estimators= 1000, random_state = 3, max_depth = 7, max_features = 5)"
      ],
      "metadata": {
        "id": "GJOw34CS5NSK"
      },
      "execution_count": 93,
      "outputs": []
    },
    {
      "cell_type": "code",
      "source": [
        "# Train model\n",
        "forest.fit(X_forest_train_scaled, y_forest_train)"
      ],
      "metadata": {
        "colab": {
          "base_uri": "https://localhost:8080/"
        },
        "id": "tDms-WtV6PnF",
        "outputId": "34f071b2-0269-41ca-ae6b-8ddde1b402c2"
      },
      "execution_count": 94,
      "outputs": [
        {
          "output_type": "execute_result",
          "data": {
            "text/plain": [
              "RandomForestRegressor(max_depth=7, max_features=5, n_estimators=1000,\n",
              "                      random_state=3)"
            ]
          },
          "metadata": {},
          "execution_count": 94
        }
      ]
    },
    {
      "cell_type": "code",
      "source": [
        "# Evaluate model on training data\n",
        "forest.score(X_forest_train_scaled, y_forest_train)"
      ],
      "metadata": {
        "colab": {
          "base_uri": "https://localhost:8080/"
        },
        "id": "8ft4pYxP6TiJ",
        "outputId": "d40915c9-6b59-46cf-b87b-c0db249d16df"
      },
      "execution_count": 95,
      "outputs": [
        {
          "output_type": "execute_result",
          "data": {
            "text/plain": [
              "0.6849268856324697"
            ]
          },
          "metadata": {},
          "execution_count": 95
        }
      ]
    },
    {
      "cell_type": "code",
      "source": [
        "# Evaluate model on testing data\n",
        "forest.score(X_forest_test_scaled, y_forest_test)"
      ],
      "metadata": {
        "colab": {
          "base_uri": "https://localhost:8080/"
        },
        "id": "__VTD-5d6eK-",
        "outputId": "ad5fbdd9-4dff-4df9-8480-f32e17101f50"
      },
      "execution_count": 96,
      "outputs": [
        {
          "output_type": "execute_result",
          "data": {
            "text/plain": [
              "0.5532751890702399"
            ]
          },
          "metadata": {},
          "execution_count": 96
        }
      ]
    },
    {
      "cell_type": "markdown",
      "source": [
        "#### Random Forest Regressor 2\n",
        "\n",
        "For this Random Forest regressor, we reduced the number of estimators to 500 and reduced the maximum depth to 5. \n",
        "\n",
        "This improved the over-fitting problem, but it also only yielded an R^2 value of 52.263%."
      ],
      "metadata": {
        "id": "aKkzKAYUeUiu"
      }
    },
    {
      "cell_type": "code",
      "source": [
        "# Setting up the Random Forest\n",
        "forest2 = RandomForestRegressor(n_estimators = 500, random_state = 3, max_depth = 5, max_features = 5)"
      ],
      "metadata": {
        "id": "0H6HRaklc-C-"
      },
      "execution_count": 180,
      "outputs": []
    },
    {
      "cell_type": "code",
      "source": [
        "# Train model\n",
        "forest2.fit(X_forest_train_scaled, y_forest_train)"
      ],
      "metadata": {
        "colab": {
          "base_uri": "https://localhost:8080/"
        },
        "id": "jUXKZy_gc9_-",
        "outputId": "b464e8f6-64ed-4e39-8836-8a56e992dc1e"
      },
      "execution_count": 181,
      "outputs": [
        {
          "output_type": "execute_result",
          "data": {
            "text/plain": [
              "RandomForestRegressor(max_depth=5, max_features=5, n_estimators=500,\n",
              "                      random_state=3)"
            ]
          },
          "metadata": {},
          "execution_count": 181
        }
      ]
    },
    {
      "cell_type": "code",
      "source": [
        "# Evaluate model on the training data\n",
        "forest2.score(X_forest_train_scaled, y_forest_train)"
      ],
      "metadata": {
        "colab": {
          "base_uri": "https://localhost:8080/"
        },
        "id": "rfuqI6_Pc99N",
        "outputId": "0b5f202a-4349-41b1-9dcc-c3470cc6df00"
      },
      "execution_count": 182,
      "outputs": [
        {
          "output_type": "execute_result",
          "data": {
            "text/plain": [
              "0.5799233676838538"
            ]
          },
          "metadata": {},
          "execution_count": 182
        }
      ]
    },
    {
      "cell_type": "code",
      "source": [
        "# Evaluate model on the testing data\n",
        "forest2.score(X_forest_test_scaled, y_forest_test)"
      ],
      "metadata": {
        "colab": {
          "base_uri": "https://localhost:8080/"
        },
        "id": "osGMxWELdw29",
        "outputId": "ad8487b5-5de9-41e1-bf96-c09d2e2df94e"
      },
      "execution_count": 183,
      "outputs": [
        {
          "output_type": "execute_result",
          "data": {
            "text/plain": [
              "0.522625486015224"
            ]
          },
          "metadata": {},
          "execution_count": 183
        }
      ]
    },
    {
      "cell_type": "markdown",
      "source": [
        "### Neural Networks\n",
        "\n",
        "Having gone through many regressors, we decided that we wanted to see if a neural network would have more success."
      ],
      "metadata": {
        "id": "Fw-Js0GJ-dCP"
      }
    },
    {
      "cell_type": "markdown",
      "source": [
        "#### Set up for Neural Networks"
      ],
      "metadata": {
        "id": "AbaRuQfcXdhn"
      }
    },
    {
      "cell_type": "code",
      "source": [
        "# Split target from features set\n",
        "\n",
        "X_nn = df_no_outliers.drop(columns = \"Rings\")\n",
        "y_nn = df_no_outliers[\"Rings\"]"
      ],
      "metadata": {
        "id": "Af0nKkUk-f7m"
      },
      "execution_count": 19,
      "outputs": []
    },
    {
      "cell_type": "code",
      "source": [
        "# Split data into training and testing sets\n",
        "\n",
        "X_nn_train, X_nn_test, y_nn_train, y_nn_test = train_test_split(X_nn, y_nn, random_state = 3)"
      ],
      "metadata": {
        "id": "-pnWj1iN_Rmu"
      },
      "execution_count": 20,
      "outputs": []
    },
    {
      "cell_type": "code",
      "source": [
        "# Scale data with MinMax Scaler (as suggested by Google search)\n",
        "\n",
        "scaler = MinMaxScaler()"
      ],
      "metadata": {
        "id": "Ltry2phO_RkK"
      },
      "execution_count": 21,
      "outputs": []
    },
    {
      "cell_type": "code",
      "source": [
        "# Fit data to scaler\n",
        "\n",
        "scaler.fit(X_nn_train)"
      ],
      "metadata": {
        "colab": {
          "base_uri": "https://localhost:8080/"
        },
        "id": "f6_hpcwa_Q0k",
        "outputId": "9d17c9cf-e5cd-48b5-b27c-92aec3eb50b0"
      },
      "execution_count": 22,
      "outputs": [
        {
          "output_type": "execute_result",
          "data": {
            "text/plain": [
              "MinMaxScaler()"
            ]
          },
          "metadata": {},
          "execution_count": 22
        }
      ]
    },
    {
      "cell_type": "code",
      "source": [
        "# Scale data\n",
        "\n",
        "X_nn_train_scaled = scaler.transform(X_nn_train)\n",
        "X_nn_test_scaled = scaler.transform(X_nn_test)"
      ],
      "metadata": {
        "id": "3kFcHJCT_qR4"
      },
      "execution_count": 23,
      "outputs": []
    },
    {
      "cell_type": "markdown",
      "source": [
        "#### Neural Network #1\n",
        "\n",
        "For our first attempt at using a neural network, we set up a network with one hidden layer of 30 densely-connected perceptrons with ReLU activation, and an output layer of one perceptron with a linear activation. We trained this model for 50 epochs before testing it on the test data set. \n",
        "\n",
        "We used Mean Squared Error (MSE) as our loss function since we are doing a regression rather than a classification problem. The output layer has a linear activation instead of a sigmoid activation for the same reason.\n",
        "\n",
        "This model produced an R^2 value of 51.172%. This is about on par with the performance of the Multiple Linear Regressions, but it provides a good starting point."
      ],
      "metadata": {
        "id": "kxzj9dl0QZb3"
      }
    },
    {
      "cell_type": "code",
      "source": [
        "# Build neural network model.\n",
        "\n",
        "nn_model = tf.keras.models.Sequential()\n",
        "nn_model.add(tf.keras.layers.Dense(units = 30, activation = \"relu\", input_dim = 10))\n",
        "nn_model.add(tf.keras.layers.Dense(units = 1, activation = \"linear\"))\n",
        "\n",
        "nn_model.summary()"
      ],
      "metadata": {
        "colab": {
          "base_uri": "https://localhost:8080/"
        },
        "id": "UI78YJjQzX5A",
        "outputId": "888ee1d0-64e6-4e47-c06a-b220ba4f3106"
      },
      "execution_count": 24,
      "outputs": [
        {
          "output_type": "stream",
          "name": "stdout",
          "text": [
            "Model: \"sequential\"\n",
            "_________________________________________________________________\n",
            " Layer (type)                Output Shape              Param #   \n",
            "=================================================================\n",
            " dense (Dense)               (None, 30)                330       \n",
            "                                                                 \n",
            " dense_1 (Dense)             (None, 1)                 31        \n",
            "                                                                 \n",
            "=================================================================\n",
            "Total params: 361\n",
            "Trainable params: 361\n",
            "Non-trainable params: 0\n",
            "_________________________________________________________________\n"
          ]
        }
      ]
    },
    {
      "cell_type": "code",
      "source": [
        "# Compile and fit model\n",
        "\n",
        "nn_model.compile(loss = \"mean_squared_error\", optimizer = \"adam\")\n",
        "\n",
        "fit_model = nn_model.fit(X_nn_train_scaled, y_nn_train, epochs = 50)"
      ],
      "metadata": {
        "colab": {
          "base_uri": "https://localhost:8080/"
        },
        "id": "1u21jiaVQFq1",
        "outputId": "2d5486d3-7dce-4e20-bfa4-5a78f722e188"
      },
      "execution_count": 25,
      "outputs": [
        {
          "output_type": "stream",
          "name": "stdout",
          "text": [
            "Epoch 1/50\n",
            "98/98 [==============================] - 1s 3ms/step - loss: 74.7526\n",
            "Epoch 2/50\n",
            "98/98 [==============================] - 0s 2ms/step - loss: 24.9275\n",
            "Epoch 3/50\n",
            "98/98 [==============================] - 0s 2ms/step - loss: 7.6528\n",
            "Epoch 4/50\n",
            "98/98 [==============================] - 0s 2ms/step - loss: 7.1575\n",
            "Epoch 5/50\n",
            "98/98 [==============================] - 0s 2ms/step - loss: 7.1092\n",
            "Epoch 6/50\n",
            "98/98 [==============================] - 0s 2ms/step - loss: 7.0445\n",
            "Epoch 7/50\n",
            "98/98 [==============================] - 0s 2ms/step - loss: 6.9913\n",
            "Epoch 8/50\n",
            "98/98 [==============================] - 0s 3ms/step - loss: 6.9346\n",
            "Epoch 9/50\n",
            "98/98 [==============================] - 0s 3ms/step - loss: 6.8826\n",
            "Epoch 10/50\n",
            "98/98 [==============================] - 0s 2ms/step - loss: 6.8254\n",
            "Epoch 11/50\n",
            "98/98 [==============================] - 0s 2ms/step - loss: 6.7738\n",
            "Epoch 12/50\n",
            "98/98 [==============================] - 0s 2ms/step - loss: 6.7198\n",
            "Epoch 13/50\n",
            "98/98 [==============================] - 0s 2ms/step - loss: 6.6807\n",
            "Epoch 14/50\n",
            "98/98 [==============================] - 0s 2ms/step - loss: 6.6385\n",
            "Epoch 15/50\n",
            "98/98 [==============================] - 0s 2ms/step - loss: 6.5719\n",
            "Epoch 16/50\n",
            "98/98 [==============================] - 0s 2ms/step - loss: 6.5244\n",
            "Epoch 17/50\n",
            "98/98 [==============================] - 0s 4ms/step - loss: 6.4873\n",
            "Epoch 18/50\n",
            "98/98 [==============================] - 0s 4ms/step - loss: 6.4297\n",
            "Epoch 19/50\n",
            "98/98 [==============================] - 0s 4ms/step - loss: 6.3864\n",
            "Epoch 20/50\n",
            "98/98 [==============================] - 0s 4ms/step - loss: 6.3422\n",
            "Epoch 21/50\n",
            "98/98 [==============================] - 0s 5ms/step - loss: 6.2865\n",
            "Epoch 22/50\n",
            "98/98 [==============================] - 0s 5ms/step - loss: 6.2346\n",
            "Epoch 23/50\n",
            "98/98 [==============================] - 0s 4ms/step - loss: 6.2051\n",
            "Epoch 24/50\n",
            "98/98 [==============================] - 0s 3ms/step - loss: 6.1479\n",
            "Epoch 25/50\n",
            "98/98 [==============================] - 0s 4ms/step - loss: 6.1213\n",
            "Epoch 26/50\n",
            "98/98 [==============================] - 0s 4ms/step - loss: 6.0552\n",
            "Epoch 27/50\n",
            "98/98 [==============================] - 0s 5ms/step - loss: 6.0233\n",
            "Epoch 28/50\n",
            "98/98 [==============================] - 0s 3ms/step - loss: 5.9478\n",
            "Epoch 29/50\n",
            "98/98 [==============================] - 0s 3ms/step - loss: 5.9063\n",
            "Epoch 30/50\n",
            "98/98 [==============================] - 0s 4ms/step - loss: 5.8519\n",
            "Epoch 31/50\n",
            "98/98 [==============================] - 0s 4ms/step - loss: 5.8152\n",
            "Epoch 32/50\n",
            "98/98 [==============================] - 1s 5ms/step - loss: 5.7636\n",
            "Epoch 33/50\n",
            "98/98 [==============================] - 0s 4ms/step - loss: 5.7135\n",
            "Epoch 34/50\n",
            "98/98 [==============================] - 1s 5ms/step - loss: 5.6661\n",
            "Epoch 35/50\n",
            "98/98 [==============================] - 1s 5ms/step - loss: 5.6452\n",
            "Epoch 36/50\n",
            "98/98 [==============================] - 1s 5ms/step - loss: 5.5859\n",
            "Epoch 37/50\n",
            "98/98 [==============================] - 1s 5ms/step - loss: 5.5450\n",
            "Epoch 38/50\n",
            "98/98 [==============================] - 0s 5ms/step - loss: 5.4906\n",
            "Epoch 39/50\n",
            "98/98 [==============================] - 0s 3ms/step - loss: 5.4737\n",
            "Epoch 40/50\n",
            "98/98 [==============================] - 0s 3ms/step - loss: 5.4334\n",
            "Epoch 41/50\n",
            "98/98 [==============================] - 0s 5ms/step - loss: 5.3728\n",
            "Epoch 42/50\n",
            "98/98 [==============================] - 1s 5ms/step - loss: 5.3665\n",
            "Epoch 43/50\n",
            "98/98 [==============================] - 1s 6ms/step - loss: 5.3190\n",
            "Epoch 44/50\n",
            "98/98 [==============================] - 0s 4ms/step - loss: 5.2826\n",
            "Epoch 45/50\n",
            "98/98 [==============================] - 0s 4ms/step - loss: 5.2486\n",
            "Epoch 46/50\n",
            "98/98 [==============================] - 0s 4ms/step - loss: 5.2296\n",
            "Epoch 47/50\n",
            "98/98 [==============================] - 0s 4ms/step - loss: 5.1989\n",
            "Epoch 48/50\n",
            "98/98 [==============================] - 1s 6ms/step - loss: 5.1784\n",
            "Epoch 49/50\n",
            "98/98 [==============================] - 0s 5ms/step - loss: 5.1485\n",
            "Epoch 50/50\n",
            "98/98 [==============================] - 0s 4ms/step - loss: 5.1324\n"
          ]
        }
      ]
    },
    {
      "cell_type": "code",
      "source": [
        "# Test model \n",
        "\n",
        "y_test_predicted = nn_model.predict(X_nn_test_scaled)"
      ],
      "metadata": {
        "colab": {
          "base_uri": "https://localhost:8080/"
        },
        "id": "p6219iFyQxy8",
        "outputId": "ef57140a-8f5e-490b-86f7-fdbaaaff254e"
      },
      "execution_count": 26,
      "outputs": [
        {
          "output_type": "stream",
          "name": "stdout",
          "text": [
            "33/33 [==============================] - 0s 3ms/step\n"
          ]
        }
      ]
    },
    {
      "cell_type": "code",
      "source": [
        "# Calculate coefficient of determination\n",
        "\n",
        "r2_score(y_nn_test, y_test_predicted)"
      ],
      "metadata": {
        "colab": {
          "base_uri": "https://localhost:8080/"
        },
        "id": "SasoF9PCQyHC",
        "outputId": "fec59452-f13e-44f3-b71f-111a3a10a483"
      },
      "execution_count": 27,
      "outputs": [
        {
          "output_type": "execute_result",
          "data": {
            "text/plain": [
              "0.5117150860895452"
            ]
          },
          "metadata": {},
          "execution_count": 27
        }
      ]
    },
    {
      "cell_type": "markdown",
      "source": [
        "#### Neural Network #2\n",
        "\n",
        "For our first attempt at improving the neural network model, we added a second hidden layer. This hidden layer is identical to the first, with 30 densely-connected perceptrons with a ReLU activation. \n",
        "\n",
        "This increased our R^2 value to 55.309%. So far, this model explains the most variance in the data."
      ],
      "metadata": {
        "id": "iAqNkXRdQuba"
      }
    },
    {
      "cell_type": "code",
      "source": [
        "# Build second neural network model. Another hidden layer, same amount of units and epochs as NN NO.1\n",
        "\n",
        "nn_model2 = tf.keras.models.Sequential()\n",
        "nn_model2.add(tf.keras.layers.Dense(units= 30, activation = 'relu', input_dim = 10))\n",
        "nn_model2.add(tf.keras.layers.Dense(units = 30, activation = 'relu'))\n",
        "nn_model2.add(tf.keras.layers.Dense(units = 1 , activation = 'linear'))\n",
        "\n",
        "nn_model2.summary()"
      ],
      "metadata": {
        "colab": {
          "base_uri": "https://localhost:8080/"
        },
        "id": "Wzr1XiuJymGz",
        "outputId": "49c231a5-07f3-4485-c402-ae68826223aa"
      },
      "execution_count": 28,
      "outputs": [
        {
          "output_type": "stream",
          "name": "stdout",
          "text": [
            "Model: \"sequential_1\"\n",
            "_________________________________________________________________\n",
            " Layer (type)                Output Shape              Param #   \n",
            "=================================================================\n",
            " dense_2 (Dense)             (None, 30)                330       \n",
            "                                                                 \n",
            " dense_3 (Dense)             (None, 30)                930       \n",
            "                                                                 \n",
            " dense_4 (Dense)             (None, 1)                 31        \n",
            "                                                                 \n",
            "=================================================================\n",
            "Total params: 1,291\n",
            "Trainable params: 1,291\n",
            "Non-trainable params: 0\n",
            "_________________________________________________________________\n"
          ]
        }
      ]
    },
    {
      "cell_type": "code",
      "source": [
        "# Compile and fit the model\n",
        "\n",
        "nn_model2.compile(loss = 'mean_squared_error', optimizer = 'adam')\n",
        "\n",
        "fit_model2 = nn_model2.fit(X_nn_train_scaled, y_nn_train, epochs=50)"
      ],
      "metadata": {
        "id": "VAFKYgHI-siQ",
        "colab": {
          "base_uri": "https://localhost:8080/"
        },
        "outputId": "ed490d51-c88b-4e13-b351-30216cc887b3"
      },
      "execution_count": 29,
      "outputs": [
        {
          "output_type": "stream",
          "name": "stdout",
          "text": [
            "Epoch 1/50\n",
            "98/98 [==============================] - 1s 2ms/step - loss: 68.0745\n",
            "Epoch 2/50\n",
            "98/98 [==============================] - 0s 2ms/step - loss: 7.7493\n",
            "Epoch 3/50\n",
            "98/98 [==============================] - 0s 2ms/step - loss: 7.2481\n",
            "Epoch 4/50\n",
            "98/98 [==============================] - 0s 2ms/step - loss: 7.0549\n",
            "Epoch 5/50\n",
            "98/98 [==============================] - 0s 2ms/step - loss: 6.9075\n",
            "Epoch 6/50\n",
            "98/98 [==============================] - 0s 3ms/step - loss: 6.7244\n",
            "Epoch 7/50\n",
            "98/98 [==============================] - 0s 2ms/step - loss: 6.6062\n",
            "Epoch 8/50\n",
            "98/98 [==============================] - 0s 2ms/step - loss: 6.4785\n",
            "Epoch 9/50\n",
            "98/98 [==============================] - 0s 2ms/step - loss: 6.3767\n",
            "Epoch 10/50\n",
            "98/98 [==============================] - 0s 2ms/step - loss: 6.2668\n",
            "Epoch 11/50\n",
            "98/98 [==============================] - 0s 2ms/step - loss: 6.1672\n",
            "Epoch 12/50\n",
            "98/98 [==============================] - 0s 2ms/step - loss: 6.0895\n",
            "Epoch 13/50\n",
            "98/98 [==============================] - 0s 2ms/step - loss: 5.9979\n",
            "Epoch 14/50\n",
            "98/98 [==============================] - 0s 2ms/step - loss: 5.8723\n",
            "Epoch 15/50\n",
            "98/98 [==============================] - 0s 2ms/step - loss: 5.7929\n",
            "Epoch 16/50\n",
            "98/98 [==============================] - 0s 2ms/step - loss: 5.6884\n",
            "Epoch 17/50\n",
            "98/98 [==============================] - 0s 2ms/step - loss: 5.6141\n",
            "Epoch 18/50\n",
            "98/98 [==============================] - 0s 2ms/step - loss: 5.4935\n",
            "Epoch 19/50\n",
            "98/98 [==============================] - 0s 2ms/step - loss: 5.4118\n",
            "Epoch 20/50\n",
            "98/98 [==============================] - 0s 2ms/step - loss: 5.3483\n",
            "Epoch 21/50\n",
            "98/98 [==============================] - 0s 2ms/step - loss: 5.2400\n",
            "Epoch 22/50\n",
            "98/98 [==============================] - 0s 2ms/step - loss: 5.1810\n",
            "Epoch 23/50\n",
            "98/98 [==============================] - 0s 2ms/step - loss: 5.1158\n",
            "Epoch 24/50\n",
            "98/98 [==============================] - 0s 2ms/step - loss: 5.0826\n",
            "Epoch 25/50\n",
            "98/98 [==============================] - 0s 2ms/step - loss: 5.0444\n",
            "Epoch 26/50\n",
            "98/98 [==============================] - 0s 2ms/step - loss: 5.0271\n",
            "Epoch 27/50\n",
            "98/98 [==============================] - 0s 2ms/step - loss: 4.9617\n",
            "Epoch 28/50\n",
            "98/98 [==============================] - 0s 2ms/step - loss: 4.9250\n",
            "Epoch 29/50\n",
            "98/98 [==============================] - 0s 2ms/step - loss: 4.8695\n",
            "Epoch 30/50\n",
            "98/98 [==============================] - 0s 2ms/step - loss: 4.8877\n",
            "Epoch 31/50\n",
            "98/98 [==============================] - 0s 2ms/step - loss: 4.8519\n",
            "Epoch 32/50\n",
            "98/98 [==============================] - 0s 2ms/step - loss: 4.8035\n",
            "Epoch 33/50\n",
            "98/98 [==============================] - 0s 2ms/step - loss: 4.7705\n",
            "Epoch 34/50\n",
            "98/98 [==============================] - 0s 2ms/step - loss: 4.8083\n",
            "Epoch 35/50\n",
            "98/98 [==============================] - 0s 2ms/step - loss: 4.7860\n",
            "Epoch 36/50\n",
            "98/98 [==============================] - 0s 2ms/step - loss: 4.7734\n",
            "Epoch 37/50\n",
            "98/98 [==============================] - 0s 2ms/step - loss: 4.7377\n",
            "Epoch 38/50\n",
            "98/98 [==============================] - 0s 2ms/step - loss: 4.7362\n",
            "Epoch 39/50\n",
            "98/98 [==============================] - 0s 2ms/step - loss: 4.7576\n",
            "Epoch 40/50\n",
            "98/98 [==============================] - 0s 2ms/step - loss: 4.6994\n",
            "Epoch 41/50\n",
            "98/98 [==============================] - 0s 2ms/step - loss: 4.7550\n",
            "Epoch 42/50\n",
            "98/98 [==============================] - 0s 2ms/step - loss: 4.7126\n",
            "Epoch 43/50\n",
            "98/98 [==============================] - 0s 2ms/step - loss: 4.7302\n",
            "Epoch 44/50\n",
            "98/98 [==============================] - 0s 2ms/step - loss: 4.7276\n",
            "Epoch 45/50\n",
            "98/98 [==============================] - 0s 2ms/step - loss: 4.6938\n",
            "Epoch 46/50\n",
            "98/98 [==============================] - 0s 2ms/step - loss: 4.7083\n",
            "Epoch 47/50\n",
            "98/98 [==============================] - 0s 2ms/step - loss: 4.6806\n",
            "Epoch 48/50\n",
            "98/98 [==============================] - 0s 2ms/step - loss: 4.6998\n",
            "Epoch 49/50\n",
            "98/98 [==============================] - 0s 2ms/step - loss: 4.7455\n",
            "Epoch 50/50\n",
            "98/98 [==============================] - 0s 2ms/step - loss: 4.6944\n"
          ]
        }
      ]
    },
    {
      "cell_type": "code",
      "source": [
        "# Test model\n",
        "\n",
        "y_test_predicted2 = nn_model2.predict(X_nn_test_scaled)"
      ],
      "metadata": {
        "colab": {
          "base_uri": "https://localhost:8080/"
        },
        "id": "-5D33Dg6NSV2",
        "outputId": "1f46e3a3-5ff2-442f-e4a8-46a4ad68df99"
      },
      "execution_count": 30,
      "outputs": [
        {
          "output_type": "stream",
          "name": "stdout",
          "text": [
            "33/33 [==============================] - 0s 1ms/step\n"
          ]
        }
      ]
    },
    {
      "cell_type": "code",
      "source": [
        "# Calculate coefficient of determination\n",
        "\n",
        "r2_score(y_nn_test, y_test_predicted2)"
      ],
      "metadata": {
        "id": "O76jTs3G_MPa",
        "colab": {
          "base_uri": "https://localhost:8080/"
        },
        "outputId": "7c325c68-ba32-4171-9def-dfc3a6a8db1e"
      },
      "execution_count": 31,
      "outputs": [
        {
          "output_type": "execute_result",
          "data": {
            "text/plain": [
              "0.5530479670377464"
            ]
          },
          "metadata": {},
          "execution_count": 31
        }
      ]
    },
    {
      "cell_type": "markdown",
      "source": [
        "#### Neural Network #3\n",
        "\n",
        "For this neural network, we removed the sex indicator columns to see if that would improve our model. Our hypothesis was that the sex indicators could be a confounding factor to our model. We used the same model structure as we did for the previous neural network.\n",
        "\n",
        "This resulted in an R^2 value of 49.901%. This indicates to us that the sex indicator columns improve the model's performance."
      ],
      "metadata": {
        "id": "9h8WeYPDRttd"
      }
    },
    {
      "cell_type": "code",
      "source": [
        "# Dropping sex columns to see if there is any change\n",
        "df_no_sex = df.drop(columns = [\"Sex_F\", \"Sex_I\", \"Sex_M\"])\n",
        "df_no_sex"
      ],
      "metadata": {
        "id": "dr3yaaPERa9m",
        "colab": {
          "base_uri": "https://localhost:8080/",
          "height": 424
        },
        "outputId": "62b9f3d6-5653-4d40-a35e-113f20458c2f"
      },
      "execution_count": 32,
      "outputs": [
        {
          "output_type": "execute_result",
          "data": {
            "text/plain": [
              "      Length  Diameter  Height  Whole_weight  Shucked_weight  Viscera_weight  \\\n",
              "0      0.455     0.365   0.095        0.5140          0.2245          0.1010   \n",
              "1      0.350     0.265   0.090        0.2255          0.0995          0.0485   \n",
              "2      0.530     0.420   0.135        0.6770          0.2565          0.1415   \n",
              "3      0.440     0.365   0.125        0.5160          0.2155          0.1140   \n",
              "4      0.330     0.255   0.080        0.2050          0.0895          0.0395   \n",
              "...      ...       ...     ...           ...             ...             ...   \n",
              "4172   0.565     0.450   0.165        0.8870          0.3700          0.2390   \n",
              "4173   0.590     0.440   0.135        0.9660          0.4390          0.2145   \n",
              "4174   0.600     0.475   0.205        1.1760          0.5255          0.2875   \n",
              "4175   0.625     0.485   0.150        1.0945          0.5310          0.2610   \n",
              "4176   0.710     0.555   0.195        1.9485          0.9455          0.3765   \n",
              "\n",
              "      Shell_weight  Rings  \n",
              "0           0.1500     15  \n",
              "1           0.0700      7  \n",
              "2           0.2100      9  \n",
              "3           0.1550     10  \n",
              "4           0.0550      7  \n",
              "...            ...    ...  \n",
              "4172        0.2490     11  \n",
              "4173        0.2605     10  \n",
              "4174        0.3080      9  \n",
              "4175        0.2960     10  \n",
              "4176        0.4950     12  \n",
              "\n",
              "[4177 rows x 8 columns]"
            ],
            "text/html": [
              "\n",
              "  <div id=\"df-428ae52c-9288-4942-89da-e2b8ca715dca\">\n",
              "    <div class=\"colab-df-container\">\n",
              "      <div>\n",
              "<style scoped>\n",
              "    .dataframe tbody tr th:only-of-type {\n",
              "        vertical-align: middle;\n",
              "    }\n",
              "\n",
              "    .dataframe tbody tr th {\n",
              "        vertical-align: top;\n",
              "    }\n",
              "\n",
              "    .dataframe thead th {\n",
              "        text-align: right;\n",
              "    }\n",
              "</style>\n",
              "<table border=\"1\" class=\"dataframe\">\n",
              "  <thead>\n",
              "    <tr style=\"text-align: right;\">\n",
              "      <th></th>\n",
              "      <th>Length</th>\n",
              "      <th>Diameter</th>\n",
              "      <th>Height</th>\n",
              "      <th>Whole_weight</th>\n",
              "      <th>Shucked_weight</th>\n",
              "      <th>Viscera_weight</th>\n",
              "      <th>Shell_weight</th>\n",
              "      <th>Rings</th>\n",
              "    </tr>\n",
              "  </thead>\n",
              "  <tbody>\n",
              "    <tr>\n",
              "      <th>0</th>\n",
              "      <td>0.455</td>\n",
              "      <td>0.365</td>\n",
              "      <td>0.095</td>\n",
              "      <td>0.5140</td>\n",
              "      <td>0.2245</td>\n",
              "      <td>0.1010</td>\n",
              "      <td>0.1500</td>\n",
              "      <td>15</td>\n",
              "    </tr>\n",
              "    <tr>\n",
              "      <th>1</th>\n",
              "      <td>0.350</td>\n",
              "      <td>0.265</td>\n",
              "      <td>0.090</td>\n",
              "      <td>0.2255</td>\n",
              "      <td>0.0995</td>\n",
              "      <td>0.0485</td>\n",
              "      <td>0.0700</td>\n",
              "      <td>7</td>\n",
              "    </tr>\n",
              "    <tr>\n",
              "      <th>2</th>\n",
              "      <td>0.530</td>\n",
              "      <td>0.420</td>\n",
              "      <td>0.135</td>\n",
              "      <td>0.6770</td>\n",
              "      <td>0.2565</td>\n",
              "      <td>0.1415</td>\n",
              "      <td>0.2100</td>\n",
              "      <td>9</td>\n",
              "    </tr>\n",
              "    <tr>\n",
              "      <th>3</th>\n",
              "      <td>0.440</td>\n",
              "      <td>0.365</td>\n",
              "      <td>0.125</td>\n",
              "      <td>0.5160</td>\n",
              "      <td>0.2155</td>\n",
              "      <td>0.1140</td>\n",
              "      <td>0.1550</td>\n",
              "      <td>10</td>\n",
              "    </tr>\n",
              "    <tr>\n",
              "      <th>4</th>\n",
              "      <td>0.330</td>\n",
              "      <td>0.255</td>\n",
              "      <td>0.080</td>\n",
              "      <td>0.2050</td>\n",
              "      <td>0.0895</td>\n",
              "      <td>0.0395</td>\n",
              "      <td>0.0550</td>\n",
              "      <td>7</td>\n",
              "    </tr>\n",
              "    <tr>\n",
              "      <th>...</th>\n",
              "      <td>...</td>\n",
              "      <td>...</td>\n",
              "      <td>...</td>\n",
              "      <td>...</td>\n",
              "      <td>...</td>\n",
              "      <td>...</td>\n",
              "      <td>...</td>\n",
              "      <td>...</td>\n",
              "    </tr>\n",
              "    <tr>\n",
              "      <th>4172</th>\n",
              "      <td>0.565</td>\n",
              "      <td>0.450</td>\n",
              "      <td>0.165</td>\n",
              "      <td>0.8870</td>\n",
              "      <td>0.3700</td>\n",
              "      <td>0.2390</td>\n",
              "      <td>0.2490</td>\n",
              "      <td>11</td>\n",
              "    </tr>\n",
              "    <tr>\n",
              "      <th>4173</th>\n",
              "      <td>0.590</td>\n",
              "      <td>0.440</td>\n",
              "      <td>0.135</td>\n",
              "      <td>0.9660</td>\n",
              "      <td>0.4390</td>\n",
              "      <td>0.2145</td>\n",
              "      <td>0.2605</td>\n",
              "      <td>10</td>\n",
              "    </tr>\n",
              "    <tr>\n",
              "      <th>4174</th>\n",
              "      <td>0.600</td>\n",
              "      <td>0.475</td>\n",
              "      <td>0.205</td>\n",
              "      <td>1.1760</td>\n",
              "      <td>0.5255</td>\n",
              "      <td>0.2875</td>\n",
              "      <td>0.3080</td>\n",
              "      <td>9</td>\n",
              "    </tr>\n",
              "    <tr>\n",
              "      <th>4175</th>\n",
              "      <td>0.625</td>\n",
              "      <td>0.485</td>\n",
              "      <td>0.150</td>\n",
              "      <td>1.0945</td>\n",
              "      <td>0.5310</td>\n",
              "      <td>0.2610</td>\n",
              "      <td>0.2960</td>\n",
              "      <td>10</td>\n",
              "    </tr>\n",
              "    <tr>\n",
              "      <th>4176</th>\n",
              "      <td>0.710</td>\n",
              "      <td>0.555</td>\n",
              "      <td>0.195</td>\n",
              "      <td>1.9485</td>\n",
              "      <td>0.9455</td>\n",
              "      <td>0.3765</td>\n",
              "      <td>0.4950</td>\n",
              "      <td>12</td>\n",
              "    </tr>\n",
              "  </tbody>\n",
              "</table>\n",
              "<p>4177 rows × 8 columns</p>\n",
              "</div>\n",
              "      <button class=\"colab-df-convert\" onclick=\"convertToInteractive('df-428ae52c-9288-4942-89da-e2b8ca715dca')\"\n",
              "              title=\"Convert this dataframe to an interactive table.\"\n",
              "              style=\"display:none;\">\n",
              "        \n",
              "  <svg xmlns=\"http://www.w3.org/2000/svg\" height=\"24px\"viewBox=\"0 0 24 24\"\n",
              "       width=\"24px\">\n",
              "    <path d=\"M0 0h24v24H0V0z\" fill=\"none\"/>\n",
              "    <path d=\"M18.56 5.44l.94 2.06.94-2.06 2.06-.94-2.06-.94-.94-2.06-.94 2.06-2.06.94zm-11 1L8.5 8.5l.94-2.06 2.06-.94-2.06-.94L8.5 2.5l-.94 2.06-2.06.94zm10 10l.94 2.06.94-2.06 2.06-.94-2.06-.94-.94-2.06-.94 2.06-2.06.94z\"/><path d=\"M17.41 7.96l-1.37-1.37c-.4-.4-.92-.59-1.43-.59-.52 0-1.04.2-1.43.59L10.3 9.45l-7.72 7.72c-.78.78-.78 2.05 0 2.83L4 21.41c.39.39.9.59 1.41.59.51 0 1.02-.2 1.41-.59l7.78-7.78 2.81-2.81c.8-.78.8-2.07 0-2.86zM5.41 20L4 18.59l7.72-7.72 1.47 1.35L5.41 20z\"/>\n",
              "  </svg>\n",
              "      </button>\n",
              "      \n",
              "  <style>\n",
              "    .colab-df-container {\n",
              "      display:flex;\n",
              "      flex-wrap:wrap;\n",
              "      gap: 12px;\n",
              "    }\n",
              "\n",
              "    .colab-df-convert {\n",
              "      background-color: #E8F0FE;\n",
              "      border: none;\n",
              "      border-radius: 50%;\n",
              "      cursor: pointer;\n",
              "      display: none;\n",
              "      fill: #1967D2;\n",
              "      height: 32px;\n",
              "      padding: 0 0 0 0;\n",
              "      width: 32px;\n",
              "    }\n",
              "\n",
              "    .colab-df-convert:hover {\n",
              "      background-color: #E2EBFA;\n",
              "      box-shadow: 0px 1px 2px rgba(60, 64, 67, 0.3), 0px 1px 3px 1px rgba(60, 64, 67, 0.15);\n",
              "      fill: #174EA6;\n",
              "    }\n",
              "\n",
              "    [theme=dark] .colab-df-convert {\n",
              "      background-color: #3B4455;\n",
              "      fill: #D2E3FC;\n",
              "    }\n",
              "\n",
              "    [theme=dark] .colab-df-convert:hover {\n",
              "      background-color: #434B5C;\n",
              "      box-shadow: 0px 1px 3px 1px rgba(0, 0, 0, 0.15);\n",
              "      filter: drop-shadow(0px 1px 2px rgba(0, 0, 0, 0.3));\n",
              "      fill: #FFFFFF;\n",
              "    }\n",
              "  </style>\n",
              "\n",
              "      <script>\n",
              "        const buttonEl =\n",
              "          document.querySelector('#df-428ae52c-9288-4942-89da-e2b8ca715dca button.colab-df-convert');\n",
              "        buttonEl.style.display =\n",
              "          google.colab.kernel.accessAllowed ? 'block' : 'none';\n",
              "\n",
              "        async function convertToInteractive(key) {\n",
              "          const element = document.querySelector('#df-428ae52c-9288-4942-89da-e2b8ca715dca');\n",
              "          const dataTable =\n",
              "            await google.colab.kernel.invokeFunction('convertToInteractive',\n",
              "                                                     [key], {});\n",
              "          if (!dataTable) return;\n",
              "\n",
              "          const docLinkHtml = 'Like what you see? Visit the ' +\n",
              "            '<a target=\"_blank\" href=https://colab.research.google.com/notebooks/data_table.ipynb>data table notebook</a>'\n",
              "            + ' to learn more about interactive tables.';\n",
              "          element.innerHTML = '';\n",
              "          dataTable['output_type'] = 'display_data';\n",
              "          await google.colab.output.renderOutput(dataTable, element);\n",
              "          const docLink = document.createElement('div');\n",
              "          docLink.innerHTML = docLinkHtml;\n",
              "          element.appendChild(docLink);\n",
              "        }\n",
              "      </script>\n",
              "    </div>\n",
              "  </div>\n",
              "  "
            ]
          },
          "metadata": {},
          "execution_count": 32
        }
      ]
    },
    {
      "cell_type": "code",
      "source": [
        "# Split data into training and testing sets\n",
        "X_no_sex = df_no_sex.drop(columns = \"Rings\")\n",
        "y_no_sex = df_no_sex[\"Rings\"]"
      ],
      "metadata": {
        "id": "70JVQUv_UBOs"
      },
      "execution_count": 33,
      "outputs": []
    },
    {
      "cell_type": "code",
      "source": [
        "# Split data into training and testing sets\n",
        "X_nn3_train, X_nn3_test, y_nn3_train, y_nn3_test = train_test_split(X_no_sex, y_no_sex, random_state = 3)"
      ],
      "metadata": {
        "id": "b3f5FyKpUBML"
      },
      "execution_count": 34,
      "outputs": []
    },
    {
      "cell_type": "code",
      "source": [
        "# Scale data with MinMax Scaler\n",
        "no_sex_scaler = MinMaxScaler()"
      ],
      "metadata": {
        "id": "9fNreI7VUBJu"
      },
      "execution_count": 35,
      "outputs": []
    },
    {
      "cell_type": "code",
      "source": [
        "# Fit data to scaler\n",
        "no_sex_scaler.fit(X_nn3_train)"
      ],
      "metadata": {
        "id": "sIocaZPyU-9d",
        "colab": {
          "base_uri": "https://localhost:8080/"
        },
        "outputId": "d56f4d32-52ae-459e-bd18-c2a4ff3a2395"
      },
      "execution_count": 36,
      "outputs": [
        {
          "output_type": "execute_result",
          "data": {
            "text/plain": [
              "MinMaxScaler()"
            ]
          },
          "metadata": {},
          "execution_count": 36
        }
      ]
    },
    {
      "cell_type": "code",
      "source": [
        "# Scale data\n",
        "X_nn3_train_scaled = no_sex_scaler.transform(X_nn3_train)\n",
        "X_nn3_test_scaled = no_sex_scaler.transform(X_nn3_test)"
      ],
      "metadata": {
        "id": "EDIcq3JMU_bC"
      },
      "execution_count": 37,
      "outputs": []
    },
    {
      "cell_type": "code",
      "source": [
        "# Make sure scaled data exists\n",
        "X_nn3_train_scaled"
      ],
      "metadata": {
        "id": "DwSEC4sYU_nV",
        "colab": {
          "base_uri": "https://localhost:8080/"
        },
        "outputId": "c64e587e-bc72-4e53-a8f5-a8132d40c647"
      },
      "execution_count": 38,
      "outputs": [
        {
          "output_type": "execute_result",
          "data": {
            "text/plain": [
              "array([[0.53900709, 0.55357143, 0.11946903, ..., 0.22321098, 0.16688654,\n",
              "        0.16566866],\n",
              "       [0.62411348, 0.5625    , 0.13274336, ..., 0.30367075, 0.27902375,\n",
              "        0.23652695],\n",
              "       [0.73049645, 0.70535714, 0.14159292, ..., 0.46607341, 0.29221636,\n",
              "        0.29840319],\n",
              "       ...,\n",
              "       [0.70212766, 0.74107143, 0.15929204, ..., 0.53837597, 0.34564644,\n",
              "        0.42714571],\n",
              "       [0.53900709, 0.52678571, 0.12389381, ..., 0.1449759 , 0.16490765,\n",
              "        0.17165669],\n",
              "       [0.73049645, 0.71428571, 0.1460177 , ..., 0.36114201, 0.34234828,\n",
              "        0.32884232]])"
            ]
          },
          "metadata": {},
          "execution_count": 38
        }
      ]
    },
    {
      "cell_type": "code",
      "source": [
        "# Build NN Model No.3\n",
        "nn_model3 = tf.keras.models.Sequential()\n",
        "nn_model3.add(tf.keras.layers.Dense(units= 30, activation = 'relu', input_dim = 7))\n",
        "nn_model3.add(tf.keras.layers.Dense(units = 30, activation = 'relu'))\n",
        "nn_model3.add(tf.keras.layers.Dense(units = 1 , activation = 'linear'))\n",
        "\n",
        "nn_model3.summary()"
      ],
      "metadata": {
        "colab": {
          "base_uri": "https://localhost:8080/"
        },
        "id": "Ic0xVKupyStQ",
        "outputId": "a63d5cf0-0243-4845-a03b-1b16b110af30"
      },
      "execution_count": 39,
      "outputs": [
        {
          "output_type": "stream",
          "name": "stdout",
          "text": [
            "Model: \"sequential_2\"\n",
            "_________________________________________________________________\n",
            " Layer (type)                Output Shape              Param #   \n",
            "=================================================================\n",
            " dense_5 (Dense)             (None, 30)                240       \n",
            "                                                                 \n",
            " dense_6 (Dense)             (None, 30)                930       \n",
            "                                                                 \n",
            " dense_7 (Dense)             (None, 1)                 31        \n",
            "                                                                 \n",
            "=================================================================\n",
            "Total params: 1,201\n",
            "Trainable params: 1,201\n",
            "Non-trainable params: 0\n",
            "_________________________________________________________________\n"
          ]
        }
      ]
    },
    {
      "cell_type": "code",
      "source": [
        "# Compile and fit the model\n",
        "nn_model3.compile(loss = 'mean_squared_error', optimizer = 'adam')\n",
        "\n",
        "fit_model3 = nn_model3.fit(X_nn3_train_scaled, y_nn3_train, epochs=50)"
      ],
      "metadata": {
        "id": "cl7SQHhAVXuf",
        "colab": {
          "base_uri": "https://localhost:8080/"
        },
        "outputId": "8e828ec3-fe1a-4a40-82c8-3261bd2231a7"
      },
      "execution_count": 40,
      "outputs": [
        {
          "output_type": "stream",
          "name": "stdout",
          "text": [
            "Epoch 1/50\n",
            "98/98 [==============================] - 1s 2ms/step - loss: 86.1154\n",
            "Epoch 2/50\n",
            "98/98 [==============================] - 0s 2ms/step - loss: 15.7558\n",
            "Epoch 3/50\n",
            "98/98 [==============================] - 0s 2ms/step - loss: 7.3788\n",
            "Epoch 4/50\n",
            "98/98 [==============================] - 0s 2ms/step - loss: 6.8606\n",
            "Epoch 5/50\n",
            "98/98 [==============================] - 0s 2ms/step - loss: 6.4802\n",
            "Epoch 6/50\n",
            "98/98 [==============================] - 0s 2ms/step - loss: 6.2558\n",
            "Epoch 7/50\n",
            "98/98 [==============================] - 0s 2ms/step - loss: 6.0684\n",
            "Epoch 8/50\n",
            "98/98 [==============================] - 0s 2ms/step - loss: 5.9138\n",
            "Epoch 9/50\n",
            "98/98 [==============================] - 0s 2ms/step - loss: 5.8166\n",
            "Epoch 10/50\n",
            "98/98 [==============================] - 0s 2ms/step - loss: 5.6889\n",
            "Epoch 11/50\n",
            "98/98 [==============================] - 0s 2ms/step - loss: 5.5940\n",
            "Epoch 12/50\n",
            "98/98 [==============================] - 0s 2ms/step - loss: 5.5145\n",
            "Epoch 13/50\n",
            "98/98 [==============================] - 0s 2ms/step - loss: 5.3896\n",
            "Epoch 14/50\n",
            "98/98 [==============================] - 0s 2ms/step - loss: 5.3944\n",
            "Epoch 15/50\n",
            "98/98 [==============================] - 0s 3ms/step - loss: 5.3585\n",
            "Epoch 16/50\n",
            "98/98 [==============================] - 0s 2ms/step - loss: 5.3549\n",
            "Epoch 17/50\n",
            "98/98 [==============================] - 0s 2ms/step - loss: 5.2459\n",
            "Epoch 18/50\n",
            "98/98 [==============================] - 0s 2ms/step - loss: 5.2025\n",
            "Epoch 19/50\n",
            "98/98 [==============================] - 0s 2ms/step - loss: 5.1775\n",
            "Epoch 20/50\n",
            "98/98 [==============================] - 0s 3ms/step - loss: 5.1858\n",
            "Epoch 21/50\n",
            "98/98 [==============================] - 0s 2ms/step - loss: 5.1798\n",
            "Epoch 22/50\n",
            "98/98 [==============================] - 0s 2ms/step - loss: 5.1420\n",
            "Epoch 23/50\n",
            "98/98 [==============================] - 0s 2ms/step - loss: 5.1425\n",
            "Epoch 24/50\n",
            "98/98 [==============================] - 0s 2ms/step - loss: 5.0921\n",
            "Epoch 25/50\n",
            "98/98 [==============================] - 0s 2ms/step - loss: 5.1353\n",
            "Epoch 26/50\n",
            "98/98 [==============================] - 0s 2ms/step - loss: 5.0965\n",
            "Epoch 27/50\n",
            "98/98 [==============================] - 0s 2ms/step - loss: 5.0724\n",
            "Epoch 28/50\n",
            "98/98 [==============================] - 0s 2ms/step - loss: 5.0919\n",
            "Epoch 29/50\n",
            "98/98 [==============================] - 0s 2ms/step - loss: 5.0820\n",
            "Epoch 30/50\n",
            "98/98 [==============================] - 0s 2ms/step - loss: 5.0912\n",
            "Epoch 31/50\n",
            "98/98 [==============================] - 0s 2ms/step - loss: 5.0366\n",
            "Epoch 32/50\n",
            "98/98 [==============================] - 0s 2ms/step - loss: 5.0363\n",
            "Epoch 33/50\n",
            "98/98 [==============================] - 0s 2ms/step - loss: 5.0179\n",
            "Epoch 34/50\n",
            "98/98 [==============================] - 0s 2ms/step - loss: 4.9887\n",
            "Epoch 35/50\n",
            "98/98 [==============================] - 0s 2ms/step - loss: 5.0363\n",
            "Epoch 36/50\n",
            "98/98 [==============================] - 0s 2ms/step - loss: 5.0016\n",
            "Epoch 37/50\n",
            "98/98 [==============================] - 0s 2ms/step - loss: 4.9902\n",
            "Epoch 38/50\n",
            "98/98 [==============================] - 0s 2ms/step - loss: 4.9961\n",
            "Epoch 39/50\n",
            "98/98 [==============================] - 0s 2ms/step - loss: 4.9444\n",
            "Epoch 40/50\n",
            "98/98 [==============================] - 0s 2ms/step - loss: 4.9884\n",
            "Epoch 41/50\n",
            "98/98 [==============================] - 0s 2ms/step - loss: 4.9533\n",
            "Epoch 42/50\n",
            "98/98 [==============================] - 0s 2ms/step - loss: 4.9259\n",
            "Epoch 43/50\n",
            "98/98 [==============================] - 0s 2ms/step - loss: 4.9430\n",
            "Epoch 44/50\n",
            "98/98 [==============================] - 0s 2ms/step - loss: 4.9228\n",
            "Epoch 45/50\n",
            "98/98 [==============================] - 0s 2ms/step - loss: 4.9105\n",
            "Epoch 46/50\n",
            "98/98 [==============================] - 0s 2ms/step - loss: 4.9163\n",
            "Epoch 47/50\n",
            "98/98 [==============================] - 0s 2ms/step - loss: 4.9059\n",
            "Epoch 48/50\n",
            "98/98 [==============================] - 0s 2ms/step - loss: 4.8816\n",
            "Epoch 49/50\n",
            "98/98 [==============================] - 0s 2ms/step - loss: 4.8876\n",
            "Epoch 50/50\n",
            "98/98 [==============================] - 0s 2ms/step - loss: 4.8698\n"
          ]
        }
      ]
    },
    {
      "cell_type": "code",
      "source": [
        "# Test NN Model No.3\n",
        "y_test_predicted3 = nn_model3.predict(X_nn3_test_scaled)"
      ],
      "metadata": {
        "id": "wSBXC72wWVaf",
        "colab": {
          "base_uri": "https://localhost:8080/"
        },
        "outputId": "f32a1f1e-ac32-4e4a-b294-ebbf81db5d44"
      },
      "execution_count": 41,
      "outputs": [
        {
          "output_type": "stream",
          "name": "stdout",
          "text": [
            "33/33 [==============================] - 0s 2ms/step\n"
          ]
        }
      ]
    },
    {
      "cell_type": "code",
      "source": [
        "# Calculate coefficient of determination\n",
        "r2_score(y_nn3_test, y_test_predicted3)"
      ],
      "metadata": {
        "id": "IjxB6wUpWWdu",
        "colab": {
          "base_uri": "https://localhost:8080/"
        },
        "outputId": "9ed4f5fc-986b-4ed0-b51c-839b1a00b33b"
      },
      "execution_count": 42,
      "outputs": [
        {
          "output_type": "execute_result",
          "data": {
            "text/plain": [
              "0.49941303623742184"
            ]
          },
          "metadata": {},
          "execution_count": 42
        }
      ]
    },
    {
      "cell_type": "markdown",
      "source": [
        "#### Neural Network #4\n",
        "\n",
        "For this attempt, we used the same network structure as Neural Network #2, but we increased the number of epochs that the model trained on the training set from 50 to 100 epochs.\n",
        "\n",
        "This resulted in an R^2 value of 55.843%, which was a bit of a decrease from the performance of the original Neural Network #2."
      ],
      "metadata": {
        "id": "fJN1qCkBTZPS"
      }
    },
    {
      "cell_type": "code",
      "source": [
        "# Build NN Model No.4 - 100 epochs instead of 50\n",
        "\n",
        "nn_model4 = tf.keras.models.Sequential()\n",
        "nn_model4.add(tf.keras.layers.Dense(units= 30, activation = 'relu', input_dim = 10))\n",
        "nn_model4.add(tf.keras.layers.Dense(units = 30, activation = 'relu'))\n",
        "nn_model4.add(tf.keras.layers.Dense(units = 1 , activation = 'linear'))\n",
        "\n",
        "nn_model4.summary()"
      ],
      "metadata": {
        "colab": {
          "base_uri": "https://localhost:8080/"
        },
        "id": "8uQpW5I0x2BX",
        "outputId": "5b03c95c-c62f-4c2d-ecfc-13fcc9ed60c7"
      },
      "execution_count": 131,
      "outputs": [
        {
          "output_type": "stream",
          "name": "stdout",
          "text": [
            "Model: \"sequential_3\"\n",
            "_________________________________________________________________\n",
            " Layer (type)                Output Shape              Param #   \n",
            "=================================================================\n",
            " dense_8 (Dense)             (None, 30)                330       \n",
            "                                                                 \n",
            " dense_9 (Dense)             (None, 30)                930       \n",
            "                                                                 \n",
            " dense_10 (Dense)            (None, 1)                 31        \n",
            "                                                                 \n",
            "=================================================================\n",
            "Total params: 1,291\n",
            "Trainable params: 1,291\n",
            "Non-trainable params: 0\n",
            "_________________________________________________________________\n"
          ]
        }
      ]
    },
    {
      "cell_type": "code",
      "source": [
        "# Compile and fit the model\n",
        "\n",
        "nn_model4.compile(loss = 'mean_squared_error', optimizer = 'adam')\n",
        "\n",
        "fit_model4 = nn_model4.fit(X_nn_train_scaled, y_nn_train, epochs=100)"
      ],
      "metadata": {
        "id": "-zPxKdTzTbnW",
        "colab": {
          "base_uri": "https://localhost:8080/"
        },
        "outputId": "8cff3082-0663-4dc6-a20c-ae897343529b"
      },
      "execution_count": 132,
      "outputs": [
        {
          "output_type": "stream",
          "name": "stdout",
          "text": [
            "Epoch 1/100\n",
            "98/98 [==============================] - 1s 2ms/step - loss: 58.5912\n",
            "Epoch 2/100\n",
            "98/98 [==============================] - 0s 2ms/step - loss: 7.3359\n",
            "Epoch 3/100\n",
            "98/98 [==============================] - 0s 2ms/step - loss: 6.8745\n",
            "Epoch 4/100\n",
            "98/98 [==============================] - 0s 2ms/step - loss: 6.7120\n",
            "Epoch 5/100\n",
            "98/98 [==============================] - 0s 2ms/step - loss: 6.5825\n",
            "Epoch 6/100\n",
            "98/98 [==============================] - 0s 2ms/step - loss: 6.4007\n",
            "Epoch 7/100\n",
            "98/98 [==============================] - 0s 3ms/step - loss: 6.2764\n",
            "Epoch 8/100\n",
            "98/98 [==============================] - 0s 3ms/step - loss: 6.1413\n",
            "Epoch 9/100\n",
            "98/98 [==============================] - 0s 3ms/step - loss: 6.0312\n",
            "Epoch 10/100\n",
            "98/98 [==============================] - 0s 4ms/step - loss: 5.8765\n",
            "Epoch 11/100\n",
            "98/98 [==============================] - 0s 3ms/step - loss: 5.7406\n",
            "Epoch 12/100\n",
            "98/98 [==============================] - 0s 4ms/step - loss: 5.6450\n",
            "Epoch 13/100\n",
            "98/98 [==============================] - 0s 3ms/step - loss: 5.4991\n",
            "Epoch 14/100\n",
            "98/98 [==============================] - 0s 4ms/step - loss: 5.3879\n",
            "Epoch 15/100\n",
            "98/98 [==============================] - 0s 3ms/step - loss: 5.2644\n",
            "Epoch 16/100\n",
            "98/98 [==============================] - 0s 3ms/step - loss: 5.1173\n",
            "Epoch 17/100\n",
            "98/98 [==============================] - 0s 3ms/step - loss: 5.0526\n",
            "Epoch 18/100\n",
            "98/98 [==============================] - 0s 3ms/step - loss: 4.9354\n",
            "Epoch 19/100\n",
            "98/98 [==============================] - 0s 3ms/step - loss: 4.8824\n",
            "Epoch 20/100\n",
            "98/98 [==============================] - 0s 4ms/step - loss: 4.8295\n",
            "Epoch 21/100\n",
            "98/98 [==============================] - 0s 3ms/step - loss: 4.8026\n",
            "Epoch 22/100\n",
            "98/98 [==============================] - 0s 3ms/step - loss: 4.7265\n",
            "Epoch 23/100\n",
            "98/98 [==============================] - 0s 4ms/step - loss: 4.7337\n",
            "Epoch 24/100\n",
            "98/98 [==============================] - 0s 4ms/step - loss: 4.6845\n",
            "Epoch 25/100\n",
            "98/98 [==============================] - 0s 3ms/step - loss: 4.6795\n",
            "Epoch 26/100\n",
            "98/98 [==============================] - 0s 2ms/step - loss: 4.6347\n",
            "Epoch 27/100\n",
            "98/98 [==============================] - 0s 2ms/step - loss: 4.6086\n",
            "Epoch 28/100\n",
            "98/98 [==============================] - 0s 2ms/step - loss: 4.6282\n",
            "Epoch 29/100\n",
            "98/98 [==============================] - 0s 2ms/step - loss: 4.6435\n",
            "Epoch 30/100\n",
            "98/98 [==============================] - 0s 2ms/step - loss: 4.5736\n",
            "Epoch 31/100\n",
            "98/98 [==============================] - 0s 2ms/step - loss: 4.5621\n",
            "Epoch 32/100\n",
            "98/98 [==============================] - 0s 2ms/step - loss: 4.5621\n",
            "Epoch 33/100\n",
            "98/98 [==============================] - 0s 2ms/step - loss: 4.5439\n",
            "Epoch 34/100\n",
            "98/98 [==============================] - 0s 2ms/step - loss: 4.5236\n",
            "Epoch 35/100\n",
            "98/98 [==============================] - 0s 2ms/step - loss: 4.5448\n",
            "Epoch 36/100\n",
            "98/98 [==============================] - 0s 2ms/step - loss: 4.5242\n",
            "Epoch 37/100\n",
            "98/98 [==============================] - 0s 2ms/step - loss: 4.5243\n",
            "Epoch 38/100\n",
            "98/98 [==============================] - 0s 2ms/step - loss: 4.5442\n",
            "Epoch 39/100\n",
            "98/98 [==============================] - 0s 2ms/step - loss: 4.5251\n",
            "Epoch 40/100\n",
            "98/98 [==============================] - 0s 2ms/step - loss: 4.5072\n",
            "Epoch 41/100\n",
            "98/98 [==============================] - 0s 2ms/step - loss: 4.5241\n",
            "Epoch 42/100\n",
            "98/98 [==============================] - 0s 2ms/step - loss: 4.5089\n",
            "Epoch 43/100\n",
            "98/98 [==============================] - 0s 2ms/step - loss: 4.4959\n",
            "Epoch 44/100\n",
            "98/98 [==============================] - 0s 2ms/step - loss: 4.5167\n",
            "Epoch 45/100\n",
            "98/98 [==============================] - 0s 2ms/step - loss: 4.4526\n",
            "Epoch 46/100\n",
            "98/98 [==============================] - 0s 2ms/step - loss: 4.5323\n",
            "Epoch 47/100\n",
            "98/98 [==============================] - 0s 2ms/step - loss: 4.4640\n",
            "Epoch 48/100\n",
            "98/98 [==============================] - 0s 2ms/step - loss: 4.4620\n",
            "Epoch 49/100\n",
            "98/98 [==============================] - 0s 2ms/step - loss: 4.4808\n",
            "Epoch 50/100\n",
            "98/98 [==============================] - 0s 3ms/step - loss: 4.4722\n",
            "Epoch 51/100\n",
            "98/98 [==============================] - 0s 3ms/step - loss: 4.4754\n",
            "Epoch 52/100\n",
            "98/98 [==============================] - 0s 2ms/step - loss: 4.4440\n",
            "Epoch 53/100\n",
            "98/98 [==============================] - 0s 2ms/step - loss: 4.4460\n",
            "Epoch 54/100\n",
            "98/98 [==============================] - 0s 2ms/step - loss: 4.4671\n",
            "Epoch 55/100\n",
            "98/98 [==============================] - 0s 2ms/step - loss: 4.4632\n",
            "Epoch 56/100\n",
            "98/98 [==============================] - 0s 2ms/step - loss: 4.4581\n",
            "Epoch 57/100\n",
            "98/98 [==============================] - 0s 2ms/step - loss: 4.4364\n",
            "Epoch 58/100\n",
            "98/98 [==============================] - 0s 2ms/step - loss: 4.4153\n",
            "Epoch 59/100\n",
            "98/98 [==============================] - 0s 2ms/step - loss: 4.4248\n",
            "Epoch 60/100\n",
            "98/98 [==============================] - 0s 2ms/step - loss: 4.4989\n",
            "Epoch 61/100\n",
            "98/98 [==============================] - 0s 2ms/step - loss: 4.5072\n",
            "Epoch 62/100\n",
            "98/98 [==============================] - 0s 2ms/step - loss: 4.4236\n",
            "Epoch 63/100\n",
            "98/98 [==============================] - 0s 2ms/step - loss: 4.4123\n",
            "Epoch 64/100\n",
            "98/98 [==============================] - 0s 2ms/step - loss: 4.4011\n",
            "Epoch 65/100\n",
            "98/98 [==============================] - 0s 2ms/step - loss: 4.4116\n",
            "Epoch 66/100\n",
            "98/98 [==============================] - 0s 2ms/step - loss: 4.4788\n",
            "Epoch 67/100\n",
            "98/98 [==============================] - 0s 2ms/step - loss: 4.4217\n",
            "Epoch 68/100\n",
            "98/98 [==============================] - 0s 2ms/step - loss: 4.3813\n",
            "Epoch 69/100\n",
            "98/98 [==============================] - 0s 2ms/step - loss: 4.4523\n",
            "Epoch 70/100\n",
            "98/98 [==============================] - 0s 2ms/step - loss: 4.4436\n",
            "Epoch 71/100\n",
            "98/98 [==============================] - 0s 2ms/step - loss: 4.3913\n",
            "Epoch 72/100\n",
            "98/98 [==============================] - 0s 2ms/step - loss: 4.4003\n",
            "Epoch 73/100\n",
            "98/98 [==============================] - 0s 2ms/step - loss: 4.4100\n",
            "Epoch 74/100\n",
            "98/98 [==============================] - 0s 2ms/step - loss: 4.4097\n",
            "Epoch 75/100\n",
            "98/98 [==============================] - 0s 2ms/step - loss: 4.4140\n",
            "Epoch 76/100\n",
            "98/98 [==============================] - 0s 2ms/step - loss: 4.4346\n",
            "Epoch 77/100\n",
            "98/98 [==============================] - 0s 2ms/step - loss: 4.3886\n",
            "Epoch 78/100\n",
            "98/98 [==============================] - 0s 2ms/step - loss: 4.3908\n",
            "Epoch 79/100\n",
            "98/98 [==============================] - 0s 3ms/step - loss: 4.4277\n",
            "Epoch 80/100\n",
            "98/98 [==============================] - 0s 2ms/step - loss: 4.3766\n",
            "Epoch 81/100\n",
            "98/98 [==============================] - 0s 2ms/step - loss: 4.4071\n",
            "Epoch 82/100\n",
            "98/98 [==============================] - 0s 2ms/step - loss: 4.3701\n",
            "Epoch 83/100\n",
            "98/98 [==============================] - 0s 2ms/step - loss: 4.3446\n",
            "Epoch 84/100\n",
            "98/98 [==============================] - 0s 2ms/step - loss: 4.3646\n",
            "Epoch 85/100\n",
            "98/98 [==============================] - 0s 2ms/step - loss: 4.3827\n",
            "Epoch 86/100\n",
            "98/98 [==============================] - 0s 2ms/step - loss: 4.3951\n",
            "Epoch 87/100\n",
            "98/98 [==============================] - 0s 2ms/step - loss: 4.3836\n",
            "Epoch 88/100\n",
            "98/98 [==============================] - 0s 2ms/step - loss: 4.3765\n",
            "Epoch 89/100\n",
            "98/98 [==============================] - 0s 2ms/step - loss: 4.3528\n",
            "Epoch 90/100\n",
            "98/98 [==============================] - 0s 2ms/step - loss: 4.3623\n",
            "Epoch 91/100\n",
            "98/98 [==============================] - 0s 2ms/step - loss: 4.3490\n",
            "Epoch 92/100\n",
            "98/98 [==============================] - 0s 2ms/step - loss: 4.3717\n",
            "Epoch 93/100\n",
            "98/98 [==============================] - 0s 2ms/step - loss: 4.4034\n",
            "Epoch 94/100\n",
            "98/98 [==============================] - 0s 2ms/step - loss: 4.3612\n",
            "Epoch 95/100\n",
            "98/98 [==============================] - 0s 2ms/step - loss: 4.3552\n",
            "Epoch 96/100\n",
            "98/98 [==============================] - 0s 2ms/step - loss: 4.3576\n",
            "Epoch 97/100\n",
            "98/98 [==============================] - 0s 2ms/step - loss: 4.3441\n",
            "Epoch 98/100\n",
            "98/98 [==============================] - 0s 2ms/step - loss: 4.3285\n",
            "Epoch 99/100\n",
            "98/98 [==============================] - 0s 2ms/step - loss: 4.3472\n",
            "Epoch 100/100\n",
            "98/98 [==============================] - 0s 2ms/step - loss: 4.3514\n"
          ]
        }
      ]
    },
    {
      "cell_type": "code",
      "source": [
        "# Test model\n",
        "\n",
        "y_test_predicted4 = nn_model4.predict(X_nn_test_scaled)"
      ],
      "metadata": {
        "colab": {
          "base_uri": "https://localhost:8080/"
        },
        "id": "qzVaQJbWYGkC",
        "outputId": "90c9ab97-6a5d-444c-f438-bd4397b45dd2"
      },
      "execution_count": 133,
      "outputs": [
        {
          "output_type": "stream",
          "name": "stdout",
          "text": [
            "33/33 [==============================] - 0s 1ms/step\n"
          ]
        }
      ]
    },
    {
      "cell_type": "code",
      "source": [
        "# Calculate coefficient of determination\n",
        "\n",
        "r2_score(y_nn_test, y_test_predicted4)"
      ],
      "metadata": {
        "colab": {
          "base_uri": "https://localhost:8080/"
        },
        "id": "RHt641tcYZCL",
        "outputId": "7400cb7c-0747-42d8-9d6f-35b3dd74a435"
      },
      "execution_count": 134,
      "outputs": [
        {
          "output_type": "execute_result",
          "data": {
            "text/plain": [
              "0.5905255673020301"
            ]
          },
          "metadata": {},
          "execution_count": 134
        }
      ]
    },
    {
      "cell_type": "markdown",
      "source": [
        "#### Neural Network #5\n",
        "\n",
        "For this attempt, we added a third hidden layer to our model. This model consists of three layers of 30 densely-connected perceptrons with ReLU activation functions. \n",
        "\n",
        "This model produced an R^2 value of 59.190%. This is the best-performing model so far!"
      ],
      "metadata": {
        "id": "S4kDyt8mZCL0"
      }
    },
    {
      "cell_type": "code",
      "source": [
        "# Build NN Model No.5 - one more hidden layer, back to 50 epochs.\n",
        "nn_model5 = tf.keras.models.Sequential()\n",
        "nn_model5.add(tf.keras.layers.Dense(units= 30, activation = 'relu', input_dim = 10))\n",
        "nn_model5.add(tf.keras.layers.Dense(units = 30, activation = 'relu'))\n",
        "nn_model5.add(tf.keras.layers.Dense(units = 30, activation = 'relu'))\n",
        "nn_model5.add(tf.keras.layers.Dense(units = 1 , activation = 'linear'))\n",
        "\n",
        "nn_model5.summary()"
      ],
      "metadata": {
        "colab": {
          "base_uri": "https://localhost:8080/"
        },
        "id": "0O0MZTQyxLdd",
        "outputId": "4da2bf37-5a34-4234-d827-1d5cc9e5b0d8"
      },
      "execution_count": 135,
      "outputs": [
        {
          "output_type": "stream",
          "name": "stdout",
          "text": [
            "Model: \"sequential_4\"\n",
            "_________________________________________________________________\n",
            " Layer (type)                Output Shape              Param #   \n",
            "=================================================================\n",
            " dense_11 (Dense)            (None, 30)                330       \n",
            "                                                                 \n",
            " dense_12 (Dense)            (None, 30)                930       \n",
            "                                                                 \n",
            " dense_13 (Dense)            (None, 30)                930       \n",
            "                                                                 \n",
            " dense_14 (Dense)            (None, 1)                 31        \n",
            "                                                                 \n",
            "=================================================================\n",
            "Total params: 2,221\n",
            "Trainable params: 2,221\n",
            "Non-trainable params: 0\n",
            "_________________________________________________________________\n"
          ]
        }
      ]
    },
    {
      "cell_type": "code",
      "source": [
        "# Compile and fit the neural network\n",
        "\n",
        "nn_model5.compile(loss = 'mean_squared_error', optimizer = 'adam')\n",
        "\n",
        "fit_model5 = nn_model5.fit(X_nn_train_scaled, y_nn_train, epochs=50)"
      ],
      "metadata": {
        "colab": {
          "base_uri": "https://localhost:8080/"
        },
        "id": "g5dL1zhZaGZn",
        "outputId": "ea7370fe-729c-4e8b-bf68-43141966009c"
      },
      "execution_count": 136,
      "outputs": [
        {
          "output_type": "stream",
          "name": "stdout",
          "text": [
            "Epoch 1/50\n",
            "98/98 [==============================] - 1s 2ms/step - loss: 54.7365\n",
            "Epoch 2/50\n",
            "98/98 [==============================] - 0s 2ms/step - loss: 6.6726\n",
            "Epoch 3/50\n",
            "98/98 [==============================] - 0s 2ms/step - loss: 6.4633\n",
            "Epoch 4/50\n",
            "98/98 [==============================] - 0s 3ms/step - loss: 6.2697\n",
            "Epoch 5/50\n",
            "98/98 [==============================] - 0s 2ms/step - loss: 6.0611\n",
            "Epoch 6/50\n",
            "98/98 [==============================] - 0s 2ms/step - loss: 5.8656\n",
            "Epoch 7/50\n",
            "98/98 [==============================] - 0s 2ms/step - loss: 5.6293\n",
            "Epoch 8/50\n",
            "98/98 [==============================] - 0s 2ms/step - loss: 5.4146\n",
            "Epoch 9/50\n",
            "98/98 [==============================] - 0s 2ms/step - loss: 5.2042\n",
            "Epoch 10/50\n",
            "98/98 [==============================] - 0s 2ms/step - loss: 5.1311\n",
            "Epoch 11/50\n",
            "98/98 [==============================] - 0s 2ms/step - loss: 5.0860\n",
            "Epoch 12/50\n",
            "98/98 [==============================] - 0s 2ms/step - loss: 4.9940\n",
            "Epoch 13/50\n",
            "98/98 [==============================] - 0s 2ms/step - loss: 4.8493\n",
            "Epoch 14/50\n",
            "98/98 [==============================] - 0s 2ms/step - loss: 4.8266\n",
            "Epoch 15/50\n",
            "98/98 [==============================] - 0s 2ms/step - loss: 4.7622\n",
            "Epoch 16/50\n",
            "98/98 [==============================] - 0s 2ms/step - loss: 4.7329\n",
            "Epoch 17/50\n",
            "98/98 [==============================] - 0s 2ms/step - loss: 4.7219\n",
            "Epoch 18/50\n",
            "98/98 [==============================] - 0s 3ms/step - loss: 4.7523\n",
            "Epoch 19/50\n",
            "98/98 [==============================] - 0s 2ms/step - loss: 4.6765\n",
            "Epoch 20/50\n",
            "98/98 [==============================] - 0s 2ms/step - loss: 4.6765\n",
            "Epoch 21/50\n",
            "98/98 [==============================] - 0s 2ms/step - loss: 4.6323\n",
            "Epoch 22/50\n",
            "98/98 [==============================] - 0s 2ms/step - loss: 4.6669\n",
            "Epoch 23/50\n",
            "98/98 [==============================] - 0s 2ms/step - loss: 4.6285\n",
            "Epoch 24/50\n",
            "98/98 [==============================] - 0s 2ms/step - loss: 4.6320\n",
            "Epoch 25/50\n",
            "98/98 [==============================] - 0s 2ms/step - loss: 4.6034\n",
            "Epoch 26/50\n",
            "98/98 [==============================] - 0s 2ms/step - loss: 4.6276\n",
            "Epoch 27/50\n",
            "98/98 [==============================] - 0s 2ms/step - loss: 4.5932\n",
            "Epoch 28/50\n",
            "98/98 [==============================] - 0s 2ms/step - loss: 4.6043\n",
            "Epoch 29/50\n",
            "98/98 [==============================] - 0s 2ms/step - loss: 4.6079\n",
            "Epoch 30/50\n",
            "98/98 [==============================] - 0s 2ms/step - loss: 4.6166\n",
            "Epoch 31/50\n",
            "98/98 [==============================] - 0s 2ms/step - loss: 4.5416\n",
            "Epoch 32/50\n",
            "98/98 [==============================] - 0s 2ms/step - loss: 4.5763\n",
            "Epoch 33/50\n",
            "98/98 [==============================] - 0s 2ms/step - loss: 4.6734\n",
            "Epoch 34/50\n",
            "98/98 [==============================] - 0s 2ms/step - loss: 4.5386\n",
            "Epoch 35/50\n",
            "98/98 [==============================] - 0s 2ms/step - loss: 4.5328\n",
            "Epoch 36/50\n",
            "98/98 [==============================] - 0s 2ms/step - loss: 4.5569\n",
            "Epoch 37/50\n",
            "98/98 [==============================] - 0s 2ms/step - loss: 4.5251\n",
            "Epoch 38/50\n",
            "98/98 [==============================] - 0s 2ms/step - loss: 4.5126\n",
            "Epoch 39/50\n",
            "98/98 [==============================] - 0s 2ms/step - loss: 4.5565\n",
            "Epoch 40/50\n",
            "98/98 [==============================] - 0s 2ms/step - loss: 4.5702\n",
            "Epoch 41/50\n",
            "98/98 [==============================] - 0s 2ms/step - loss: 4.5242\n",
            "Epoch 42/50\n",
            "98/98 [==============================] - 0s 2ms/step - loss: 4.5110\n",
            "Epoch 43/50\n",
            "98/98 [==============================] - 0s 2ms/step - loss: 4.5190\n",
            "Epoch 44/50\n",
            "98/98 [==============================] - 0s 2ms/step - loss: 4.5475\n",
            "Epoch 45/50\n",
            "98/98 [==============================] - 0s 2ms/step - loss: 4.4858\n",
            "Epoch 46/50\n",
            "98/98 [==============================] - 0s 2ms/step - loss: 4.4810\n",
            "Epoch 47/50\n",
            "98/98 [==============================] - 0s 2ms/step - loss: 4.4994\n",
            "Epoch 48/50\n",
            "98/98 [==============================] - 0s 2ms/step - loss: 4.5149\n",
            "Epoch 49/50\n",
            "98/98 [==============================] - 0s 2ms/step - loss: 4.4983\n",
            "Epoch 50/50\n",
            "98/98 [==============================] - 0s 2ms/step - loss: 4.5019\n"
          ]
        }
      ]
    },
    {
      "cell_type": "code",
      "source": [
        "# Test model\n",
        "\n",
        "y_test_predicted5 = nn_model5.predict(X_nn_test_scaled)"
      ],
      "metadata": {
        "id": "n5C0SWPyY5Ay",
        "colab": {
          "base_uri": "https://localhost:8080/"
        },
        "outputId": "65b30f34-3510-4e22-cdba-c0b17545b82d"
      },
      "execution_count": 137,
      "outputs": [
        {
          "output_type": "stream",
          "name": "stdout",
          "text": [
            "33/33 [==============================] - 0s 2ms/step\n"
          ]
        }
      ]
    },
    {
      "cell_type": "code",
      "source": [
        "# Calculate coefficient of determination\n",
        "\n",
        "r2_score(y_nn_test, y_test_predicted5)"
      ],
      "metadata": {
        "colab": {
          "base_uri": "https://localhost:8080/"
        },
        "id": "fvtkAu4_aZQy",
        "outputId": "6d7c7e27-ca10-4d96-b69f-1c7daa42be13"
      },
      "execution_count": 138,
      "outputs": [
        {
          "output_type": "execute_result",
          "data": {
            "text/plain": [
              "0.5808466692540368"
            ]
          },
          "metadata": {},
          "execution_count": 138
        }
      ]
    },
    {
      "cell_type": "markdown",
      "source": [
        "#### Neural Network #6\n",
        "\n",
        "For this model, we took Neural Network #5 and increased the number of training epochs.\n",
        "\n",
        "This produced an R^2 value of 58.178%. This did not perform as well as the previous network."
      ],
      "metadata": {
        "id": "TYVUZhKJBwix"
      }
    },
    {
      "cell_type": "code",
      "source": [
        "# Build NN Model No.6 - 3 hidden layers with 75 epochs\n",
        "nn_model6 = tf.keras.models.Sequential()\n",
        "nn_model6.add(tf.keras.layers.Dense(units= 30, activation = 'relu', input_dim = 10))\n",
        "nn_model6.add(tf.keras.layers.Dense(units = 30, activation = 'relu'))\n",
        "nn_model6.add(tf.keras.layers.Dense(units = 30, activation = 'relu'))\n",
        "nn_model6.add(tf.keras.layers.Dense(units = 1 , activation = 'linear'))\n",
        "\n",
        "nn_model6.summary()"
      ],
      "metadata": {
        "colab": {
          "base_uri": "https://localhost:8080/"
        },
        "id": "WterbDJEw_se",
        "outputId": "e04f9d56-36fc-4172-9f1c-86507b2de28c"
      },
      "execution_count": 139,
      "outputs": [
        {
          "output_type": "stream",
          "name": "stdout",
          "text": [
            "Model: \"sequential_5\"\n",
            "_________________________________________________________________\n",
            " Layer (type)                Output Shape              Param #   \n",
            "=================================================================\n",
            " dense_15 (Dense)            (None, 30)                330       \n",
            "                                                                 \n",
            " dense_16 (Dense)            (None, 30)                930       \n",
            "                                                                 \n",
            " dense_17 (Dense)            (None, 30)                930       \n",
            "                                                                 \n",
            " dense_18 (Dense)            (None, 1)                 31        \n",
            "                                                                 \n",
            "=================================================================\n",
            "Total params: 2,221\n",
            "Trainable params: 2,221\n",
            "Non-trainable params: 0\n",
            "_________________________________________________________________\n"
          ]
        }
      ]
    },
    {
      "cell_type": "code",
      "source": [
        "# Compile and fit the model\n",
        "\n",
        "nn_model6.compile(loss = 'mean_squared_error', optimizer = 'adam')\n",
        "\n",
        "fit_model6 = nn_model6.fit(X_nn_train_scaled, y_nn_train, epochs=75)"
      ],
      "metadata": {
        "colab": {
          "base_uri": "https://localhost:8080/"
        },
        "id": "SHJrhmYresU4",
        "outputId": "60e06587-aec5-468e-a691-5f3158a7c3fb"
      },
      "execution_count": 140,
      "outputs": [
        {
          "output_type": "stream",
          "name": "stdout",
          "text": [
            "Epoch 1/75\n",
            "98/98 [==============================] - 1s 2ms/step - loss: 51.4339\n",
            "Epoch 2/75\n",
            "98/98 [==============================] - 0s 2ms/step - loss: 7.2216\n",
            "Epoch 3/75\n",
            "98/98 [==============================] - 0s 2ms/step - loss: 6.8247\n",
            "Epoch 4/75\n",
            "98/98 [==============================] - 0s 2ms/step - loss: 6.5880\n",
            "Epoch 5/75\n",
            "98/98 [==============================] - 0s 2ms/step - loss: 6.3859\n",
            "Epoch 6/75\n",
            "98/98 [==============================] - 0s 2ms/step - loss: 6.1961\n",
            "Epoch 7/75\n",
            "98/98 [==============================] - 0s 2ms/step - loss: 6.1142\n",
            "Epoch 8/75\n",
            "98/98 [==============================] - 0s 2ms/step - loss: 5.8638\n",
            "Epoch 9/75\n",
            "98/98 [==============================] - 0s 2ms/step - loss: 5.7032\n",
            "Epoch 10/75\n",
            "98/98 [==============================] - 0s 2ms/step - loss: 5.5910\n",
            "Epoch 11/75\n",
            "98/98 [==============================] - 0s 2ms/step - loss: 5.4153\n",
            "Epoch 12/75\n",
            "98/98 [==============================] - 0s 2ms/step - loss: 5.2634\n",
            "Epoch 13/75\n",
            "98/98 [==============================] - 0s 3ms/step - loss: 5.1867\n",
            "Epoch 14/75\n",
            "98/98 [==============================] - 0s 2ms/step - loss: 5.0828\n",
            "Epoch 15/75\n",
            "98/98 [==============================] - 0s 2ms/step - loss: 4.9782\n",
            "Epoch 16/75\n",
            "98/98 [==============================] - 0s 2ms/step - loss: 4.8897\n",
            "Epoch 17/75\n",
            "98/98 [==============================] - 0s 2ms/step - loss: 4.8552\n",
            "Epoch 18/75\n",
            "98/98 [==============================] - 0s 2ms/step - loss: 4.8050\n",
            "Epoch 19/75\n",
            "98/98 [==============================] - 0s 2ms/step - loss: 4.7602\n",
            "Epoch 20/75\n",
            "98/98 [==============================] - 0s 2ms/step - loss: 4.8455\n",
            "Epoch 21/75\n",
            "98/98 [==============================] - 0s 2ms/step - loss: 4.7004\n",
            "Epoch 22/75\n",
            "98/98 [==============================] - 0s 2ms/step - loss: 4.7023\n",
            "Epoch 23/75\n",
            "98/98 [==============================] - 0s 2ms/step - loss: 4.7903\n",
            "Epoch 24/75\n",
            "98/98 [==============================] - 0s 2ms/step - loss: 4.6717\n",
            "Epoch 25/75\n",
            "98/98 [==============================] - 0s 2ms/step - loss: 4.6608\n",
            "Epoch 26/75\n",
            "98/98 [==============================] - 0s 2ms/step - loss: 4.6540\n",
            "Epoch 27/75\n",
            "98/98 [==============================] - 0s 2ms/step - loss: 4.6499\n",
            "Epoch 28/75\n",
            "98/98 [==============================] - 0s 2ms/step - loss: 4.6546\n",
            "Epoch 29/75\n",
            "98/98 [==============================] - 0s 2ms/step - loss: 4.6406\n",
            "Epoch 30/75\n",
            "98/98 [==============================] - 0s 2ms/step - loss: 4.6638\n",
            "Epoch 31/75\n",
            "98/98 [==============================] - 0s 2ms/step - loss: 4.6062\n",
            "Epoch 32/75\n",
            "98/98 [==============================] - 0s 2ms/step - loss: 4.5719\n",
            "Epoch 33/75\n",
            "98/98 [==============================] - 0s 2ms/step - loss: 4.5984\n",
            "Epoch 34/75\n",
            "98/98 [==============================] - 0s 2ms/step - loss: 4.6085\n",
            "Epoch 35/75\n",
            "98/98 [==============================] - 0s 2ms/step - loss: 4.6235\n",
            "Epoch 36/75\n",
            "98/98 [==============================] - 0s 2ms/step - loss: 4.5881\n",
            "Epoch 37/75\n",
            "98/98 [==============================] - 0s 2ms/step - loss: 4.5678\n",
            "Epoch 38/75\n",
            "98/98 [==============================] - 0s 2ms/step - loss: 4.5626\n",
            "Epoch 39/75\n",
            "98/98 [==============================] - 0s 2ms/step - loss: 4.5716\n",
            "Epoch 40/75\n",
            "98/98 [==============================] - 0s 2ms/step - loss: 4.5689\n",
            "Epoch 41/75\n",
            "98/98 [==============================] - 0s 2ms/step - loss: 4.6386\n",
            "Epoch 42/75\n",
            "98/98 [==============================] - 0s 2ms/step - loss: 4.5255\n",
            "Epoch 43/75\n",
            "98/98 [==============================] - 0s 2ms/step - loss: 4.5626\n",
            "Epoch 44/75\n",
            "98/98 [==============================] - 0s 2ms/step - loss: 4.5207\n",
            "Epoch 45/75\n",
            "98/98 [==============================] - 0s 2ms/step - loss: 4.5647\n",
            "Epoch 46/75\n",
            "98/98 [==============================] - 0s 2ms/step - loss: 4.5437\n",
            "Epoch 47/75\n",
            "98/98 [==============================] - 0s 2ms/step - loss: 4.5328\n",
            "Epoch 48/75\n",
            "98/98 [==============================] - 0s 2ms/step - loss: 4.5144\n",
            "Epoch 49/75\n",
            "98/98 [==============================] - 0s 2ms/step - loss: 4.4844\n",
            "Epoch 50/75\n",
            "98/98 [==============================] - 0s 2ms/step - loss: 4.5319\n",
            "Epoch 51/75\n",
            "98/98 [==============================] - 0s 2ms/step - loss: 4.4915\n",
            "Epoch 52/75\n",
            "98/98 [==============================] - 0s 2ms/step - loss: 4.5037\n",
            "Epoch 53/75\n",
            "98/98 [==============================] - 0s 2ms/step - loss: 4.5252\n",
            "Epoch 54/75\n",
            "98/98 [==============================] - 0s 2ms/step - loss: 4.4994\n",
            "Epoch 55/75\n",
            "98/98 [==============================] - 0s 2ms/step - loss: 4.4921\n",
            "Epoch 56/75\n",
            "98/98 [==============================] - 0s 2ms/step - loss: 4.4989\n",
            "Epoch 57/75\n",
            "98/98 [==============================] - 0s 2ms/step - loss: 4.5255\n",
            "Epoch 58/75\n",
            "98/98 [==============================] - 0s 2ms/step - loss: 4.4759\n",
            "Epoch 59/75\n",
            "98/98 [==============================] - 0s 2ms/step - loss: 4.4853\n",
            "Epoch 60/75\n",
            "98/98 [==============================] - 0s 2ms/step - loss: 4.5040\n",
            "Epoch 61/75\n",
            "98/98 [==============================] - 0s 2ms/step - loss: 4.4384\n",
            "Epoch 62/75\n",
            "98/98 [==============================] - 1s 6ms/step - loss: 4.4950\n",
            "Epoch 63/75\n",
            "98/98 [==============================] - 1s 6ms/step - loss: 4.4818\n",
            "Epoch 64/75\n",
            "98/98 [==============================] - 0s 2ms/step - loss: 4.4705\n",
            "Epoch 65/75\n",
            "98/98 [==============================] - 0s 3ms/step - loss: 4.4665\n",
            "Epoch 66/75\n",
            "98/98 [==============================] - 1s 7ms/step - loss: 4.5636\n",
            "Epoch 67/75\n",
            "98/98 [==============================] - 0s 3ms/step - loss: 4.5726\n",
            "Epoch 68/75\n",
            "98/98 [==============================] - 0s 3ms/step - loss: 4.4589\n",
            "Epoch 69/75\n",
            "98/98 [==============================] - 1s 10ms/step - loss: 4.4973\n",
            "Epoch 70/75\n",
            "98/98 [==============================] - 0s 3ms/step - loss: 4.4433\n",
            "Epoch 71/75\n",
            "98/98 [==============================] - 0s 2ms/step - loss: 4.4288\n",
            "Epoch 72/75\n",
            "98/98 [==============================] - 0s 2ms/step - loss: 4.4873\n",
            "Epoch 73/75\n",
            "98/98 [==============================] - 0s 2ms/step - loss: 4.4280\n",
            "Epoch 74/75\n",
            "98/98 [==============================] - 0s 2ms/step - loss: 4.4531\n",
            "Epoch 75/75\n",
            "98/98 [==============================] - 0s 2ms/step - loss: 4.4577\n"
          ]
        }
      ]
    },
    {
      "cell_type": "code",
      "source": [
        "# Test model\n",
        "\n",
        "y_test_predicted6 = nn_model6.predict(X_nn_test_scaled)"
      ],
      "metadata": {
        "colab": {
          "base_uri": "https://localhost:8080/"
        },
        "id": "xpBEx4FZeuI7",
        "outputId": "803e09e3-4f06-4b3c-9681-f87447330fd3"
      },
      "execution_count": 141,
      "outputs": [
        {
          "output_type": "stream",
          "name": "stdout",
          "text": [
            "33/33 [==============================] - 0s 1ms/step\n"
          ]
        }
      ]
    },
    {
      "cell_type": "code",
      "source": [
        "# Calculate coefficient of determination\n",
        "\n",
        "r2_score(y_nn_test, y_test_predicted6)"
      ],
      "metadata": {
        "colab": {
          "base_uri": "https://localhost:8080/"
        },
        "id": "sOcAoTfqez1d",
        "outputId": "1bddf354-bf3f-4226-c708-4cf4b6ae2ca3"
      },
      "execution_count": 142,
      "outputs": [
        {
          "output_type": "execute_result",
          "data": {
            "text/plain": [
              "0.5815244050369155"
            ]
          },
          "metadata": {},
          "execution_count": 142
        }
      ]
    },
    {
      "cell_type": "markdown",
      "source": [
        "#### Neural Network #7\n",
        "\n",
        "We tried adding a fourth hidden layer to see if we could extract more performance. This hidden layer is the same as the others: 30 densely-connected perceptrons with ReLU activation functions.\n",
        "\n",
        "This model produced an R^2 value of 56.535%. This did not perform as well as the model with three hidden layers, so we chose to end this line of pursuit."
      ],
      "metadata": {
        "id": "yGkIDdKyuHxi"
      }
    },
    {
      "cell_type": "code",
      "source": [
        "nn_model7 = tf.keras.models.Sequential()\n",
        "nn_model7.add(tf.keras.layers.Dense(units= 30, activation = 'relu', input_dim = 10))\n",
        "nn_model7.add(tf.keras.layers.Dense(units = 30, activation = 'relu'))\n",
        "nn_model7.add(tf.keras.layers.Dense(units = 30, activation = 'relu'))\n",
        "nn_model7.add(tf.keras.layers.Dense(units = 30, activation = 'relu'))\n",
        "nn_model7.add(tf.keras.layers.Dense(units = 1 , activation = 'linear'))\n",
        "\n",
        "nn_model7.summary()"
      ],
      "metadata": {
        "colab": {
          "base_uri": "https://localhost:8080/"
        },
        "id": "BKM9cgZMuHFC",
        "outputId": "5155263d-1c70-4103-dcbf-5e897e784161"
      },
      "execution_count": 143,
      "outputs": [
        {
          "output_type": "stream",
          "name": "stdout",
          "text": [
            "Model: \"sequential_6\"\n",
            "_________________________________________________________________\n",
            " Layer (type)                Output Shape              Param #   \n",
            "=================================================================\n",
            " dense_19 (Dense)            (None, 30)                330       \n",
            "                                                                 \n",
            " dense_20 (Dense)            (None, 30)                930       \n",
            "                                                                 \n",
            " dense_21 (Dense)            (None, 30)                930       \n",
            "                                                                 \n",
            " dense_22 (Dense)            (None, 30)                930       \n",
            "                                                                 \n",
            " dense_23 (Dense)            (None, 1)                 31        \n",
            "                                                                 \n",
            "=================================================================\n",
            "Total params: 3,151\n",
            "Trainable params: 3,151\n",
            "Non-trainable params: 0\n",
            "_________________________________________________________________\n"
          ]
        }
      ]
    },
    {
      "cell_type": "code",
      "source": [
        "nn_model7.compile(loss = 'mean_squared_error', optimizer = 'adam')\n",
        "\n",
        "fit_model7 = nn_model7.fit(X_nn_train_scaled, y_nn_train, epochs=50)"
      ],
      "metadata": {
        "colab": {
          "base_uri": "https://localhost:8080/"
        },
        "id": "ZZTejRaCuHCX",
        "outputId": "9b17eaf3-d35b-45d0-a55f-c1a9f041523e"
      },
      "execution_count": 144,
      "outputs": [
        {
          "output_type": "stream",
          "name": "stdout",
          "text": [
            "Epoch 1/50\n",
            "98/98 [==============================] - 1s 2ms/step - loss: 44.4921\n",
            "Epoch 2/50\n",
            "98/98 [==============================] - 0s 2ms/step - loss: 6.6856\n",
            "Epoch 3/50\n",
            "98/98 [==============================] - 0s 2ms/step - loss: 6.4894\n",
            "Epoch 4/50\n",
            "98/98 [==============================] - 0s 2ms/step - loss: 6.3428\n",
            "Epoch 5/50\n",
            "98/98 [==============================] - 0s 2ms/step - loss: 6.2190\n",
            "Epoch 6/50\n",
            "98/98 [==============================] - 0s 2ms/step - loss: 6.1029\n",
            "Epoch 7/50\n",
            "98/98 [==============================] - 0s 3ms/step - loss: 5.9004\n",
            "Epoch 8/50\n",
            "98/98 [==============================] - 0s 2ms/step - loss: 5.7703\n",
            "Epoch 9/50\n",
            "98/98 [==============================] - 0s 2ms/step - loss: 5.5471\n",
            "Epoch 10/50\n",
            "98/98 [==============================] - 0s 2ms/step - loss: 5.4375\n",
            "Epoch 11/50\n",
            "98/98 [==============================] - 0s 2ms/step - loss: 5.2393\n",
            "Epoch 12/50\n",
            "98/98 [==============================] - 0s 2ms/step - loss: 5.1587\n",
            "Epoch 13/50\n",
            "98/98 [==============================] - 0s 2ms/step - loss: 5.0161\n",
            "Epoch 14/50\n",
            "98/98 [==============================] - 0s 2ms/step - loss: 4.9410\n",
            "Epoch 15/50\n",
            "98/98 [==============================] - 0s 2ms/step - loss: 4.9206\n",
            "Epoch 16/50\n",
            "98/98 [==============================] - 0s 2ms/step - loss: 4.8678\n",
            "Epoch 17/50\n",
            "98/98 [==============================] - 0s 2ms/step - loss: 4.8092\n",
            "Epoch 18/50\n",
            "98/98 [==============================] - 0s 2ms/step - loss: 4.8481\n",
            "Epoch 19/50\n",
            "98/98 [==============================] - 0s 2ms/step - loss: 4.7109\n",
            "Epoch 20/50\n",
            "98/98 [==============================] - 0s 2ms/step - loss: 4.7307\n",
            "Epoch 21/50\n",
            "98/98 [==============================] - 0s 2ms/step - loss: 4.6740\n",
            "Epoch 22/50\n",
            "98/98 [==============================] - 0s 2ms/step - loss: 4.6831\n",
            "Epoch 23/50\n",
            "98/98 [==============================] - 0s 2ms/step - loss: 4.7272\n",
            "Epoch 24/50\n",
            "98/98 [==============================] - 0s 2ms/step - loss: 4.7384\n",
            "Epoch 25/50\n",
            "98/98 [==============================] - 0s 2ms/step - loss: 4.6603\n",
            "Epoch 26/50\n",
            "98/98 [==============================] - 0s 2ms/step - loss: 4.6292\n",
            "Epoch 27/50\n",
            "98/98 [==============================] - 0s 2ms/step - loss: 4.6433\n",
            "Epoch 28/50\n",
            "98/98 [==============================] - 0s 2ms/step - loss: 4.5941\n",
            "Epoch 29/50\n",
            "98/98 [==============================] - 0s 2ms/step - loss: 4.6165\n",
            "Epoch 30/50\n",
            "98/98 [==============================] - 0s 2ms/step - loss: 4.5330\n",
            "Epoch 31/50\n",
            "98/98 [==============================] - 0s 2ms/step - loss: 4.6556\n",
            "Epoch 32/50\n",
            "98/98 [==============================] - 0s 2ms/step - loss: 4.5702\n",
            "Epoch 33/50\n",
            "98/98 [==============================] - 0s 2ms/step - loss: 4.5376\n",
            "Epoch 34/50\n",
            "98/98 [==============================] - 0s 2ms/step - loss: 4.5418\n",
            "Epoch 35/50\n",
            "98/98 [==============================] - 0s 2ms/step - loss: 4.5034\n",
            "Epoch 36/50\n",
            "98/98 [==============================] - 0s 2ms/step - loss: 4.4905\n",
            "Epoch 37/50\n",
            "98/98 [==============================] - 0s 2ms/step - loss: 4.5085\n",
            "Epoch 38/50\n",
            "98/98 [==============================] - 0s 2ms/step - loss: 4.4896\n",
            "Epoch 39/50\n",
            "98/98 [==============================] - 0s 2ms/step - loss: 4.4200\n",
            "Epoch 40/50\n",
            "98/98 [==============================] - 0s 2ms/step - loss: 4.4653\n",
            "Epoch 41/50\n",
            "98/98 [==============================] - 0s 2ms/step - loss: 4.5738\n",
            "Epoch 42/50\n",
            "98/98 [==============================] - 0s 2ms/step - loss: 4.5164\n",
            "Epoch 43/50\n",
            "98/98 [==============================] - 0s 2ms/step - loss: 4.4577\n",
            "Epoch 44/50\n",
            "98/98 [==============================] - 0s 2ms/step - loss: 4.4095\n",
            "Epoch 45/50\n",
            "98/98 [==============================] - 0s 2ms/step - loss: 4.5111\n",
            "Epoch 46/50\n",
            "98/98 [==============================] - 0s 2ms/step - loss: 4.4545\n",
            "Epoch 47/50\n",
            "98/98 [==============================] - 0s 2ms/step - loss: 4.4339\n",
            "Epoch 48/50\n",
            "98/98 [==============================] - 0s 2ms/step - loss: 4.3839\n",
            "Epoch 49/50\n",
            "98/98 [==============================] - 0s 2ms/step - loss: 4.4587\n",
            "Epoch 50/50\n",
            "98/98 [==============================] - 0s 2ms/step - loss: 4.5417\n"
          ]
        }
      ]
    },
    {
      "cell_type": "code",
      "source": [
        "# Test model\n",
        "y_test_predicted7 = nn_model7.predict(X_nn_test_scaled)"
      ],
      "metadata": {
        "colab": {
          "base_uri": "https://localhost:8080/"
        },
        "id": "QQrTo0ndvKIp",
        "outputId": "63f2805d-63f6-4c1f-b2d7-e0c6a19324d5"
      },
      "execution_count": 145,
      "outputs": [
        {
          "output_type": "stream",
          "name": "stdout",
          "text": [
            "33/33 [==============================] - 0s 1ms/step\n"
          ]
        }
      ]
    },
    {
      "cell_type": "code",
      "source": [
        "# Calculate coefficient of determination\n",
        "r2_score(y_nn_test, y_test_predicted7)"
      ],
      "metadata": {
        "colab": {
          "base_uri": "https://localhost:8080/"
        },
        "id": "TWn0K1GduG-n",
        "outputId": "be079018-c12c-40af-8e5e-7ae0e55dbd7b"
      },
      "execution_count": 146,
      "outputs": [
        {
          "output_type": "execute_result",
          "data": {
            "text/plain": [
              "0.5932919763424762"
            ]
          },
          "metadata": {},
          "execution_count": 146
        }
      ]
    },
    {
      "cell_type": "markdown",
      "source": [
        "### Neural Networks with Keras Tuner\n",
        "\n",
        "We tried using Keras Tuner as a way to improve the performance of our neural networks. We thought it would be more efficient than creating and testing neural networks by trial and error."
      ],
      "metadata": {
        "id": "9RUpdQU-fXfP"
      }
    },
    {
      "cell_type": "markdown",
      "source": [
        "#### Neural Network #8\n",
        "\n",
        "Here, we create the neural network model with parameters for Keras Tuner to operate on.\n",
        "\n",
        "We give Keras Tuner the option to try both ReLU and Hyperbolic Tangent activation functions. It also will vary the number of densely-connected perceptrons in the hidden layer, from 1 to 30 nodes. We are using Mean Absolute Error as our loss function and our evaluation metric, since we are doing a regression.\n",
        "\n",
        "With this first model, we got an R^2 value of 38.824%. This is a lot worse than our other neural network attempts, so we will try another model with Keras Tuner that is more complex."
      ],
      "metadata": {
        "id": "TKfjFclQCF3L"
      }
    },
    {
      "cell_type": "code",
      "source": [
        "# Make create_model function\n",
        "\n",
        "def create_model(hp):\n",
        "  nn_model7 = tf.keras.models.Sequential()\n",
        "\n",
        "  activation = hp.Choice('activation', ['relu', 'tanh'])\n",
        "\n",
        "  nn_model7.add(tf.keras.layers.Dense(units=hp.Int('first_units',\n",
        "                                                  min_value = 1,\n",
        "                                                  max_value = 30,\n",
        "                                                  step=1), activation=activation, input_dim=10))\n",
        "  \n",
        "  nn_model7.add(tf.keras.layers.Dense(units = 1, activation = \"linear\"))\n",
        "  nn_model7.compile(loss='mean_absolute_error', optimizer='adam', metrics = ['mean_absolute_error'])\n",
        "  return nn_model7"
      ],
      "metadata": {
        "id": "6tEES3PbDTfA"
      },
      "execution_count": 148,
      "outputs": []
    },
    {
      "cell_type": "code",
      "source": [
        "# Import keras tuner\n",
        "import keras_tuner as kt\n",
        "\n",
        "# Setting up hyperband tuner\n",
        "tuner = kt.Hyperband(\n",
        "    create_model,\n",
        "    objective=kt.Objective(\"val_mean_absolute_error\", direction =\"min\"),\n",
        "    seed = 3,\n",
        "    max_epochs=20,\n",
        "    hyperband_iterations=2)\n"
      ],
      "metadata": {
        "id": "mXkXluISDkac"
      },
      "execution_count": 149,
      "outputs": []
    },
    {
      "cell_type": "code",
      "source": [
        "# Run keras tuner search for best hyperparameters\n",
        "tuner.search(X_nn_train_scaled, y_nn_train, epochs=20, validation_data=(X_nn_test_scaled, y_nn_test))"
      ],
      "metadata": {
        "id": "tt5V8ATXDmb4"
      },
      "execution_count": 150,
      "outputs": []
    },
    {
      "cell_type": "code",
      "source": [
        "# Get the best hyperparameters for the model\n",
        "tuner.get_best_hyperparameters()[0].values"
      ],
      "metadata": {
        "colab": {
          "base_uri": "https://localhost:8080/"
        },
        "id": "EjXWhDoKgWTO",
        "outputId": "5d4c12e6-d1f6-4a0e-eaa1-496a00624a09"
      },
      "execution_count": 151,
      "outputs": [
        {
          "output_type": "execute_result",
          "data": {
            "text/plain": [
              "{'activation': 'relu',\n",
              " 'first_units': 27,\n",
              " 'tuner/epochs': 20,\n",
              " 'tuner/initial_epoch': 0,\n",
              " 'tuner/bracket': 0,\n",
              " 'tuner/round': 0}"
            ]
          },
          "metadata": {},
          "execution_count": 151
        }
      ]
    },
    {
      "cell_type": "code",
      "source": [
        "top_model = tuner.get_best_hyperparameters()[0].values"
      ],
      "metadata": {
        "id": "RMqhpjOexM37"
      },
      "execution_count": 152,
      "outputs": []
    },
    {
      "cell_type": "code",
      "source": [
        "top_model = tuner.get_best_models(1)\n",
        "for model in top_model:\n",
        "  model_loss = model.evaluate(X_nn_test_scaled, y_nn_test, verbose=2)"
      ],
      "metadata": {
        "colab": {
          "base_uri": "https://localhost:8080/"
        },
        "id": "FF10qAl71_cq",
        "outputId": "f801ca81-ce99-4605-8db7-d00b1ea1f078"
      },
      "execution_count": 156,
      "outputs": [
        {
          "output_type": "stream",
          "name": "stdout",
          "text": [
            "33/33 - 0s - loss: 1.6175 - mean_absolute_error: 1.6175 - 238ms/epoch - 7ms/step\n"
          ]
        }
      ]
    },
    {
      "cell_type": "code",
      "source": [
        "# Test model\n",
        "y_test_predicted8 = top_model[0].predict(X_nn_test_scaled)"
      ],
      "metadata": {
        "id": "dNk5CXgVKZAb",
        "colab": {
          "base_uri": "https://localhost:8080/"
        },
        "outputId": "83fc69be-2c87-4961-87c9-a709443ac0b9"
      },
      "execution_count": 157,
      "outputs": [
        {
          "output_type": "stream",
          "name": "stdout",
          "text": [
            "33/33 [==============================] - 0s 1ms/step\n"
          ]
        }
      ]
    },
    {
      "cell_type": "code",
      "source": [
        "# Calculate coefficient of determination (inconsistent results, possibly a result of not being able to fine-tune batch size without creating our own class)\n",
        "r2_score(y_nn_test, y_test_predicted8)"
      ],
      "metadata": {
        "id": "vTRFpQ9DaolO",
        "colab": {
          "base_uri": "https://localhost:8080/"
        },
        "outputId": "aef56fa4-397e-4cef-e93d-5f42bfe026d4"
      },
      "execution_count": 158,
      "outputs": [
        {
          "output_type": "execute_result",
          "data": {
            "text/plain": [
              "0.3882365094167357"
            ]
          },
          "metadata": {},
          "execution_count": 158
        }
      ]
    },
    {
      "cell_type": "markdown",
      "source": [
        "#### Neural Network #9 \n",
        "\n",
        "This is our second model with Keras Tuner. We added a second, densely-connected hidden layer with a ReLU activation function. \n",
        "\n",
        "We thought that adding more layers to keras tuner model would help us get better results. \n",
        "\n",
        "We ended up getting an R^2 value of -2,915.8%. Clearly, this indicates that this model does not fit the data at all, since R^2 values must be positive."
      ],
      "metadata": {
        "id": "ifUwfyhuffCR"
      }
    },
    {
      "cell_type": "code",
      "source": [
        "# Create model function\n",
        "def create_model2(hp):\n",
        "  nn_model9 = tf.keras.models.Sequential()\n",
        "\n",
        "  activation = hp.Choice('activation', ['relu', 'tanh'])\n",
        "\n",
        "  nn_model9.add(tf.keras.layers.Dense(units=hp.Int('first_units',\n",
        "                                                  min_value = 1,\n",
        "                                                  max_value = 30,\n",
        "                                                  step=2), activation=activation, input_dim=10))\n",
        "  nn_model9.add(tf.keras.layers.Dense(units=hp.Int('second_units',\n",
        "                                                  min_value = 1,\n",
        "                                                  max_value = 30,\n",
        "                                                  step=2), activation = 'relu' ))\n",
        "  nn_model9.add(tf.keras.layers.Dense(units = 1, activation = \"linear\"))\n",
        "  nn_model9.compile(loss='mean_absolute_error', optimizer='adam', metrics = ['mean_absolute_error'])\n",
        "  return nn_model9"
      ],
      "metadata": {
        "id": "4i3qmY06Dx3x"
      },
      "execution_count": 159,
      "outputs": []
    },
    {
      "cell_type": "code",
      "source": [
        "# Setting up hyperband tuner\n",
        "tuner2 = kt.Hyperband(\n",
        "    create_model2,\n",
        "    objective=kt.Objective(\"val_mean_absolute_error\", direction =\"min\"),\n",
        "    seed = 3,\n",
        "    max_epochs=20,\n",
        "    hyperband_iterations=2)\n"
      ],
      "metadata": {
        "id": "MrR8QIACf1vp"
      },
      "execution_count": 160,
      "outputs": []
    },
    {
      "cell_type": "code",
      "source": [
        "# Run Keras Tuner search for the best hyperparameters\n",
        "tuner2.search(X_nn_train_scaled, y_nn_train, epochs=20, validation_data=(X_nn_test_scaled, y_nn_test))"
      ],
      "metadata": {
        "id": "FjniFzNMgSuW"
      },
      "execution_count": 161,
      "outputs": []
    },
    {
      "cell_type": "code",
      "source": [
        "top_model2 = tuner2.get_best_models(1)\n",
        "for model in top_model2:\n",
        "  model_loss = model.evaluate(X_nn_test_scaled, y_nn_test, verbose=2)"
      ],
      "metadata": {
        "colab": {
          "base_uri": "https://localhost:8080/"
        },
        "id": "rq6QXkNU150A",
        "outputId": "88ff2257-40cb-42b9-83a8-47975736e1b0"
      },
      "execution_count": 162,
      "outputs": [
        {
          "output_type": "stream",
          "name": "stdout",
          "text": [
            "33/33 - 0s - loss: 16.9231 - mean_absolute_error: 16.9231 - 242ms/epoch - 7ms/step\n"
          ]
        }
      ]
    },
    {
      "cell_type": "code",
      "source": [
        "# Test model \n",
        "y_test_predicted9 = top_model2[0].predict(X_nn_test_scaled)"
      ],
      "metadata": {
        "id": "QzqPcsrVghgK",
        "colab": {
          "base_uri": "https://localhost:8080/"
        },
        "outputId": "7d6bc8a9-458b-4e56-b6b3-f7d346d1666c"
      },
      "execution_count": 163,
      "outputs": [
        {
          "output_type": "stream",
          "name": "stdout",
          "text": [
            "33/33 [==============================] - 0s 1ms/step\n"
          ]
        }
      ]
    },
    {
      "cell_type": "code",
      "source": [
        "# Calculate coefficient of determination (inconsistent results, possibly a result of not being able to fine-tune batch size without creating our own class)\n",
        "r2_score(y_nn_test, y_test_predicted9)"
      ],
      "metadata": {
        "id": "m0E1qAf7gjyQ",
        "colab": {
          "base_uri": "https://localhost:8080/"
        },
        "outputId": "4ce415b1-b8a9-4dd4-be7a-c454270508a3"
      },
      "execution_count": 164,
      "outputs": [
        {
          "output_type": "execute_result",
          "data": {
            "text/plain": [
              "-29.158297079609035"
            ]
          },
          "metadata": {},
          "execution_count": 164
        }
      ]
    },
    {
      "cell_type": "markdown",
      "source": [
        "#### Neural Network #10\n",
        "\n",
        "With this model, we attempt to get valid results from Keras Tuner by increasing the number of epochs each model gets for training before it is evaluated to 50.\n",
        "\n",
        "Our resulting R^2 value is -206.08%. This is a big improvement over #9, but still indicates that the model doesn't fit our data."
      ],
      "metadata": {
        "id": "RX5wCOJ4hnou"
      }
    },
    {
      "cell_type": "code",
      "source": [
        "# Make create_model function\n",
        "\n",
        "def create_model3(hp):\n",
        "  nn_model10 = tf.keras.models.Sequential()\n",
        "\n",
        "  activation = hp.Choice('activation', ['relu', 'tanh'])\n",
        "\n",
        "  nn_model10.add(tf.keras.layers.Dense(units=hp.Int('first_units',\n",
        "                                                  min_value = 1,\n",
        "                                                  max_value = 30,\n",
        "                                                  step=1), activation=activation, input_dim=10))\n",
        "  nn_model10.add(tf.keras.layers.Dense(units=hp.Int('second_units',\n",
        "                                                   min_value = 1,\n",
        "                                                   max_value = 30,\n",
        "                                                   step = 1), activation = 'relu'))\n",
        "  nn_model10.add(tf.keras.layers.Dense(units = 1, activation = \"linear\"))\n",
        "  nn_model10.compile(loss='mean_absolute_error', optimizer='adam', metrics = ['mean_absolute_error'])\n",
        "  return nn_model10"
      ],
      "metadata": {
        "id": "lAR37i0QjY4b"
      },
      "execution_count": 165,
      "outputs": []
    },
    {
      "cell_type": "code",
      "source": [
        "# Setting up hyperband tuner\n",
        "tuner3 = kt.Hyperband(\n",
        "    create_model3,\n",
        "    objective=kt.Objective(\"val_mean_absolute_error\", direction =\"min\"),\n",
        "    seed = 3,\n",
        "    max_epochs=50,\n",
        "    hyperband_iterations=2)\n"
      ],
      "metadata": {
        "id": "4HIkop4wi1eK"
      },
      "execution_count": 166,
      "outputs": []
    },
    {
      "cell_type": "code",
      "source": [
        "# Run Keras Tuner search for best hyperparameters\n",
        "tuner3.search(X_nn_train_scaled, y_nn_train, epochs=50, validation_data=(X_nn_test_scaled, y_nn_test))"
      ],
      "metadata": {
        "id": "QtPmDkXFi8DZ"
      },
      "execution_count": 167,
      "outputs": []
    },
    {
      "cell_type": "code",
      "source": [
        "top_model3 = tuner3.get_best_models(1)\n",
        "for model in top_model3:\n",
        "  model_loss = model.evaluate(X_nn_test_scaled, y_nn_test, verbose=2)"
      ],
      "metadata": {
        "colab": {
          "base_uri": "https://localhost:8080/"
        },
        "id": "NaCqey8RxFGh",
        "outputId": "109987e4-4350-43cb-f0e2-9081d2abdb13"
      },
      "execution_count": 168,
      "outputs": [
        {
          "output_type": "stream",
          "name": "stdout",
          "text": [
            "33/33 - 0s - loss: 4.8863 - mean_absolute_error: 4.8863 - 290ms/epoch - 9ms/step\n"
          ]
        }
      ]
    },
    {
      "cell_type": "code",
      "source": [
        "# Test model \n",
        "y_test_predicted10 = top_model3[0].predict(X_nn_test_scaled)"
      ],
      "metadata": {
        "colab": {
          "base_uri": "https://localhost:8080/"
        },
        "id": "RMVELF5pjEr-",
        "outputId": "411ad213-a607-4e3e-db8d-ff19921d6f91"
      },
      "execution_count": 169,
      "outputs": [
        {
          "output_type": "stream",
          "name": "stdout",
          "text": [
            "33/33 [==============================] - 0s 2ms/step\n"
          ]
        }
      ]
    },
    {
      "cell_type": "code",
      "source": [
        "# Calculate coefficient of determination (inconsistent results, possibly a result of not being able to fine-tune batch size without creating our own class)\n",
        "r2_score(y_nn_test, y_test_predicted10)"
      ],
      "metadata": {
        "colab": {
          "base_uri": "https://localhost:8080/"
        },
        "id": "yH3SRea2jUIf",
        "outputId": "a27da5fd-e51a-48c3-86d0-d4274aabe128"
      },
      "execution_count": 170,
      "outputs": [
        {
          "output_type": "execute_result",
          "data": {
            "text/plain": [
              "-2.060758431478588"
            ]
          },
          "metadata": {},
          "execution_count": 170
        }
      ]
    },
    {
      "cell_type": "markdown",
      "source": [
        "#### Neural Network #11\n",
        "\n",
        "In a final attempt to get Keras Tuner to help improve our model, we increased the number of training epochs to 75.\n",
        "\n",
        "This resulted in an R^2 value of -487.64%. This indicates that the model still doesn't work with our data."
      ],
      "metadata": {
        "id": "CrxkGoM2kpva"
      }
    },
    {
      "cell_type": "code",
      "source": [
        "# Make create_model function\n",
        "def create_model4(hp):\n",
        "  nn_model11 = tf.keras.models.Sequential()\n",
        "\n",
        "  activation = hp.Choice('activation', ['relu', 'tanh'])\n",
        "\n",
        "  nn_model11.add(tf.keras.layers.Dense(units=hp.Int('first_units',\n",
        "                                                  min_value = 1,\n",
        "                                                  max_value = 30,\n",
        "                                                  step=1), activation=activation, input_dim=10))\n",
        "  nn_model11.add(tf.keras.layers.Dense(units=hp.Int('second_units',\n",
        "                                                  min_value = 1,\n",
        "                                                  max_value = 30,\n",
        "                                                  step=1), activation = 'relu' ))\n",
        "  nn_model11.add(tf.keras.layers.Dense(units = 1, activation = \"linear\"))\n",
        "  nn_model11.compile(loss='mean_absolute_error', optimizer='adam', metrics = ['mean_absolute_error'])\n",
        "  return nn_model11"
      ],
      "metadata": {
        "id": "EcuLWj-MjX8l"
      },
      "execution_count": 171,
      "outputs": []
    },
    {
      "cell_type": "code",
      "source": [
        "# Setting up hyperband tuner\n",
        "tuner4 = kt.Hyperband(\n",
        "    create_model4,\n",
        "    objective=kt.Objective(\"val_mean_absolute_error\", direction =\"min\"),\n",
        "    seed = 3,\n",
        "    max_epochs=75,\n",
        "    hyperband_iterations=2)"
      ],
      "metadata": {
        "id": "TyIPYMvIk7R-"
      },
      "execution_count": 172,
      "outputs": []
    },
    {
      "cell_type": "code",
      "source": [
        "# Run keras tuner search for best hyperparameters\n",
        "tuner4.search(X_nn_train_scaled, y_nn_train, epochs=75, validation_data=(X_nn_test_scaled, y_nn_test))"
      ],
      "metadata": {
        "id": "1x21G283lBEI"
      },
      "execution_count": 173,
      "outputs": []
    },
    {
      "cell_type": "code",
      "source": [
        "# Evaluate top model against test dataset\n",
        "top_model4 = tuner4.get_best_models(1)\n",
        "for model in top_model4:\n",
        "  model_loss = model.evaluate(X_nn_test_scaled, y_nn_test, verbose=2)\n",
        "  print(f'{model_loss}')"
      ],
      "metadata": {
        "colab": {
          "base_uri": "https://localhost:8080/"
        },
        "id": "LG7NqwkzlGy_",
        "outputId": "34f03ce0-6ac5-4d2c-9ffc-324f3a453521"
      },
      "execution_count": 174,
      "outputs": [
        {
          "output_type": "stream",
          "name": "stdout",
          "text": [
            "33/33 - 0s - loss: 21.8357 - mean_absolute_error: 21.8357 - 241ms/epoch - 7ms/step\n",
            "[21.835689544677734, 21.835689544677734]\n"
          ]
        }
      ]
    },
    {
      "cell_type": "code",
      "source": [
        "# Test model\n",
        "y_test_predicted11 = top_model4[0].predict(X_nn_test_scaled)"
      ],
      "metadata": {
        "colab": {
          "base_uri": "https://localhost:8080/"
        },
        "id": "DZ0uJajZlKRr",
        "outputId": "08e4dbd5-75ea-4607-9faa-811000fde00f"
      },
      "execution_count": 175,
      "outputs": [
        {
          "output_type": "stream",
          "name": "stdout",
          "text": [
            "33/33 [==============================] - 0s 1ms/step\n"
          ]
        }
      ]
    },
    {
      "cell_type": "code",
      "source": [
        "# Calculate coefficient of determination (inconsistent results, possibly a result of not being able to fine-tune batch size without creating our own class)\n",
        "r2_score(y_nn_test, y_test_predicted11)"
      ],
      "metadata": {
        "colab": {
          "base_uri": "https://localhost:8080/"
        },
        "id": "d97-hDaDlZUM",
        "outputId": "0ad23e89-8b91-4f80-f6e7-8ad229ec3e48"
      },
      "execution_count": 176,
      "outputs": [
        {
          "output_type": "execute_result",
          "data": {
            "text/plain": [
              "-48.76438351799058"
            ]
          },
          "metadata": {},
          "execution_count": 176
        }
      ]
    }
  ],
  "metadata": {
    "colab": {
      "provenance": [],
      "collapsed_sections": [
        "LtHf_hi0IrjT",
        "SP0cgMHqU-s1",
        "YxS0eSEqULil",
        "_nWGmK17InHQ",
        "4a0r7qwTxX6Y",
        "UTCCjCxZeRpJ",
        "pOxLOlFHxnJQ",
        "PutJ-KikFn2U",
        "wBUP0QbRFz1X",
        "hcIqOyQXGDYC",
        "X1pVc235xuEG",
        "pHBKr1bLxzNE",
        "05_8YOOxqGaH",
        "I1IzXvO8eoQ1",
        "aKkzKAYUeUiu",
        "AbaRuQfcXdhn",
        "fJN1qCkBTZPS",
        "S4kDyt8mZCL0",
        "TYVUZhKJBwix",
        "yGkIDdKyuHxi",
        "TKfjFclQCF3L",
        "ifUwfyhuffCR",
        "RX5wCOJ4hnou",
        "CrxkGoM2kpva"
      ],
      "include_colab_link": true
    },
    "kernelspec": {
      "display_name": "Python 3",
      "name": "python3"
    },
    "language_info": {
      "name": "python"
    }
  },
  "nbformat": 4,
  "nbformat_minor": 0
}