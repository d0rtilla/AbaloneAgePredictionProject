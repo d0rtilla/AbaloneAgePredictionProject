{
  "cells": [
    {
      "cell_type": "markdown",
      "metadata": {
        "id": "view-in-github",
        "colab_type": "text"
      },
      "source": [
        "<a href=\"https://colab.research.google.com/github/d0rtilla/AbaloneAgePredictionProject/blob/main/Abalone_Age_Prediction.ipynb\" target=\"_parent\"><img src=\"https://colab.research.google.com/assets/colab-badge.svg\" alt=\"Open In Colab\"/></a>"
      ]
    },
    {
      "cell_type": "markdown",
      "metadata": {
        "id": "n1_Lb3X0O8Ij"
      },
      "source": [
        "# Abalone Age Predictor with Supervised Machine Learning\n",
        "\n",
        "## Contributors: Jacob Douthett, Sam Espe, Alan Jallah, Jae Neuharth"
      ]
    },
    {
      "cell_type": "markdown",
      "metadata": {
        "id": "LtHf_hi0IrjT"
      },
      "source": [
        "### Extract and Transform Data"
      ]
    },
    {
      "cell_type": "code",
      "execution_count": 2,
      "metadata": {
        "id": "JLUYluKPGIoH"
      },
      "outputs": [],
      "source": [
        "# Import dependencies\n",
        "import pandas as pd\n",
        "import numpy as np\n",
        "from sklearn.preprocessing import StandardScaler\n",
        "from sklearn.model_selection import train_test_split\n",
        "from sklearn.linear_model import LinearRegression\n",
        "from sklearn.preprocessing import MinMaxScaler\n",
        "from sklearn.metrics import r2_score\n",
        "import tensorflow as tf"
      ]
    },
    {
      "cell_type": "code",
      "source": [
        "!pip install keras-tuner"
      ],
      "metadata": {
        "colab": {
          "base_uri": "https://localhost:8080/"
        },
        "id": "7_ClvpaHTKha",
        "outputId": "ba15edf0-f6b1-4521-cc66-14e9a53fa9b6"
      },
      "execution_count": 3,
      "outputs": [
        {
          "output_type": "stream",
          "name": "stdout",
          "text": [
            "Looking in indexes: https://pypi.org/simple, https://us-python.pkg.dev/colab-wheels/public/simple/\n",
            "Collecting keras-tuner\n",
            "  Downloading keras_tuner-1.1.3-py3-none-any.whl (135 kB)\n",
            "\u001b[K     |████████████████████████████████| 135 kB 5.1 MB/s \n",
            "\u001b[?25hRequirement already satisfied: ipython in /usr/local/lib/python3.7/dist-packages (from keras-tuner) (7.9.0)\n",
            "Requirement already satisfied: numpy in /usr/local/lib/python3.7/dist-packages (from keras-tuner) (1.21.6)\n",
            "Collecting kt-legacy\n",
            "  Downloading kt_legacy-1.0.4-py3-none-any.whl (9.6 kB)\n",
            "Requirement already satisfied: packaging in /usr/local/lib/python3.7/dist-packages (from keras-tuner) (21.3)\n",
            "Requirement already satisfied: tensorboard in /usr/local/lib/python3.7/dist-packages (from keras-tuner) (2.9.1)\n",
            "Requirement already satisfied: requests in /usr/local/lib/python3.7/dist-packages (from keras-tuner) (2.23.0)\n",
            "Requirement already satisfied: pickleshare in /usr/local/lib/python3.7/dist-packages (from ipython->keras-tuner) (0.7.5)\n",
            "Requirement already satisfied: decorator in /usr/local/lib/python3.7/dist-packages (from ipython->keras-tuner) (4.4.2)\n",
            "Requirement already satisfied: pexpect in /usr/local/lib/python3.7/dist-packages (from ipython->keras-tuner) (4.8.0)\n",
            "Collecting jedi>=0.10\n",
            "  Downloading jedi-0.18.2-py2.py3-none-any.whl (1.6 MB)\n",
            "\u001b[K     |████████████████████████████████| 1.6 MB 35.2 MB/s \n",
            "\u001b[?25hRequirement already satisfied: backcall in /usr/local/lib/python3.7/dist-packages (from ipython->keras-tuner) (0.2.0)\n",
            "Requirement already satisfied: prompt-toolkit<2.1.0,>=2.0.0 in /usr/local/lib/python3.7/dist-packages (from ipython->keras-tuner) (2.0.10)\n",
            "Requirement already satisfied: pygments in /usr/local/lib/python3.7/dist-packages (from ipython->keras-tuner) (2.6.1)\n",
            "Requirement already satisfied: setuptools>=18.5 in /usr/local/lib/python3.7/dist-packages (from ipython->keras-tuner) (57.4.0)\n",
            "Requirement already satisfied: traitlets>=4.2 in /usr/local/lib/python3.7/dist-packages (from ipython->keras-tuner) (5.1.1)\n",
            "Requirement already satisfied: parso<0.9.0,>=0.8.0 in /usr/local/lib/python3.7/dist-packages (from jedi>=0.10->ipython->keras-tuner) (0.8.3)\n",
            "Requirement already satisfied: six>=1.9.0 in /usr/local/lib/python3.7/dist-packages (from prompt-toolkit<2.1.0,>=2.0.0->ipython->keras-tuner) (1.15.0)\n",
            "Requirement already satisfied: wcwidth in /usr/local/lib/python3.7/dist-packages (from prompt-toolkit<2.1.0,>=2.0.0->ipython->keras-tuner) (0.2.5)\n",
            "Requirement already satisfied: pyparsing!=3.0.5,>=2.0.2 in /usr/local/lib/python3.7/dist-packages (from packaging->keras-tuner) (3.0.9)\n",
            "Requirement already satisfied: ptyprocess>=0.5 in /usr/local/lib/python3.7/dist-packages (from pexpect->ipython->keras-tuner) (0.7.0)\n",
            "Requirement already satisfied: urllib3!=1.25.0,!=1.25.1,<1.26,>=1.21.1 in /usr/local/lib/python3.7/dist-packages (from requests->keras-tuner) (1.24.3)\n",
            "Requirement already satisfied: chardet<4,>=3.0.2 in /usr/local/lib/python3.7/dist-packages (from requests->keras-tuner) (3.0.4)\n",
            "Requirement already satisfied: idna<3,>=2.5 in /usr/local/lib/python3.7/dist-packages (from requests->keras-tuner) (2.10)\n",
            "Requirement already satisfied: certifi>=2017.4.17 in /usr/local/lib/python3.7/dist-packages (from requests->keras-tuner) (2022.9.24)\n",
            "Requirement already satisfied: tensorboard-plugin-wit>=1.6.0 in /usr/local/lib/python3.7/dist-packages (from tensorboard->keras-tuner) (1.8.1)\n",
            "Requirement already satisfied: protobuf<3.20,>=3.9.2 in /usr/local/lib/python3.7/dist-packages (from tensorboard->keras-tuner) (3.19.6)\n",
            "Requirement already satisfied: google-auth-oauthlib<0.5,>=0.4.1 in /usr/local/lib/python3.7/dist-packages (from tensorboard->keras-tuner) (0.4.6)\n",
            "Requirement already satisfied: werkzeug>=1.0.1 in /usr/local/lib/python3.7/dist-packages (from tensorboard->keras-tuner) (1.0.1)\n",
            "Requirement already satisfied: grpcio>=1.24.3 in /usr/local/lib/python3.7/dist-packages (from tensorboard->keras-tuner) (1.50.0)\n",
            "Requirement already satisfied: absl-py>=0.4 in /usr/local/lib/python3.7/dist-packages (from tensorboard->keras-tuner) (1.3.0)\n",
            "Requirement already satisfied: google-auth<3,>=1.6.3 in /usr/local/lib/python3.7/dist-packages (from tensorboard->keras-tuner) (2.14.1)\n",
            "Requirement already satisfied: markdown>=2.6.8 in /usr/local/lib/python3.7/dist-packages (from tensorboard->keras-tuner) (3.4.1)\n",
            "Requirement already satisfied: tensorboard-data-server<0.7.0,>=0.6.0 in /usr/local/lib/python3.7/dist-packages (from tensorboard->keras-tuner) (0.6.1)\n",
            "Requirement already satisfied: wheel>=0.26 in /usr/local/lib/python3.7/dist-packages (from tensorboard->keras-tuner) (0.38.4)\n",
            "Requirement already satisfied: rsa<5,>=3.1.4 in /usr/local/lib/python3.7/dist-packages (from google-auth<3,>=1.6.3->tensorboard->keras-tuner) (4.9)\n",
            "Requirement already satisfied: cachetools<6.0,>=2.0.0 in /usr/local/lib/python3.7/dist-packages (from google-auth<3,>=1.6.3->tensorboard->keras-tuner) (5.2.0)\n",
            "Requirement already satisfied: pyasn1-modules>=0.2.1 in /usr/local/lib/python3.7/dist-packages (from google-auth<3,>=1.6.3->tensorboard->keras-tuner) (0.2.8)\n",
            "Requirement already satisfied: requests-oauthlib>=0.7.0 in /usr/local/lib/python3.7/dist-packages (from google-auth-oauthlib<0.5,>=0.4.1->tensorboard->keras-tuner) (1.3.1)\n",
            "Requirement already satisfied: importlib-metadata>=4.4 in /usr/local/lib/python3.7/dist-packages (from markdown>=2.6.8->tensorboard->keras-tuner) (4.13.0)\n",
            "Requirement already satisfied: zipp>=0.5 in /usr/local/lib/python3.7/dist-packages (from importlib-metadata>=4.4->markdown>=2.6.8->tensorboard->keras-tuner) (3.10.0)\n",
            "Requirement already satisfied: typing-extensions>=3.6.4 in /usr/local/lib/python3.7/dist-packages (from importlib-metadata>=4.4->markdown>=2.6.8->tensorboard->keras-tuner) (4.1.1)\n",
            "Requirement already satisfied: pyasn1<0.5.0,>=0.4.6 in /usr/local/lib/python3.7/dist-packages (from pyasn1-modules>=0.2.1->google-auth<3,>=1.6.3->tensorboard->keras-tuner) (0.4.8)\n",
            "Requirement already satisfied: oauthlib>=3.0.0 in /usr/local/lib/python3.7/dist-packages (from requests-oauthlib>=0.7.0->google-auth-oauthlib<0.5,>=0.4.1->tensorboard->keras-tuner) (3.2.2)\n",
            "Installing collected packages: jedi, kt-legacy, keras-tuner\n",
            "Successfully installed jedi-0.18.2 keras-tuner-1.1.3 kt-legacy-1.0.4\n"
          ]
        }
      ]
    },
    {
      "cell_type": "code",
      "execution_count": 4,
      "metadata": {
        "colab": {
          "base_uri": "https://localhost:8080/"
        },
        "id": "rXOMc8WLPWN7",
        "outputId": "9a95113a-d640-420b-d131-f0a94ead9ba3"
      },
      "outputs": [
        {
          "output_type": "stream",
          "name": "stdout",
          "text": [
            "Mounted at /content/gdrive\n"
          ]
        }
      ],
      "source": [
        "from google.colab import drive\n",
        "drive.mount('/content/gdrive')"
      ]
    },
    {
      "cell_type": "code",
      "execution_count": 5,
      "metadata": {
        "colab": {
          "base_uri": "https://localhost:8080/",
          "height": 424
        },
        "id": "urofG__2HA4Q",
        "outputId": "86a49d5b-fed8-47c2-ddf8-2ec399839309"
      },
      "outputs": [
        {
          "output_type": "display_data",
          "data": {
            "text/plain": [
              "     Sex  Length  Diameter  Height  Whole weight  Shucked weight  \\\n",
              "0      M   0.455     0.365   0.095        0.5140          0.2245   \n",
              "1      M   0.350     0.265   0.090        0.2255          0.0995   \n",
              "2      F   0.530     0.420   0.135        0.6770          0.2565   \n",
              "3      M   0.440     0.365   0.125        0.5160          0.2155   \n",
              "4      I   0.330     0.255   0.080        0.2050          0.0895   \n",
              "...   ..     ...       ...     ...           ...             ...   \n",
              "4172   F   0.565     0.450   0.165        0.8870          0.3700   \n",
              "4173   M   0.590     0.440   0.135        0.9660          0.4390   \n",
              "4174   M   0.600     0.475   0.205        1.1760          0.5255   \n",
              "4175   F   0.625     0.485   0.150        1.0945          0.5310   \n",
              "4176   M   0.710     0.555   0.195        1.9485          0.9455   \n",
              "\n",
              "      Viscera weight  Shell weight  Rings  \n",
              "0             0.1010        0.1500     15  \n",
              "1             0.0485        0.0700      7  \n",
              "2             0.1415        0.2100      9  \n",
              "3             0.1140        0.1550     10  \n",
              "4             0.0395        0.0550      7  \n",
              "...              ...           ...    ...  \n",
              "4172          0.2390        0.2490     11  \n",
              "4173          0.2145        0.2605     10  \n",
              "4174          0.2875        0.3080      9  \n",
              "4175          0.2610        0.2960     10  \n",
              "4176          0.3765        0.4950     12  \n",
              "\n",
              "[4177 rows x 9 columns]"
            ],
            "text/html": [
              "\n",
              "  <div id=\"df-318fe332-aa57-4134-8156-a0cae1c79ce6\">\n",
              "    <div class=\"colab-df-container\">\n",
              "      <div>\n",
              "<style scoped>\n",
              "    .dataframe tbody tr th:only-of-type {\n",
              "        vertical-align: middle;\n",
              "    }\n",
              "\n",
              "    .dataframe tbody tr th {\n",
              "        vertical-align: top;\n",
              "    }\n",
              "\n",
              "    .dataframe thead th {\n",
              "        text-align: right;\n",
              "    }\n",
              "</style>\n",
              "<table border=\"1\" class=\"dataframe\">\n",
              "  <thead>\n",
              "    <tr style=\"text-align: right;\">\n",
              "      <th></th>\n",
              "      <th>Sex</th>\n",
              "      <th>Length</th>\n",
              "      <th>Diameter</th>\n",
              "      <th>Height</th>\n",
              "      <th>Whole weight</th>\n",
              "      <th>Shucked weight</th>\n",
              "      <th>Viscera weight</th>\n",
              "      <th>Shell weight</th>\n",
              "      <th>Rings</th>\n",
              "    </tr>\n",
              "  </thead>\n",
              "  <tbody>\n",
              "    <tr>\n",
              "      <th>0</th>\n",
              "      <td>M</td>\n",
              "      <td>0.455</td>\n",
              "      <td>0.365</td>\n",
              "      <td>0.095</td>\n",
              "      <td>0.5140</td>\n",
              "      <td>0.2245</td>\n",
              "      <td>0.1010</td>\n",
              "      <td>0.1500</td>\n",
              "      <td>15</td>\n",
              "    </tr>\n",
              "    <tr>\n",
              "      <th>1</th>\n",
              "      <td>M</td>\n",
              "      <td>0.350</td>\n",
              "      <td>0.265</td>\n",
              "      <td>0.090</td>\n",
              "      <td>0.2255</td>\n",
              "      <td>0.0995</td>\n",
              "      <td>0.0485</td>\n",
              "      <td>0.0700</td>\n",
              "      <td>7</td>\n",
              "    </tr>\n",
              "    <tr>\n",
              "      <th>2</th>\n",
              "      <td>F</td>\n",
              "      <td>0.530</td>\n",
              "      <td>0.420</td>\n",
              "      <td>0.135</td>\n",
              "      <td>0.6770</td>\n",
              "      <td>0.2565</td>\n",
              "      <td>0.1415</td>\n",
              "      <td>0.2100</td>\n",
              "      <td>9</td>\n",
              "    </tr>\n",
              "    <tr>\n",
              "      <th>3</th>\n",
              "      <td>M</td>\n",
              "      <td>0.440</td>\n",
              "      <td>0.365</td>\n",
              "      <td>0.125</td>\n",
              "      <td>0.5160</td>\n",
              "      <td>0.2155</td>\n",
              "      <td>0.1140</td>\n",
              "      <td>0.1550</td>\n",
              "      <td>10</td>\n",
              "    </tr>\n",
              "    <tr>\n",
              "      <th>4</th>\n",
              "      <td>I</td>\n",
              "      <td>0.330</td>\n",
              "      <td>0.255</td>\n",
              "      <td>0.080</td>\n",
              "      <td>0.2050</td>\n",
              "      <td>0.0895</td>\n",
              "      <td>0.0395</td>\n",
              "      <td>0.0550</td>\n",
              "      <td>7</td>\n",
              "    </tr>\n",
              "    <tr>\n",
              "      <th>...</th>\n",
              "      <td>...</td>\n",
              "      <td>...</td>\n",
              "      <td>...</td>\n",
              "      <td>...</td>\n",
              "      <td>...</td>\n",
              "      <td>...</td>\n",
              "      <td>...</td>\n",
              "      <td>...</td>\n",
              "      <td>...</td>\n",
              "    </tr>\n",
              "    <tr>\n",
              "      <th>4172</th>\n",
              "      <td>F</td>\n",
              "      <td>0.565</td>\n",
              "      <td>0.450</td>\n",
              "      <td>0.165</td>\n",
              "      <td>0.8870</td>\n",
              "      <td>0.3700</td>\n",
              "      <td>0.2390</td>\n",
              "      <td>0.2490</td>\n",
              "      <td>11</td>\n",
              "    </tr>\n",
              "    <tr>\n",
              "      <th>4173</th>\n",
              "      <td>M</td>\n",
              "      <td>0.590</td>\n",
              "      <td>0.440</td>\n",
              "      <td>0.135</td>\n",
              "      <td>0.9660</td>\n",
              "      <td>0.4390</td>\n",
              "      <td>0.2145</td>\n",
              "      <td>0.2605</td>\n",
              "      <td>10</td>\n",
              "    </tr>\n",
              "    <tr>\n",
              "      <th>4174</th>\n",
              "      <td>M</td>\n",
              "      <td>0.600</td>\n",
              "      <td>0.475</td>\n",
              "      <td>0.205</td>\n",
              "      <td>1.1760</td>\n",
              "      <td>0.5255</td>\n",
              "      <td>0.2875</td>\n",
              "      <td>0.3080</td>\n",
              "      <td>9</td>\n",
              "    </tr>\n",
              "    <tr>\n",
              "      <th>4175</th>\n",
              "      <td>F</td>\n",
              "      <td>0.625</td>\n",
              "      <td>0.485</td>\n",
              "      <td>0.150</td>\n",
              "      <td>1.0945</td>\n",
              "      <td>0.5310</td>\n",
              "      <td>0.2610</td>\n",
              "      <td>0.2960</td>\n",
              "      <td>10</td>\n",
              "    </tr>\n",
              "    <tr>\n",
              "      <th>4176</th>\n",
              "      <td>M</td>\n",
              "      <td>0.710</td>\n",
              "      <td>0.555</td>\n",
              "      <td>0.195</td>\n",
              "      <td>1.9485</td>\n",
              "      <td>0.9455</td>\n",
              "      <td>0.3765</td>\n",
              "      <td>0.4950</td>\n",
              "      <td>12</td>\n",
              "    </tr>\n",
              "  </tbody>\n",
              "</table>\n",
              "<p>4177 rows × 9 columns</p>\n",
              "</div>\n",
              "      <button class=\"colab-df-convert\" onclick=\"convertToInteractive('df-318fe332-aa57-4134-8156-a0cae1c79ce6')\"\n",
              "              title=\"Convert this dataframe to an interactive table.\"\n",
              "              style=\"display:none;\">\n",
              "        \n",
              "  <svg xmlns=\"http://www.w3.org/2000/svg\" height=\"24px\"viewBox=\"0 0 24 24\"\n",
              "       width=\"24px\">\n",
              "    <path d=\"M0 0h24v24H0V0z\" fill=\"none\"/>\n",
              "    <path d=\"M18.56 5.44l.94 2.06.94-2.06 2.06-.94-2.06-.94-.94-2.06-.94 2.06-2.06.94zm-11 1L8.5 8.5l.94-2.06 2.06-.94-2.06-.94L8.5 2.5l-.94 2.06-2.06.94zm10 10l.94 2.06.94-2.06 2.06-.94-2.06-.94-.94-2.06-.94 2.06-2.06.94z\"/><path d=\"M17.41 7.96l-1.37-1.37c-.4-.4-.92-.59-1.43-.59-.52 0-1.04.2-1.43.59L10.3 9.45l-7.72 7.72c-.78.78-.78 2.05 0 2.83L4 21.41c.39.39.9.59 1.41.59.51 0 1.02-.2 1.41-.59l7.78-7.78 2.81-2.81c.8-.78.8-2.07 0-2.86zM5.41 20L4 18.59l7.72-7.72 1.47 1.35L5.41 20z\"/>\n",
              "  </svg>\n",
              "      </button>\n",
              "      \n",
              "  <style>\n",
              "    .colab-df-container {\n",
              "      display:flex;\n",
              "      flex-wrap:wrap;\n",
              "      gap: 12px;\n",
              "    }\n",
              "\n",
              "    .colab-df-convert {\n",
              "      background-color: #E8F0FE;\n",
              "      border: none;\n",
              "      border-radius: 50%;\n",
              "      cursor: pointer;\n",
              "      display: none;\n",
              "      fill: #1967D2;\n",
              "      height: 32px;\n",
              "      padding: 0 0 0 0;\n",
              "      width: 32px;\n",
              "    }\n",
              "\n",
              "    .colab-df-convert:hover {\n",
              "      background-color: #E2EBFA;\n",
              "      box-shadow: 0px 1px 2px rgba(60, 64, 67, 0.3), 0px 1px 3px 1px rgba(60, 64, 67, 0.15);\n",
              "      fill: #174EA6;\n",
              "    }\n",
              "\n",
              "    [theme=dark] .colab-df-convert {\n",
              "      background-color: #3B4455;\n",
              "      fill: #D2E3FC;\n",
              "    }\n",
              "\n",
              "    [theme=dark] .colab-df-convert:hover {\n",
              "      background-color: #434B5C;\n",
              "      box-shadow: 0px 1px 3px 1px rgba(0, 0, 0, 0.15);\n",
              "      filter: drop-shadow(0px 1px 2px rgba(0, 0, 0, 0.3));\n",
              "      fill: #FFFFFF;\n",
              "    }\n",
              "  </style>\n",
              "\n",
              "      <script>\n",
              "        const buttonEl =\n",
              "          document.querySelector('#df-318fe332-aa57-4134-8156-a0cae1c79ce6 button.colab-df-convert');\n",
              "        buttonEl.style.display =\n",
              "          google.colab.kernel.accessAllowed ? 'block' : 'none';\n",
              "\n",
              "        async function convertToInteractive(key) {\n",
              "          const element = document.querySelector('#df-318fe332-aa57-4134-8156-a0cae1c79ce6');\n",
              "          const dataTable =\n",
              "            await google.colab.kernel.invokeFunction('convertToInteractive',\n",
              "                                                     [key], {});\n",
              "          if (!dataTable) return;\n",
              "\n",
              "          const docLinkHtml = 'Like what you see? Visit the ' +\n",
              "            '<a target=\"_blank\" href=https://colab.research.google.com/notebooks/data_table.ipynb>data table notebook</a>'\n",
              "            + ' to learn more about interactive tables.';\n",
              "          element.innerHTML = '';\n",
              "          dataTable['output_type'] = 'display_data';\n",
              "          await google.colab.output.renderOutput(dataTable, element);\n",
              "          const docLink = document.createElement('div');\n",
              "          docLink.innerHTML = docLinkHtml;\n",
              "          element.appendChild(docLink);\n",
              "        }\n",
              "      </script>\n",
              "    </div>\n",
              "  </div>\n",
              "  "
            ]
          },
          "metadata": {}
        }
      ],
      "source": [
        "# Read in data\n",
        "file_path = \"https://abalone-machine-learning-data.s3.us-east-2.amazonaws.com/abalone.csv\"\n",
        "df = pd.read_csv(file_path)\n",
        "display(df)"
      ]
    },
    {
      "cell_type": "code",
      "execution_count": 6,
      "metadata": {
        "colab": {
          "base_uri": "https://localhost:8080/"
        },
        "id": "hxz-hskSMEpB",
        "outputId": "a904487e-d83b-486a-f793-db6e0f40107a"
      },
      "outputs": [
        {
          "output_type": "stream",
          "name": "stdout",
          "text": [
            "Duplicate entries: 0\n"
          ]
        }
      ],
      "source": [
        "# Find duplicate entries\n",
        "print(f\"Duplicate entries: {df.duplicated().sum()}\")"
      ]
    },
    {
      "cell_type": "code",
      "execution_count": 7,
      "metadata": {
        "colab": {
          "base_uri": "https://localhost:8080/"
        },
        "id": "_UfFpezeMY2w",
        "outputId": "7349c4f0-3fde-4485-c4e2-5d49e96a1256"
      },
      "outputs": [
        {
          "output_type": "execute_result",
          "data": {
            "text/plain": [
              "Sex               0\n",
              "Length            0\n",
              "Diameter          0\n",
              "Height            0\n",
              "Whole weight      0\n",
              "Shucked weight    0\n",
              "Viscera weight    0\n",
              "Shell weight      0\n",
              "Rings             0\n",
              "dtype: int64"
            ]
          },
          "metadata": {},
          "execution_count": 7
        }
      ],
      "source": [
        "#check for missing values\n",
        "df.isnull().sum(axis = 0)\n"
      ]
    },
    {
      "cell_type": "code",
      "execution_count": 8,
      "metadata": {
        "colab": {
          "base_uri": "https://localhost:8080/",
          "height": 424
        },
        "id": "Yb_VlF9AIbqn",
        "outputId": "72ccccda-663e-451a-83e5-b0508002ec40"
      },
      "outputs": [
        {
          "output_type": "display_data",
          "data": {
            "text/plain": [
              "      Length  Diameter  Height  Whole weight  Shucked weight  Viscera weight  \\\n",
              "0      0.455     0.365   0.095        0.5140          0.2245          0.1010   \n",
              "1      0.350     0.265   0.090        0.2255          0.0995          0.0485   \n",
              "2      0.530     0.420   0.135        0.6770          0.2565          0.1415   \n",
              "3      0.440     0.365   0.125        0.5160          0.2155          0.1140   \n",
              "4      0.330     0.255   0.080        0.2050          0.0895          0.0395   \n",
              "...      ...       ...     ...           ...             ...             ...   \n",
              "4172   0.565     0.450   0.165        0.8870          0.3700          0.2390   \n",
              "4173   0.590     0.440   0.135        0.9660          0.4390          0.2145   \n",
              "4174   0.600     0.475   0.205        1.1760          0.5255          0.2875   \n",
              "4175   0.625     0.485   0.150        1.0945          0.5310          0.2610   \n",
              "4176   0.710     0.555   0.195        1.9485          0.9455          0.3765   \n",
              "\n",
              "      Shell weight  Rings  Sex_F  Sex_I  Sex_M  \n",
              "0           0.1500     15      0      0      1  \n",
              "1           0.0700      7      0      0      1  \n",
              "2           0.2100      9      1      0      0  \n",
              "3           0.1550     10      0      0      1  \n",
              "4           0.0550      7      0      1      0  \n",
              "...            ...    ...    ...    ...    ...  \n",
              "4172        0.2490     11      1      0      0  \n",
              "4173        0.2605     10      0      0      1  \n",
              "4174        0.3080      9      0      0      1  \n",
              "4175        0.2960     10      1      0      0  \n",
              "4176        0.4950     12      0      0      1  \n",
              "\n",
              "[4177 rows x 11 columns]"
            ],
            "text/html": [
              "\n",
              "  <div id=\"df-f637974e-d2ff-4a09-912a-a0847b1513e9\">\n",
              "    <div class=\"colab-df-container\">\n",
              "      <div>\n",
              "<style scoped>\n",
              "    .dataframe tbody tr th:only-of-type {\n",
              "        vertical-align: middle;\n",
              "    }\n",
              "\n",
              "    .dataframe tbody tr th {\n",
              "        vertical-align: top;\n",
              "    }\n",
              "\n",
              "    .dataframe thead th {\n",
              "        text-align: right;\n",
              "    }\n",
              "</style>\n",
              "<table border=\"1\" class=\"dataframe\">\n",
              "  <thead>\n",
              "    <tr style=\"text-align: right;\">\n",
              "      <th></th>\n",
              "      <th>Length</th>\n",
              "      <th>Diameter</th>\n",
              "      <th>Height</th>\n",
              "      <th>Whole weight</th>\n",
              "      <th>Shucked weight</th>\n",
              "      <th>Viscera weight</th>\n",
              "      <th>Shell weight</th>\n",
              "      <th>Rings</th>\n",
              "      <th>Sex_F</th>\n",
              "      <th>Sex_I</th>\n",
              "      <th>Sex_M</th>\n",
              "    </tr>\n",
              "  </thead>\n",
              "  <tbody>\n",
              "    <tr>\n",
              "      <th>0</th>\n",
              "      <td>0.455</td>\n",
              "      <td>0.365</td>\n",
              "      <td>0.095</td>\n",
              "      <td>0.5140</td>\n",
              "      <td>0.2245</td>\n",
              "      <td>0.1010</td>\n",
              "      <td>0.1500</td>\n",
              "      <td>15</td>\n",
              "      <td>0</td>\n",
              "      <td>0</td>\n",
              "      <td>1</td>\n",
              "    </tr>\n",
              "    <tr>\n",
              "      <th>1</th>\n",
              "      <td>0.350</td>\n",
              "      <td>0.265</td>\n",
              "      <td>0.090</td>\n",
              "      <td>0.2255</td>\n",
              "      <td>0.0995</td>\n",
              "      <td>0.0485</td>\n",
              "      <td>0.0700</td>\n",
              "      <td>7</td>\n",
              "      <td>0</td>\n",
              "      <td>0</td>\n",
              "      <td>1</td>\n",
              "    </tr>\n",
              "    <tr>\n",
              "      <th>2</th>\n",
              "      <td>0.530</td>\n",
              "      <td>0.420</td>\n",
              "      <td>0.135</td>\n",
              "      <td>0.6770</td>\n",
              "      <td>0.2565</td>\n",
              "      <td>0.1415</td>\n",
              "      <td>0.2100</td>\n",
              "      <td>9</td>\n",
              "      <td>1</td>\n",
              "      <td>0</td>\n",
              "      <td>0</td>\n",
              "    </tr>\n",
              "    <tr>\n",
              "      <th>3</th>\n",
              "      <td>0.440</td>\n",
              "      <td>0.365</td>\n",
              "      <td>0.125</td>\n",
              "      <td>0.5160</td>\n",
              "      <td>0.2155</td>\n",
              "      <td>0.1140</td>\n",
              "      <td>0.1550</td>\n",
              "      <td>10</td>\n",
              "      <td>0</td>\n",
              "      <td>0</td>\n",
              "      <td>1</td>\n",
              "    </tr>\n",
              "    <tr>\n",
              "      <th>4</th>\n",
              "      <td>0.330</td>\n",
              "      <td>0.255</td>\n",
              "      <td>0.080</td>\n",
              "      <td>0.2050</td>\n",
              "      <td>0.0895</td>\n",
              "      <td>0.0395</td>\n",
              "      <td>0.0550</td>\n",
              "      <td>7</td>\n",
              "      <td>0</td>\n",
              "      <td>1</td>\n",
              "      <td>0</td>\n",
              "    </tr>\n",
              "    <tr>\n",
              "      <th>...</th>\n",
              "      <td>...</td>\n",
              "      <td>...</td>\n",
              "      <td>...</td>\n",
              "      <td>...</td>\n",
              "      <td>...</td>\n",
              "      <td>...</td>\n",
              "      <td>...</td>\n",
              "      <td>...</td>\n",
              "      <td>...</td>\n",
              "      <td>...</td>\n",
              "      <td>...</td>\n",
              "    </tr>\n",
              "    <tr>\n",
              "      <th>4172</th>\n",
              "      <td>0.565</td>\n",
              "      <td>0.450</td>\n",
              "      <td>0.165</td>\n",
              "      <td>0.8870</td>\n",
              "      <td>0.3700</td>\n",
              "      <td>0.2390</td>\n",
              "      <td>0.2490</td>\n",
              "      <td>11</td>\n",
              "      <td>1</td>\n",
              "      <td>0</td>\n",
              "      <td>0</td>\n",
              "    </tr>\n",
              "    <tr>\n",
              "      <th>4173</th>\n",
              "      <td>0.590</td>\n",
              "      <td>0.440</td>\n",
              "      <td>0.135</td>\n",
              "      <td>0.9660</td>\n",
              "      <td>0.4390</td>\n",
              "      <td>0.2145</td>\n",
              "      <td>0.2605</td>\n",
              "      <td>10</td>\n",
              "      <td>0</td>\n",
              "      <td>0</td>\n",
              "      <td>1</td>\n",
              "    </tr>\n",
              "    <tr>\n",
              "      <th>4174</th>\n",
              "      <td>0.600</td>\n",
              "      <td>0.475</td>\n",
              "      <td>0.205</td>\n",
              "      <td>1.1760</td>\n",
              "      <td>0.5255</td>\n",
              "      <td>0.2875</td>\n",
              "      <td>0.3080</td>\n",
              "      <td>9</td>\n",
              "      <td>0</td>\n",
              "      <td>0</td>\n",
              "      <td>1</td>\n",
              "    </tr>\n",
              "    <tr>\n",
              "      <th>4175</th>\n",
              "      <td>0.625</td>\n",
              "      <td>0.485</td>\n",
              "      <td>0.150</td>\n",
              "      <td>1.0945</td>\n",
              "      <td>0.5310</td>\n",
              "      <td>0.2610</td>\n",
              "      <td>0.2960</td>\n",
              "      <td>10</td>\n",
              "      <td>1</td>\n",
              "      <td>0</td>\n",
              "      <td>0</td>\n",
              "    </tr>\n",
              "    <tr>\n",
              "      <th>4176</th>\n",
              "      <td>0.710</td>\n",
              "      <td>0.555</td>\n",
              "      <td>0.195</td>\n",
              "      <td>1.9485</td>\n",
              "      <td>0.9455</td>\n",
              "      <td>0.3765</td>\n",
              "      <td>0.4950</td>\n",
              "      <td>12</td>\n",
              "      <td>0</td>\n",
              "      <td>0</td>\n",
              "      <td>1</td>\n",
              "    </tr>\n",
              "  </tbody>\n",
              "</table>\n",
              "<p>4177 rows × 11 columns</p>\n",
              "</div>\n",
              "      <button class=\"colab-df-convert\" onclick=\"convertToInteractive('df-f637974e-d2ff-4a09-912a-a0847b1513e9')\"\n",
              "              title=\"Convert this dataframe to an interactive table.\"\n",
              "              style=\"display:none;\">\n",
              "        \n",
              "  <svg xmlns=\"http://www.w3.org/2000/svg\" height=\"24px\"viewBox=\"0 0 24 24\"\n",
              "       width=\"24px\">\n",
              "    <path d=\"M0 0h24v24H0V0z\" fill=\"none\"/>\n",
              "    <path d=\"M18.56 5.44l.94 2.06.94-2.06 2.06-.94-2.06-.94-.94-2.06-.94 2.06-2.06.94zm-11 1L8.5 8.5l.94-2.06 2.06-.94-2.06-.94L8.5 2.5l-.94 2.06-2.06.94zm10 10l.94 2.06.94-2.06 2.06-.94-2.06-.94-.94-2.06-.94 2.06-2.06.94z\"/><path d=\"M17.41 7.96l-1.37-1.37c-.4-.4-.92-.59-1.43-.59-.52 0-1.04.2-1.43.59L10.3 9.45l-7.72 7.72c-.78.78-.78 2.05 0 2.83L4 21.41c.39.39.9.59 1.41.59.51 0 1.02-.2 1.41-.59l7.78-7.78 2.81-2.81c.8-.78.8-2.07 0-2.86zM5.41 20L4 18.59l7.72-7.72 1.47 1.35L5.41 20z\"/>\n",
              "  </svg>\n",
              "      </button>\n",
              "      \n",
              "  <style>\n",
              "    .colab-df-container {\n",
              "      display:flex;\n",
              "      flex-wrap:wrap;\n",
              "      gap: 12px;\n",
              "    }\n",
              "\n",
              "    .colab-df-convert {\n",
              "      background-color: #E8F0FE;\n",
              "      border: none;\n",
              "      border-radius: 50%;\n",
              "      cursor: pointer;\n",
              "      display: none;\n",
              "      fill: #1967D2;\n",
              "      height: 32px;\n",
              "      padding: 0 0 0 0;\n",
              "      width: 32px;\n",
              "    }\n",
              "\n",
              "    .colab-df-convert:hover {\n",
              "      background-color: #E2EBFA;\n",
              "      box-shadow: 0px 1px 2px rgba(60, 64, 67, 0.3), 0px 1px 3px 1px rgba(60, 64, 67, 0.15);\n",
              "      fill: #174EA6;\n",
              "    }\n",
              "\n",
              "    [theme=dark] .colab-df-convert {\n",
              "      background-color: #3B4455;\n",
              "      fill: #D2E3FC;\n",
              "    }\n",
              "\n",
              "    [theme=dark] .colab-df-convert:hover {\n",
              "      background-color: #434B5C;\n",
              "      box-shadow: 0px 1px 3px 1px rgba(0, 0, 0, 0.15);\n",
              "      filter: drop-shadow(0px 1px 2px rgba(0, 0, 0, 0.3));\n",
              "      fill: #FFFFFF;\n",
              "    }\n",
              "  </style>\n",
              "\n",
              "      <script>\n",
              "        const buttonEl =\n",
              "          document.querySelector('#df-f637974e-d2ff-4a09-912a-a0847b1513e9 button.colab-df-convert');\n",
              "        buttonEl.style.display =\n",
              "          google.colab.kernel.accessAllowed ? 'block' : 'none';\n",
              "\n",
              "        async function convertToInteractive(key) {\n",
              "          const element = document.querySelector('#df-f637974e-d2ff-4a09-912a-a0847b1513e9');\n",
              "          const dataTable =\n",
              "            await google.colab.kernel.invokeFunction('convertToInteractive',\n",
              "                                                     [key], {});\n",
              "          if (!dataTable) return;\n",
              "\n",
              "          const docLinkHtml = 'Like what you see? Visit the ' +\n",
              "            '<a target=\"_blank\" href=https://colab.research.google.com/notebooks/data_table.ipynb>data table notebook</a>'\n",
              "            + ' to learn more about interactive tables.';\n",
              "          element.innerHTML = '';\n",
              "          dataTable['output_type'] = 'display_data';\n",
              "          await google.colab.output.renderOutput(dataTable, element);\n",
              "          const docLink = document.createElement('div');\n",
              "          docLink.innerHTML = docLinkHtml;\n",
              "          element.appendChild(docLink);\n",
              "        }\n",
              "      </script>\n",
              "    </div>\n",
              "  </div>\n",
              "  "
            ]
          },
          "metadata": {}
        }
      ],
      "source": [
        "# Get dummies on sex column\n",
        "df = pd.get_dummies(df)\n",
        "display(df)"
      ]
    },
    {
      "cell_type": "code",
      "execution_count": 9,
      "metadata": {
        "colab": {
          "base_uri": "https://localhost:8080/",
          "height": 424
        },
        "id": "no0Qv2j7UcGs",
        "outputId": "212e5972-518f-490e-b6f1-082181e84f56"
      },
      "outputs": [
        {
          "output_type": "execute_result",
          "data": {
            "text/plain": [
              "      Length  Diameter  Height  Whole_weight  Shucked_weight  Viscera_weight  \\\n",
              "0      0.455     0.365   0.095        0.5140          0.2245          0.1010   \n",
              "1      0.350     0.265   0.090        0.2255          0.0995          0.0485   \n",
              "2      0.530     0.420   0.135        0.6770          0.2565          0.1415   \n",
              "3      0.440     0.365   0.125        0.5160          0.2155          0.1140   \n",
              "4      0.330     0.255   0.080        0.2050          0.0895          0.0395   \n",
              "...      ...       ...     ...           ...             ...             ...   \n",
              "4172   0.565     0.450   0.165        0.8870          0.3700          0.2390   \n",
              "4173   0.590     0.440   0.135        0.9660          0.4390          0.2145   \n",
              "4174   0.600     0.475   0.205        1.1760          0.5255          0.2875   \n",
              "4175   0.625     0.485   0.150        1.0945          0.5310          0.2610   \n",
              "4176   0.710     0.555   0.195        1.9485          0.9455          0.3765   \n",
              "\n",
              "      Shell_weight  Rings  Sex_F  Sex_I  Sex_M  \n",
              "0           0.1500     15      0      0      1  \n",
              "1           0.0700      7      0      0      1  \n",
              "2           0.2100      9      1      0      0  \n",
              "3           0.1550     10      0      0      1  \n",
              "4           0.0550      7      0      1      0  \n",
              "...            ...    ...    ...    ...    ...  \n",
              "4172        0.2490     11      1      0      0  \n",
              "4173        0.2605     10      0      0      1  \n",
              "4174        0.3080      9      0      0      1  \n",
              "4175        0.2960     10      1      0      0  \n",
              "4176        0.4950     12      0      0      1  \n",
              "\n",
              "[4177 rows x 11 columns]"
            ],
            "text/html": [
              "\n",
              "  <div id=\"df-104723dd-7948-42fc-94e6-579a2ad1525c\">\n",
              "    <div class=\"colab-df-container\">\n",
              "      <div>\n",
              "<style scoped>\n",
              "    .dataframe tbody tr th:only-of-type {\n",
              "        vertical-align: middle;\n",
              "    }\n",
              "\n",
              "    .dataframe tbody tr th {\n",
              "        vertical-align: top;\n",
              "    }\n",
              "\n",
              "    .dataframe thead th {\n",
              "        text-align: right;\n",
              "    }\n",
              "</style>\n",
              "<table border=\"1\" class=\"dataframe\">\n",
              "  <thead>\n",
              "    <tr style=\"text-align: right;\">\n",
              "      <th></th>\n",
              "      <th>Length</th>\n",
              "      <th>Diameter</th>\n",
              "      <th>Height</th>\n",
              "      <th>Whole_weight</th>\n",
              "      <th>Shucked_weight</th>\n",
              "      <th>Viscera_weight</th>\n",
              "      <th>Shell_weight</th>\n",
              "      <th>Rings</th>\n",
              "      <th>Sex_F</th>\n",
              "      <th>Sex_I</th>\n",
              "      <th>Sex_M</th>\n",
              "    </tr>\n",
              "  </thead>\n",
              "  <tbody>\n",
              "    <tr>\n",
              "      <th>0</th>\n",
              "      <td>0.455</td>\n",
              "      <td>0.365</td>\n",
              "      <td>0.095</td>\n",
              "      <td>0.5140</td>\n",
              "      <td>0.2245</td>\n",
              "      <td>0.1010</td>\n",
              "      <td>0.1500</td>\n",
              "      <td>15</td>\n",
              "      <td>0</td>\n",
              "      <td>0</td>\n",
              "      <td>1</td>\n",
              "    </tr>\n",
              "    <tr>\n",
              "      <th>1</th>\n",
              "      <td>0.350</td>\n",
              "      <td>0.265</td>\n",
              "      <td>0.090</td>\n",
              "      <td>0.2255</td>\n",
              "      <td>0.0995</td>\n",
              "      <td>0.0485</td>\n",
              "      <td>0.0700</td>\n",
              "      <td>7</td>\n",
              "      <td>0</td>\n",
              "      <td>0</td>\n",
              "      <td>1</td>\n",
              "    </tr>\n",
              "    <tr>\n",
              "      <th>2</th>\n",
              "      <td>0.530</td>\n",
              "      <td>0.420</td>\n",
              "      <td>0.135</td>\n",
              "      <td>0.6770</td>\n",
              "      <td>0.2565</td>\n",
              "      <td>0.1415</td>\n",
              "      <td>0.2100</td>\n",
              "      <td>9</td>\n",
              "      <td>1</td>\n",
              "      <td>0</td>\n",
              "      <td>0</td>\n",
              "    </tr>\n",
              "    <tr>\n",
              "      <th>3</th>\n",
              "      <td>0.440</td>\n",
              "      <td>0.365</td>\n",
              "      <td>0.125</td>\n",
              "      <td>0.5160</td>\n",
              "      <td>0.2155</td>\n",
              "      <td>0.1140</td>\n",
              "      <td>0.1550</td>\n",
              "      <td>10</td>\n",
              "      <td>0</td>\n",
              "      <td>0</td>\n",
              "      <td>1</td>\n",
              "    </tr>\n",
              "    <tr>\n",
              "      <th>4</th>\n",
              "      <td>0.330</td>\n",
              "      <td>0.255</td>\n",
              "      <td>0.080</td>\n",
              "      <td>0.2050</td>\n",
              "      <td>0.0895</td>\n",
              "      <td>0.0395</td>\n",
              "      <td>0.0550</td>\n",
              "      <td>7</td>\n",
              "      <td>0</td>\n",
              "      <td>1</td>\n",
              "      <td>0</td>\n",
              "    </tr>\n",
              "    <tr>\n",
              "      <th>...</th>\n",
              "      <td>...</td>\n",
              "      <td>...</td>\n",
              "      <td>...</td>\n",
              "      <td>...</td>\n",
              "      <td>...</td>\n",
              "      <td>...</td>\n",
              "      <td>...</td>\n",
              "      <td>...</td>\n",
              "      <td>...</td>\n",
              "      <td>...</td>\n",
              "      <td>...</td>\n",
              "    </tr>\n",
              "    <tr>\n",
              "      <th>4172</th>\n",
              "      <td>0.565</td>\n",
              "      <td>0.450</td>\n",
              "      <td>0.165</td>\n",
              "      <td>0.8870</td>\n",
              "      <td>0.3700</td>\n",
              "      <td>0.2390</td>\n",
              "      <td>0.2490</td>\n",
              "      <td>11</td>\n",
              "      <td>1</td>\n",
              "      <td>0</td>\n",
              "      <td>0</td>\n",
              "    </tr>\n",
              "    <tr>\n",
              "      <th>4173</th>\n",
              "      <td>0.590</td>\n",
              "      <td>0.440</td>\n",
              "      <td>0.135</td>\n",
              "      <td>0.9660</td>\n",
              "      <td>0.4390</td>\n",
              "      <td>0.2145</td>\n",
              "      <td>0.2605</td>\n",
              "      <td>10</td>\n",
              "      <td>0</td>\n",
              "      <td>0</td>\n",
              "      <td>1</td>\n",
              "    </tr>\n",
              "    <tr>\n",
              "      <th>4174</th>\n",
              "      <td>0.600</td>\n",
              "      <td>0.475</td>\n",
              "      <td>0.205</td>\n",
              "      <td>1.1760</td>\n",
              "      <td>0.5255</td>\n",
              "      <td>0.2875</td>\n",
              "      <td>0.3080</td>\n",
              "      <td>9</td>\n",
              "      <td>0</td>\n",
              "      <td>0</td>\n",
              "      <td>1</td>\n",
              "    </tr>\n",
              "    <tr>\n",
              "      <th>4175</th>\n",
              "      <td>0.625</td>\n",
              "      <td>0.485</td>\n",
              "      <td>0.150</td>\n",
              "      <td>1.0945</td>\n",
              "      <td>0.5310</td>\n",
              "      <td>0.2610</td>\n",
              "      <td>0.2960</td>\n",
              "      <td>10</td>\n",
              "      <td>1</td>\n",
              "      <td>0</td>\n",
              "      <td>0</td>\n",
              "    </tr>\n",
              "    <tr>\n",
              "      <th>4176</th>\n",
              "      <td>0.710</td>\n",
              "      <td>0.555</td>\n",
              "      <td>0.195</td>\n",
              "      <td>1.9485</td>\n",
              "      <td>0.9455</td>\n",
              "      <td>0.3765</td>\n",
              "      <td>0.4950</td>\n",
              "      <td>12</td>\n",
              "      <td>0</td>\n",
              "      <td>0</td>\n",
              "      <td>1</td>\n",
              "    </tr>\n",
              "  </tbody>\n",
              "</table>\n",
              "<p>4177 rows × 11 columns</p>\n",
              "</div>\n",
              "      <button class=\"colab-df-convert\" onclick=\"convertToInteractive('df-104723dd-7948-42fc-94e6-579a2ad1525c')\"\n",
              "              title=\"Convert this dataframe to an interactive table.\"\n",
              "              style=\"display:none;\">\n",
              "        \n",
              "  <svg xmlns=\"http://www.w3.org/2000/svg\" height=\"24px\"viewBox=\"0 0 24 24\"\n",
              "       width=\"24px\">\n",
              "    <path d=\"M0 0h24v24H0V0z\" fill=\"none\"/>\n",
              "    <path d=\"M18.56 5.44l.94 2.06.94-2.06 2.06-.94-2.06-.94-.94-2.06-.94 2.06-2.06.94zm-11 1L8.5 8.5l.94-2.06 2.06-.94-2.06-.94L8.5 2.5l-.94 2.06-2.06.94zm10 10l.94 2.06.94-2.06 2.06-.94-2.06-.94-.94-2.06-.94 2.06-2.06.94z\"/><path d=\"M17.41 7.96l-1.37-1.37c-.4-.4-.92-.59-1.43-.59-.52 0-1.04.2-1.43.59L10.3 9.45l-7.72 7.72c-.78.78-.78 2.05 0 2.83L4 21.41c.39.39.9.59 1.41.59.51 0 1.02-.2 1.41-.59l7.78-7.78 2.81-2.81c.8-.78.8-2.07 0-2.86zM5.41 20L4 18.59l7.72-7.72 1.47 1.35L5.41 20z\"/>\n",
              "  </svg>\n",
              "      </button>\n",
              "      \n",
              "  <style>\n",
              "    .colab-df-container {\n",
              "      display:flex;\n",
              "      flex-wrap:wrap;\n",
              "      gap: 12px;\n",
              "    }\n",
              "\n",
              "    .colab-df-convert {\n",
              "      background-color: #E8F0FE;\n",
              "      border: none;\n",
              "      border-radius: 50%;\n",
              "      cursor: pointer;\n",
              "      display: none;\n",
              "      fill: #1967D2;\n",
              "      height: 32px;\n",
              "      padding: 0 0 0 0;\n",
              "      width: 32px;\n",
              "    }\n",
              "\n",
              "    .colab-df-convert:hover {\n",
              "      background-color: #E2EBFA;\n",
              "      box-shadow: 0px 1px 2px rgba(60, 64, 67, 0.3), 0px 1px 3px 1px rgba(60, 64, 67, 0.15);\n",
              "      fill: #174EA6;\n",
              "    }\n",
              "\n",
              "    [theme=dark] .colab-df-convert {\n",
              "      background-color: #3B4455;\n",
              "      fill: #D2E3FC;\n",
              "    }\n",
              "\n",
              "    [theme=dark] .colab-df-convert:hover {\n",
              "      background-color: #434B5C;\n",
              "      box-shadow: 0px 1px 3px 1px rgba(0, 0, 0, 0.15);\n",
              "      filter: drop-shadow(0px 1px 2px rgba(0, 0, 0, 0.3));\n",
              "      fill: #FFFFFF;\n",
              "    }\n",
              "  </style>\n",
              "\n",
              "      <script>\n",
              "        const buttonEl =\n",
              "          document.querySelector('#df-104723dd-7948-42fc-94e6-579a2ad1525c button.colab-df-convert');\n",
              "        buttonEl.style.display =\n",
              "          google.colab.kernel.accessAllowed ? 'block' : 'none';\n",
              "\n",
              "        async function convertToInteractive(key) {\n",
              "          const element = document.querySelector('#df-104723dd-7948-42fc-94e6-579a2ad1525c');\n",
              "          const dataTable =\n",
              "            await google.colab.kernel.invokeFunction('convertToInteractive',\n",
              "                                                     [key], {});\n",
              "          if (!dataTable) return;\n",
              "\n",
              "          const docLinkHtml = 'Like what you see? Visit the ' +\n",
              "            '<a target=\"_blank\" href=https://colab.research.google.com/notebooks/data_table.ipynb>data table notebook</a>'\n",
              "            + ' to learn more about interactive tables.';\n",
              "          element.innerHTML = '';\n",
              "          dataTable['output_type'] = 'display_data';\n",
              "          await google.colab.output.renderOutput(dataTable, element);\n",
              "          const docLink = document.createElement('div');\n",
              "          docLink.innerHTML = docLinkHtml;\n",
              "          element.appendChild(docLink);\n",
              "        }\n",
              "      </script>\n",
              "    </div>\n",
              "  </div>\n",
              "  "
            ]
          },
          "metadata": {},
          "execution_count": 9
        }
      ],
      "source": [
        "# Rename columns\n",
        "\n",
        "df = df.rename(columns = {\"Whole weight\": \"Whole_weight\", \"Shucked weight\": \"Shucked_weight\", \"Viscera weight\": \"Viscera_weight\", \"Shell weight\": \"Shell_weight\"})\n",
        "df"
      ]
    },
    {
      "cell_type": "markdown",
      "metadata": {
        "id": "SP0cgMHqU-s1"
      },
      "source": [
        "### Visualizing Parameters"
      ]
    },
    {
      "cell_type": "code",
      "execution_count": 10,
      "metadata": {
        "colab": {
          "base_uri": "https://localhost:8080/",
          "height": 265
        },
        "id": "N7bJkw3aTkbr",
        "outputId": "754ab300-fb5b-4f41-9cc1-7e052eb334a0"
      },
      "outputs": [
        {
          "output_type": "display_data",
          "data": {
            "text/plain": [
              "<Figure size 432x288 with 1 Axes>"
            ],
            "image/png": "[encoded data removed]"
          },
          "metadata": {
            "needs_background": "light"
          }
        }
      ],
      "source": [
        "import matplotlib.pyplot as plt\n",
        "\n",
        "x = df[\"Rings\"]\n",
        "length = df[\"Length\"]\n",
        "\n",
        "plt.scatter(x, length)\n",
        "plt.show()"
      ]
    },
    {
      "cell_type": "code",
      "execution_count": 11,
      "metadata": {
        "colab": {
          "base_uri": "https://localhost:8080/",
          "height": 265
        },
        "id": "sGjU4k7aTwr-",
        "outputId": "b62e205f-7070-487e-c6c0-a41e008e92b8"
      },
      "outputs": [
        {
          "output_type": "display_data",
          "data": {
            "text/plain": [
              "<Figure size 432x288 with 1 Axes>"
            ],
            "image/png": "[encoded data removed]"
          },
          "metadata": {
            "needs_background": "light"
          }
        }
      ],
      "source": [
        "diameter = df[\"Diameter\"]\n",
        "\n",
        "plt.scatter(x, diameter)\n",
        "plt.show()"
      ]
    },
    {
      "cell_type": "code",
      "execution_count": 12,
      "metadata": {
        "colab": {
          "base_uri": "https://localhost:8080/",
          "height": 265
        },
        "id": "w5CbsAojUD51",
        "outputId": "b30fa57f-d9c1-4254-9461-bf9cad8209c7"
      },
      "outputs": [
        {
          "output_type": "display_data",
          "data": {
            "text/plain": [
              "<Figure size 432x288 with 1 Axes>"
            ],
            "image/png": "[encoded data removed]"
          },
          "metadata": {
            "needs_background": "light"
          }
        }
      ],
      "source": [
        "height = df[\"Height\"]\n",
        "\n",
        "plt.scatter(x, height)\n",
        "plt.show()"
      ]
    },
    {
      "cell_type": "code",
      "execution_count": 13,
      "metadata": {
        "colab": {
          "base_uri": "https://localhost:8080/",
          "height": 265
        },
        "id": "QqPJwgGpUNz8",
        "outputId": "e9d45fbe-d43d-4f5c-cdbe-356c290f1641"
      },
      "outputs": [
        {
          "output_type": "display_data",
          "data": {
            "text/plain": [
              "<Figure size 432x288 with 1 Axes>"
            ],
            "image/png": "[encoded data removed]"
          },
          "metadata": {
            "needs_background": "light"
          }
        }
      ],
      "source": [
        "whole = df[\"Whole_weight\"]\n",
        "\n",
        "plt.scatter(x, whole)\n",
        "plt.show()"
      ]
    },
    {
      "cell_type": "code",
      "execution_count": 14,
      "metadata": {
        "colab": {
          "base_uri": "https://localhost:8080/",
          "height": 265
        },
        "id": "KdhItx-oU3gD",
        "outputId": "3870b276-ed8f-430a-87d8-b1d4ac5f8cf2"
      },
      "outputs": [
        {
          "output_type": "display_data",
          "data": {
            "text/plain": [
              "<Figure size 432x288 with 1 Axes>"
            ],
            "image/png": "[encoded data removed]"
          },
          "metadata": {
            "needs_background": "light"
          }
        }
      ],
      "source": [
        "shucked = df[\"Shucked_weight\"]\n",
        "\n",
        "plt.scatter(x, shucked)\n",
        "plt.show()"
      ]
    },
    {
      "cell_type": "code",
      "execution_count": 15,
      "metadata": {
        "colab": {
          "base_uri": "https://localhost:8080/",
          "height": 265
        },
        "id": "stnotdyrVKL1",
        "outputId": "efa7f337-b7e2-4970-8e98-0bc4e657911a"
      },
      "outputs": [
        {
          "output_type": "display_data",
          "data": {
            "text/plain": [
              "<Figure size 432x288 with 1 Axes>"
            ],
            "image/png": "[encoded data removed]"
          },
          "metadata": {
            "needs_background": "light"
          }
        }
      ],
      "source": [
        "viscera = df[\"Viscera_weight\"]\n",
        "\n",
        "plt.scatter(x, viscera)\n",
        "plt.show()"
      ]
    },
    {
      "cell_type": "code",
      "execution_count": 16,
      "metadata": {
        "colab": {
          "base_uri": "https://localhost:8080/",
          "height": 265
        },
        "id": "MhJizI0uVT9w",
        "outputId": "0c1fd000-1e70-47b3-8329-8cedbe4c95ee"
      },
      "outputs": [
        {
          "output_type": "display_data",
          "data": {
            "text/plain": [
              "<Figure size 432x288 with 1 Axes>"
            ],
            "image/png": "[encoded data removed]"
          },
          "metadata": {
            "needs_background": "light"
          }
        }
      ],
      "source": [
        "shell = df[\"Shell_weight\"]\n",
        "\n",
        "plt.scatter(x, shell)\n",
        "plt.show()"
      ]
    },
    {
      "cell_type": "code",
      "execution_count": 17,
      "metadata": {
        "colab": {
          "base_uri": "https://localhost:8080/",
          "height": 112
        },
        "id": "J949ji3hVe84",
        "outputId": "87c98432-7541-4110-d72b-70eb2333aaf0"
      },
      "outputs": [
        {
          "output_type": "execute_result",
          "data": {
            "text/plain": [
              "      Length  Diameter  Height  Whole_weight  Shucked_weight  Viscera_weight  \\\n",
              "1417   0.705     0.565   0.515         2.210          1.1075          0.4865   \n",
              "2051   0.455     0.355   1.130         0.594          0.3320          0.1160   \n",
              "\n",
              "      Shell_weight  Rings  Sex_F  Sex_I  Sex_M  \n",
              "1417        0.5120     10      0      0      1  \n",
              "2051        0.1335      8      1      0      0  "
            ],
            "text/html": [
              "\n",
              "  <div id=\"df-e9d53a1b-ce15-49fa-9729-24e5fbeaa6d2\">\n",
              "    <div class=\"colab-df-container\">\n",
              "      <div>\n",
              "<style scoped>\n",
              "    .dataframe tbody tr th:only-of-type {\n",
              "        vertical-align: middle;\n",
              "    }\n",
              "\n",
              "    .dataframe tbody tr th {\n",
              "        vertical-align: top;\n",
              "    }\n",
              "\n",
              "    .dataframe thead th {\n",
              "        text-align: right;\n",
              "    }\n",
              "</style>\n",
              "<table border=\"1\" class=\"dataframe\">\n",
              "  <thead>\n",
              "    <tr style=\"text-align: right;\">\n",
              "      <th></th>\n",
              "      <th>Length</th>\n",
              "      <th>Diameter</th>\n",
              "      <th>Height</th>\n",
              "      <th>Whole_weight</th>\n",
              "      <th>Shucked_weight</th>\n",
              "      <th>Viscera_weight</th>\n",
              "      <th>Shell_weight</th>\n",
              "      <th>Rings</th>\n",
              "      <th>Sex_F</th>\n",
              "      <th>Sex_I</th>\n",
              "      <th>Sex_M</th>\n",
              "    </tr>\n",
              "  </thead>\n",
              "  <tbody>\n",
              "    <tr>\n",
              "      <th>1417</th>\n",
              "      <td>0.705</td>\n",
              "      <td>0.565</td>\n",
              "      <td>0.515</td>\n",
              "      <td>2.210</td>\n",
              "      <td>1.1075</td>\n",
              "      <td>0.4865</td>\n",
              "      <td>0.5120</td>\n",
              "      <td>10</td>\n",
              "      <td>0</td>\n",
              "      <td>0</td>\n",
              "      <td>1</td>\n",
              "    </tr>\n",
              "    <tr>\n",
              "      <th>2051</th>\n",
              "      <td>0.455</td>\n",
              "      <td>0.355</td>\n",
              "      <td>1.130</td>\n",
              "      <td>0.594</td>\n",
              "      <td>0.3320</td>\n",
              "      <td>0.1160</td>\n",
              "      <td>0.1335</td>\n",
              "      <td>8</td>\n",
              "      <td>1</td>\n",
              "      <td>0</td>\n",
              "      <td>0</td>\n",
              "    </tr>\n",
              "  </tbody>\n",
              "</table>\n",
              "</div>\n",
              "      <button class=\"colab-df-convert\" onclick=\"convertToInteractive('df-e9d53a1b-ce15-49fa-9729-24e5fbeaa6d2')\"\n",
              "              title=\"Convert this dataframe to an interactive table.\"\n",
              "              style=\"display:none;\">\n",
              "        \n",
              "  <svg xmlns=\"http://www.w3.org/2000/svg\" height=\"24px\"viewBox=\"0 0 24 24\"\n",
              "       width=\"24px\">\n",
              "    <path d=\"M0 0h24v24H0V0z\" fill=\"none\"/>\n",
              "    <path d=\"M18.56 5.44l.94 2.06.94-2.06 2.06-.94-2.06-.94-.94-2.06-.94 2.06-2.06.94zm-11 1L8.5 8.5l.94-2.06 2.06-.94-2.06-.94L8.5 2.5l-.94 2.06-2.06.94zm10 10l.94 2.06.94-2.06 2.06-.94-2.06-.94-.94-2.06-.94 2.06-2.06.94z\"/><path d=\"M17.41 7.96l-1.37-1.37c-.4-.4-.92-.59-1.43-.59-.52 0-1.04.2-1.43.59L10.3 9.45l-7.72 7.72c-.78.78-.78 2.05 0 2.83L4 21.41c.39.39.9.59 1.41.59.51 0 1.02-.2 1.41-.59l7.78-7.78 2.81-2.81c.8-.78.8-2.07 0-2.86zM5.41 20L4 18.59l7.72-7.72 1.47 1.35L5.41 20z\"/>\n",
              "  </svg>\n",
              "      </button>\n",
              "      \n",
              "  <style>\n",
              "    .colab-df-container {\n",
              "      display:flex;\n",
              "      flex-wrap:wrap;\n",
              "      gap: 12px;\n",
              "    }\n",
              "\n",
              "    .colab-df-convert {\n",
              "      background-color: #E8F0FE;\n",
              "      border: none;\n",
              "      border-radius: 50%;\n",
              "      cursor: pointer;\n",
              "      display: none;\n",
              "      fill: #1967D2;\n",
              "      height: 32px;\n",
              "      padding: 0 0 0 0;\n",
              "      width: 32px;\n",
              "    }\n",
              "\n",
              "    .colab-df-convert:hover {\n",
              "      background-color: #E2EBFA;\n",
              "      box-shadow: 0px 1px 2px rgba(60, 64, 67, 0.3), 0px 1px 3px 1px rgba(60, 64, 67, 0.15);\n",
              "      fill: #174EA6;\n",
              "    }\n",
              "\n",
              "    [theme=dark] .colab-df-convert {\n",
              "      background-color: #3B4455;\n",
              "      fill: #D2E3FC;\n",
              "    }\n",
              "\n",
              "    [theme=dark] .colab-df-convert:hover {\n",
              "      background-color: #434B5C;\n",
              "      box-shadow: 0px 1px 3px 1px rgba(0, 0, 0, 0.15);\n",
              "      filter: drop-shadow(0px 1px 2px rgba(0, 0, 0, 0.3));\n",
              "      fill: #FFFFFF;\n",
              "    }\n",
              "  </style>\n",
              "\n",
              "      <script>\n",
              "        const buttonEl =\n",
              "          document.querySelector('#df-e9d53a1b-ce15-49fa-9729-24e5fbeaa6d2 button.colab-df-convert');\n",
              "        buttonEl.style.display =\n",
              "          google.colab.kernel.accessAllowed ? 'block' : 'none';\n",
              "\n",
              "        async function convertToInteractive(key) {\n",
              "          const element = document.querySelector('#df-e9d53a1b-ce15-49fa-9729-24e5fbeaa6d2');\n",
              "          const dataTable =\n",
              "            await google.colab.kernel.invokeFunction('convertToInteractive',\n",
              "                                                     [key], {});\n",
              "          if (!dataTable) return;\n",
              "\n",
              "          const docLinkHtml = 'Like what you see? Visit the ' +\n",
              "            '<a target=\"_blank\" href=https://colab.research.google.com/notebooks/data_table.ipynb>data table notebook</a>'\n",
              "            + ' to learn more about interactive tables.';\n",
              "          element.innerHTML = '';\n",
              "          dataTable['output_type'] = 'display_data';\n",
              "          await google.colab.output.renderOutput(dataTable, element);\n",
              "          const docLink = document.createElement('div');\n",
              "          docLink.innerHTML = docLinkHtml;\n",
              "          element.appendChild(docLink);\n",
              "        }\n",
              "      </script>\n",
              "    </div>\n",
              "  </div>\n",
              "  "
            ]
          },
          "metadata": {},
          "execution_count": 17
        }
      ],
      "source": [
        "df.loc[df[\"Height\"] > 0.4]"
      ]
    },
    {
      "cell_type": "code",
      "source": [
        "df.loc[df[\"Height\"] == 0]"
      ],
      "metadata": {
        "colab": {
          "base_uri": "https://localhost:8080/",
          "height": 112
        },
        "id": "pdbvn1ZrAnQp",
        "outputId": "160596ab-4522-4e4e-a496-de461aedf5fb"
      },
      "execution_count": 19,
      "outputs": [
        {
          "output_type": "execute_result",
          "data": {
            "text/plain": [
              "      Length  Diameter  Height  Whole_weight  Shucked_weight  Viscera_weight  \\\n",
              "1257   0.430      0.34     0.0         0.428          0.2065          0.0860   \n",
              "3996   0.315      0.23     0.0         0.134          0.0575          0.0285   \n",
              "\n",
              "      Shell_weight  Rings  Sex_F  Sex_I  Sex_M  \n",
              "1257        0.1150      8      0      1      0  \n",
              "3996        0.3505      6      0      1      0  "
            ],
            "text/html": [
              "\n",
              "  <div id=\"df-423becdb-cd2a-42a9-a3f2-ea6f9732d847\">\n",
              "    <div class=\"colab-df-container\">\n",
              "      <div>\n",
              "<style scoped>\n",
              "    .dataframe tbody tr th:only-of-type {\n",
              "        vertical-align: middle;\n",
              "    }\n",
              "\n",
              "    .dataframe tbody tr th {\n",
              "        vertical-align: top;\n",
              "    }\n",
              "\n",
              "    .dataframe thead th {\n",
              "        text-align: right;\n",
              "    }\n",
              "</style>\n",
              "<table border=\"1\" class=\"dataframe\">\n",
              "  <thead>\n",
              "    <tr style=\"text-align: right;\">\n",
              "      <th></th>\n",
              "      <th>Length</th>\n",
              "      <th>Diameter</th>\n",
              "      <th>Height</th>\n",
              "      <th>Whole_weight</th>\n",
              "      <th>Shucked_weight</th>\n",
              "      <th>Viscera_weight</th>\n",
              "      <th>Shell_weight</th>\n",
              "      <th>Rings</th>\n",
              "      <th>Sex_F</th>\n",
              "      <th>Sex_I</th>\n",
              "      <th>Sex_M</th>\n",
              "    </tr>\n",
              "  </thead>\n",
              "  <tbody>\n",
              "    <tr>\n",
              "      <th>1257</th>\n",
              "      <td>0.430</td>\n",
              "      <td>0.34</td>\n",
              "      <td>0.0</td>\n",
              "      <td>0.428</td>\n",
              "      <td>0.2065</td>\n",
              "      <td>0.0860</td>\n",
              "      <td>0.1150</td>\n",
              "      <td>8</td>\n",
              "      <td>0</td>\n",
              "      <td>1</td>\n",
              "      <td>0</td>\n",
              "    </tr>\n",
              "    <tr>\n",
              "      <th>3996</th>\n",
              "      <td>0.315</td>\n",
              "      <td>0.23</td>\n",
              "      <td>0.0</td>\n",
              "      <td>0.134</td>\n",
              "      <td>0.0575</td>\n",
              "      <td>0.0285</td>\n",
              "      <td>0.3505</td>\n",
              "      <td>6</td>\n",
              "      <td>0</td>\n",
              "      <td>1</td>\n",
              "      <td>0</td>\n",
              "    </tr>\n",
              "  </tbody>\n",
              "</table>\n",
              "</div>\n",
              "      <button class=\"colab-df-convert\" onclick=\"convertToInteractive('df-423becdb-cd2a-42a9-a3f2-ea6f9732d847')\"\n",
              "              title=\"Convert this dataframe to an interactive table.\"\n",
              "              style=\"display:none;\">\n",
              "        \n",
              "  <svg xmlns=\"http://www.w3.org/2000/svg\" height=\"24px\"viewBox=\"0 0 24 24\"\n",
              "       width=\"24px\">\n",
              "    <path d=\"M0 0h24v24H0V0z\" fill=\"none\"/>\n",
              "    <path d=\"M18.56 5.44l.94 2.06.94-2.06 2.06-.94-2.06-.94-.94-2.06-.94 2.06-2.06.94zm-11 1L8.5 8.5l.94-2.06 2.06-.94-2.06-.94L8.5 2.5l-.94 2.06-2.06.94zm10 10l.94 2.06.94-2.06 2.06-.94-2.06-.94-.94-2.06-.94 2.06-2.06.94z\"/><path d=\"M17.41 7.96l-1.37-1.37c-.4-.4-.92-.59-1.43-.59-.52 0-1.04.2-1.43.59L10.3 9.45l-7.72 7.72c-.78.78-.78 2.05 0 2.83L4 21.41c.39.39.9.59 1.41.59.51 0 1.02-.2 1.41-.59l7.78-7.78 2.81-2.81c.8-.78.8-2.07 0-2.86zM5.41 20L4 18.59l7.72-7.72 1.47 1.35L5.41 20z\"/>\n",
              "  </svg>\n",
              "      </button>\n",
              "      \n",
              "  <style>\n",
              "    .colab-df-container {\n",
              "      display:flex;\n",
              "      flex-wrap:wrap;\n",
              "      gap: 12px;\n",
              "    }\n",
              "\n",
              "    .colab-df-convert {\n",
              "      background-color: #E8F0FE;\n",
              "      border: none;\n",
              "      border-radius: 50%;\n",
              "      cursor: pointer;\n",
              "      display: none;\n",
              "      fill: #1967D2;\n",
              "      height: 32px;\n",
              "      padding: 0 0 0 0;\n",
              "      width: 32px;\n",
              "    }\n",
              "\n",
              "    .colab-df-convert:hover {\n",
              "      background-color: #E2EBFA;\n",
              "      box-shadow: 0px 1px 2px rgba(60, 64, 67, 0.3), 0px 1px 3px 1px rgba(60, 64, 67, 0.15);\n",
              "      fill: #174EA6;\n",
              "    }\n",
              "\n",
              "    [theme=dark] .colab-df-convert {\n",
              "      background-color: #3B4455;\n",
              "      fill: #D2E3FC;\n",
              "    }\n",
              "\n",
              "    [theme=dark] .colab-df-convert:hover {\n",
              "      background-color: #434B5C;\n",
              "      box-shadow: 0px 1px 3px 1px rgba(0, 0, 0, 0.15);\n",
              "      filter: drop-shadow(0px 1px 2px rgba(0, 0, 0, 0.3));\n",
              "      fill: #FFFFFF;\n",
              "    }\n",
              "  </style>\n",
              "\n",
              "      <script>\n",
              "        const buttonEl =\n",
              "          document.querySelector('#df-423becdb-cd2a-42a9-a3f2-ea6f9732d847 button.colab-df-convert');\n",
              "        buttonEl.style.display =\n",
              "          google.colab.kernel.accessAllowed ? 'block' : 'none';\n",
              "\n",
              "        async function convertToInteractive(key) {\n",
              "          const element = document.querySelector('#df-423becdb-cd2a-42a9-a3f2-ea6f9732d847');\n",
              "          const dataTable =\n",
              "            await google.colab.kernel.invokeFunction('convertToInteractive',\n",
              "                                                     [key], {});\n",
              "          if (!dataTable) return;\n",
              "\n",
              "          const docLinkHtml = 'Like what you see? Visit the ' +\n",
              "            '<a target=\"_blank\" href=https://colab.research.google.com/notebooks/data_table.ipynb>data table notebook</a>'\n",
              "            + ' to learn more about interactive tables.';\n",
              "          element.innerHTML = '';\n",
              "          dataTable['output_type'] = 'display_data';\n",
              "          await google.colab.output.renderOutput(dataTable, element);\n",
              "          const docLink = document.createElement('div');\n",
              "          docLink.innerHTML = docLinkHtml;\n",
              "          element.appendChild(docLink);\n",
              "        }\n",
              "      </script>\n",
              "    </div>\n",
              "  </div>\n",
              "  "
            ]
          },
          "metadata": {},
          "execution_count": 19
        }
      ]
    },
    {
      "cell_type": "code",
      "execution_count": 20,
      "metadata": {
        "id": "F1XT_f8GW9pT"
      },
      "outputs": [],
      "source": [
        "df_no_outliers = df.drop(index = [1417, 2051, 1257, 3996])"
      ]
    },
    {
      "cell_type": "code",
      "execution_count": 21,
      "metadata": {
        "colab": {
          "base_uri": "https://localhost:8080/",
          "height": 265
        },
        "id": "UpNidTz3XQxh",
        "outputId": "14f4a0fd-cfc9-433a-e250-53b931db8ea4"
      },
      "outputs": [
        {
          "output_type": "display_data",
          "data": {
            "text/plain": [
              "<Figure size 432x288 with 1 Axes>"
            ],
            "image/png": "[encoded data removed]"
          },
          "metadata": {
            "needs_background": "light"
          }
        }
      ],
      "source": [
        "x_no = df_no_outliers[\"Rings\"]\n",
        "height_no = df_no_outliers[\"Height\"]\n",
        "\n",
        "plt.scatter(x_no, height_no)\n",
        "plt.show()"
      ]
    },
    {
      "cell_type": "markdown",
      "metadata": {
        "id": "_nWGmK17InHQ"
      },
      "source": [
        "### Multiple Linear Regression Model"
      ]
    },
    {
      "cell_type": "code",
      "execution_count": 22,
      "metadata": {
        "id": "VM4f9WNAIrBT"
      },
      "outputs": [],
      "source": [
        "# Create model\n",
        "\n",
        "multLinReg = LinearRegression()"
      ]
    },
    {
      "cell_type": "code",
      "execution_count": 23,
      "metadata": {
        "id": "RerCJWl3I2dO"
      },
      "outputs": [],
      "source": [
        "# Split data into training and testing sets\n",
        "\n",
        "X = df.drop(columns = \"Rings\")\n",
        "y = df[\"Rings\"]"
      ]
    },
    {
      "cell_type": "code",
      "execution_count": 24,
      "metadata": {
        "id": "zrOZIo1bRTkz"
      },
      "outputs": [],
      "source": [
        "X_train, X_test, y_train, y_test = train_test_split(X, y, random_state = 3)"
      ]
    },
    {
      "cell_type": "code",
      "execution_count": 25,
      "metadata": {
        "id": "Uww4PEncI5wH"
      },
      "outputs": [],
      "source": [
        "# Scale data\n",
        "\n",
        "scaler = StandardScaler()"
      ]
    },
    {
      "cell_type": "code",
      "execution_count": 26,
      "metadata": {
        "colab": {
          "base_uri": "https://localhost:8080/"
        },
        "id": "i-Y7Lib2RXK6",
        "outputId": "fda2219b-aed8-44a5-9ce3-ec52912cbebd"
      },
      "outputs": [
        {
          "output_type": "execute_result",
          "data": {
            "text/plain": [
              "StandardScaler()"
            ]
          },
          "metadata": {},
          "execution_count": 26
        }
      ],
      "source": [
        "scaler.fit(X_train)"
      ]
    },
    {
      "cell_type": "code",
      "execution_count": 27,
      "metadata": {
        "id": "MGNnhfTXRae0"
      },
      "outputs": [],
      "source": [
        "X_train_scaled = scaler.transform(X_train)\n",
        "X_test_scaled = scaler.transform(X_test)"
      ]
    },
    {
      "cell_type": "code",
      "execution_count": 28,
      "metadata": {
        "colab": {
          "base_uri": "https://localhost:8080/"
        },
        "id": "6Q4-OpIDI6vX",
        "outputId": "5f22fabf-b4b7-411d-9775-ff6a3e9e394c"
      },
      "outputs": [
        {
          "output_type": "execute_result",
          "data": {
            "text/plain": [
              "LinearRegression()"
            ]
          },
          "metadata": {},
          "execution_count": 28
        }
      ],
      "source": [
        "# Train model\n",
        "\n",
        "multLinReg.fit(X_train_scaled, y_train)"
      ]
    },
    {
      "cell_type": "code",
      "execution_count": 29,
      "metadata": {
        "colab": {
          "base_uri": "https://localhost:8080/"
        },
        "id": "Tq6bTWywI-BS",
        "outputId": "72e1e7d1-4ca9-4472-99bd-a236cd34f512"
      },
      "outputs": [
        {
          "output_type": "execute_result",
          "data": {
            "text/plain": [
              "array([10.93318904, 11.14649789, 11.50648478, ...,  8.19775703,\n",
              "        9.65056996, 12.27414972])"
            ]
          },
          "metadata": {},
          "execution_count": 29
        }
      ],
      "source": [
        "# Test model\n",
        "\n",
        "multLinReg.predict(X_test_scaled)"
      ]
    },
    {
      "cell_type": "code",
      "source": [
        "multLinReg.score(X_train_scaled, y_train)"
      ],
      "metadata": {
        "colab": {
          "base_uri": "https://localhost:8080/"
        },
        "id": "APLvYy0e2-pA",
        "outputId": "5ef4c3bc-ca01-48ce-8f6a-57a61581c8af"
      },
      "execution_count": 30,
      "outputs": [
        {
          "output_type": "execute_result",
          "data": {
            "text/plain": [
              "0.5458379428502007"
            ]
          },
          "metadata": {},
          "execution_count": 30
        }
      ]
    },
    {
      "cell_type": "code",
      "execution_count": 31,
      "metadata": {
        "colab": {
          "base_uri": "https://localhost:8080/"
        },
        "id": "kpj0wkiXI-4z",
        "outputId": "d7281257-016c-453e-9181-f19e7bfc24a7"
      },
      "outputs": [
        {
          "output_type": "execute_result",
          "data": {
            "text/plain": [
              "0.5078501514842158"
            ]
          },
          "metadata": {},
          "execution_count": 31
        }
      ],
      "source": [
        "# Evaluate model\n",
        "\n",
        "multLinReg.score(X_test_scaled, y_test)"
      ]
    },
    {
      "cell_type": "code",
      "execution_count": 32,
      "metadata": {
        "colab": {
          "base_uri": "https://localhost:8080/"
        },
        "id": "ToOJpj8jWkUB",
        "outputId": "58eeddaf-7cc8-4761-bb7f-97d1730fc658"
      },
      "outputs": [
        {
          "output_type": "execute_result",
          "data": {
            "text/plain": [
              "array([-0.23240941,  1.2841631 ,  0.41559035,  3.92823551, -4.15323543,\n",
              "       -1.03471661,  1.43566168,  0.10059333, -0.26916476,  0.16627512])"
            ]
          },
          "metadata": {},
          "execution_count": 32
        }
      ],
      "source": [
        "multLinReg.coef_"
      ]
    },
    {
      "cell_type": "code",
      "source": [
        "multLinReg.intercept_"
      ],
      "metadata": {
        "colab": {
          "base_uri": "https://localhost:8080/"
        },
        "id": "zbPwEd6Ltw3w",
        "outputId": "3b3eb8f9-2bad-4559-f982-0eff3d881c91"
      },
      "execution_count": 33,
      "outputs": [
        {
          "output_type": "execute_result",
          "data": {
            "text/plain": [
              "9.94220945083014"
            ]
          },
          "metadata": {},
          "execution_count": 33
        }
      ]
    },
    {
      "cell_type": "markdown",
      "source": [
        "### Multiple Linear Regression without 2 height outliers"
      ],
      "metadata": {
        "id": "4a0r7qwTxX6Y"
      }
    },
    {
      "cell_type": "code",
      "execution_count": 34,
      "metadata": {
        "id": "AQijxPO7XjMB"
      },
      "outputs": [],
      "source": [
        "multLinReg2 = LinearRegression()"
      ]
    },
    {
      "cell_type": "code",
      "execution_count": 35,
      "metadata": {
        "id": "LesvJ3v_Xo0n"
      },
      "outputs": [],
      "source": [
        "X_no = df_no_outliers.drop(columns = \"Rings\")\n",
        "y_no = df_no_outliers[\"Rings\"]"
      ]
    },
    {
      "cell_type": "code",
      "execution_count": 36,
      "metadata": {
        "id": "LTn6dBS5X4FK"
      },
      "outputs": [],
      "source": [
        "X_no_train, X_no_test, y_no_train, y_no_test = train_test_split(X_no, y_no, random_state = 3)"
      ]
    },
    {
      "cell_type": "code",
      "execution_count": 37,
      "metadata": {
        "id": "7WOctRFAX_2C"
      },
      "outputs": [],
      "source": [
        "scaler_no = StandardScaler()"
      ]
    },
    {
      "cell_type": "code",
      "execution_count": 38,
      "metadata": {
        "colab": {
          "base_uri": "https://localhost:8080/"
        },
        "id": "oaD38Kr5YE4B",
        "outputId": "4c14d1d6-61e4-4b3a-8d6f-dd148b70a3a6"
      },
      "outputs": [
        {
          "output_type": "execute_result",
          "data": {
            "text/plain": [
              "StandardScaler()"
            ]
          },
          "metadata": {},
          "execution_count": 38
        }
      ],
      "source": [
        "scaler_no.fit(X_no_train)"
      ]
    },
    {
      "cell_type": "code",
      "execution_count": 39,
      "metadata": {
        "id": "RkxgVwmIYHiT"
      },
      "outputs": [],
      "source": [
        "X_no_train_scaled = scaler_no.transform(X_no_train)\n",
        "X_no_test_scaled = scaler_no.transform(X_no_test)"
      ]
    },
    {
      "cell_type": "code",
      "execution_count": 40,
      "metadata": {
        "colab": {
          "base_uri": "https://localhost:8080/"
        },
        "id": "BIZF0DTMYSYM",
        "outputId": "e7ef8ac2-5f54-4374-fd9c-020bab68b580"
      },
      "outputs": [
        {
          "output_type": "execute_result",
          "data": {
            "text/plain": [
              "LinearRegression()"
            ]
          },
          "metadata": {},
          "execution_count": 40
        }
      ],
      "source": [
        "multLinReg2.fit(X_no_train_scaled, y_no_train)"
      ]
    },
    {
      "cell_type": "code",
      "execution_count": 41,
      "metadata": {
        "colab": {
          "base_uri": "https://localhost:8080/"
        },
        "id": "LpMrmLAtYaRw",
        "outputId": "e0b60256-0fe1-4011-c164-f3025b3fdf8c"
      },
      "outputs": [
        {
          "output_type": "execute_result",
          "data": {
            "text/plain": [
              "array([ 8.4027033 ,  9.68212737, 10.61402308, ...,  7.05080196,\n",
              "        8.13314824,  9.30942069])"
            ]
          },
          "metadata": {},
          "execution_count": 41
        }
      ],
      "source": [
        "multLinReg2.predict(X_no_test_scaled)"
      ]
    },
    {
      "cell_type": "code",
      "source": [
        "multLinReg2.score(X_no_train_scaled, y_no_train)"
      ],
      "metadata": {
        "colab": {
          "base_uri": "https://localhost:8080/"
        },
        "id": "7Pxt9LUd22SF",
        "outputId": "6083ede4-98f4-459d-a5f7-c69faea163ac"
      },
      "execution_count": 42,
      "outputs": [
        {
          "output_type": "execute_result",
          "data": {
            "text/plain": [
              "0.5506328743094396"
            ]
          },
          "metadata": {},
          "execution_count": 42
        }
      ]
    },
    {
      "cell_type": "code",
      "execution_count": 43,
      "metadata": {
        "colab": {
          "base_uri": "https://localhost:8080/"
        },
        "id": "0bnOAkbSYiEs",
        "outputId": "8bc41a3e-1156-4d1e-b587-eb673572fa44"
      },
      "outputs": [
        {
          "output_type": "execute_result",
          "data": {
            "text/plain": [
              "0.5198595463446136"
            ]
          },
          "metadata": {},
          "execution_count": 43
        }
      ],
      "source": [
        "multLinReg2.score(X_no_test_scaled, y_no_test)"
      ]
    },
    {
      "cell_type": "code",
      "execution_count": 44,
      "metadata": {
        "colab": {
          "base_uri": "https://localhost:8080/"
        },
        "id": "WZ9URstsYnFz",
        "outputId": "2c49579d-8a12-4ead-e94c-44c7514a1bc8"
      },
      "outputs": [
        {
          "output_type": "execute_result",
          "data": {
            "text/plain": [
              "array([-0.33064728,  1.08890433,  0.94007483,  4.31004307, -4.40268111,\n",
              "       -1.11526947,  1.12162209,  0.11174892, -0.25098426,  0.13527283])"
            ]
          },
          "metadata": {},
          "execution_count": 44
        }
      ],
      "source": [
        "multLinReg2.coef_"
      ]
    },
    {
      "cell_type": "code",
      "source": [
        "multLinReg2.intercept_"
      ],
      "metadata": {
        "colab": {
          "base_uri": "https://localhost:8080/"
        },
        "id": "5MsBTae2tsa4",
        "outputId": "3750a4b2-7a34-4bf0-e4bb-351e2ed02e2b"
      },
      "execution_count": 45,
      "outputs": [
        {
          "output_type": "execute_result",
          "data": {
            "text/plain": [
              "9.930648769574944"
            ]
          },
          "metadata": {},
          "execution_count": 45
        }
      ]
    },
    {
      "cell_type": "markdown",
      "source": [
        "### Multiple Linear Regression with MinMax Scaler"
      ],
      "metadata": {
        "id": "UTCCjCxZeRpJ"
      }
    },
    {
      "cell_type": "code",
      "source": [
        "multLinReg3 = LinearRegression()"
      ],
      "metadata": {
        "id": "cHIjkZnleQ1G"
      },
      "execution_count": 46,
      "outputs": []
    },
    {
      "cell_type": "code",
      "source": [
        "X_minmax = df_no_outliers.drop(columns = \"Rings\")\n",
        "y_minmax = df_no_outliers[\"Rings\"]"
      ],
      "metadata": {
        "id": "t7czBdOPeQ4Z"
      },
      "execution_count": 47,
      "outputs": []
    },
    {
      "cell_type": "code",
      "source": [
        "X_minmax_train, X_minmax_test, y_minmax_train, y_minmax_test = train_test_split(X_minmax, y_minmax, random_state = 3)"
      ],
      "metadata": {
        "id": "zShTiffEecFV"
      },
      "execution_count": 48,
      "outputs": []
    },
    {
      "cell_type": "code",
      "source": [
        "scaler_minmax = MinMaxScaler()"
      ],
      "metadata": {
        "id": "-C1Y71EdfTEM"
      },
      "execution_count": 49,
      "outputs": []
    },
    {
      "cell_type": "code",
      "source": [
        "scaler_minmax.fit(X_minmax_train)"
      ],
      "metadata": {
        "colab": {
          "base_uri": "https://localhost:8080/"
        },
        "id": "1MQeQzGOfcRy",
        "outputId": "0af3286d-96a1-4b75-ab92-c656dbcdfa77"
      },
      "execution_count": 50,
      "outputs": [
        {
          "output_type": "execute_result",
          "data": {
            "text/plain": [
              "MinMaxScaler()"
            ]
          },
          "metadata": {},
          "execution_count": 50
        }
      ]
    },
    {
      "cell_type": "code",
      "source": [
        "X_minmax_train_scaled = scaler_minmax.transform(X_minmax_train)\n",
        "X_minmax_test_scaled = scaler_minmax.transform(X_minmax_test)"
      ],
      "metadata": {
        "id": "lrOLQ281ffyy"
      },
      "execution_count": 51,
      "outputs": []
    },
    {
      "cell_type": "code",
      "source": [
        "multLinReg3.fit(X_minmax_train_scaled, y_minmax_train)"
      ],
      "metadata": {
        "colab": {
          "base_uri": "https://localhost:8080/"
        },
        "id": "6Y9t25GKgYZd",
        "outputId": "87cf91c0-c8c9-42fd-e0fa-98a92a7cccc5"
      },
      "execution_count": 52,
      "outputs": [
        {
          "output_type": "execute_result",
          "data": {
            "text/plain": [
              "LinearRegression()"
            ]
          },
          "metadata": {},
          "execution_count": 52
        }
      ]
    },
    {
      "cell_type": "code",
      "source": [
        "multLinReg3.predict(X_minmax_test_scaled)"
      ],
      "metadata": {
        "colab": {
          "base_uri": "https://localhost:8080/"
        },
        "id": "HRLjh3igg0et",
        "outputId": "43b87141-b11a-42be-b28b-201dbd51f111"
      },
      "execution_count": 53,
      "outputs": [
        {
          "output_type": "execute_result",
          "data": {
            "text/plain": [
              "array([ 8.421875,  9.703125, 10.640625, ...,  7.03125 ,  8.171875,\n",
              "        9.3125  ])"
            ]
          },
          "metadata": {},
          "execution_count": 53
        }
      ]
    },
    {
      "cell_type": "code",
      "source": [
        "multLinReg3.score(X_minmax_train_scaled, y_minmax_train)"
      ],
      "metadata": {
        "colab": {
          "base_uri": "https://localhost:8080/"
        },
        "id": "oWFzrWPo2q9V",
        "outputId": "20cc9870-1fdc-483c-8042-cfd6cc2e02f8"
      },
      "execution_count": 54,
      "outputs": [
        {
          "output_type": "execute_result",
          "data": {
            "text/plain": [
              "0.5506211574152733"
            ]
          },
          "metadata": {},
          "execution_count": 54
        }
      ]
    },
    {
      "cell_type": "code",
      "source": [
        "multLinReg3.score(X_minmax_test_scaled, y_minmax_test)"
      ],
      "metadata": {
        "colab": {
          "base_uri": "https://localhost:8080/"
        },
        "id": "n7XKwBRMg9T_",
        "outputId": "8ba71130-2122-4b55-a675-ac95e31bea48"
      },
      "execution_count": 55,
      "outputs": [
        {
          "output_type": "execute_result",
          "data": {
            "text/plain": [
              "0.5195227159847559"
            ]
          },
          "metadata": {},
          "execution_count": 55
        }
      ]
    },
    {
      "cell_type": "code",
      "source": [
        "multLinReg3.coef_"
      ],
      "metadata": {
        "colab": {
          "base_uri": "https://localhost:8080/"
        },
        "id": "BWCVRtXihJaY",
        "outputId": "4eb9d06d-2461-405c-d9c5-91e63c34a156"
      },
      "execution_count": 56,
      "outputs": [
        {
          "output_type": "execute_result",
          "data": {
            "text/plain": [
              "array([-1.87980859e+00,  6.23075325e+00,  5.73665514e+00,  2.44544177e+01,\n",
              "       -2.69960962e+01, -7.82880705e+00,  8.02040522e+00,  8.69214236e+13,\n",
              "        8.69214236e+13,  8.69214236e+13])"
            ]
          },
          "metadata": {},
          "execution_count": 56
        }
      ]
    },
    {
      "cell_type": "code",
      "source": [
        "multLinReg3.intercept_"
      ],
      "metadata": {
        "colab": {
          "base_uri": "https://localhost:8080/"
        },
        "id": "U3hNdFlphTgn",
        "outputId": "635ffaf4-83f5-4000-8e4c-08db46fe5e25"
      },
      "execution_count": 57,
      "outputs": [
        {
          "output_type": "execute_result",
          "data": {
            "text/plain": [
              "-86921423639368.84"
            ]
          },
          "metadata": {},
          "execution_count": 57
        }
      ]
    },
    {
      "cell_type": "markdown",
      "source": [
        "A multiple linear regression doesn't seem to be working."
      ],
      "metadata": {
        "id": "GGDCJDbDpSCQ"
      }
    },
    {
      "cell_type": "markdown",
      "source": [
        "### K Nearest Neighbors Regressor"
      ],
      "metadata": {
        "id": "pOxLOlFHxnJQ"
      }
    },
    {
      "cell_type": "code",
      "source": [
        "from sklearn.neighbors import KNeighborsRegressor"
      ],
      "metadata": {
        "id": "_926oIGvpVKL"
      },
      "execution_count": 58,
      "outputs": []
    },
    {
      "cell_type": "code",
      "source": [
        "knn = KNeighborsRegressor()"
      ],
      "metadata": {
        "id": "67gTeFiZuWyt"
      },
      "execution_count": 59,
      "outputs": []
    },
    {
      "cell_type": "code",
      "source": [
        "X_knn = df_no_outliers.drop(columns = \"Rings\")\n",
        "y_knn = df_no_outliers[\"Rings\"]"
      ],
      "metadata": {
        "id": "YWYqm2Qww8BF"
      },
      "execution_count": 60,
      "outputs": []
    },
    {
      "cell_type": "code",
      "source": [
        "X_knn_train, X_knn_test, y_knn_train, y_knn_test = train_test_split(X_knn, y_knn, random_state = 3)"
      ],
      "metadata": {
        "id": "lJ1zK6XyxAF6"
      },
      "execution_count": 61,
      "outputs": []
    },
    {
      "cell_type": "code",
      "source": [
        "scaler = StandardScaler()"
      ],
      "metadata": {
        "id": "kYoZcHHuxJYN"
      },
      "execution_count": 62,
      "outputs": []
    },
    {
      "cell_type": "code",
      "source": [
        "scaler.fit(X_knn_train)"
      ],
      "metadata": {
        "colab": {
          "base_uri": "https://localhost:8080/"
        },
        "id": "USDdgzpoxztz",
        "outputId": "39ee9f14-b73f-4f97-bd62-0991b760b0c9"
      },
      "execution_count": 63,
      "outputs": [
        {
          "output_type": "execute_result",
          "data": {
            "text/plain": [
              "StandardScaler()"
            ]
          },
          "metadata": {},
          "execution_count": 63
        }
      ]
    },
    {
      "cell_type": "code",
      "source": [
        "X_knn_train_scaled = scaler.transform(X_knn_train)\n",
        "X_knn_test_scaled = scaler.transform(X_knn_test)"
      ],
      "metadata": {
        "id": "C4FZkvKrx1bQ"
      },
      "execution_count": 64,
      "outputs": []
    },
    {
      "cell_type": "code",
      "source": [
        "# Borrowed and adapted from 19.2 Activity 6\n",
        "train_scores = []\n",
        "test_scores = []\n",
        "for k in range(1, 20, 2):\n",
        "    knn = KNeighborsRegressor(n_neighbors=k)\n",
        "    knn.fit(X_train_scaled, y_train)\n",
        "    train_score = knn.score(X_train_scaled, y_train)\n",
        "    test_score = knn.score(X_test_scaled, y_test)\n",
        "    train_scores.append(train_score)\n",
        "    test_scores.append(test_score)\n",
        "    print(f\"k: {k}, Train/Test Score: {train_score:.3f}/{test_score:.3f}\")\n",
        "    \n",
        "plt.plot(range(1, 20, 2), train_scores, marker='o')\n",
        "plt.plot(range(1, 20, 2), test_scores, marker=\"x\")\n",
        "plt.xlabel(\"k neighbors\")\n",
        "plt.ylabel(\"Testing accuracy score\")\n",
        "plt.show()"
      ],
      "metadata": {
        "colab": {
          "base_uri": "https://localhost:8080/",
          "height": 453
        },
        "id": "5xcUz2ygx6i6",
        "outputId": "ac564de6-161a-4cb2-c1ff-e7f1563b8984"
      },
      "execution_count": 65,
      "outputs": [
        {
          "output_type": "stream",
          "name": "stdout",
          "text": [
            "k: 1, Train/Test Score: 1.000/0.130\n",
            "k: 3, Train/Test Score: 0.713/0.435\n",
            "k: 5, Train/Test Score: 0.659/0.473\n",
            "k: 7, Train/Test Score: 0.632/0.506\n",
            "k: 9, Train/Test Score: 0.617/0.510\n",
            "k: 11, Train/Test Score: 0.603/0.516\n",
            "k: 13, Train/Test Score: 0.597/0.514\n",
            "k: 15, Train/Test Score: 0.588/0.511\n",
            "k: 17, Train/Test Score: 0.580/0.511\n",
            "k: 19, Train/Test Score: 0.574/0.510\n"
          ]
        },
        {
          "output_type": "display_data",
          "data": {
            "text/plain": [
              "<Figure size 432x288 with 1 Axes>"
            ],
            "image/png": "[encoded data removed]"
          },
          "metadata": {
            "needs_background": "light"
          }
        }
      ]
    },
    {
      "cell_type": "code",
      "source": [
        "# Try with k = 7\n",
        "\n",
        "knn7 = KNeighborsRegressor(n_neighbors=7)"
      ],
      "metadata": {
        "id": "QULusjamyN6W"
      },
      "execution_count": 66,
      "outputs": []
    },
    {
      "cell_type": "code",
      "source": [
        "knn7.fit(X_knn_train_scaled, y_knn_train)"
      ],
      "metadata": {
        "colab": {
          "base_uri": "https://localhost:8080/"
        },
        "id": "G5pOjDJ7yoTf",
        "outputId": "6a8da7b0-c395-41c9-cd8f-74a356b80392"
      },
      "execution_count": 67,
      "outputs": [
        {
          "output_type": "execute_result",
          "data": {
            "text/plain": [
              "KNeighborsRegressor(n_neighbors=7)"
            ]
          },
          "metadata": {},
          "execution_count": 67
        }
      ]
    },
    {
      "cell_type": "code",
      "source": [
        "knn7.score(X_knn_train_scaled, y_knn_train)"
      ],
      "metadata": {
        "colab": {
          "base_uri": "https://localhost:8080/"
        },
        "id": "gWVmA2Sx2YJf",
        "outputId": "46664d68-32f6-4504-fb74-a3063904fd33"
      },
      "execution_count": 68,
      "outputs": [
        {
          "output_type": "execute_result",
          "data": {
            "text/plain": [
              "0.6327925600619995"
            ]
          },
          "metadata": {},
          "execution_count": 68
        }
      ]
    },
    {
      "cell_type": "code",
      "source": [
        "knn7.score(X_knn_test_scaled, y_knn_test)"
      ],
      "metadata": {
        "colab": {
          "base_uri": "https://localhost:8080/"
        },
        "id": "lBD40G17ytOK",
        "outputId": "b1dedeb1-3d98-4756-89fb-e12cabfe24cc"
      },
      "execution_count": 69,
      "outputs": [
        {
          "output_type": "execute_result",
          "data": {
            "text/plain": [
              "0.5175826155218659"
            ]
          },
          "metadata": {},
          "execution_count": 69
        }
      ]
    },
    {
      "cell_type": "code",
      "source": [
        "# Try with k = 5\n",
        "\n",
        "knn5 = KNeighborsRegressor(n_neighbors=5)"
      ],
      "metadata": {
        "id": "GgDbdrzty3Ml"
      },
      "execution_count": 70,
      "outputs": []
    },
    {
      "cell_type": "code",
      "source": [
        "knn5.fit(X_knn_train_scaled, y_knn_train)"
      ],
      "metadata": {
        "colab": {
          "base_uri": "https://localhost:8080/"
        },
        "id": "-NIYVdPGzBIc",
        "outputId": "e0d18e7a-8ed3-46dd-f63f-e92d27c13b68"
      },
      "execution_count": 71,
      "outputs": [
        {
          "output_type": "execute_result",
          "data": {
            "text/plain": [
              "KNeighborsRegressor()"
            ]
          },
          "metadata": {},
          "execution_count": 71
        }
      ]
    },
    {
      "cell_type": "code",
      "source": [
        "knn5.score(X_knn_train_scaled, y_knn_train)"
      ],
      "metadata": {
        "colab": {
          "base_uri": "https://localhost:8080/"
        },
        "id": "7sBrcXd82TRv",
        "outputId": "699989f7-0cf8-4287-90b4-77a5139ff3b1"
      },
      "execution_count": 72,
      "outputs": [
        {
          "output_type": "execute_result",
          "data": {
            "text/plain": [
              "0.6568778400215458"
            ]
          },
          "metadata": {},
          "execution_count": 72
        }
      ]
    },
    {
      "cell_type": "code",
      "source": [
        "knn5.score(X_knn_test_scaled, y_knn_test)"
      ],
      "metadata": {
        "colab": {
          "base_uri": "https://localhost:8080/"
        },
        "id": "58a6Q2BuzEuj",
        "outputId": "69e21833-69ee-4c9b-a690-dd7144b2c298"
      },
      "execution_count": 73,
      "outputs": [
        {
          "output_type": "execute_result",
          "data": {
            "text/plain": [
              "0.5144217172021863"
            ]
          },
          "metadata": {},
          "execution_count": 73
        }
      ]
    },
    {
      "cell_type": "code",
      "source": [
        "# Try with k = 9\n",
        "\n",
        "knn9 = KNeighborsRegressor(n_neighbors=9)"
      ],
      "metadata": {
        "id": "PCherQWnzKr9"
      },
      "execution_count": 74,
      "outputs": []
    },
    {
      "cell_type": "code",
      "source": [
        "knn9.fit(X_knn_train_scaled, y_knn_train)"
      ],
      "metadata": {
        "colab": {
          "base_uri": "https://localhost:8080/"
        },
        "id": "w2pOXIvozQey",
        "outputId": "a373ba2e-7cd4-4b95-e33e-a3c478376c57"
      },
      "execution_count": 75,
      "outputs": [
        {
          "output_type": "execute_result",
          "data": {
            "text/plain": [
              "KNeighborsRegressor(n_neighbors=9)"
            ]
          },
          "metadata": {},
          "execution_count": 75
        }
      ]
    },
    {
      "cell_type": "code",
      "source": [
        "knn9.score(X_knn_train_scaled, y_knn_train)"
      ],
      "metadata": {
        "colab": {
          "base_uri": "https://localhost:8080/"
        },
        "id": "fsMSnBEp2MnW",
        "outputId": "e014cf83-59c9-4d8e-e1d2-ec61cbdc6034"
      },
      "execution_count": 76,
      "outputs": [
        {
          "output_type": "execute_result",
          "data": {
            "text/plain": [
              "0.6119803742606059"
            ]
          },
          "metadata": {},
          "execution_count": 76
        }
      ]
    },
    {
      "cell_type": "code",
      "source": [
        "knn9.score(X_knn_test_scaled, y_knn_test)"
      ],
      "metadata": {
        "colab": {
          "base_uri": "https://localhost:8080/"
        },
        "id": "mj5qqVKmzUfO",
        "outputId": "f17fccf7-a451-4e0a-ce3a-004cf4303577"
      },
      "execution_count": 77,
      "outputs": [
        {
          "output_type": "execute_result",
          "data": {
            "text/plain": [
              "0.5184358874584232"
            ]
          },
          "metadata": {},
          "execution_count": 77
        }
      ]
    },
    {
      "cell_type": "markdown",
      "source": [
        "K Nearest Neighbors Regressor worked about as well as the Multiple Linear Regression (that is to say, not well). It also seems to be overfitting the data (training score is higher than the testing score by a bunch). Time to try something else. I'm going to try a Support Vector Regression."
      ],
      "metadata": {
        "id": "DApNcatRzaoJ"
      }
    },
    {
      "cell_type": "markdown",
      "source": [
        "### Support Vector Regression"
      ],
      "metadata": {
        "id": "X1pVc235xuEG"
      }
    },
    {
      "cell_type": "code",
      "source": [
        "from sklearn.svm import SVR"
      ],
      "metadata": {
        "id": "U_JPtnY6zXoV"
      },
      "execution_count": 78,
      "outputs": []
    },
    {
      "cell_type": "code",
      "source": [
        "X_svr = df_no_outliers.drop(columns = \"Rings\")\n",
        "y_svr = df_no_outliers[\"Rings\"]"
      ],
      "metadata": {
        "id": "oX9NPFox0Yb4"
      },
      "execution_count": 79,
      "outputs": []
    },
    {
      "cell_type": "code",
      "source": [
        "X_svr_train, X_svr_test, y_svr_train, y_svr_test = train_test_split(X_svr, y_svr, random_state = 3)"
      ],
      "metadata": {
        "id": "CE6qUM2g07px"
      },
      "execution_count": 80,
      "outputs": []
    },
    {
      "cell_type": "code",
      "source": [
        "scaler = StandardScaler()"
      ],
      "metadata": {
        "id": "CrPBQZE81Gcv"
      },
      "execution_count": 81,
      "outputs": []
    },
    {
      "cell_type": "code",
      "source": [
        "scaler.fit(X_svr_train)"
      ],
      "metadata": {
        "colab": {
          "base_uri": "https://localhost:8080/"
        },
        "id": "N_ZzoVKh1Lmf",
        "outputId": "7067f07b-e26b-4674-d525-9ea639727587"
      },
      "execution_count": 82,
      "outputs": [
        {
          "output_type": "execute_result",
          "data": {
            "text/plain": [
              "StandardScaler()"
            ]
          },
          "metadata": {},
          "execution_count": 82
        }
      ]
    },
    {
      "cell_type": "code",
      "source": [
        "X_svr_train_scaled = scaler.transform(X_svr_train)\n",
        "X_svr_test_scaled = scaler.transform(X_svr_test)"
      ],
      "metadata": {
        "id": "KJb5xXmU1VO2"
      },
      "execution_count": 83,
      "outputs": []
    },
    {
      "cell_type": "code",
      "source": [
        "svr = SVR()"
      ],
      "metadata": {
        "id": "Fs-upEVk1eH7"
      },
      "execution_count": 84,
      "outputs": []
    },
    {
      "cell_type": "code",
      "source": [
        "svr.fit(X_svr_train_scaled, y_svr_train)"
      ],
      "metadata": {
        "colab": {
          "base_uri": "https://localhost:8080/"
        },
        "id": "3SKz7zIW1hIo",
        "outputId": "56b0eb8f-4872-4746-a8c0-f8b594784f6d"
      },
      "execution_count": 85,
      "outputs": [
        {
          "output_type": "execute_result",
          "data": {
            "text/plain": [
              "SVR()"
            ]
          },
          "metadata": {},
          "execution_count": 85
        }
      ]
    },
    {
      "cell_type": "code",
      "source": [
        "svr.score(X_svr_train_scaled, y_svr_train)"
      ],
      "metadata": {
        "colab": {
          "base_uri": "https://localhost:8080/"
        },
        "id": "7P8Iv-9C2HeQ",
        "outputId": "a6bd2238-ecad-4f25-9247-767795af4aae"
      },
      "execution_count": 86,
      "outputs": [
        {
          "output_type": "execute_result",
          "data": {
            "text/plain": [
              "0.5467901792826577"
            ]
          },
          "metadata": {},
          "execution_count": 86
        }
      ]
    },
    {
      "cell_type": "code",
      "source": [
        "svr.score(X_svr_test_scaled, y_svr_test)"
      ],
      "metadata": {
        "colab": {
          "base_uri": "https://localhost:8080/"
        },
        "id": "euIaWqXb1ltl",
        "outputId": "90c55815-a58f-45f5-a13f-0a40461f0e68"
      },
      "execution_count": 87,
      "outputs": [
        {
          "output_type": "execute_result",
          "data": {
            "text/plain": [
              "0.5443014471089089"
            ]
          },
          "metadata": {},
          "execution_count": 87
        }
      ]
    },
    {
      "cell_type": "markdown",
      "source": [
        "SVR did slightly better than the others, but still not very good. Let's try something completely different: a Random Forest"
      ],
      "metadata": {
        "id": "JzjS3-KZ1wJl"
      }
    },
    {
      "cell_type": "markdown",
      "source": [
        "### Random Forest Regressor"
      ],
      "metadata": {
        "id": "pHBKr1bLxzNE"
      }
    },
    {
      "cell_type": "code",
      "source": [
        "from sklearn.ensemble import RandomForestRegressor"
      ],
      "metadata": {
        "id": "Kvyv3Mbb1t70"
      },
      "execution_count": 88,
      "outputs": []
    },
    {
      "cell_type": "code",
      "source": [
        "forest = RandomForestRegressor()"
      ],
      "metadata": {
        "id": "0cMnFNYC3SMn"
      },
      "execution_count": 89,
      "outputs": []
    },
    {
      "cell_type": "code",
      "source": [
        "X_forest = df_no_outliers.drop(columns = \"Rings\")\n",
        "y_forest = df_no_outliers[\"Rings\"]"
      ],
      "metadata": {
        "id": "fKlqYvbQ4UB0"
      },
      "execution_count": 90,
      "outputs": []
    },
    {
      "cell_type": "code",
      "source": [
        "X_forest_train, X_forest_test, y_forest_train, y_forest_test = train_test_split(X_forest, y_forest, random_state = 3)"
      ],
      "metadata": {
        "id": "HFqyul4t4399"
      },
      "execution_count": 91,
      "outputs": []
    },
    {
      "cell_type": "code",
      "source": [
        "scaler = StandardScaler()"
      ],
      "metadata": {
        "id": "M8H8zkvl5AV3"
      },
      "execution_count": 92,
      "outputs": []
    },
    {
      "cell_type": "code",
      "source": [
        "scaler.fit(X_forest_train)"
      ],
      "metadata": {
        "colab": {
          "base_uri": "https://localhost:8080/"
        },
        "id": "tDxEWctN5GIQ",
        "outputId": "b10949ef-a818-41a5-85fe-867e26277d46"
      },
      "execution_count": 93,
      "outputs": [
        {
          "output_type": "execute_result",
          "data": {
            "text/plain": [
              "StandardScaler()"
            ]
          },
          "metadata": {},
          "execution_count": 93
        }
      ]
    },
    {
      "cell_type": "code",
      "source": [
        "X_forest_train_scaled = scaler.transform(X_forest_train)\n",
        "X_forest_test_scaled = scaler.transform(X_forest_test)"
      ],
      "metadata": {
        "id": "qgmL_Inm5IIp"
      },
      "execution_count": 94,
      "outputs": []
    },
    {
      "cell_type": "code",
      "source": [
        "forest = RandomForestRegressor(n_estimators= 1000, random_state = 3, max_depth = 7, max_features = 5)"
      ],
      "metadata": {
        "id": "GJOw34CS5NSK"
      },
      "execution_count": 95,
      "outputs": []
    },
    {
      "cell_type": "code",
      "source": [
        "forest.fit(X_forest_train_scaled, y_forest_train)"
      ],
      "metadata": {
        "colab": {
          "base_uri": "https://localhost:8080/"
        },
        "id": "tDms-WtV6PnF",
        "outputId": "4723358d-8cb2-4270-8cc6-54133b7f26d4"
      },
      "execution_count": 96,
      "outputs": [
        {
          "output_type": "execute_result",
          "data": {
            "text/plain": [
              "RandomForestRegressor(max_depth=7, max_features=5, n_estimators=1000,\n",
              "                      random_state=3)"
            ]
          },
          "metadata": {},
          "execution_count": 96
        }
      ]
    },
    {
      "cell_type": "code",
      "source": [
        "forest.score(X_forest_train_scaled, y_forest_train)"
      ],
      "metadata": {
        "colab": {
          "base_uri": "https://localhost:8080/"
        },
        "id": "8ft4pYxP6TiJ",
        "outputId": "ca287330-5dd0-4037-cbbe-72446d8e44b9"
      },
      "execution_count": 97,
      "outputs": [
        {
          "output_type": "execute_result",
          "data": {
            "text/plain": [
              "0.6849268856324697"
            ]
          },
          "metadata": {},
          "execution_count": 97
        }
      ]
    },
    {
      "cell_type": "code",
      "source": [
        "forest.score(X_forest_test_scaled, y_forest_test)"
      ],
      "metadata": {
        "colab": {
          "base_uri": "https://localhost:8080/"
        },
        "id": "__VTD-5d6eK-",
        "outputId": "27b176df-ecdc-40e5-d174-5ef6e1c335f0"
      },
      "execution_count": 98,
      "outputs": [
        {
          "output_type": "execute_result",
          "data": {
            "text/plain": [
              "0.5532751890702399"
            ]
          },
          "metadata": {},
          "execution_count": 98
        }
      ]
    },
    {
      "cell_type": "markdown",
      "source": [
        "### Neural Network"
      ],
      "metadata": {
        "id": "Fw-Js0GJ-dCP"
      }
    },
    {
      "cell_type": "markdown",
      "source": [
        "#### Set up for Neural Network"
      ],
      "metadata": {
        "id": "AbaRuQfcXdhn"
      }
    },
    {
      "cell_type": "code",
      "source": [
        "X_nn = df_no_outliers.drop(columns = \"Rings\")\n",
        "y_nn = df_no_outliers[\"Rings\"]"
      ],
      "metadata": {
        "id": "Af0nKkUk-f7m"
      },
      "execution_count": 99,
      "outputs": []
    },
    {
      "cell_type": "code",
      "source": [
        "X_nn_train, X_nn_test, y_nn_train, y_nn_test = train_test_split(X_nn, y_nn, random_state = 3)"
      ],
      "metadata": {
        "id": "-pnWj1iN_Rmu"
      },
      "execution_count": 100,
      "outputs": []
    },
    {
      "cell_type": "code",
      "source": [
        "scaler = MinMaxScaler()"
      ],
      "metadata": {
        "id": "Ltry2phO_RkK"
      },
      "execution_count": 101,
      "outputs": []
    },
    {
      "cell_type": "code",
      "source": [
        "scaler.fit(X_nn_train)"
      ],
      "metadata": {
        "colab": {
          "base_uri": "https://localhost:8080/"
        },
        "id": "f6_hpcwa_Q0k",
        "outputId": "c5fc6317-6374-46d4-988d-87a6bd76be72"
      },
      "execution_count": 102,
      "outputs": [
        {
          "output_type": "execute_result",
          "data": {
            "text/plain": [
              "MinMaxScaler()"
            ]
          },
          "metadata": {},
          "execution_count": 102
        }
      ]
    },
    {
      "cell_type": "code",
      "source": [
        "X_nn_train_scaled = scaler.transform(X_nn_train)\n",
        "X_nn_test_scaled = scaler.transform(X_nn_test)"
      ],
      "metadata": {
        "id": "3kFcHJCT_qR4"
      },
      "execution_count": 103,
      "outputs": []
    },
    {
      "cell_type": "code",
      "source": [
        "X_nn_test_scaled"
      ],
      "metadata": {
        "colab": {
          "base_uri": "https://localhost:8080/"
        },
        "id": "4MDOJlbHK823",
        "outputId": "df9ca3a7-09e0-4306-9814-9f55d72fc11a"
      },
      "execution_count": 104,
      "outputs": [
        {
          "output_type": "execute_result",
          "data": {
            "text/plain": [
              "array([[0.5106383 , 0.50892857, 0.38297872, ..., 1.        , 0.        ,\n",
              "        0.        ],\n",
              "       [0.58156028, 0.5625    , 0.42553191, ..., 1.        , 0.        ,\n",
              "        0.        ],\n",
              "       [0.5248227 , 0.52678571, 0.5106383 , ..., 1.        , 0.        ,\n",
              "        0.        ],\n",
              "       ...,\n",
              "       [0.5035461 , 0.45535714, 0.38297872, ..., 0.        , 1.        ,\n",
              "        0.        ],\n",
              "       [0.56028369, 0.51785714, 0.5106383 , ..., 1.        , 0.        ,\n",
              "        0.        ],\n",
              "       [0.56028369, 0.53571429, 0.38297872, ..., 0.        , 0.        ,\n",
              "        1.        ]])"
            ]
          },
          "metadata": {},
          "execution_count": 104
        }
      ]
    },
    {
      "cell_type": "markdown",
      "source": [
        "#### Original Neural Network"
      ],
      "metadata": {
        "id": "kxzj9dl0QZb3"
      }
    },
    {
      "cell_type": "code",
      "source": [
        "nn_model = tf.keras.models.Sequential()\n",
        "\n",
        "nn_model.add(tf.keras.layers.Dense(units = 30, activation = \"relu\", input_dim = 10))\n",
        "nn_model.add(tf.keras.layers.Dense(units = 1, activation = \"linear\"))\n",
        "\n",
        "nn_model.compile(loss = \"mean_squared_error\", optimizer = \"adam\")\n",
        "\n",
        "fit_model = nn_model.fit(X_nn_train_scaled, y_nn_train, epochs = 50)"
      ],
      "metadata": {
        "colab": {
          "base_uri": "https://localhost:8080/"
        },
        "id": "1u21jiaVQFq1",
        "outputId": "7de4407e-2f9c-463e-ce9b-e3639fa9b9d0"
      },
      "execution_count": 105,
      "outputs": [
        {
          "output_type": "stream",
          "name": "stdout",
          "text": [
            "Epoch 1/50\n",
            "98/98 [==============================] - 1s 2ms/step - loss: 93.2877\n",
            "Epoch 2/50\n",
            "98/98 [==============================] - 0s 2ms/step - loss: 41.6005\n",
            "Epoch 3/50\n",
            "98/98 [==============================] - 0s 2ms/step - loss: 10.8241\n",
            "Epoch 4/50\n",
            "98/98 [==============================] - 0s 2ms/step - loss: 7.3054\n",
            "Epoch 5/50\n",
            "98/98 [==============================] - 0s 2ms/step - loss: 7.2058\n",
            "Epoch 6/50\n",
            "98/98 [==============================] - 0s 2ms/step - loss: 7.1504\n",
            "Epoch 7/50\n",
            "98/98 [==============================] - 0s 2ms/step - loss: 7.0973\n",
            "Epoch 8/50\n",
            "98/98 [==============================] - 0s 2ms/step - loss: 7.0395\n",
            "Epoch 9/50\n",
            "98/98 [==============================] - 0s 2ms/step - loss: 6.9320\n",
            "Epoch 10/50\n",
            "98/98 [==============================] - 0s 2ms/step - loss: 6.8202\n",
            "Epoch 11/50\n",
            "98/98 [==============================] - 0s 2ms/step - loss: 6.7446\n",
            "Epoch 12/50\n",
            "98/98 [==============================] - 0s 2ms/step - loss: 6.6679\n",
            "Epoch 13/50\n",
            "98/98 [==============================] - 0s 2ms/step - loss: 6.5881\n",
            "Epoch 14/50\n",
            "98/98 [==============================] - 0s 2ms/step - loss: 6.5098\n",
            "Epoch 15/50\n",
            "98/98 [==============================] - 0s 2ms/step - loss: 6.4440\n",
            "Epoch 16/50\n",
            "98/98 [==============================] - 0s 2ms/step - loss: 6.3797\n",
            "Epoch 17/50\n",
            "98/98 [==============================] - 0s 2ms/step - loss: 6.3364\n",
            "Epoch 18/50\n",
            "98/98 [==============================] - 0s 2ms/step - loss: 6.2674\n",
            "Epoch 19/50\n",
            "98/98 [==============================] - 0s 2ms/step - loss: 6.2188\n",
            "Epoch 20/50\n",
            "98/98 [==============================] - 0s 2ms/step - loss: 6.1712\n",
            "Epoch 21/50\n",
            "98/98 [==============================] - 0s 2ms/step - loss: 6.1191\n",
            "Epoch 22/50\n",
            "98/98 [==============================] - 0s 2ms/step - loss: 6.0709\n",
            "Epoch 23/50\n",
            "98/98 [==============================] - 0s 2ms/step - loss: 6.0342\n",
            "Epoch 24/50\n",
            "98/98 [==============================] - 0s 2ms/step - loss: 5.9860\n",
            "Epoch 25/50\n",
            "98/98 [==============================] - 0s 2ms/step - loss: 5.9387\n",
            "Epoch 26/50\n",
            "98/98 [==============================] - 0s 2ms/step - loss: 5.8983\n",
            "Epoch 27/50\n",
            "98/98 [==============================] - 0s 2ms/step - loss: 5.8480\n",
            "Epoch 28/50\n",
            "98/98 [==============================] - 0s 2ms/step - loss: 5.8184\n",
            "Epoch 29/50\n",
            "98/98 [==============================] - 0s 2ms/step - loss: 5.7818\n",
            "Epoch 30/50\n",
            "98/98 [==============================] - 0s 2ms/step - loss: 5.7333\n",
            "Epoch 31/50\n",
            "98/98 [==============================] - 0s 2ms/step - loss: 5.6977\n",
            "Epoch 32/50\n",
            "98/98 [==============================] - 0s 2ms/step - loss: 5.6714\n",
            "Epoch 33/50\n",
            "98/98 [==============================] - 0s 3ms/step - loss: 5.6231\n",
            "Epoch 34/50\n",
            "98/98 [==============================] - 1s 8ms/step - loss: 5.5911\n",
            "Epoch 35/50\n",
            "98/98 [==============================] - 0s 2ms/step - loss: 5.5648\n",
            "Epoch 36/50\n",
            "98/98 [==============================] - 0s 2ms/step - loss: 5.5190\n",
            "Epoch 37/50\n",
            "98/98 [==============================] - 0s 2ms/step - loss: 5.4882\n",
            "Epoch 38/50\n",
            "98/98 [==============================] - 0s 2ms/step - loss: 5.4431\n",
            "Epoch 39/50\n",
            "98/98 [==============================] - 0s 2ms/step - loss: 5.4117\n",
            "Epoch 40/50\n",
            "98/98 [==============================] - 0s 2ms/step - loss: 5.3684\n",
            "Epoch 41/50\n",
            "98/98 [==============================] - 0s 2ms/step - loss: 5.3454\n",
            "Epoch 42/50\n",
            "98/98 [==============================] - 0s 2ms/step - loss: 5.3236\n",
            "Epoch 43/50\n",
            "98/98 [==============================] - 0s 2ms/step - loss: 5.3071\n",
            "Epoch 44/50\n",
            "98/98 [==============================] - 0s 2ms/step - loss: 5.2719\n",
            "Epoch 45/50\n",
            "98/98 [==============================] - 0s 2ms/step - loss: 5.2334\n",
            "Epoch 46/50\n",
            "98/98 [==============================] - 0s 2ms/step - loss: 5.2078\n",
            "Epoch 47/50\n",
            "98/98 [==============================] - 0s 2ms/step - loss: 5.1839\n",
            "Epoch 48/50\n",
            "98/98 [==============================] - 0s 2ms/step - loss: 5.1570\n",
            "Epoch 49/50\n",
            "98/98 [==============================] - 0s 2ms/step - loss: 5.1379\n",
            "Epoch 50/50\n",
            "98/98 [==============================] - 0s 2ms/step - loss: 5.1197\n"
          ]
        }
      ]
    },
    {
      "cell_type": "code",
      "source": [
        "y_test_predicted = nn_model.predict(X_nn_test_scaled)"
      ],
      "metadata": {
        "colab": {
          "base_uri": "https://localhost:8080/"
        },
        "id": "p6219iFyQxy8",
        "outputId": "40c92801-fe83-4fa2-9b23-28b3d88a8cda"
      },
      "execution_count": 106,
      "outputs": [
        {
          "output_type": "stream",
          "name": "stdout",
          "text": [
            "33/33 [==============================] - 0s 2ms/step\n"
          ]
        }
      ]
    },
    {
      "cell_type": "code",
      "source": [
        "r2_score(y_nn_test, y_test_predicted)"
      ],
      "metadata": {
        "colab": {
          "base_uri": "https://localhost:8080/"
        },
        "id": "SasoF9PCQyHC",
        "outputId": "41a9afed-9df7-4761-c4ec-6d611ab8904a"
      },
      "execution_count": 107,
      "outputs": [
        {
          "output_type": "execute_result",
          "data": {
            "text/plain": [
              "0.5117024636540543"
            ]
          },
          "metadata": {},
          "execution_count": 107
        }
      ]
    },
    {
      "cell_type": "markdown",
      "source": [
        "#### NN2\n",
        "\n",
        "Added a hidden layer"
      ],
      "metadata": {
        "id": "iAqNkXRdQuba"
      }
    },
    {
      "cell_type": "code",
      "source": [
        "\n",
        "nn_model2 = tf.keras.models.Sequential()\n",
        "nn_model2.add(tf.keras.layers.Dense(units= 30, activation = 'relu', input_dim = 10))\n",
        "nn_model2.add(tf.keras.layers.Dense(units = 30, activation = 'relu'))\n",
        "nn_model2.add(tf.keras.layers.Dense(units = 1 , activation = 'linear'))\n",
        "\n",
        "nn_model2.compile(loss = 'mean_squared_error', optimizer = 'adam')\n",
        "\n",
        "fit_model2 = nn_model2.fit(X_nn_train_scaled, y_nn_train, epochs=50)\n",
        "\n",
        "#model_loss, model_accuracy = nn_model.evaluate(X_nn_train_scaled, y_nn_train, verbose=2)\n",
        "#print(f\"Loss: {model_loss}, Accuracy: {model_accuracy}\")"
      ],
      "metadata": {
        "id": "VAFKYgHI-siQ",
        "colab": {
          "base_uri": "https://localhost:8080/"
        },
        "outputId": "2d555d71-c3dc-4ba7-a619-89b7de9caf59"
      },
      "execution_count": 108,
      "outputs": [
        {
          "output_type": "stream",
          "name": "stdout",
          "text": [
            "Epoch 1/50\n",
            "98/98 [==============================] - 1s 4ms/step - loss: 85.6063\n",
            "Epoch 2/50\n",
            "98/98 [==============================] - 0s 4ms/step - loss: 10.3319\n",
            "Epoch 3/50\n",
            "98/98 [==============================] - 0s 5ms/step - loss: 7.2619\n",
            "Epoch 4/50\n",
            "98/98 [==============================] - 0s 4ms/step - loss: 7.0626\n",
            "Epoch 5/50\n",
            "98/98 [==============================] - 0s 4ms/step - loss: 6.8874\n",
            "Epoch 6/50\n",
            "98/98 [==============================] - 1s 5ms/step - loss: 6.7284\n",
            "Epoch 7/50\n",
            "98/98 [==============================] - 1s 6ms/step - loss: 6.6246\n",
            "Epoch 8/50\n",
            "98/98 [==============================] - 0s 4ms/step - loss: 6.4909\n",
            "Epoch 9/50\n",
            "98/98 [==============================] - 0s 5ms/step - loss: 6.3906\n",
            "Epoch 10/50\n",
            "98/98 [==============================] - 0s 5ms/step - loss: 6.2760\n",
            "Epoch 11/50\n",
            "98/98 [==============================] - 0s 3ms/step - loss: 6.1604\n",
            "Epoch 12/50\n",
            "98/98 [==============================] - 0s 2ms/step - loss: 6.0843\n",
            "Epoch 13/50\n",
            "98/98 [==============================] - 0s 2ms/step - loss: 5.9884\n",
            "Epoch 14/50\n",
            "98/98 [==============================] - 0s 2ms/step - loss: 5.8770\n",
            "Epoch 15/50\n",
            "98/98 [==============================] - 0s 2ms/step - loss: 5.7698\n",
            "Epoch 16/50\n",
            "98/98 [==============================] - 0s 2ms/step - loss: 5.6717\n",
            "Epoch 17/50\n",
            "98/98 [==============================] - 0s 2ms/step - loss: 5.5930\n",
            "Epoch 18/50\n",
            "98/98 [==============================] - 0s 2ms/step - loss: 5.4892\n",
            "Epoch 19/50\n",
            "98/98 [==============================] - 0s 2ms/step - loss: 5.3949\n",
            "Epoch 20/50\n",
            "98/98 [==============================] - 0s 2ms/step - loss: 5.3187\n",
            "Epoch 21/50\n",
            "98/98 [==============================] - 0s 2ms/step - loss: 5.2289\n",
            "Epoch 22/50\n",
            "98/98 [==============================] - 0s 2ms/step - loss: 5.1437\n",
            "Epoch 23/50\n",
            "98/98 [==============================] - 0s 2ms/step - loss: 5.0837\n",
            "Epoch 24/50\n",
            "98/98 [==============================] - 0s 2ms/step - loss: 5.0391\n",
            "Epoch 25/50\n",
            "98/98 [==============================] - 0s 4ms/step - loss: 4.9457\n",
            "Epoch 26/50\n",
            "98/98 [==============================] - 0s 4ms/step - loss: 4.9457\n",
            "Epoch 27/50\n",
            "98/98 [==============================] - 0s 4ms/step - loss: 4.8962\n",
            "Epoch 28/50\n",
            "98/98 [==============================] - 0s 3ms/step - loss: 4.8403\n",
            "Epoch 29/50\n",
            "98/98 [==============================] - 1s 5ms/step - loss: 4.8348\n",
            "Epoch 30/50\n",
            "98/98 [==============================] - 1s 6ms/step - loss: 4.7954\n",
            "Epoch 31/50\n",
            "98/98 [==============================] - 0s 4ms/step - loss: 4.7889\n",
            "Epoch 32/50\n",
            "98/98 [==============================] - 0s 4ms/step - loss: 4.7532\n",
            "Epoch 33/50\n",
            "98/98 [==============================] - 1s 7ms/step - loss: 4.7814\n",
            "Epoch 34/50\n",
            "98/98 [==============================] - 1s 6ms/step - loss: 4.7270\n",
            "Epoch 35/50\n",
            "98/98 [==============================] - 0s 4ms/step - loss: 4.7554\n",
            "Epoch 36/50\n",
            "98/98 [==============================] - 0s 5ms/step - loss: 4.7168\n",
            "Epoch 37/50\n",
            "98/98 [==============================] - 1s 6ms/step - loss: 4.6979\n",
            "Epoch 38/50\n",
            "98/98 [==============================] - 1s 6ms/step - loss: 4.7074\n",
            "Epoch 39/50\n",
            "98/98 [==============================] - 0s 2ms/step - loss: 4.6871\n",
            "Epoch 40/50\n",
            "98/98 [==============================] - 0s 2ms/step - loss: 4.6780\n",
            "Epoch 41/50\n",
            "98/98 [==============================] - 0s 2ms/step - loss: 4.7033\n",
            "Epoch 42/50\n",
            "98/98 [==============================] - 0s 2ms/step - loss: 4.6578\n",
            "Epoch 43/50\n",
            "98/98 [==============================] - 0s 2ms/step - loss: 4.6484\n",
            "Epoch 44/50\n",
            "98/98 [==============================] - 0s 2ms/step - loss: 4.6671\n",
            "Epoch 45/50\n",
            "98/98 [==============================] - 0s 2ms/step - loss: 4.6390\n",
            "Epoch 46/50\n",
            "98/98 [==============================] - 0s 2ms/step - loss: 4.6567\n",
            "Epoch 47/50\n",
            "98/98 [==============================] - 0s 2ms/step - loss: 4.6541\n",
            "Epoch 48/50\n",
            "98/98 [==============================] - 0s 2ms/step - loss: 4.6478\n",
            "Epoch 49/50\n",
            "98/98 [==============================] - 0s 2ms/step - loss: 4.6530\n",
            "Epoch 50/50\n",
            "98/98 [==============================] - 0s 2ms/step - loss: 4.6730\n"
          ]
        }
      ]
    },
    {
      "cell_type": "code",
      "source": [
        "# make predictions\n",
        "y_test_predicted2 = nn_model2.predict(X_nn_test_scaled)"
      ],
      "metadata": {
        "colab": {
          "base_uri": "https://localhost:8080/"
        },
        "id": "-5D33Dg6NSV2",
        "outputId": "22701fd8-9cc0-493f-9796-6139fcad3584"
      },
      "execution_count": 109,
      "outputs": [
        {
          "output_type": "stream",
          "name": "stdout",
          "text": [
            "33/33 [==============================] - 0s 1ms/step\n"
          ]
        }
      ]
    },
    {
      "cell_type": "code",
      "source": [
        "r2_score(y_nn_test, y_test_predicted2)"
      ],
      "metadata": {
        "id": "O76jTs3G_MPa",
        "colab": {
          "base_uri": "https://localhost:8080/"
        },
        "outputId": "123e6bb2-3670-4d72-adde-3d2adc1e1ed4"
      },
      "execution_count": 110,
      "outputs": [
        {
          "output_type": "execute_result",
          "data": {
            "text/plain": [
              "0.5368637235436953"
            ]
          },
          "metadata": {},
          "execution_count": 110
        }
      ]
    },
    {
      "cell_type": "markdown",
      "source": [
        "#### NN3\n",
        "\n",
        "Drop the sex columns"
      ],
      "metadata": {
        "id": "9h8WeYPDRttd"
      }
    },
    {
      "cell_type": "code",
      "source": [
        "df_no_sex = df.drop(columns = [\"Sex_F\", \"Sex_I\", \"Sex_M\"])\n",
        "df_no_sex"
      ],
      "metadata": {
        "id": "dr3yaaPERa9m",
        "colab": {
          "base_uri": "https://localhost:8080/",
          "height": 424
        },
        "outputId": "577743bf-2e12-402f-9831-5e5ddb95001b"
      },
      "execution_count": 111,
      "outputs": [
        {
          "output_type": "execute_result",
          "data": {
            "text/plain": [
              "      Length  Diameter  Height  Whole_weight  Shucked_weight  Viscera_weight  \\\n",
              "0      0.455     0.365   0.095        0.5140          0.2245          0.1010   \n",
              "1      0.350     0.265   0.090        0.2255          0.0995          0.0485   \n",
              "2      0.530     0.420   0.135        0.6770          0.2565          0.1415   \n",
              "3      0.440     0.365   0.125        0.5160          0.2155          0.1140   \n",
              "4      0.330     0.255   0.080        0.2050          0.0895          0.0395   \n",
              "...      ...       ...     ...           ...             ...             ...   \n",
              "4172   0.565     0.450   0.165        0.8870          0.3700          0.2390   \n",
              "4173   0.590     0.440   0.135        0.9660          0.4390          0.2145   \n",
              "4174   0.600     0.475   0.205        1.1760          0.5255          0.2875   \n",
              "4175   0.625     0.485   0.150        1.0945          0.5310          0.2610   \n",
              "4176   0.710     0.555   0.195        1.9485          0.9455          0.3765   \n",
              "\n",
              "      Shell_weight  Rings  \n",
              "0           0.1500     15  \n",
              "1           0.0700      7  \n",
              "2           0.2100      9  \n",
              "3           0.1550     10  \n",
              "4           0.0550      7  \n",
              "...            ...    ...  \n",
              "4172        0.2490     11  \n",
              "4173        0.2605     10  \n",
              "4174        0.3080      9  \n",
              "4175        0.2960     10  \n",
              "4176        0.4950     12  \n",
              "\n",
              "[4177 rows x 8 columns]"
            ],
            "text/html": [
              "\n",
              "  <div id=\"df-e01caa12-8687-4df6-8a61-2f85f1cde00c\">\n",
              "    <div class=\"colab-df-container\">\n",
              "      <div>\n",
              "<style scoped>\n",
              "    .dataframe tbody tr th:only-of-type {\n",
              "        vertical-align: middle;\n",
              "    }\n",
              "\n",
              "    .dataframe tbody tr th {\n",
              "        vertical-align: top;\n",
              "    }\n",
              "\n",
              "    .dataframe thead th {\n",
              "        text-align: right;\n",
              "    }\n",
              "</style>\n",
              "<table border=\"1\" class=\"dataframe\">\n",
              "  <thead>\n",
              "    <tr style=\"text-align: right;\">\n",
              "      <th></th>\n",
              "      <th>Length</th>\n",
              "      <th>Diameter</th>\n",
              "      <th>Height</th>\n",
              "      <th>Whole_weight</th>\n",
              "      <th>Shucked_weight</th>\n",
              "      <th>Viscera_weight</th>\n",
              "      <th>Shell_weight</th>\n",
              "      <th>Rings</th>\n",
              "    </tr>\n",
              "  </thead>\n",
              "  <tbody>\n",
              "    <tr>\n",
              "      <th>0</th>\n",
              "      <td>0.455</td>\n",
              "      <td>0.365</td>\n",
              "      <td>0.095</td>\n",
              "      <td>0.5140</td>\n",
              "      <td>0.2245</td>\n",
              "      <td>0.1010</td>\n",
              "      <td>0.1500</td>\n",
              "      <td>15</td>\n",
              "    </tr>\n",
              "    <tr>\n",
              "      <th>1</th>\n",
              "      <td>0.350</td>\n",
              "      <td>0.265</td>\n",
              "      <td>0.090</td>\n",
              "      <td>0.2255</td>\n",
              "      <td>0.0995</td>\n",
              "      <td>0.0485</td>\n",
              "      <td>0.0700</td>\n",
              "      <td>7</td>\n",
              "    </tr>\n",
              "    <tr>\n",
              "      <th>2</th>\n",
              "      <td>0.530</td>\n",
              "      <td>0.420</td>\n",
              "      <td>0.135</td>\n",
              "      <td>0.6770</td>\n",
              "      <td>0.2565</td>\n",
              "      <td>0.1415</td>\n",
              "      <td>0.2100</td>\n",
              "      <td>9</td>\n",
              "    </tr>\n",
              "    <tr>\n",
              "      <th>3</th>\n",
              "      <td>0.440</td>\n",
              "      <td>0.365</td>\n",
              "      <td>0.125</td>\n",
              "      <td>0.5160</td>\n",
              "      <td>0.2155</td>\n",
              "      <td>0.1140</td>\n",
              "      <td>0.1550</td>\n",
              "      <td>10</td>\n",
              "    </tr>\n",
              "    <tr>\n",
              "      <th>4</th>\n",
              "      <td>0.330</td>\n",
              "      <td>0.255</td>\n",
              "      <td>0.080</td>\n",
              "      <td>0.2050</td>\n",
              "      <td>0.0895</td>\n",
              "      <td>0.0395</td>\n",
              "      <td>0.0550</td>\n",
              "      <td>7</td>\n",
              "    </tr>\n",
              "    <tr>\n",
              "      <th>...</th>\n",
              "      <td>...</td>\n",
              "      <td>...</td>\n",
              "      <td>...</td>\n",
              "      <td>...</td>\n",
              "      <td>...</td>\n",
              "      <td>...</td>\n",
              "      <td>...</td>\n",
              "      <td>...</td>\n",
              "    </tr>\n",
              "    <tr>\n",
              "      <th>4172</th>\n",
              "      <td>0.565</td>\n",
              "      <td>0.450</td>\n",
              "      <td>0.165</td>\n",
              "      <td>0.8870</td>\n",
              "      <td>0.3700</td>\n",
              "      <td>0.2390</td>\n",
              "      <td>0.2490</td>\n",
              "      <td>11</td>\n",
              "    </tr>\n",
              "    <tr>\n",
              "      <th>4173</th>\n",
              "      <td>0.590</td>\n",
              "      <td>0.440</td>\n",
              "      <td>0.135</td>\n",
              "      <td>0.9660</td>\n",
              "      <td>0.4390</td>\n",
              "      <td>0.2145</td>\n",
              "      <td>0.2605</td>\n",
              "      <td>10</td>\n",
              "    </tr>\n",
              "    <tr>\n",
              "      <th>4174</th>\n",
              "      <td>0.600</td>\n",
              "      <td>0.475</td>\n",
              "      <td>0.205</td>\n",
              "      <td>1.1760</td>\n",
              "      <td>0.5255</td>\n",
              "      <td>0.2875</td>\n",
              "      <td>0.3080</td>\n",
              "      <td>9</td>\n",
              "    </tr>\n",
              "    <tr>\n",
              "      <th>4175</th>\n",
              "      <td>0.625</td>\n",
              "      <td>0.485</td>\n",
              "      <td>0.150</td>\n",
              "      <td>1.0945</td>\n",
              "      <td>0.5310</td>\n",
              "      <td>0.2610</td>\n",
              "      <td>0.2960</td>\n",
              "      <td>10</td>\n",
              "    </tr>\n",
              "    <tr>\n",
              "      <th>4176</th>\n",
              "      <td>0.710</td>\n",
              "      <td>0.555</td>\n",
              "      <td>0.195</td>\n",
              "      <td>1.9485</td>\n",
              "      <td>0.9455</td>\n",
              "      <td>0.3765</td>\n",
              "      <td>0.4950</td>\n",
              "      <td>12</td>\n",
              "    </tr>\n",
              "  </tbody>\n",
              "</table>\n",
              "<p>4177 rows × 8 columns</p>\n",
              "</div>\n",
              "      <button class=\"colab-df-convert\" onclick=\"convertToInteractive('df-e01caa12-8687-4df6-8a61-2f85f1cde00c')\"\n",
              "              title=\"Convert this dataframe to an interactive table.\"\n",
              "              style=\"display:none;\">\n",
              "        \n",
              "  <svg xmlns=\"http://www.w3.org/2000/svg\" height=\"24px\"viewBox=\"0 0 24 24\"\n",
              "       width=\"24px\">\n",
              "    <path d=\"M0 0h24v24H0V0z\" fill=\"none\"/>\n",
              "    <path d=\"M18.56 5.44l.94 2.06.94-2.06 2.06-.94-2.06-.94-.94-2.06-.94 2.06-2.06.94zm-11 1L8.5 8.5l.94-2.06 2.06-.94-2.06-.94L8.5 2.5l-.94 2.06-2.06.94zm10 10l.94 2.06.94-2.06 2.06-.94-2.06-.94-.94-2.06-.94 2.06-2.06.94z\"/><path d=\"M17.41 7.96l-1.37-1.37c-.4-.4-.92-.59-1.43-.59-.52 0-1.04.2-1.43.59L10.3 9.45l-7.72 7.72c-.78.78-.78 2.05 0 2.83L4 21.41c.39.39.9.59 1.41.59.51 0 1.02-.2 1.41-.59l7.78-7.78 2.81-2.81c.8-.78.8-2.07 0-2.86zM5.41 20L4 18.59l7.72-7.72 1.47 1.35L5.41 20z\"/>\n",
              "  </svg>\n",
              "      </button>\n",
              "      \n",
              "  <style>\n",
              "    .colab-df-container {\n",
              "      display:flex;\n",
              "      flex-wrap:wrap;\n",
              "      gap: 12px;\n",
              "    }\n",
              "\n",
              "    .colab-df-convert {\n",
              "      background-color: #E8F0FE;\n",
              "      border: none;\n",
              "      border-radius: 50%;\n",
              "      cursor: pointer;\n",
              "      display: none;\n",
              "      fill: #1967D2;\n",
              "      height: 32px;\n",
              "      padding: 0 0 0 0;\n",
              "      width: 32px;\n",
              "    }\n",
              "\n",
              "    .colab-df-convert:hover {\n",
              "      background-color: #E2EBFA;\n",
              "      box-shadow: 0px 1px 2px rgba(60, 64, 67, 0.3), 0px 1px 3px 1px rgba(60, 64, 67, 0.15);\n",
              "      fill: #174EA6;\n",
              "    }\n",
              "\n",
              "    [theme=dark] .colab-df-convert {\n",
              "      background-color: #3B4455;\n",
              "      fill: #D2E3FC;\n",
              "    }\n",
              "\n",
              "    [theme=dark] .colab-df-convert:hover {\n",
              "      background-color: #434B5C;\n",
              "      box-shadow: 0px 1px 3px 1px rgba(0, 0, 0, 0.15);\n",
              "      filter: drop-shadow(0px 1px 2px rgba(0, 0, 0, 0.3));\n",
              "      fill: #FFFFFF;\n",
              "    }\n",
              "  </style>\n",
              "\n",
              "      <script>\n",
              "        const buttonEl =\n",
              "          document.querySelector('#df-e01caa12-8687-4df6-8a61-2f85f1cde00c button.colab-df-convert');\n",
              "        buttonEl.style.display =\n",
              "          google.colab.kernel.accessAllowed ? 'block' : 'none';\n",
              "\n",
              "        async function convertToInteractive(key) {\n",
              "          const element = document.querySelector('#df-e01caa12-8687-4df6-8a61-2f85f1cde00c');\n",
              "          const dataTable =\n",
              "            await google.colab.kernel.invokeFunction('convertToInteractive',\n",
              "                                                     [key], {});\n",
              "          if (!dataTable) return;\n",
              "\n",
              "          const docLinkHtml = 'Like what you see? Visit the ' +\n",
              "            '<a target=\"_blank\" href=https://colab.research.google.com/notebooks/data_table.ipynb>data table notebook</a>'\n",
              "            + ' to learn more about interactive tables.';\n",
              "          element.innerHTML = '';\n",
              "          dataTable['output_type'] = 'display_data';\n",
              "          await google.colab.output.renderOutput(dataTable, element);\n",
              "          const docLink = document.createElement('div');\n",
              "          docLink.innerHTML = docLinkHtml;\n",
              "          element.appendChild(docLink);\n",
              "        }\n",
              "      </script>\n",
              "    </div>\n",
              "  </div>\n",
              "  "
            ]
          },
          "metadata": {},
          "execution_count": 111
        }
      ]
    },
    {
      "cell_type": "code",
      "source": [
        "X_no_sex = df_no_sex.drop(columns = \"Rings\")\n",
        "y_no_sex = df_no_sex[\"Rings\"]"
      ],
      "metadata": {
        "id": "70JVQUv_UBOs"
      },
      "execution_count": 112,
      "outputs": []
    },
    {
      "cell_type": "code",
      "source": [
        "X_nn3_train, X_nn3_test, y_nn3_train, y_nn3_test = train_test_split(X_no_sex, y_no_sex, random_state = 3)"
      ],
      "metadata": {
        "id": "b3f5FyKpUBML"
      },
      "execution_count": 113,
      "outputs": []
    },
    {
      "cell_type": "code",
      "source": [
        "no_sex_scaler = MinMaxScaler()"
      ],
      "metadata": {
        "id": "9fNreI7VUBJu"
      },
      "execution_count": 114,
      "outputs": []
    },
    {
      "cell_type": "code",
      "source": [
        "no_sex_scaler.fit(X_nn3_train)"
      ],
      "metadata": {
        "id": "sIocaZPyU-9d",
        "colab": {
          "base_uri": "https://localhost:8080/"
        },
        "outputId": "ef9eeb22-3734-419f-830f-fd9250454390"
      },
      "execution_count": 115,
      "outputs": [
        {
          "output_type": "execute_result",
          "data": {
            "text/plain": [
              "MinMaxScaler()"
            ]
          },
          "metadata": {},
          "execution_count": 115
        }
      ]
    },
    {
      "cell_type": "code",
      "source": [
        "X_nn3_train_scaled = no_sex_scaler.transform(X_nn3_train)\n",
        "X_nn3_test_scaled = no_sex_scaler.transform(X_nn3_test)"
      ],
      "metadata": {
        "id": "EDIcq3JMU_bC"
      },
      "execution_count": 116,
      "outputs": []
    },
    {
      "cell_type": "code",
      "source": [
        "X_nn3_train_scaled"
      ],
      "metadata": {
        "id": "DwSEC4sYU_nV",
        "colab": {
          "base_uri": "https://localhost:8080/"
        },
        "outputId": "9d3c3aea-f689-4bb8-fc17-6fccafcb5b9e"
      },
      "execution_count": 117,
      "outputs": [
        {
          "output_type": "execute_result",
          "data": {
            "text/plain": [
              "array([[0.53900709, 0.55357143, 0.11946903, ..., 0.22321098, 0.16688654,\n",
              "        0.16566866],\n",
              "       [0.62411348, 0.5625    , 0.13274336, ..., 0.30367075, 0.27902375,\n",
              "        0.23652695],\n",
              "       [0.73049645, 0.70535714, 0.14159292, ..., 0.46607341, 0.29221636,\n",
              "        0.29840319],\n",
              "       ...,\n",
              "       [0.70212766, 0.74107143, 0.15929204, ..., 0.53837597, 0.34564644,\n",
              "        0.42714571],\n",
              "       [0.53900709, 0.52678571, 0.12389381, ..., 0.1449759 , 0.16490765,\n",
              "        0.17165669],\n",
              "       [0.73049645, 0.71428571, 0.1460177 , ..., 0.36114201, 0.34234828,\n",
              "        0.32884232]])"
            ]
          },
          "metadata": {},
          "execution_count": 117
        }
      ]
    },
    {
      "cell_type": "code",
      "source": [
        "nn_model3 = tf.keras.models.Sequential()\n",
        "nn_model3.add(tf.keras.layers.Dense(units= 30, activation = 'relu', input_dim = 7))\n",
        "nn_model3.add(tf.keras.layers.Dense(units = 30, activation = 'relu'))\n",
        "nn_model3.add(tf.keras.layers.Dense(units = 1 , activation = 'linear'))\n",
        "\n",
        "nn_model3.compile(loss = 'mean_squared_error', optimizer = 'adam')\n",
        "\n",
        "fit_model3 = nn_model3.fit(X_nn3_train_scaled, y_nn3_train, epochs=50)"
      ],
      "metadata": {
        "id": "cl7SQHhAVXuf",
        "colab": {
          "base_uri": "https://localhost:8080/"
        },
        "outputId": "b173a6f0-d300-4fe7-ae16-e3ee0a545521"
      },
      "execution_count": 118,
      "outputs": [
        {
          "output_type": "stream",
          "name": "stdout",
          "text": [
            "Epoch 1/50\n",
            "98/98 [==============================] - 1s 2ms/step - loss: 75.3844\n",
            "Epoch 2/50\n",
            "98/98 [==============================] - 0s 2ms/step - loss: 10.1749\n",
            "Epoch 3/50\n",
            "98/98 [==============================] - 0s 2ms/step - loss: 7.5241\n",
            "Epoch 4/50\n",
            "98/98 [==============================] - 0s 2ms/step - loss: 7.3242\n",
            "Epoch 5/50\n",
            "98/98 [==============================] - 0s 3ms/step - loss: 7.0911\n",
            "Epoch 6/50\n",
            "98/98 [==============================] - 0s 2ms/step - loss: 6.8986\n",
            "Epoch 7/50\n",
            "98/98 [==============================] - 0s 2ms/step - loss: 6.7419\n",
            "Epoch 8/50\n",
            "98/98 [==============================] - 0s 2ms/step - loss: 6.5927\n",
            "Epoch 9/50\n",
            "98/98 [==============================] - 0s 2ms/step - loss: 6.4642\n",
            "Epoch 10/50\n",
            "98/98 [==============================] - 0s 2ms/step - loss: 6.3183\n",
            "Epoch 11/50\n",
            "98/98 [==============================] - 0s 2ms/step - loss: 6.1649\n",
            "Epoch 12/50\n",
            "98/98 [==============================] - 0s 2ms/step - loss: 6.0209\n",
            "Epoch 13/50\n",
            "98/98 [==============================] - 0s 2ms/step - loss: 5.8735\n",
            "Epoch 14/50\n",
            "98/98 [==============================] - 0s 2ms/step - loss: 5.7354\n",
            "Epoch 15/50\n",
            "98/98 [==============================] - 0s 2ms/step - loss: 5.6362\n",
            "Epoch 16/50\n",
            "98/98 [==============================] - 0s 2ms/step - loss: 5.4579\n",
            "Epoch 17/50\n",
            "98/98 [==============================] - 0s 2ms/step - loss: 5.3788\n",
            "Epoch 18/50\n",
            "98/98 [==============================] - 0s 2ms/step - loss: 5.2762\n",
            "Epoch 19/50\n",
            "98/98 [==============================] - 0s 2ms/step - loss: 5.2165\n",
            "Epoch 20/50\n",
            "98/98 [==============================] - 0s 2ms/step - loss: 5.1718\n",
            "Epoch 21/50\n",
            "98/98 [==============================] - 0s 2ms/step - loss: 5.1326\n",
            "Epoch 22/50\n",
            "98/98 [==============================] - 0s 3ms/step - loss: 5.0958\n",
            "Epoch 23/50\n",
            "98/98 [==============================] - 0s 2ms/step - loss: 5.0687\n",
            "Epoch 24/50\n",
            "98/98 [==============================] - 0s 2ms/step - loss: 5.0494\n",
            "Epoch 25/50\n",
            "98/98 [==============================] - 0s 2ms/step - loss: 5.0752\n",
            "Epoch 26/50\n",
            "98/98 [==============================] - 0s 2ms/step - loss: 4.9925\n",
            "Epoch 27/50\n",
            "98/98 [==============================] - 0s 2ms/step - loss: 5.0081\n",
            "Epoch 28/50\n",
            "98/98 [==============================] - 0s 2ms/step - loss: 4.9728\n",
            "Epoch 29/50\n",
            "98/98 [==============================] - 0s 2ms/step - loss: 4.9469\n",
            "Epoch 30/50\n",
            "98/98 [==============================] - 0s 3ms/step - loss: 4.9608\n",
            "Epoch 31/50\n",
            "98/98 [==============================] - 0s 2ms/step - loss: 4.9855\n",
            "Epoch 32/50\n",
            "98/98 [==============================] - 0s 2ms/step - loss: 4.9372\n",
            "Epoch 33/50\n",
            "98/98 [==============================] - 0s 2ms/step - loss: 4.9764\n",
            "Epoch 34/50\n",
            "98/98 [==============================] - 0s 2ms/step - loss: 4.9393\n",
            "Epoch 35/50\n",
            "98/98 [==============================] - 0s 3ms/step - loss: 4.9365\n",
            "Epoch 36/50\n",
            "98/98 [==============================] - 0s 2ms/step - loss: 4.8864\n",
            "Epoch 37/50\n",
            "98/98 [==============================] - 0s 2ms/step - loss: 4.8783\n",
            "Epoch 38/50\n",
            "98/98 [==============================] - 0s 2ms/step - loss: 4.8967\n",
            "Epoch 39/50\n",
            "98/98 [==============================] - 0s 2ms/step - loss: 4.9112\n",
            "Epoch 40/50\n",
            "98/98 [==============================] - 0s 2ms/step - loss: 4.8546\n",
            "Epoch 41/50\n",
            "98/98 [==============================] - 0s 2ms/step - loss: 4.8661\n",
            "Epoch 42/50\n",
            "98/98 [==============================] - 0s 2ms/step - loss: 4.8225\n",
            "Epoch 43/50\n",
            "98/98 [==============================] - 0s 2ms/step - loss: 4.9079\n",
            "Epoch 44/50\n",
            "98/98 [==============================] - 0s 2ms/step - loss: 4.8074\n",
            "Epoch 45/50\n",
            "98/98 [==============================] - 0s 2ms/step - loss: 4.8438\n",
            "Epoch 46/50\n",
            "98/98 [==============================] - 0s 2ms/step - loss: 4.7904\n",
            "Epoch 47/50\n",
            "98/98 [==============================] - 0s 2ms/step - loss: 4.7798\n",
            "Epoch 48/50\n",
            "98/98 [==============================] - 0s 2ms/step - loss: 4.7853\n",
            "Epoch 49/50\n",
            "98/98 [==============================] - 0s 2ms/step - loss: 4.7663\n",
            "Epoch 50/50\n",
            "98/98 [==============================] - 0s 2ms/step - loss: 4.7435\n"
          ]
        }
      ]
    },
    {
      "cell_type": "code",
      "source": [
        "y_test_predicted3 = nn_model3.predict(X_nn3_test_scaled)\n"
      ],
      "metadata": {
        "id": "wSBXC72wWVaf",
        "colab": {
          "base_uri": "https://localhost:8080/"
        },
        "outputId": "6d5f5795-719c-4a9f-d464-418ee4eea8d4"
      },
      "execution_count": 119,
      "outputs": [
        {
          "output_type": "stream",
          "name": "stdout",
          "text": [
            "33/33 [==============================] - 0s 1ms/step\n"
          ]
        }
      ]
    },
    {
      "cell_type": "code",
      "source": [
        "r2_score(y_nn3_test, y_test_predicted3)"
      ],
      "metadata": {
        "id": "IjxB6wUpWWdu",
        "colab": {
          "base_uri": "https://localhost:8080/"
        },
        "outputId": "72e7c5cd-3f08-4eea-8076-5592cb06c0ca"
      },
      "execution_count": 120,
      "outputs": [
        {
          "output_type": "execute_result",
          "data": {
            "text/plain": [
              "0.5246038162176863"
            ]
          },
          "metadata": {},
          "execution_count": 120
        }
      ]
    },
    {
      "cell_type": "markdown",
      "source": [
        "#### NN4\n",
        "\n",
        "More epochs?"
      ],
      "metadata": {
        "id": "fJN1qCkBTZPS"
      }
    },
    {
      "cell_type": "code",
      "source": [
        "nn_model4 = tf.keras.models.Sequential()\n",
        "nn_model4.add(tf.keras.layers.Dense(units= 30, activation = 'relu', input_dim = 10))\n",
        "nn_model4.add(tf.keras.layers.Dense(units = 30, activation = 'relu'))\n",
        "nn_model4.add(tf.keras.layers.Dense(units = 1 , activation = 'linear'))\n",
        "\n",
        "nn_model4.compile(loss = 'mean_squared_error', optimizer = 'adam')\n",
        "\n",
        "fit_model4 = nn_model4.fit(X_nn_train_scaled, y_nn_train, epochs=100)"
      ],
      "metadata": {
        "id": "-zPxKdTzTbnW",
        "colab": {
          "base_uri": "https://localhost:8080/"
        },
        "outputId": "b1209305-72d3-4e39-ea9b-07aef52ce1bc"
      },
      "execution_count": 121,
      "outputs": [
        {
          "output_type": "stream",
          "name": "stdout",
          "text": [
            "Epoch 1/100\n",
            "98/98 [==============================] - 1s 2ms/step - loss: 61.2906\n",
            "Epoch 2/100\n",
            "98/98 [==============================] - 0s 2ms/step - loss: 7.7065\n",
            "Epoch 3/100\n",
            "98/98 [==============================] - 0s 2ms/step - loss: 7.2457\n",
            "Epoch 4/100\n",
            "98/98 [==============================] - 0s 2ms/step - loss: 7.1060\n",
            "Epoch 5/100\n",
            "98/98 [==============================] - 0s 2ms/step - loss: 6.9925\n",
            "Epoch 6/100\n",
            "98/98 [==============================] - 0s 2ms/step - loss: 6.8618\n",
            "Epoch 7/100\n",
            "98/98 [==============================] - 0s 2ms/step - loss: 6.7631\n",
            "Epoch 8/100\n",
            "98/98 [==============================] - 0s 2ms/step - loss: 6.6319\n",
            "Epoch 9/100\n",
            "98/98 [==============================] - 0s 2ms/step - loss: 6.4896\n",
            "Epoch 10/100\n",
            "98/98 [==============================] - 0s 2ms/step - loss: 6.3552\n",
            "Epoch 11/100\n",
            "98/98 [==============================] - 0s 2ms/step - loss: 6.2204\n",
            "Epoch 12/100\n",
            "98/98 [==============================] - 0s 2ms/step - loss: 6.0364\n",
            "Epoch 13/100\n",
            "98/98 [==============================] - 0s 2ms/step - loss: 5.8576\n",
            "Epoch 14/100\n",
            "98/98 [==============================] - 0s 2ms/step - loss: 5.6986\n",
            "Epoch 15/100\n",
            "98/98 [==============================] - 0s 2ms/step - loss: 5.5681\n",
            "Epoch 16/100\n",
            "98/98 [==============================] - 0s 2ms/step - loss: 5.4222\n",
            "Epoch 17/100\n",
            "98/98 [==============================] - 0s 2ms/step - loss: 5.3218\n",
            "Epoch 18/100\n",
            "98/98 [==============================] - 0s 2ms/step - loss: 5.2470\n",
            "Epoch 19/100\n",
            "98/98 [==============================] - 0s 2ms/step - loss: 5.1799\n",
            "Epoch 20/100\n",
            "98/98 [==============================] - 0s 2ms/step - loss: 5.1604\n",
            "Epoch 21/100\n",
            "98/98 [==============================] - 0s 2ms/step - loss: 5.0669\n",
            "Epoch 22/100\n",
            "98/98 [==============================] - 0s 2ms/step - loss: 5.0459\n",
            "Epoch 23/100\n",
            "98/98 [==============================] - 0s 2ms/step - loss: 5.0171\n",
            "Epoch 24/100\n",
            "98/98 [==============================] - 0s 2ms/step - loss: 4.9904\n",
            "Epoch 25/100\n",
            "98/98 [==============================] - 0s 2ms/step - loss: 4.9677\n",
            "Epoch 26/100\n",
            "98/98 [==============================] - 0s 2ms/step - loss: 4.9545\n",
            "Epoch 27/100\n",
            "98/98 [==============================] - 0s 2ms/step - loss: 4.9484\n",
            "Epoch 28/100\n",
            "98/98 [==============================] - 0s 2ms/step - loss: 4.9348\n",
            "Epoch 29/100\n",
            "98/98 [==============================] - 0s 2ms/step - loss: 4.9190\n",
            "Epoch 30/100\n",
            "98/98 [==============================] - 0s 2ms/step - loss: 4.9325\n",
            "Epoch 31/100\n",
            "98/98 [==============================] - 0s 2ms/step - loss: 4.9605\n",
            "Epoch 32/100\n",
            "98/98 [==============================] - 0s 2ms/step - loss: 4.9380\n",
            "Epoch 33/100\n",
            "98/98 [==============================] - 0s 2ms/step - loss: 4.9097\n",
            "Epoch 34/100\n",
            "98/98 [==============================] - 0s 2ms/step - loss: 4.9146\n",
            "Epoch 35/100\n",
            "98/98 [==============================] - 0s 3ms/step - loss: 4.8966\n",
            "Epoch 36/100\n",
            "98/98 [==============================] - 0s 4ms/step - loss: 4.8774\n",
            "Epoch 37/100\n",
            "98/98 [==============================] - 0s 4ms/step - loss: 4.8893\n",
            "Epoch 38/100\n",
            "98/98 [==============================] - 0s 4ms/step - loss: 4.8350\n",
            "Epoch 39/100\n",
            "98/98 [==============================] - 0s 4ms/step - loss: 4.8305\n",
            "Epoch 40/100\n",
            "98/98 [==============================] - 0s 4ms/step - loss: 4.8126\n",
            "Epoch 41/100\n",
            "98/98 [==============================] - 0s 4ms/step - loss: 4.8649\n",
            "Epoch 42/100\n",
            "98/98 [==============================] - 0s 4ms/step - loss: 4.8096\n",
            "Epoch 43/100\n",
            "98/98 [==============================] - 0s 4ms/step - loss: 4.8521\n",
            "Epoch 44/100\n",
            "98/98 [==============================] - 0s 4ms/step - loss: 4.8330\n",
            "Epoch 45/100\n",
            "98/98 [==============================] - 0s 4ms/step - loss: 4.8156\n",
            "Epoch 46/100\n",
            "98/98 [==============================] - 0s 4ms/step - loss: 4.8062\n",
            "Epoch 47/100\n",
            "98/98 [==============================] - 0s 4ms/step - loss: 4.7926\n",
            "Epoch 48/100\n",
            "98/98 [==============================] - 0s 2ms/step - loss: 4.8322\n",
            "Epoch 49/100\n",
            "98/98 [==============================] - 0s 2ms/step - loss: 4.8362\n",
            "Epoch 50/100\n",
            "98/98 [==============================] - 0s 2ms/step - loss: 4.7775\n",
            "Epoch 51/100\n",
            "98/98 [==============================] - 0s 2ms/step - loss: 4.7725\n",
            "Epoch 52/100\n",
            "98/98 [==============================] - 0s 2ms/step - loss: 4.7503\n",
            "Epoch 53/100\n",
            "98/98 [==============================] - 0s 2ms/step - loss: 4.7899\n",
            "Epoch 54/100\n",
            "98/98 [==============================] - 0s 2ms/step - loss: 4.8148\n",
            "Epoch 55/100\n",
            "98/98 [==============================] - 0s 2ms/step - loss: 4.7918\n",
            "Epoch 56/100\n",
            "98/98 [==============================] - 0s 2ms/step - loss: 4.7735\n",
            "Epoch 57/100\n",
            "98/98 [==============================] - 0s 2ms/step - loss: 4.7538\n",
            "Epoch 58/100\n",
            "98/98 [==============================] - 0s 2ms/step - loss: 4.7327\n",
            "Epoch 59/100\n",
            "98/98 [==============================] - 0s 2ms/step - loss: 4.7533\n",
            "Epoch 60/100\n",
            "98/98 [==============================] - 0s 2ms/step - loss: 4.7670\n",
            "Epoch 61/100\n",
            "98/98 [==============================] - 0s 2ms/step - loss: 4.7769\n",
            "Epoch 62/100\n",
            "98/98 [==============================] - 0s 2ms/step - loss: 4.7570\n",
            "Epoch 63/100\n",
            "98/98 [==============================] - 0s 2ms/step - loss: 4.7239\n",
            "Epoch 64/100\n",
            "98/98 [==============================] - 0s 2ms/step - loss: 4.7244\n",
            "Epoch 65/100\n",
            "98/98 [==============================] - 0s 2ms/step - loss: 4.7232\n",
            "Epoch 66/100\n",
            "98/98 [==============================] - 0s 2ms/step - loss: 4.7180\n",
            "Epoch 67/100\n",
            "98/98 [==============================] - 0s 2ms/step - loss: 4.7027\n",
            "Epoch 68/100\n",
            "98/98 [==============================] - 0s 2ms/step - loss: 4.7229\n",
            "Epoch 69/100\n",
            "98/98 [==============================] - 0s 2ms/step - loss: 4.7089\n",
            "Epoch 70/100\n",
            "98/98 [==============================] - 0s 2ms/step - loss: 4.7094\n",
            "Epoch 71/100\n",
            "98/98 [==============================] - 0s 2ms/step - loss: 4.7547\n",
            "Epoch 72/100\n",
            "98/98 [==============================] - 0s 2ms/step - loss: 4.6857\n",
            "Epoch 73/100\n",
            "98/98 [==============================] - 0s 2ms/step - loss: 4.7337\n",
            "Epoch 74/100\n",
            "98/98 [==============================] - 0s 2ms/step - loss: 4.6980\n",
            "Epoch 75/100\n",
            "98/98 [==============================] - 0s 2ms/step - loss: 4.7317\n",
            "Epoch 76/100\n",
            "98/98 [==============================] - 0s 2ms/step - loss: 4.6983\n",
            "Epoch 77/100\n",
            "98/98 [==============================] - 0s 2ms/step - loss: 4.6535\n",
            "Epoch 78/100\n",
            "98/98 [==============================] - 0s 2ms/step - loss: 4.7059\n",
            "Epoch 79/100\n",
            "98/98 [==============================] - 0s 2ms/step - loss: 4.6595\n",
            "Epoch 80/100\n",
            "98/98 [==============================] - 0s 2ms/step - loss: 4.6474\n",
            "Epoch 81/100\n",
            "98/98 [==============================] - 0s 2ms/step - loss: 4.6558\n",
            "Epoch 82/100\n",
            "98/98 [==============================] - 0s 2ms/step - loss: 4.6529\n",
            "Epoch 83/100\n",
            "98/98 [==============================] - 0s 2ms/step - loss: 4.7036\n",
            "Epoch 84/100\n",
            "98/98 [==============================] - 0s 2ms/step - loss: 4.6651\n",
            "Epoch 85/100\n",
            "98/98 [==============================] - 0s 2ms/step - loss: 4.6656\n",
            "Epoch 86/100\n",
            "98/98 [==============================] - 0s 2ms/step - loss: 4.6583\n",
            "Epoch 87/100\n",
            "98/98 [==============================] - 0s 2ms/step - loss: 4.7206\n",
            "Epoch 88/100\n",
            "98/98 [==============================] - 0s 2ms/step - loss: 4.6902\n",
            "Epoch 89/100\n",
            "98/98 [==============================] - 0s 2ms/step - loss: 4.6218\n",
            "Epoch 90/100\n",
            "98/98 [==============================] - 0s 2ms/step - loss: 4.6436\n",
            "Epoch 91/100\n",
            "98/98 [==============================] - 0s 2ms/step - loss: 4.6344\n",
            "Epoch 92/100\n",
            "98/98 [==============================] - 0s 2ms/step - loss: 4.6406\n",
            "Epoch 93/100\n",
            "98/98 [==============================] - 0s 2ms/step - loss: 4.6555\n",
            "Epoch 94/100\n",
            "98/98 [==============================] - 0s 2ms/step - loss: 4.6038\n",
            "Epoch 95/100\n",
            "98/98 [==============================] - 0s 2ms/step - loss: 4.6888\n",
            "Epoch 96/100\n",
            "98/98 [==============================] - 0s 2ms/step - loss: 4.6232\n",
            "Epoch 97/100\n",
            "98/98 [==============================] - 0s 2ms/step - loss: 4.6275\n",
            "Epoch 98/100\n",
            "98/98 [==============================] - 0s 2ms/step - loss: 4.6459\n",
            "Epoch 99/100\n",
            "98/98 [==============================] - 0s 2ms/step - loss: 4.6068\n",
            "Epoch 100/100\n",
            "98/98 [==============================] - 0s 2ms/step - loss: 4.6097\n"
          ]
        }
      ]
    },
    {
      "cell_type": "code",
      "source": [
        "y_test_predicted4 = nn_model4.predict(X_nn_test_scaled)"
      ],
      "metadata": {
        "colab": {
          "base_uri": "https://localhost:8080/"
        },
        "id": "qzVaQJbWYGkC",
        "outputId": "c05614b1-fb5d-4389-c837-282657a78fdf"
      },
      "execution_count": 122,
      "outputs": [
        {
          "output_type": "stream",
          "name": "stdout",
          "text": [
            "33/33 [==============================] - 0s 1ms/step\n"
          ]
        }
      ]
    },
    {
      "cell_type": "code",
      "source": [
        "r2_score(y_nn_test, y_test_predicted4)"
      ],
      "metadata": {
        "colab": {
          "base_uri": "https://localhost:8080/"
        },
        "id": "RHt641tcYZCL",
        "outputId": "2d5257b6-97e4-47e0-bfb4-32b35baaecda"
      },
      "execution_count": 123,
      "outputs": [
        {
          "output_type": "execute_result",
          "data": {
            "text/plain": [
              "0.5360364253117413"
            ]
          },
          "metadata": {},
          "execution_count": 123
        }
      ]
    },
    {
      "cell_type": "markdown",
      "source": [
        "#### NN5\n",
        "Added another hidden layer"
      ],
      "metadata": {
        "id": "S4kDyt8mZCL0"
      }
    },
    {
      "cell_type": "code",
      "source": [
        "nn_model5 = tf.keras.models.Sequential()\n",
        "nn_model5.add(tf.keras.layers.Dense(units= 30, activation = 'relu', input_dim = 10))\n",
        "nn_model5.add(tf.keras.layers.Dense(units = 30, activation = 'relu'))\n",
        "nn_model5.add(tf.keras.layers.Dense(units = 30, activation = 'relu'))\n",
        "nn_model5.add(tf.keras.layers.Dense(units = 1 , activation = 'linear'))\n",
        "\n",
        "nn_model5.compile(loss = 'mean_squared_error', optimizer = 'adam')\n",
        "\n",
        "fit_model5 = nn_model5.fit(X_nn_train_scaled, y_nn_train, epochs=50)"
      ],
      "metadata": {
        "colab": {
          "base_uri": "https://localhost:8080/"
        },
        "id": "g5dL1zhZaGZn",
        "outputId": "e245ce7a-92b5-418e-8fcb-d06f3ab28c96"
      },
      "execution_count": 124,
      "outputs": [
        {
          "output_type": "stream",
          "name": "stdout",
          "text": [
            "Epoch 1/50\n",
            "98/98 [==============================] - 1s 2ms/step - loss: 39.2254\n",
            "Epoch 2/50\n",
            "98/98 [==============================] - 0s 2ms/step - loss: 7.4774\n",
            "Epoch 3/50\n",
            "98/98 [==============================] - 0s 3ms/step - loss: 7.0713\n",
            "Epoch 4/50\n",
            "98/98 [==============================] - 0s 2ms/step - loss: 6.7827\n",
            "Epoch 5/50\n",
            "98/98 [==============================] - 0s 2ms/step - loss: 6.5600\n",
            "Epoch 6/50\n",
            "98/98 [==============================] - 0s 2ms/step - loss: 6.3534\n",
            "Epoch 7/50\n",
            "98/98 [==============================] - 0s 2ms/step - loss: 6.1939\n",
            "Epoch 8/50\n",
            "98/98 [==============================] - 0s 2ms/step - loss: 6.0390\n",
            "Epoch 9/50\n",
            "98/98 [==============================] - 0s 2ms/step - loss: 5.9149\n",
            "Epoch 10/50\n",
            "98/98 [==============================] - 0s 2ms/step - loss: 5.7129\n",
            "Epoch 11/50\n",
            "98/98 [==============================] - 0s 2ms/step - loss: 5.5648\n",
            "Epoch 12/50\n",
            "98/98 [==============================] - 0s 2ms/step - loss: 5.4593\n",
            "Epoch 13/50\n",
            "98/98 [==============================] - 0s 2ms/step - loss: 5.2750\n",
            "Epoch 14/50\n",
            "98/98 [==============================] - 0s 2ms/step - loss: 5.1580\n",
            "Epoch 15/50\n",
            "98/98 [==============================] - 0s 2ms/step - loss: 5.1014\n",
            "Epoch 16/50\n",
            "98/98 [==============================] - 0s 2ms/step - loss: 4.9870\n",
            "Epoch 17/50\n",
            "98/98 [==============================] - 0s 2ms/step - loss: 4.9086\n",
            "Epoch 18/50\n",
            "98/98 [==============================] - 0s 2ms/step - loss: 4.9246\n",
            "Epoch 19/50\n",
            "98/98 [==============================] - 0s 2ms/step - loss: 4.8255\n",
            "Epoch 20/50\n",
            "98/98 [==============================] - 0s 2ms/step - loss: 4.8653\n",
            "Epoch 21/50\n",
            "98/98 [==============================] - 0s 2ms/step - loss: 4.8647\n",
            "Epoch 22/50\n",
            "98/98 [==============================] - 0s 2ms/step - loss: 4.8444\n",
            "Epoch 23/50\n",
            "98/98 [==============================] - 0s 2ms/step - loss: 4.8614\n",
            "Epoch 24/50\n",
            "98/98 [==============================] - 0s 2ms/step - loss: 4.7847\n",
            "Epoch 25/50\n",
            "98/98 [==============================] - 0s 3ms/step - loss: 4.7488\n",
            "Epoch 26/50\n",
            "98/98 [==============================] - 0s 2ms/step - loss: 4.7594\n",
            "Epoch 27/50\n",
            "98/98 [==============================] - 0s 2ms/step - loss: 4.7701\n",
            "Epoch 28/50\n",
            "98/98 [==============================] - 0s 2ms/step - loss: 4.6966\n",
            "Epoch 29/50\n",
            "98/98 [==============================] - 0s 3ms/step - loss: 4.7374\n",
            "Epoch 30/50\n",
            "98/98 [==============================] - 0s 2ms/step - loss: 4.7432\n",
            "Epoch 31/50\n",
            "98/98 [==============================] - 0s 2ms/step - loss: 4.7068\n",
            "Epoch 32/50\n",
            "98/98 [==============================] - 0s 2ms/step - loss: 4.7095\n",
            "Epoch 33/50\n",
            "98/98 [==============================] - 0s 2ms/step - loss: 4.7070\n",
            "Epoch 34/50\n",
            "98/98 [==============================] - 0s 2ms/step - loss: 4.7124\n",
            "Epoch 35/50\n",
            "98/98 [==============================] - 0s 2ms/step - loss: 4.6880\n",
            "Epoch 36/50\n",
            "98/98 [==============================] - 0s 2ms/step - loss: 4.6962\n",
            "Epoch 37/50\n",
            "98/98 [==============================] - 0s 2ms/step - loss: 4.6625\n",
            "Epoch 38/50\n",
            "98/98 [==============================] - 0s 2ms/step - loss: 4.7420\n",
            "Epoch 39/50\n",
            "98/98 [==============================] - 0s 2ms/step - loss: 4.7317\n",
            "Epoch 40/50\n",
            "98/98 [==============================] - 0s 2ms/step - loss: 4.7364\n",
            "Epoch 41/50\n",
            "98/98 [==============================] - 0s 2ms/step - loss: 4.6172\n",
            "Epoch 42/50\n",
            "98/98 [==============================] - 0s 2ms/step - loss: 4.6169\n",
            "Epoch 43/50\n",
            "98/98 [==============================] - 0s 2ms/step - loss: 4.7087\n",
            "Epoch 44/50\n",
            "98/98 [==============================] - 0s 2ms/step - loss: 4.6111\n",
            "Epoch 45/50\n",
            "98/98 [==============================] - 0s 2ms/step - loss: 4.7188\n",
            "Epoch 46/50\n",
            "98/98 [==============================] - 0s 2ms/step - loss: 4.5785\n",
            "Epoch 47/50\n",
            "98/98 [==============================] - 0s 2ms/step - loss: 4.6054\n",
            "Epoch 48/50\n",
            "98/98 [==============================] - 0s 2ms/step - loss: 4.6048\n",
            "Epoch 49/50\n",
            "98/98 [==============================] - 0s 2ms/step - loss: 4.6180\n",
            "Epoch 50/50\n",
            "98/98 [==============================] - 0s 2ms/step - loss: 4.6075\n"
          ]
        }
      ]
    },
    {
      "cell_type": "code",
      "source": [
        "y_test_predicted5 = nn_model5.predict(X_nn_test_scaled)"
      ],
      "metadata": {
        "id": "n5C0SWPyY5Ay",
        "colab": {
          "base_uri": "https://localhost:8080/"
        },
        "outputId": "be678adf-c44f-49bc-bad0-b1a02bb9f031"
      },
      "execution_count": 125,
      "outputs": [
        {
          "output_type": "stream",
          "name": "stdout",
          "text": [
            "33/33 [==============================] - 0s 1ms/step\n"
          ]
        }
      ]
    },
    {
      "cell_type": "code",
      "source": [
        "r2_score(y_nn_test, y_test_predicted5)"
      ],
      "metadata": {
        "colab": {
          "base_uri": "https://localhost:8080/"
        },
        "id": "fvtkAu4_aZQy",
        "outputId": "09ff85ae-2338-4d50-86fd-c9384ea93678"
      },
      "execution_count": 126,
      "outputs": [
        {
          "output_type": "execute_result",
          "data": {
            "text/plain": [
              "0.5471001857918363"
            ]
          },
          "metadata": {},
          "execution_count": 126
        }
      ]
    },
    {
      "cell_type": "markdown",
      "source": [
        "#### NN6 \n",
        "3 hidden layers with more epochs"
      ],
      "metadata": {
        "id": "TYVUZhKJBwix"
      }
    },
    {
      "cell_type": "code",
      "source": [
        "nn_model6 = tf.keras.models.Sequential()\n",
        "nn_model6.add(tf.keras.layers.Dense(units= 30, activation = 'relu', input_dim = 10))\n",
        "nn_model6.add(tf.keras.layers.Dense(units = 30, activation = 'relu'))\n",
        "nn_model6.add(tf.keras.layers.Dense(units = 30, activation = 'relu'))\n",
        "nn_model6.add(tf.keras.layers.Dense(units = 1 , activation = 'linear'))\n",
        "\n",
        "nn_model6.compile(loss = 'mean_squared_error', optimizer = 'adam')\n",
        "\n",
        "fit_model6 = nn_model6.fit(X_nn_train_scaled, y_nn_train, epochs=75)"
      ],
      "metadata": {
        "colab": {
          "base_uri": "https://localhost:8080/"
        },
        "id": "SHJrhmYresU4",
        "outputId": "8760f0de-8c3b-49fa-ff42-c02c6f8d5a9e"
      },
      "execution_count": 127,
      "outputs": [
        {
          "output_type": "stream",
          "name": "stdout",
          "text": [
            "Epoch 1/75\n",
            "98/98 [==============================] - 1s 3ms/step - loss: 35.6444\n",
            "Epoch 2/75\n",
            "98/98 [==============================] - 0s 2ms/step - loss: 7.2144\n",
            "Epoch 3/75\n",
            "98/98 [==============================] - 0s 2ms/step - loss: 6.9105\n",
            "Epoch 4/75\n",
            "98/98 [==============================] - 0s 2ms/step - loss: 6.5686\n",
            "Epoch 5/75\n",
            "98/98 [==============================] - 0s 3ms/step - loss: 6.3335\n",
            "Epoch 6/75\n",
            "98/98 [==============================] - 0s 2ms/step - loss: 5.9612\n",
            "Epoch 7/75\n",
            "98/98 [==============================] - 0s 2ms/step - loss: 5.7269\n",
            "Epoch 8/75\n",
            "98/98 [==============================] - 0s 2ms/step - loss: 5.5615\n",
            "Epoch 9/75\n",
            "98/98 [==============================] - 0s 2ms/step - loss: 5.3748\n",
            "Epoch 10/75\n",
            "98/98 [==============================] - 0s 2ms/step - loss: 5.1902\n",
            "Epoch 11/75\n",
            "98/98 [==============================] - 0s 2ms/step - loss: 5.0955\n",
            "Epoch 12/75\n",
            "98/98 [==============================] - 0s 2ms/step - loss: 5.0151\n",
            "Epoch 13/75\n",
            "98/98 [==============================] - 0s 2ms/step - loss: 4.9101\n",
            "Epoch 14/75\n",
            "98/98 [==============================] - 0s 2ms/step - loss: 4.9443\n",
            "Epoch 15/75\n",
            "98/98 [==============================] - 0s 2ms/step - loss: 4.8810\n",
            "Epoch 16/75\n",
            "98/98 [==============================] - 0s 2ms/step - loss: 4.8238\n",
            "Epoch 17/75\n",
            "98/98 [==============================] - 0s 2ms/step - loss: 4.8067\n",
            "Epoch 18/75\n",
            "98/98 [==============================] - 0s 2ms/step - loss: 4.7785\n",
            "Epoch 19/75\n",
            "98/98 [==============================] - 0s 2ms/step - loss: 4.7416\n",
            "Epoch 20/75\n",
            "98/98 [==============================] - 0s 2ms/step - loss: 4.7257\n",
            "Epoch 21/75\n",
            "98/98 [==============================] - 0s 2ms/step - loss: 4.6565\n",
            "Epoch 22/75\n",
            "98/98 [==============================] - 0s 2ms/step - loss: 4.6919\n",
            "Epoch 23/75\n",
            "98/98 [==============================] - 0s 2ms/step - loss: 4.6435\n",
            "Epoch 24/75\n",
            "98/98 [==============================] - 0s 2ms/step - loss: 4.7007\n",
            "Epoch 25/75\n",
            "98/98 [==============================] - 0s 2ms/step - loss: 4.6932\n",
            "Epoch 26/75\n",
            "98/98 [==============================] - 0s 2ms/step - loss: 4.6890\n",
            "Epoch 27/75\n",
            "98/98 [==============================] - 0s 2ms/step - loss: 4.7675\n",
            "Epoch 28/75\n",
            "98/98 [==============================] - 0s 2ms/step - loss: 4.6405\n",
            "Epoch 29/75\n",
            "98/98 [==============================] - 0s 2ms/step - loss: 4.6020\n",
            "Epoch 30/75\n",
            "98/98 [==============================] - 0s 2ms/step - loss: 4.6188\n",
            "Epoch 31/75\n",
            "98/98 [==============================] - 1s 7ms/step - loss: 4.6187\n",
            "Epoch 32/75\n",
            "98/98 [==============================] - 0s 3ms/step - loss: 4.6228\n",
            "Epoch 33/75\n",
            "98/98 [==============================] - 0s 2ms/step - loss: 4.5743\n",
            "Epoch 34/75\n",
            "98/98 [==============================] - 1s 7ms/step - loss: 4.6415\n",
            "Epoch 35/75\n",
            "98/98 [==============================] - 0s 3ms/step - loss: 4.6280\n",
            "Epoch 36/75\n",
            "98/98 [==============================] - 0s 2ms/step - loss: 4.5931\n",
            "Epoch 37/75\n",
            "98/98 [==============================] - 0s 2ms/step - loss: 4.5102\n",
            "Epoch 38/75\n",
            "98/98 [==============================] - 0s 2ms/step - loss: 4.5932\n",
            "Epoch 39/75\n",
            "98/98 [==============================] - 0s 2ms/step - loss: 4.5913\n",
            "Epoch 40/75\n",
            "98/98 [==============================] - 0s 2ms/step - loss: 4.5993\n",
            "Epoch 41/75\n",
            "98/98 [==============================] - 0s 3ms/step - loss: 4.5239\n",
            "Epoch 42/75\n",
            "98/98 [==============================] - 0s 2ms/step - loss: 4.5000\n",
            "Epoch 43/75\n",
            "98/98 [==============================] - 0s 2ms/step - loss: 4.6049\n",
            "Epoch 44/75\n",
            "98/98 [==============================] - 0s 2ms/step - loss: 4.5396\n",
            "Epoch 45/75\n",
            "98/98 [==============================] - 0s 3ms/step - loss: 4.5546\n",
            "Epoch 46/75\n",
            "98/98 [==============================] - 0s 2ms/step - loss: 4.4745\n",
            "Epoch 47/75\n",
            "98/98 [==============================] - 0s 2ms/step - loss: 4.7044\n",
            "Epoch 48/75\n",
            "98/98 [==============================] - 0s 2ms/step - loss: 4.5285\n",
            "Epoch 49/75\n",
            "98/98 [==============================] - 0s 3ms/step - loss: 4.5394\n",
            "Epoch 50/75\n",
            "98/98 [==============================] - 0s 3ms/step - loss: 4.6016\n",
            "Epoch 51/75\n",
            "98/98 [==============================] - 0s 3ms/step - loss: 4.4900\n",
            "Epoch 52/75\n",
            "98/98 [==============================] - 0s 3ms/step - loss: 4.5262\n",
            "Epoch 53/75\n",
            "98/98 [==============================] - 0s 3ms/step - loss: 4.5294\n",
            "Epoch 54/75\n",
            "98/98 [==============================] - 0s 2ms/step - loss: 4.5116\n",
            "Epoch 55/75\n",
            "98/98 [==============================] - 0s 3ms/step - loss: 4.5279\n",
            "Epoch 56/75\n",
            "98/98 [==============================] - 0s 3ms/step - loss: 4.4695\n",
            "Epoch 57/75\n",
            "98/98 [==============================] - 0s 2ms/step - loss: 4.4610\n",
            "Epoch 58/75\n",
            "98/98 [==============================] - 0s 2ms/step - loss: 4.5016\n",
            "Epoch 59/75\n",
            "98/98 [==============================] - 0s 2ms/step - loss: 4.4754\n",
            "Epoch 60/75\n",
            "98/98 [==============================] - 0s 2ms/step - loss: 4.5902\n",
            "Epoch 61/75\n",
            "98/98 [==============================] - 0s 2ms/step - loss: 4.4642\n",
            "Epoch 62/75\n",
            "98/98 [==============================] - 0s 2ms/step - loss: 4.4711\n",
            "Epoch 63/75\n",
            "98/98 [==============================] - 0s 2ms/step - loss: 4.4329\n",
            "Epoch 64/75\n",
            "98/98 [==============================] - 0s 2ms/step - loss: 4.4791\n",
            "Epoch 65/75\n",
            "98/98 [==============================] - 0s 2ms/step - loss: 4.4259\n",
            "Epoch 66/75\n",
            "98/98 [==============================] - 0s 2ms/step - loss: 4.4644\n",
            "Epoch 67/75\n",
            "98/98 [==============================] - 0s 2ms/step - loss: 4.4131\n",
            "Epoch 68/75\n",
            "98/98 [==============================] - 0s 3ms/step - loss: 4.4798\n",
            "Epoch 69/75\n",
            "98/98 [==============================] - 0s 2ms/step - loss: 4.4829\n",
            "Epoch 70/75\n",
            "98/98 [==============================] - 0s 3ms/step - loss: 4.4459\n",
            "Epoch 71/75\n",
            "98/98 [==============================] - 0s 3ms/step - loss: 4.3925\n",
            "Epoch 72/75\n",
            "98/98 [==============================] - 0s 3ms/step - loss: 4.4315\n",
            "Epoch 73/75\n",
            "98/98 [==============================] - 0s 3ms/step - loss: 4.4812\n",
            "Epoch 74/75\n",
            "98/98 [==============================] - 0s 2ms/step - loss: 4.4162\n",
            "Epoch 75/75\n",
            "98/98 [==============================] - 0s 2ms/step - loss: 4.3917\n"
          ]
        }
      ]
    },
    {
      "cell_type": "code",
      "source": [
        "y_test_predicted6 = nn_model6.predict(X_nn_test_scaled)"
      ],
      "metadata": {
        "colab": {
          "base_uri": "https://localhost:8080/"
        },
        "id": "xpBEx4FZeuI7",
        "outputId": "fe3668f5-bb21-4b32-9f94-ea39b03920d4"
      },
      "execution_count": 128,
      "outputs": [
        {
          "output_type": "stream",
          "name": "stdout",
          "text": [
            "33/33 [==============================] - 0s 2ms/step\n"
          ]
        }
      ]
    },
    {
      "cell_type": "code",
      "source": [
        "r2_score(y_nn_test, y_test_predicted6)"
      ],
      "metadata": {
        "colab": {
          "base_uri": "https://localhost:8080/"
        },
        "id": "sOcAoTfqez1d",
        "outputId": "0299cc17-7fd0-4b55-be40-2b6afa6f4b22"
      },
      "execution_count": 129,
      "outputs": [
        {
          "output_type": "execute_result",
          "data": {
            "text/plain": [
              "0.5779401750059474"
            ]
          },
          "metadata": {},
          "execution_count": 129
        }
      ]
    },
    {
      "cell_type": "code",
      "source": [],
      "metadata": {
        "id": "7LM6hm3lfFd1"
      },
      "execution_count": 129,
      "outputs": []
    },
    {
      "cell_type": "markdown",
      "source": [
        "#### NN7\n",
        "Keras Tuner"
      ],
      "metadata": {
        "id": "TKfjFclQCF3L"
      }
    },
    {
      "cell_type": "code",
      "source": [],
      "metadata": {
        "id": "PKseGq69CJho"
      },
      "execution_count": null,
      "outputs": []
    }
  ],
  "metadata": {
    "colab": {
      "provenance": [],
      "collapsed_sections": [
        "LtHf_hi0IrjT",
        "SP0cgMHqU-s1",
        "_nWGmK17InHQ",
        "4a0r7qwTxX6Y",
        "UTCCjCxZeRpJ",
        "pOxLOlFHxnJQ",
        "X1pVc235xuEG",
        "pHBKr1bLxzNE",
        "AbaRuQfcXdhn",
        "kxzj9dl0QZb3",
        "iAqNkXRdQuba",
        "9h8WeYPDRttd"
      ],
      "include_colab_link": true
    },
    "kernelspec": {
      "display_name": "Python 3",
      "name": "python3"
    },
    "language_info": {
      "name": "python"
    }
  },
  "nbformat": 4,
  "nbformat_minor": 0
}